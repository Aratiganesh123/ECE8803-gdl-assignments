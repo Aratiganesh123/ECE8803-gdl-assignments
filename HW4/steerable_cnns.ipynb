{
  "cells": [
    {
      "cell_type": "markdown",
      "metadata": {
        "id": "WfCFymZvcQLS"
      },
      "source": [
        "## Introduction\n",
        "\n",
        "Throughout the lectures, we have learned that the symmetries inherent in a machine learning task can be represented through **groups**. Lectures have also delved into the realm of *Group-Convolutional Neural Networks* (**GCNNs**), offering insights into a neural architecture designed to exhibit equivariance to general groups.\n",
        "\n",
        "In GCNNs, the feature maps function over the elements of the group. However, a straightforward implementation of group-convolution involves computing and storing responses for each group element, making it less practical for networks equivariant to groups with infinite elements.\n",
        "\n",
        "To overcome this limitation, Steerable CNNs present a more versatile framework. The core principle lies in storing, not the value of a feature map on each group element, but rather the Fourier transform of this feature map, limited to a finite number of frequencies.\n",
        "\n",
        "This notebook will first introduce Representation theory and Fourier theory (*non-commutative harmonic analysis*), and subsequently delve into how this concept is practically applied to realize Steerable CNNs."
      ]
    },
    {
      "cell_type": "code",
      "source": [
        "pip install torch torchvision numpy matplotlib git+https://github.com/AMLab-Amsterdam/lie_learn escnn scipy"
      ],
      "metadata": {
        "colab": {
          "base_uri": "https://localhost:8080/"
        },
        "id": "PfkB0KKEPKQJ",
        "outputId": "674b1420-ca10-4ca7-a7c6-3196607a62a5"
      },
      "execution_count": null,
      "outputs": [
        {
          "output_type": "stream",
          "name": "stdout",
          "text": [
            "Collecting git+https://github.com/AMLab-Amsterdam/lie_learn\n",
            "  Cloning https://github.com/AMLab-Amsterdam/lie_learn to /tmp/pip-req-build-iy2pal6d\n",
            "  Running command git clone --filter=blob:none --quiet https://github.com/AMLab-Amsterdam/lie_learn /tmp/pip-req-build-iy2pal6d\n",
            "  Resolved https://github.com/AMLab-Amsterdam/lie_learn to commit 1ccc2106e402d517a29de5438c9367c959e67338\n",
            "  Installing build dependencies ... \u001b[?25l\u001b[?25hdone\n",
            "  Getting requirements to build wheel ... \u001b[?25l\u001b[?25hdone\n",
            "  Installing backend dependencies ... \u001b[?25l\u001b[?25hdone\n",
            "  Preparing metadata (pyproject.toml) ... \u001b[?25l\u001b[?25hdone\n",
            "Requirement already satisfied: torch in /usr/local/lib/python3.10/dist-packages (2.1.0+cu118)\n",
            "Requirement already satisfied: torchvision in /usr/local/lib/python3.10/dist-packages (0.16.0+cu118)\n",
            "Requirement already satisfied: numpy in /usr/local/lib/python3.10/dist-packages (1.23.5)\n",
            "Requirement already satisfied: matplotlib in /usr/local/lib/python3.10/dist-packages (3.7.1)\n",
            "Requirement already satisfied: escnn in /usr/local/lib/python3.10/dist-packages (1.0.11)\n",
            "Requirement already satisfied: scipy in /usr/local/lib/python3.10/dist-packages (1.9.3)\n",
            "Requirement already satisfied: filelock in /usr/local/lib/python3.10/dist-packages (from torch) (3.13.1)\n",
            "Requirement already satisfied: typing-extensions in /usr/local/lib/python3.10/dist-packages (from torch) (4.5.0)\n",
            "Requirement already satisfied: sympy in /usr/local/lib/python3.10/dist-packages (from torch) (1.12)\n",
            "Requirement already satisfied: networkx in /usr/local/lib/python3.10/dist-packages (from torch) (3.2.1)\n",
            "Requirement already satisfied: jinja2 in /usr/local/lib/python3.10/dist-packages (from torch) (3.1.2)\n",
            "Requirement already satisfied: fsspec in /usr/local/lib/python3.10/dist-packages (from torch) (2023.6.0)\n",
            "Requirement already satisfied: triton==2.1.0 in /usr/local/lib/python3.10/dist-packages (from torch) (2.1.0)\n",
            "Requirement already satisfied: requests in /usr/local/lib/python3.10/dist-packages (from torchvision) (2.31.0)\n",
            "Requirement already satisfied: pillow!=8.3.*,>=5.3.0 in /usr/local/lib/python3.10/dist-packages (from torchvision) (9.4.0)\n",
            "Requirement already satisfied: contourpy>=1.0.1 in /usr/local/lib/python3.10/dist-packages (from matplotlib) (1.2.0)\n",
            "Requirement already satisfied: cycler>=0.10 in /usr/local/lib/python3.10/dist-packages (from matplotlib) (0.12.1)\n",
            "Requirement already satisfied: fonttools>=4.22.0 in /usr/local/lib/python3.10/dist-packages (from matplotlib) (4.44.3)\n",
            "Requirement already satisfied: kiwisolver>=1.0.1 in /usr/local/lib/python3.10/dist-packages (from matplotlib) (1.4.5)\n",
            "Requirement already satisfied: packaging>=20.0 in /usr/local/lib/python3.10/dist-packages (from matplotlib) (23.2)\n",
            "Requirement already satisfied: pyparsing>=2.3.1 in /usr/local/lib/python3.10/dist-packages (from matplotlib) (3.1.1)\n",
            "Requirement already satisfied: python-dateutil>=2.7 in /usr/local/lib/python3.10/dist-packages (from matplotlib) (2.8.2)\n",
            "Requirement already satisfied: joblib in /usr/local/lib/python3.10/dist-packages (from escnn) (1.3.2)\n",
            "Requirement already satisfied: pymanopt in /usr/local/lib/python3.10/dist-packages (from escnn) (2.2.0)\n",
            "Requirement already satisfied: autograd in /usr/local/lib/python3.10/dist-packages (from escnn) (1.6.2)\n",
            "Requirement already satisfied: py3nj in /usr/local/lib/python3.10/dist-packages (from escnn) (0.2.1)\n",
            "Requirement already satisfied: six>=1.5 in /usr/local/lib/python3.10/dist-packages (from python-dateutil>=2.7->matplotlib) (1.16.0)\n",
            "Requirement already satisfied: future>=0.15.2 in /usr/local/lib/python3.10/dist-packages (from autograd->escnn) (0.18.3)\n",
            "Requirement already satisfied: MarkupSafe>=2.0 in /usr/local/lib/python3.10/dist-packages (from jinja2->torch) (2.1.3)\n",
            "Requirement already satisfied: charset-normalizer<4,>=2 in /usr/local/lib/python3.10/dist-packages (from requests->torchvision) (3.3.2)\n",
            "Requirement already satisfied: idna<4,>=2.5 in /usr/local/lib/python3.10/dist-packages (from requests->torchvision) (3.4)\n",
            "Requirement already satisfied: urllib3<3,>=1.21.1 in /usr/local/lib/python3.10/dist-packages (from requests->torchvision) (2.0.7)\n",
            "Requirement already satisfied: certifi>=2017.4.17 in /usr/local/lib/python3.10/dist-packages (from requests->torchvision) (2023.7.22)\n",
            "Requirement already satisfied: mpmath>=0.19 in /usr/local/lib/python3.10/dist-packages (from sympy->torch) (1.3.0)\n"
          ]
        }
      ]
    },
    {
      "cell_type": "markdown",
      "metadata": {
        "id": "RbSmJU4LcQLT"
      },
      "source": [
        "## Prerequisite Knowledge\n",
        "This notebook will assume familiarity with some concepts of **group theory**, such as *groups*, *group actions* (in particular *on functions*), *semi-direct product* and *order of a group*, as well as basic **linear algebra**."
      ]
    },
    {
      "cell_type": "code",
      "execution_count": null,
      "metadata": {
        "colab": {
          "base_uri": "https://localhost:8080/"
        },
        "id": "0DeUGG1ycQLQ",
        "outputId": "6b6c1c96-f780-4747-ad2a-302ad7c7f731"
      },
      "outputs": [
        {
          "output_type": "stream",
          "name": "stderr",
          "text": [
            "<ipython-input-104-70517135ffbc>:13: DeprecationWarning: `set_matplotlib_formats` is deprecated since IPython 7.23, directly use `matplotlib_inline.backend_inline.set_matplotlib_formats()`\n",
            "  set_matplotlib_formats('svg', 'pdf') # For export\n"
          ]
        },
        {
          "output_type": "stream",
          "name": "stdout",
          "text": [
            "Drive already mounted at /content/drive; to attempt to forcibly remount, call drive.mount(\"/content/drive\", force_remount=True).\n"
          ]
        }
      ],
      "source": [
        "import torch\n",
        "import numpy as np\n",
        "import scipy\n",
        "import os\n",
        "\n",
        "np.set_printoptions(precision=3, suppress=True, linewidth=10000, threshold=100000)\n",
        "\n",
        "import matplotlib\n",
        "%matplotlib inline\n",
        "import matplotlib.pyplot as plt\n",
        "# If the fonts in the plots are incorrectly rendered, comment out the next two lines\n",
        "from IPython.display import set_matplotlib_formats\n",
        "set_matplotlib_formats('svg', 'pdf') # For export\n",
        "matplotlib.rcParams['lines.linewidth'] = 2.0\n",
        "\n",
        "import urllib.request\n",
        "from urllib.error import HTTPError\n",
        "from escnn.group import *\n",
        "\n",
        "from google.colab import drive\n",
        "drive.mount('/content/drive')\n",
        "\n",
        "# Now you can access the 'saved_models' folder using the path below, if 'saved_models' is in the root of your Google Drive.\n",
        "CHECKPOINT_PATH = '/content/drive/MyDrive/saved_models /GDL'\n"
      ]
    },
    {
      "cell_type": "markdown",
      "metadata": {
        "id": "YajlOyducQLT"
      },
      "source": [
        "## 1. Representation Theory & Harmonic Analysis"
      ]
    },
    {
      "cell_type": "markdown",
      "metadata": {
        "id": "XC9uzWK9cQLV"
      },
      "source": [
        "Initially, let's establish a group, opting for the *Cyclic Group* $G=C_8$ as our illustration. This group encompasses the $8$ planar rotations achieved through multiples of $\\frac{2\\pi}{8}$.\n",
        "\n",
        "Within the escnn framework, groups are represented as instances of the abstract class escnn.group.Group, offering practical functionalities. The instantiation of groups employs a factory method. To craft the cyclic group of order $8$, the following factory method is employed:"
      ]
    },
    {
      "cell_type": "code",
      "execution_count": null,
      "metadata": {
        "id": "VADpbshZcQLW",
        "colab": {
          "base_uri": "https://localhost:8080/"
        },
        "outputId": "26cf8fdc-476b-45cd-8573-96524007e26e"
      },
      "outputs": [
        {
          "output_type": "execute_result",
          "data": {
            "text/plain": [
              "8"
            ]
          },
          "metadata": {},
          "execution_count": 4
        }
      ],
      "source": [
        "G = cyclic_group(N=8)\n",
        "\n",
        "# We can verify that the order of this group is 8:\n",
        "G.order()"
      ]
    },
    {
      "cell_type": "markdown",
      "metadata": {
        "id": "Rcc8utD-cQLY"
      },
      "source": [
        "A group is a collection of group elements together with a binary operation to combine them.\n",
        "This is implemented in the class `escnn.group.GroupElement`.\n",
        "We can access the *identity* element $e \\in G$ as"
      ]
    },
    {
      "cell_type": "code",
      "execution_count": null,
      "metadata": {
        "id": "IOb24vqTcQLY",
        "colab": {
          "base_uri": "https://localhost:8080/"
        },
        "outputId": "ad51e4e1-ea86-4970-e5ba-fc1586cd7de4"
      },
      "outputs": [
        {
          "output_type": "execute_result",
          "data": {
            "text/plain": [
              "0[2pi/8]"
            ]
          },
          "metadata": {},
          "execution_count": 5
        }
      ],
      "source": [
        "G.identity"
      ]
    },
    {
      "cell_type": "markdown",
      "metadata": {
        "id": "6carpwC_cQLY"
      },
      "source": [
        "or sample a random element as"
      ]
    },
    {
      "cell_type": "code",
      "execution_count": null,
      "metadata": {
        "id": "GuCA2K3mcQLZ",
        "colab": {
          "base_uri": "https://localhost:8080/"
        },
        "outputId": "a1349aae-356b-4da6-b05e-f948aba3e745"
      },
      "outputs": [
        {
          "output_type": "execute_result",
          "data": {
            "text/plain": [
              "0[2pi/8]"
            ]
          },
          "metadata": {},
          "execution_count": 6
        }
      ],
      "source": [
        "G.sample()"
      ]
    },
    {
      "cell_type": "markdown",
      "metadata": {
        "id": "fgsIZ5iOcQLZ"
      },
      "source": [
        "Group elements can be combined via the binary operator `@`; we can also take the inverse of an element using `~`:"
      ]
    },
    {
      "cell_type": "code",
      "execution_count": null,
      "metadata": {
        "id": "ePYpcV2hcQLZ",
        "colab": {
          "base_uri": "https://localhost:8080/"
        },
        "outputId": "91d61bf5-259b-4f11-93b9-c0c13d5a7fd8"
      },
      "outputs": [
        {
          "output_type": "stream",
          "name": "stdout",
          "text": [
            "4[2pi/8]\n",
            "6[2pi/8]\n",
            "2[2pi/8]\n",
            "4[2pi/8]\n"
          ]
        }
      ],
      "source": [
        "a = G.sample()\n",
        "b = G.sample()\n",
        "print(a)\n",
        "print(b)\n",
        "print(a @ b)\n",
        "print(~a)"
      ]
    },
    {
      "cell_type": "markdown",
      "metadata": {
        "id": "r_7H2r85cQLa"
      },
      "source": [
        "Representation theory is a fundamental element in Steerable CNNs and to construct a Fourier theory over groups.\n",
        "Let's go over the essential concepts."
      ]
    },
    {
      "cell_type": "markdown",
      "metadata": {
        "id": "GAbvGihgcQLa"
      },
      "source": [
        "### 1.1 Group Representation\n",
        "\n",
        "A **linear group representation** $\\rho$ of a compact group $G$ on a vector space (called *representation space*) $\\mathbb{R}^d$ is a *group homomorphism* from $G$ to the general linear group $GL(\\mathbb{R}^d)$, i.e. it is a map $\\rho : G \\to \\mathbb{R}^{d \\times d}$ such that:\n",
        "$$\\rho(g_1 g_2) = \\rho(g1) \\rho(g2) \\quad \\forall g_1,g_2 \\in G \\ .$$\n",
        "\n",
        "In other words, $\\rho(g)$ is a $d \\times d$ *invertible* matrix.\n",
        "We refer to $d$ as the *size* of the representation."
      ]
    },
    {
      "cell_type": "markdown",
      "metadata": {
        "id": "8dja71IKcQLb"
      },
      "source": [
        "#### Example: the Trivial Representation\n",
        "The simplest example of *group representation* is the **trivial representation** which maps every element to $1 \\in \\mathbb{R}$, i.e. $\\rho: g \\mapsto 1$.\n",
        "One can verify that it satisfies the condition above.\n",
        "We can construct this representation as follows:"
      ]
    },
    {
      "cell_type": "code",
      "execution_count": null,
      "metadata": {
        "id": "r0EUX2NPcQLb"
      },
      "outputs": [],
      "source": [
        "rho = G.trivial_representation"
      ]
    },
    {
      "cell_type": "markdown",
      "metadata": {
        "id": "Ls4_jiufcQLb"
      },
      "source": [
        "`rho` is an instance of `escnn.group.Representation`. This class provides some functionalities to work with group representations. We can also use it as a callable function to compute the representation of a group element; this will return a squared matrix as a `numpy.array`.\n",
        "Let verify that the trivial representation does indeed verify the condition above:"
      ]
    },
    {
      "cell_type": "code",
      "execution_count": null,
      "metadata": {
        "id": "t8Ub_tjUcQLb",
        "colab": {
          "base_uri": "https://localhost:8080/"
        },
        "outputId": "cc65fd76-af1b-4727-94f1-6ba7b6ed27d4"
      },
      "outputs": [
        {
          "output_type": "stream",
          "name": "stdout",
          "text": [
            "[[1.]]\n",
            "[[1.]]\n"
          ]
        }
      ],
      "source": [
        "g1 = G.sample()\n",
        "g2 = G.sample()\n",
        "print(rho(g1) @ rho(g2))\n",
        "print(rho(g1 @ g2))"
      ]
    },
    {
      "cell_type": "markdown",
      "metadata": {
        "id": "Cg53mBIkcQLc"
      },
      "source": [
        "Note that the trivial representation has size $1$:"
      ]
    },
    {
      "cell_type": "code",
      "execution_count": null,
      "metadata": {
        "id": "f2AqadBpcQLc",
        "colab": {
          "base_uri": "https://localhost:8080/"
        },
        "outputId": "466c8e63-baf5-4518-e79a-dfe9ec0198d3"
      },
      "outputs": [
        {
          "output_type": "execute_result",
          "data": {
            "text/plain": [
              "1"
            ]
          },
          "metadata": {},
          "execution_count": 10
        }
      ],
      "source": [
        "rho.size"
      ]
    },
    {
      "cell_type": "markdown",
      "metadata": {
        "id": "YaV4gjdpcQLc"
      },
      "source": [
        "#### Example: rotations\n",
        "\n",
        "Another common example of group representations is given by 2D rotations.\n",
        "Let $SO(2)$ be the group of all planar rotations; note that we can identify each rotation by an angle $\\theta \\in [0, 2\\pi)$.\n",
        "Then, the standard representation of planar rotations as $2\\times 2$ rotation matrices is a representation of $SO(2)$:\n",
        "\n",
        "$$\n",
        "    \\rho: r_{\\theta} \\mapsto \\begin{bmatrix} \\cos(\\theta) & -\\sin(\\theta) \\\\ \\sin(\\theta) & \\cos(\\theta) \\end{bmatrix}\n",
        "$$\n",
        "\n",
        "where $r_\\theta \\in SO(2)$ is a counter-clockwise rotation by $\\theta$.\n",
        "Let's try to build this group and, then, verify that this is a representation:"
      ]
    },
    {
      "cell_type": "code",
      "execution_count": null,
      "metadata": {
        "id": "ZJpxDUGacQLd",
        "colab": {
          "base_uri": "https://localhost:8080/"
        },
        "outputId": "31a302ad-4233-4ce1-ea6d-101104130974"
      },
      "outputs": [
        {
          "output_type": "stream",
          "name": "stdout",
          "text": [
            "g1=1.6745930120560404, g2=0.23755296253011118, g1 * g2 = 1.9121459745861515\n",
            "\n",
            "rho(g1) @ rho(g2)\n",
            "[[-0.335 -0.942]\n",
            " [ 0.942 -0.335]]\n",
            "\n",
            "rho(g1 * g2)\n",
            "[[-0.335 -0.942]\n",
            " [ 0.942 -0.335]]\n"
          ]
        }
      ],
      "source": [
        "G = so2_group()\n",
        "rho = G.standard_representation()\n",
        "\n",
        "g1 = G.sample()\n",
        "g2 = G.sample()\n",
        "print(f'g1={g1}, g2={g2}, g1 * g2 = {g1 @ g2}')\n",
        "print()\n",
        "print('rho(g1) @ rho(g2)')\n",
        "print(rho(g1) @ rho(g2))\n",
        "print()\n",
        "print('rho(g1 * g2)')\n",
        "print(rho(g1 @ g2))"
      ]
    },
    {
      "cell_type": "markdown",
      "metadata": {
        "id": "xT8HQUFGcQLd"
      },
      "source": [
        "#### Direct Sum\n",
        "We can combine representations to build a larger representation via the **direct sum**.\n",
        "\n",
        "Given representations $\\rho_1 : G \\to \\mathbb{R}^{d_1 \\times d_1}$ and $\\rho_2 : G \\to \\mathbb{R}^{d_2 \\times d_2}$, their *direct sum* $\\rho_1 \\oplus \\rho_2: G \\to \\mathbb{R}^{(d_1 + d_2) \\times (d_1 + d_2)}$ is defined as\n",
        "\n",
        "$$\n",
        "    (\\rho_1 \\oplus \\rho_2)(g) = \\begin{bmatrix}\\rho_1(g) & 0 \\\\ 0 & \\rho_2(g) \\end{bmatrix}\n",
        "$$\n",
        "\n",
        "Its action is therefore given by the independent actions of $\\rho_1$ and $\\rho_2$ on the orthogonal subspaces $\\mathbb{R}^{d_1}$ and $\\mathbb{R}^{d_2}$  of $\\mathbb{R}^{d_1 + d_2}$.\n",
        "\n",
        "Let's see an example:"
      ]
    },
    {
      "cell_type": "code",
      "execution_count": null,
      "metadata": {
        "id": "3bKiV8VMcQLd",
        "colab": {
          "base_uri": "https://localhost:8080/"
        },
        "outputId": "7e37316f-0b3a-41e1-dd30-4a3e2f9ddc69"
      },
      "outputs": [
        {
          "output_type": "stream",
          "name": "stdout",
          "text": [
            "[[ 0.118 -0.993]\n",
            " [ 0.993  0.118]]\n",
            "\n",
            "[[ 0.118 -0.993  0.     0.   ]\n",
            " [ 0.993  0.118  0.     0.   ]\n",
            " [ 0.     0.     0.118 -0.993]\n",
            " [ 0.     0.     0.993  0.118]]\n"
          ]
        }
      ],
      "source": [
        "rho_sum = rho + rho\n",
        "\n",
        "g = G.sample()\n",
        "print(rho(g))\n",
        "print()\n",
        "print(rho_sum(g))"
      ]
    },
    {
      "cell_type": "markdown",
      "metadata": {
        "id": "klWR11lpcQLe"
      },
      "source": [
        "Note that the direct sum of two representations has size equal to the sum of their sizes:"
      ]
    },
    {
      "cell_type": "code",
      "execution_count": null,
      "metadata": {
        "id": "SoDMk5gdcQLe",
        "colab": {
          "base_uri": "https://localhost:8080/"
        },
        "outputId": "26520dde-da6a-4370-8c0e-449a542a2011"
      },
      "outputs": [
        {
          "output_type": "execute_result",
          "data": {
            "text/plain": [
              "(2, 4)"
            ]
          },
          "metadata": {},
          "execution_count": 13
        }
      ],
      "source": [
        "rho.size, rho_sum.size"
      ]
    },
    {
      "cell_type": "markdown",
      "metadata": {
        "id": "jhe9hZ_zcQLe"
      },
      "source": [
        "We can combine arbitrary many representations in this way, e.g. $\\rho \\oplus \\rho \\oplus \\rho \\oplus \\rho$:"
      ]
    },
    {
      "cell_type": "code",
      "execution_count": null,
      "metadata": {
        "id": "f5w0GppScQLe",
        "colab": {
          "base_uri": "https://localhost:8080/"
        },
        "outputId": "4bb51116-4325-46de-ca36-b85eea51783c"
      },
      "outputs": [
        {
          "output_type": "execute_result",
          "data": {
            "text/plain": [
              "8"
            ]
          },
          "metadata": {},
          "execution_count": 14
        }
      ],
      "source": [
        "rho_sum = rho + rho + rho + rho\n",
        "\n",
        "# or, more simply:\n",
        "rho_sum = directsum([rho, rho, rho, rho])\n",
        "rho_sum.size"
      ]
    },
    {
      "cell_type": "markdown",
      "metadata": {
        "id": "JNMR5pQGcQLf"
      },
      "source": [
        "#### The Regular Representation\n",
        "\n",
        "An additional crucial representation is the **regular representation**, which elucidates the impact of a group $G$ on the vector space of functions spanning the group $G$. Let's momentarily assume that the group $G$ is finite, denoted as $|G| < \\infty$.\n",
        "\n",
        "The set of functions over $G$ corresponds to the vector space $\\mathbb{R}^{|G|}$. Conceptually, a vector $\\mathbf{f} \\in \\mathbb{R}^{|G|}$ can be construed as a function over $G$, where the $i$-th entry of $\\mathbf{f}$ signifies the value of the function at the $i$-th element $g_i \\in G$.\n",
        "\n",
        "$$\n",
        "[g.f](h) := f(g^{-1} h)\n",
        "$$\n",
        "\n",
        "The new function $g.f$ is still a function over $G$ and belongs to the same vector space.\n",
        "If we represent the function $f$ as a vector $\\mathbf{f}$, the vector representing the function $g.f$ will have permuted entries with respect to $\\mathbf{f}$.\n",
        "This permutation is the regular representation of $g \\in G$."
      ]
    },
    {
      "cell_type": "markdown",
      "metadata": {
        "id": "oStwiCwNcQLf"
      },
      "source": [
        "For finite groups, we can generate this representation.\n",
        "We assume that the $i$-th entry is associated with the element of $G=C_8$ corresponing to a rotation by $i \\frac{2\\pi}{8}$."
      ]
    },
    {
      "cell_type": "code",
      "execution_count": null,
      "metadata": {
        "id": "URb5ggAXcQLf"
      },
      "outputs": [],
      "source": [
        "G = cyclic_group(8)\n",
        "rho = G.regular_representation"
      ]
    },
    {
      "cell_type": "code",
      "execution_count": null,
      "metadata": {
        "id": "QrBDn90GcQLg",
        "colab": {
          "base_uri": "https://localhost:8080/"
        },
        "outputId": "7d27ccb1-ef8b-403a-d0b3-a03d0b19dd42"
      },
      "outputs": [
        {
          "output_type": "execute_result",
          "data": {
            "text/plain": [
              "8"
            ]
          },
          "metadata": {},
          "execution_count": 16
        }
      ],
      "source": [
        "# note that the size of the representation is equal to the group's order |G|\n",
        "rho.size"
      ]
    },
    {
      "cell_type": "markdown",
      "metadata": {
        "id": "9cArJXaecQLg"
      },
      "source": [
        "the identity element maps a function to itself, so the entries are not permuted"
      ]
    },
    {
      "cell_type": "code",
      "execution_count": null,
      "metadata": {
        "id": "dkyjqK2GcQLg",
        "colab": {
          "base_uri": "https://localhost:8080/"
        },
        "outputId": "d4e13775-d99e-49aa-a40e-1d7c86bf1e18"
      },
      "outputs": [
        {
          "output_type": "execute_result",
          "data": {
            "text/plain": [
              "array([[ 1.,  0., -0.,  0., -0., -0.,  0., -0.],\n",
              "       [ 0.,  1.,  0., -0., -0., -0., -0., -0.],\n",
              "       [-0.,  0.,  1., -0., -0.,  0., -0.,  0.],\n",
              "       [ 0., -0., -0.,  1.,  0., -0., -0., -0.],\n",
              "       [-0., -0., -0.,  0.,  1.,  0., -0., -0.],\n",
              "       [-0., -0.,  0., -0.,  0.,  1., -0.,  0.],\n",
              "       [ 0., -0., -0., -0., -0., -0.,  1., -0.],\n",
              "       [-0., -0.,  0., -0., -0.,  0., -0.,  1.]])"
            ]
          },
          "metadata": {},
          "execution_count": 17
        }
      ],
      "source": [
        "rho(G.identity)"
      ]
    },
    {
      "cell_type": "markdown",
      "metadata": {
        "id": "NfNZQhHycQLg"
      },
      "source": [
        "The regular representation of the rotation by $1\\frac{2\\pi}{8}$ just cyclically shifts each entry to the next position since $r_{1\\frac{2\\pi}{8}}^{-1} r_{i\\frac{2\\pi}{8}} = r_{(i-1)\\frac{2\\pi}{8}}$:"
      ]
    },
    {
      "cell_type": "code",
      "execution_count": null,
      "metadata": {
        "id": "zbTrUzKZcQLg",
        "colab": {
          "base_uri": "https://localhost:8080/"
        },
        "outputId": "816b0f44-c825-417f-caca-c34160f0fac7"
      },
      "outputs": [
        {
          "output_type": "execute_result",
          "data": {
            "text/plain": [
              "array([[ 0., -0.,  0., -0., -0.,  0., -0.,  1.],\n",
              "       [ 1.,  0., -0., -0., -0., -0.,  0., -0.],\n",
              "       [-0.,  1.,  0., -0.,  0., -0., -0., -0.],\n",
              "       [-0.,  0.,  1.,  0., -0.,  0., -0.,  0.],\n",
              "       [-0., -0., -0.,  1.,  0., -0.,  0., -0.],\n",
              "       [-0.,  0., -0.,  0.,  1.,  0.,  0., -0.],\n",
              "       [-0., -0., -0., -0.,  0.,  1.,  0.,  0.],\n",
              "       [-0.,  0., -0., -0.,  0., -0.,  1.,  0.]])"
            ]
          },
          "metadata": {},
          "execution_count": 18
        }
      ],
      "source": [
        "rho(G.element(1))"
      ]
    },
    {
      "cell_type": "markdown",
      "metadata": {
        "id": "lMPG_z9jcQLh"
      },
      "source": [
        "Let's see an example of the action on a function.\n",
        "We consider a function which is zero on all group elements apart from the identity ($i=0$)."
      ]
    },
    {
      "cell_type": "code",
      "execution_count": null,
      "metadata": {
        "id": "x3KrJjrXcQLh",
        "colab": {
          "base_uri": "https://localhost:8080/"
        },
        "outputId": "dd695296-cb07-4950-9079-3b3d5c62b59d"
      },
      "outputs": [
        {
          "output_type": "execute_result",
          "data": {
            "text/plain": [
              "array([1., 0., 0., 0., 0., 0., 0., 0.])"
            ]
          },
          "metadata": {},
          "execution_count": 19
        }
      ],
      "source": [
        "f = np.zeros(8)\n",
        "f[0] = 1\n",
        "f"
      ]
    },
    {
      "cell_type": "markdown",
      "metadata": {
        "id": "kuFWujk_cQLh"
      },
      "source": [
        "Observe that $\\rho(e) \\mathbf{f} = \\mathbf{f}$, where $e = 0\\frac{2\\pi}{8}$ is the identity element."
      ]
    },
    {
      "cell_type": "code",
      "execution_count": null,
      "metadata": {
        "id": "La0rfdEycQLh",
        "colab": {
          "base_uri": "https://localhost:8080/"
        },
        "outputId": "ef5bf175-d200-428e-87bb-e778ab965bec"
      },
      "outputs": [
        {
          "output_type": "execute_result",
          "data": {
            "text/plain": [
              "array([ 1.,  0., -0.,  0., -0., -0.,  0., -0.])"
            ]
          },
          "metadata": {},
          "execution_count": 20
        }
      ],
      "source": [
        "rho(G.identity) @ f"
      ]
    },
    {
      "cell_type": "markdown",
      "metadata": {
        "id": "wlWW5joqcQLh"
      },
      "source": [
        "$\\mathbf{f}$ is non-zero only on the element $e$.\n",
        "If an element $g$ acts on this function, it moves the non-zero value to the entry associated with $g$:"
      ]
    },
    {
      "cell_type": "code",
      "execution_count": null,
      "metadata": {
        "id": "UZJV-YfkcQLh",
        "colab": {
          "base_uri": "https://localhost:8080/"
        },
        "outputId": "f8104442-05b7-4dcc-98e8-23481c46c4cd"
      },
      "outputs": [
        {
          "output_type": "execute_result",
          "data": {
            "text/plain": [
              "array([ 0.,  1., -0., -0., -0., -0., -0., -0.])"
            ]
          },
          "metadata": {},
          "execution_count": 21
        }
      ],
      "source": [
        "rho(G.element(1)) @ f"
      ]
    },
    {
      "cell_type": "code",
      "execution_count": null,
      "metadata": {
        "id": "qEHsuyIMcQLi",
        "colab": {
          "base_uri": "https://localhost:8080/"
        },
        "outputId": "c7995f44-3088-4959-b58f-67c133be0dd0"
      },
      "outputs": [
        {
          "output_type": "execute_result",
          "data": {
            "text/plain": [
              "array([ 0., -0.,  0., -0., -0., -0.,  1., -0.])"
            ]
          },
          "metadata": {},
          "execution_count": 22
        }
      ],
      "source": [
        "rho(G.element(6)) @ f"
      ]
    },
    {
      "cell_type": "markdown",
      "metadata": {
        "id": "6I1Df5BEcQLi"
      },
      "source": [
        "#### Equivalent Representations\n",
        "\n",
        "Two representations $\\rho$ and $\\rho'$ of a group $G$ on the same vector space $\\mathbb{R}^d$ are called *equivalent* (or **isomorphic**) if and only if they are related by a change of basis $Q \\in \\mathbb{R}^{d \\times d}$, i.e.\n",
        "$$ \\forall g \\in G \\quad \\rho(g) = Q \\rho'(g) Q^{-1} \\ . $$\n",
        "\n",
        "Equivalent representations behave similarly since their composition is *basis-independent* as seen by\n",
        "$$ \\rho'(g_1) \\rho'(g_2) = Q \\rho(g_1)Q^{−1}Q \\rho(g_2)Q^{−1} = Q \\rho(g_1)\\rho(g_2)Q^{−1} \\ .$$\n",
        "\n",
        "*Direct sum* and *change of basis matrices* provide a way to combine representations to construct larger and more complex representations.\n",
        "In the next example, we concatenate two trivial representations and two regular representations and apply a random change of basis $Q$.\n",
        "The final representation is formally defined as:\n",
        "$$\n",
        "\\rho(g) = Q\n",
        "\\left(\n",
        "\\rho_\\text{trivial} \\oplus\n",
        "\\rho_\\text{regular} \\oplus\n",
        "\\rho_\\text{regular} \\oplus\n",
        "\\rho_\\text{trivial}\n",
        "\\right)\n",
        "Q^{-1}\n",
        "$$"
      ]
    },
    {
      "cell_type": "code",
      "execution_count": null,
      "metadata": {
        "id": "0OP51IsBcQLi"
      },
      "outputs": [],
      "source": [
        "d = G.trivial_representation.size * 2 + G.regular_representation.size * 2\n",
        "Q = np.random.randn(d, d)\n",
        "rho = directsum(\n",
        "    [G.trivial_representation, G.regular_representation, G.regular_representation, G.trivial_representation],\n",
        "    change_of_basis=Q\n",
        ")"
      ]
    },
    {
      "cell_type": "code",
      "execution_count": null,
      "metadata": {
        "id": "ewPHjFszcQLj",
        "colab": {
          "base_uri": "https://localhost:8080/"
        },
        "outputId": "3d0154ac-53ac-42a6-8d0f-89b50cf518da"
      },
      "outputs": [
        {
          "output_type": "execute_result",
          "data": {
            "text/plain": [
              "18"
            ]
          },
          "metadata": {},
          "execution_count": 24
        }
      ],
      "source": [
        "rho.size"
      ]
    },
    {
      "cell_type": "markdown",
      "metadata": {
        "id": "LnegNCevcQLj"
      },
      "source": [
        "#### Irreducible Representations (or *Irreps*)\n",
        "\n",
        "Subject to minor conditions, any representation can undergo decomposition in this manner. Specifically, any representation $\\rho$ of a compact group $G$ can be expressed as a *direct sum* of several smaller representations, allowing for a change of basis. These so-called \"smaller representations\" cannot be further decomposed and hold a significant role in the realms of group representations, steerable CNNs, and are denoted as **irreducible representations**, or succinctly, **irreps**.\n",
        "\n",
        "The set of *irreducible representations* of a group $G$ is generally denoted as $\\hat{G}$.\n",
        "We will often use the notation $\\hat{G} = \\{\\rho_j\\}_j$ to index this set."
      ]
    },
    {
      "cell_type": "markdown",
      "metadata": {
        "id": "MhzTXFsWcQLj"
      },
      "source": [
        "We can access the irreps of a group via the `irrep()` method.\n",
        "The *trivial representation* is *always* an irreducible representation.\n",
        "For $G=C_8$, we access it with the index $j=0$:"
      ]
    },
    {
      "cell_type": "code",
      "execution_count": null,
      "metadata": {
        "id": "JY-vdM2GcQLj",
        "colab": {
          "base_uri": "https://localhost:8080/"
        },
        "outputId": "72466e6e-a913-46b4-82a7-54d52c0571d9"
      },
      "outputs": [
        {
          "output_type": "stream",
          "name": "stdout",
          "text": [
            "True\n"
          ]
        },
        {
          "output_type": "execute_result",
          "data": {
            "text/plain": [
              "array([[1.]])"
            ]
          },
          "metadata": {},
          "execution_count": 25
        }
      ],
      "source": [
        "rho_0 = G.irrep(0)\n",
        "\n",
        "print(rho_0 == G.trivial_representation)\n",
        "\n",
        "rho_0(G.sample())\n"
      ]
    },
    {
      "cell_type": "markdown",
      "metadata": {
        "id": "Re7L8u5McQLk"
      },
      "source": [
        "The next irrep $j=1$ gives the representation of $i\\frac{2\\pi}{8}$ as the $2 \\times 2$ rotation matrix by $\\theta = i\\frac{2\\pi}{8}$:"
      ]
    },
    {
      "cell_type": "code",
      "execution_count": null,
      "metadata": {
        "id": "CePW0KyNcQLk",
        "colab": {
          "base_uri": "https://localhost:8080/"
        },
        "outputId": "2e9ce07f-900b-4aa6-e49b-c661194e3138"
      },
      "outputs": [
        {
          "output_type": "stream",
          "name": "stdout",
          "text": [
            "6[2pi/8]\n",
            "\n",
            "[[-0.  1.]\n",
            " [-1. -0.]]\n"
          ]
        }
      ],
      "source": [
        "rho = G.irrep(1)\n",
        "g = G.sample()\n",
        "\n",
        "print(g)\n",
        "print()\n",
        "print(rho(g))"
      ]
    },
    {
      "cell_type": "markdown",
      "metadata": {
        "id": "_Brfn36_cQLk"
      },
      "source": [
        "Irreducible representations provide the building blocks to construct any representation $\\rho$ via direct sums and change of basis, i.e:\n",
        "$$ \\rho = Q \\left( \\bigoplus_{j \\in \\mathcal{I}} \\rho_j \\right) Q^{-1} $$\n",
        "\n",
        "where $\\mathcal{I}$ is an index set (possibly with repetitions) over $\\hat{G}$."
      ]
    },
    {
      "cell_type": "markdown",
      "metadata": {
        "id": "-6VbbktxcQLk"
      },
      "source": [
        "Internally, any `escnn.group.Representation` is indeed implemented as a list of irreps (representing the index set $\\mathcal{I}$) and a change of basis $Q$.\n",
        "An irrep is identified by a *tuple* `id`.\n",
        "\n",
        "Let's see an example.\n",
        "Let's take the regular representaiton of $C_8$ and check its decomposition into irreps:"
      ]
    },
    {
      "cell_type": "code",
      "execution_count": null,
      "metadata": {
        "id": "7gnOnfIncQLk",
        "colab": {
          "base_uri": "https://localhost:8080/"
        },
        "outputId": "e887689a-603e-419b-dbd6-58a471d2cc4c"
      },
      "outputs": [
        {
          "output_type": "execute_result",
          "data": {
            "text/plain": [
              "[(0,), (1,), (2,), (3,), (4,)]"
            ]
          },
          "metadata": {},
          "execution_count": 27
        }
      ],
      "source": [
        "rho = G.regular_representation\n",
        "rho.irreps"
      ]
    },
    {
      "cell_type": "code",
      "execution_count": null,
      "metadata": {
        "id": "HZ0vO35FcQLk",
        "colab": {
          "base_uri": "https://localhost:8080/"
        },
        "outputId": "c81ca697-85a8-4f2b-f334-a8a297a68f41"
      },
      "outputs": [
        {
          "output_type": "execute_result",
          "data": {
            "text/plain": [
              "array([[ 0.354,  0.5  ,  0.   ,  0.5  ,  0.   ,  0.5  ,  0.   ,  0.354],\n",
              "       [ 0.354,  0.354,  0.354,  0.   ,  0.5  , -0.354,  0.354, -0.354],\n",
              "       [ 0.354,  0.   ,  0.5  , -0.5  ,  0.   , -0.   , -0.5  ,  0.354],\n",
              "       [ 0.354, -0.354,  0.354, -0.   , -0.5  ,  0.354,  0.354, -0.354],\n",
              "       [ 0.354, -0.5  ,  0.   ,  0.5  , -0.   , -0.5  ,  0.   ,  0.354],\n",
              "       [ 0.354, -0.354, -0.354,  0.   ,  0.5  ,  0.354, -0.354, -0.354],\n",
              "       [ 0.354, -0.   , -0.5  , -0.5  ,  0.   ,  0.   ,  0.5  ,  0.354],\n",
              "       [ 0.354,  0.354, -0.354, -0.   , -0.5  , -0.354, -0.354, -0.354]])"
            ]
          },
          "metadata": {},
          "execution_count": 28
        }
      ],
      "source": [
        "rho.change_of_basis"
      ]
    },
    {
      "cell_type": "code",
      "execution_count": null,
      "metadata": {
        "id": "aC8_wK4TcQLl",
        "colab": {
          "base_uri": "https://localhost:8080/"
        },
        "outputId": "56a648a4-0c5e-4958-cfa2-a30cb8a68eca"
      },
      "outputs": [
        {
          "output_type": "execute_result",
          "data": {
            "text/plain": [
              "array([[-0.,  1.],\n",
              "       [-1., -0.]])"
            ]
          },
          "metadata": {},
          "execution_count": 29
        }
      ],
      "source": [
        "# let's access second irrep\n",
        "rho_id = rho.irreps[1]\n",
        "rho_1 = G.irrep(*rho_id)\n",
        "\n",
        "# we verify it is the irrep j=1 we described before\n",
        "rho_1(g)"
      ]
    },
    {
      "cell_type": "markdown",
      "metadata": {
        "id": "iajjFdqhid9U"
      },
      "source": [
        "Finally, let's verify that this direct sum and this change of basis indeed yield the regular representation"
      ]
    },
    {
      "cell_type": "code",
      "execution_count": null,
      "metadata": {
        "id": "VOfg1c1DitSg",
        "colab": {
          "base_uri": "https://localhost:8080/"
        },
        "outputId": "cceecf2f-a8fe-47c9-ee2f-781860b8b11c"
      },
      "outputs": [
        {
          "output_type": "stream",
          "name": "stdout",
          "text": [
            "Regular representation of 6[2pi/8]\n",
            "[[ 0. -0.  1.  0. -0.  0.  0.  0.]\n",
            " [-0.  0. -0.  1.  0. -0. -0. -0.]\n",
            " [ 0. -0.  0. -0.  1.  0. -0. -0.]\n",
            " [-0. -0. -0.  0. -0.  1.  0.  0.]\n",
            " [-0. -0.  0. -0.  0. -0.  1.  0.]\n",
            " [-0.  0. -0. -0.  0.  0. -0.  1.]\n",
            " [ 1.  0. -0. -0.  0. -0.  0. -0.]\n",
            " [-0.  1.  0. -0.  0. -0. -0.  0.]]\n",
            "\n",
            "Direct sum of the irreps:\n",
            "[[ 1.  0.  0.  0.  0.  0.  0.  0.]\n",
            " [ 0. -0.  1.  0.  0.  0.  0.  0.]\n",
            " [ 0. -1. -0.  0.  0.  0.  0.  0.]\n",
            " [ 0.  0.  0. -1. -0.  0.  0.  0.]\n",
            " [ 0.  0.  0.  0. -1.  0.  0.  0.]\n",
            " [ 0.  0.  0.  0.  0.  0. -1.  0.]\n",
            " [ 0.  0.  0.  0.  0.  1.  0.  0.]\n",
            " [ 0.  0.  0.  0.  0.  0.  0.  1.]]\n",
            "\n",
            "Apply the change of basis on the direct sum of the irreps:\n",
            "[[ 0. -0.  1.  0. -0.  0.  0.  0.]\n",
            " [-0.  0. -0.  1.  0. -0. -0. -0.]\n",
            " [ 0. -0.  0. -0.  1.  0. -0. -0.]\n",
            " [-0. -0. -0.  0. -0.  1.  0.  0.]\n",
            " [-0. -0.  0. -0.  0. -0.  1.  0.]\n",
            " [-0.  0. -0. -0.  0.  0. -0.  1.]\n",
            " [ 1.  0. -0. -0.  0. -0.  0. -0.]\n",
            " [-0.  1.  0. -0.  0. -0. -0.  0.]]\n",
            "\n",
            "Are the two representations equal? True\n"
          ]
        }
      ],
      "source": [
        "\n",
        "# evaluate all the irreps in rho.irreps:\n",
        "irreps = [\n",
        "          G.irrep(*irrep)(g) for irrep in rho.irreps\n",
        "]\n",
        "\n",
        "# build the direct sum\n",
        "direct_sum = np.asarray(scipy.sparse.block_diag(irreps, format='csc').todense())\n",
        "\n",
        "print('Regular representation of', g)\n",
        "print(rho(g))\n",
        "print()\n",
        "print('Direct sum of the irreps:')\n",
        "print(direct_sum)\n",
        "print()\n",
        "print('Apply the change of basis on the direct sum of the irreps:')\n",
        "print(rho.change_of_basis @ direct_sum @ rho.change_of_basis_inv)\n",
        "print()\n",
        "print('Are the two representations equal?', np.allclose(rho(g), rho.change_of_basis @ direct_sum @ rho.change_of_basis_inv))\n"
      ]
    },
    {
      "cell_type": "markdown",
      "metadata": {
        "id": "Xn2amCSQcQLl"
      },
      "source": [
        "### 1.2 Fourier Transform\n",
        "\n",
        "Now, let's delve into the harmonic analysis of functions over a group. $G$.\n",
        "\n",
        "It's important to note that a representation  $\\rho: G \\to \\mathbb{R}^{d \\times d}$ can be perceived as an assemblage of  $d^2$ functions over the group $G$, one for each matrix entry of $\\rho$.\n",
        "The **Peter-Weyl theorem** asserts that the assortment of functions in the matrix entries of all irreps $\\hat{G}$ of a group $G$  forms a basis for the space of all (square-integrable) functions over the group $G$.\n",
        "\n",
        "This theorem provides a means to parameterize functions over the group, a focal point of this section. Notably, this approach is valuable for parameterizing functions over groups with an infinite number of elements."
      ]
    },
    {
      "cell_type": "markdown",
      "metadata": {
        "id": "7l0487w2cQLl"
      },
      "source": [
        "We will first look at the *dihedral group* $D_8$ as example.\n",
        "This is the group containing the $8$ planar rotations by angles multiple of $\\frac{2\\pi}{8}$ and *reflection* along the $X$ axis.\n",
        "The group contains in total $16$ elements ($8$ normal rotations and $8$ rotations preceeded by the reflection)."
      ]
    },
    {
      "cell_type": "code",
      "execution_count": null,
      "metadata": {
        "id": "M7FGPHzFcQLl",
        "colab": {
          "base_uri": "https://localhost:8080/"
        },
        "outputId": "43f5ae58-2028-4cbf-a247-ac040d20c9e3"
      },
      "outputs": [
        {
          "output_type": "execute_result",
          "data": {
            "text/plain": [
              "16"
            ]
          },
          "metadata": {},
          "execution_count": 31
        }
      ],
      "source": [
        "G = dihedral_group(8)\n",
        "G.order()"
      ]
    },
    {
      "cell_type": "code",
      "execution_count": null,
      "metadata": {
        "id": "_P1zJdo7cQLm",
        "colab": {
          "base_uri": "https://localhost:8080/"
        },
        "outputId": "a58cc34f-6fae-409a-c727-8482fe3d82c9"
      },
      "outputs": [
        {
          "output_type": "execute_result",
          "data": {
            "text/plain": [
              "(-, 0[2pi/8])"
            ]
          },
          "metadata": {},
          "execution_count": 32
        }
      ],
      "source": [
        "# element representing the reflection (-) and no rotations\n",
        "G.reflection"
      ]
    },
    {
      "cell_type": "code",
      "execution_count": null,
      "metadata": {
        "id": "VM64mjrYcQLm",
        "colab": {
          "base_uri": "https://localhost:8080/"
        },
        "outputId": "6d506f17-c8a4-47b3-85a6-dc23f970ce9f"
      },
      "outputs": [
        {
          "output_type": "execute_result",
          "data": {
            "text/plain": [
              "(+, 2[2pi/8])"
            ]
          },
          "metadata": {},
          "execution_count": 33
        }
      ],
      "source": [
        "# element representing a rotation by pi/2 (i.e. 2 * 2pi/8) and no reflections (+)\n",
        "G.element((0, 2))"
      ]
    },
    {
      "cell_type": "code",
      "execution_count": null,
      "metadata": {
        "id": "wSPPV8xqcQLm",
        "colab": {
          "base_uri": "https://localhost:8080/"
        },
        "outputId": "16d7fcc2-2f03-42e2-8494-e66d4079f893"
      },
      "outputs": [
        {
          "output_type": "stream",
          "name": "stdout",
          "text": [
            "(-, 2[2pi/8])\n",
            "(-, 2[2pi/8])\n"
          ]
        }
      ],
      "source": [
        "# reflection followed by a rotation by pi/2\n",
        "print(G.element((0, 2)) @ G.reflection)\n",
        "\n",
        "# we can also directly generate this element as\n",
        "print(G.element((1, 2)))"
      ]
    },
    {
      "cell_type": "code",
      "execution_count": null,
      "metadata": {
        "id": "yhXuYmCVcQLm",
        "colab": {
          "base_uri": "https://localhost:8080/"
        },
        "outputId": "d1cc46ae-625c-4a38-d650-c54ba9aab0fe"
      },
      "outputs": [
        {
          "output_type": "execute_result",
          "data": {
            "text/plain": [
              "(-, 6[2pi/8])"
            ]
          },
          "metadata": {},
          "execution_count": 35
        }
      ],
      "source": [
        "# a rotation by pi/2 followed by a reflection is equivalent to a reclection followed by a rotation by 6*2pi/8\n",
        "G.reflection @ G.element((0, 2))"
      ]
    },
    {
      "cell_type": "markdown",
      "metadata": {
        "id": "TS-i3cMCcQLm"
      },
      "source": [
        "The list of all elements in the group is obtaied as:"
      ]
    },
    {
      "cell_type": "code",
      "execution_count": null,
      "metadata": {
        "id": "pN2RwwF8cQLm",
        "colab": {
          "base_uri": "https://localhost:8080/"
        },
        "outputId": "cae1850f-8829-472e-a682-0487c4c49549"
      },
      "outputs": [
        {
          "output_type": "execute_result",
          "data": {
            "text/plain": [
              "[(+, 0[2pi/8]),\n",
              " (+, 1[2pi/8]),\n",
              " (+, 2[2pi/8]),\n",
              " (+, 3[2pi/8]),\n",
              " (+, 4[2pi/8]),\n",
              " (+, 5[2pi/8]),\n",
              " (+, 6[2pi/8]),\n",
              " (+, 7[2pi/8]),\n",
              " (-, 0[2pi/8]),\n",
              " (-, 1[2pi/8]),\n",
              " (-, 2[2pi/8]),\n",
              " (-, 3[2pi/8]),\n",
              " (-, 4[2pi/8]),\n",
              " (-, 5[2pi/8]),\n",
              " (-, 6[2pi/8]),\n",
              " (-, 7[2pi/8])]"
            ]
          },
          "metadata": {},
          "execution_count": 36
        }
      ],
      "source": [
        "G.elements"
      ]
    },
    {
      "cell_type": "markdown",
      "metadata": {
        "id": "wteIYcqQcQLn"
      },
      "source": [
        "#### Fourier and Inverse Fourier Transform\n",
        "\n",
        "Usually the irreps constitute a basis for the space of functions, meaning that these functions are mutually orthogonal.\n",
        "We can thus write a function $f: G \\to \\mathbb{R}$ as\n",
        "$$ f(g) = \\sum_{\\rho_j \\in \\hat{G}} \\sum_{m,n < d_j} w_{j,m,n} \\cdot \\sqrt{d_j} [\\rho_j(g)]_{mn}$$\n",
        "\n",
        "where $d_j$ is the dimension of the irrep $\\rho_j$, while $m, n$ index the $d_j^2$ entries of $\\rho_j$.\n",
        "The coefficients $\\{ w_{j, m, n} \\in \\mathbb{R} \\}_{j, m, n}$ parameterize the function $f$ on this basis.\n",
        "The $\\sqrt{d_j}$ is a scalar factor to ensure normalization of the basis.\n",
        "\n",
        "We can refine this expression by considering the following fact.\n",
        "If $A, B \\in \\mathbb{R}^{d \\times d}$, then\n",
        "$$\\text{Tr}(A^T B) = \\sum_{m, n < d} A_{mn} B_{mn} \\in \\mathbb{R} \\ .$$\n",
        "\n",
        "By definining $\\hat{f}(\\rho_j) \\in \\mathbb{R}^{d_j \\times d_j}$ as the matrix containing the $d_j^2$ coefficients $\\{ w_{j, m, n} \\in \\mathbb{R} \\}_{m, n < d_j}$, we can write the **Inverse Fourier Transform** as:\n",
        "$$ f(g) = \\sum_{\\rho_j \\in \\hat{G}} \\sqrt{d_j} \\text{Tr}\\left(\\rho_j(g)^T \\hat{f}(\\rho_j)\\right) $$\n",
        "\n",
        "Similarly, we can project a function $f: G \\to \\mathbb{R}$ on an element $\\rho_{j,m,n}: G \\to \\mathbb{R}$ of the basis by writing:\n",
        "$$ w_{j,m,n} = \\frac{1}{|G|} \\sum_{g \\in G} f(g) \\sqrt{d_j} [\\rho_j(g)]_{m, n} \\ . $$\n",
        "\n",
        "The projection over all entries of $\\rho_j$ can be expressed in a more compact way as follows:\n",
        "$$ \\hat{f}(\\rho_j) = \\frac{1}{|G|} \\sum_{g \\in G} f(g) \\sqrt{d_j} \\rho_j(g) \\ . $$\n",
        "\n",
        "which we refer to as **Fourier Transform**.\n",
        "\n",
        "If $G$ is *infinite*, we instead take an *integral* over the group elements:\n",
        "$$ \\hat{f}(\\rho_j) = \\int_G f(g) \\sqrt{d_j} \\rho_j(g) dg \\ , $$"
      ]
    },
    {
      "cell_type": "markdown",
      "metadata": {
        "id": "9SGtT8HqcQLn"
      },
      "source": [
        "For a finite group $G$, we can access all its irreps by using the ``Group.irreps()`` method.\n",
        "Let's see an example:"
      ]
    },
    {
      "cell_type": "code",
      "execution_count": null,
      "metadata": {
        "id": "UX1j_wiMcQLn",
        "colab": {
          "base_uri": "https://localhost:8080/"
        },
        "outputId": "93675926-7e02-45fe-9f3d-f4f5fc7a1d1f"
      },
      "outputs": [
        {
          "output_type": "stream",
          "name": "stdout",
          "text": [
            "The dihedral group D8 has 7 irreps\n"
          ]
        }
      ],
      "source": [
        "irreps = G.irreps()\n",
        "print(f'The dihedral group D8 has {len(irreps)} irreps')"
      ]
    },
    {
      "cell_type": "code",
      "execution_count": null,
      "metadata": {
        "id": "U-DtyU37cQLn",
        "colab": {
          "base_uri": "https://localhost:8080/"
        },
        "outputId": "e4bb5659-2d8c-4397-a1a4-9f010607bc83"
      },
      "outputs": [
        {
          "output_type": "stream",
          "name": "stdout",
          "text": [
            "True\n"
          ]
        }
      ],
      "source": [
        "# the first one, is the 1-dimensional trivial representation\n",
        "print(irreps[0] == G.trivial_representation == G.irrep(0, 0))"
      ]
    },
    {
      "cell_type": "markdown",
      "metadata": {
        "id": "QvTWLjOPcQLn"
      },
      "source": [
        "---\n",
        "\n",
        "#### <font color='red'>**YOUR CODE HERE:** </font>\n",
        "Now, we can apply the Fourier Transform and the Inverse Fourier Transform to the Dihedral Group $D_8$. Implement the specified methods using the provided equations:\n",
        "\n",
        "---"
      ]
    },
    {
      "cell_type": "code",
      "execution_count": null,
      "metadata": {
        "id": "qk-8qCYqcQLn"
      },
      "outputs": [],
      "source": [
        "def fourier_transform_D8(f: np.array):\n",
        "    # the method gets in input a function on the elements of D_8\n",
        "    # and should return a dictionary mapping each irrep's `id` to the corresponding Fourier Transform\n",
        "    # The i-th element of `f` stores the value of the function on the group element `G.elements[i]`\n",
        "\n",
        "    G = dihedral_group(8)\n",
        "    assert f.shape == (16,), f.shape\n",
        "    ft = {}\n",
        "\n",
        "    ########################\n",
        "    # INSERT YOUR CODE HERE:\n",
        "\n",
        "    for rho in G.irreps():\n",
        "        d = rho.size\n",
        "\n",
        "        rho_g = np.stack([rho(g) for g in G.elements], axis=0)\n",
        "\n",
        "        ft[rho.id] = (f.reshape(-1, 1, 1) * rho_g).mean(0) * np.sqrt(d)\n",
        "\n",
        "    ########################\n",
        "\n",
        "    return ft"
      ]
    },
    {
      "cell_type": "code",
      "execution_count": null,
      "metadata": {
        "id": "MZgP2GEHcQLo"
      },
      "outputs": [],
      "source": [
        "def inverse_fourier_transform_D8(ft: dict):\n",
        "    # the method gets in input a dictionary mapping each irrep's `id` to the corresponding Fourier Transform\n",
        "    # and should return the function `f` on the elements of D_8\n",
        "    # The i-th element of `f` stores the value of the function on the group element `G.elements[i]`\n",
        "\n",
        "    G = dihedral_group(8)\n",
        "    f = np.zeros(16)\n",
        "\n",
        "    ########################\n",
        "    # INSERT YOUR CODE HERE:\n",
        "    for rho in G.irreps():\n",
        "        d = rho.size\n",
        "        for i, g in enumerate(G.elements):\n",
        "            f[i] += np.sqrt(d) * (ft[rho.id] * rho(g)).sum()\n",
        "    ########################\n",
        "\n",
        "    return f"
      ]
    },
    {
      "cell_type": "markdown",
      "metadata": {
        "id": "R3E0QDIOcQLo"
      },
      "source": [
        "We now want to verify that the **Fourier Transform** and the **Inverse Fourier Transform** are inverse of each other:"
      ]
    },
    {
      "cell_type": "code",
      "execution_count": null,
      "metadata": {
        "id": "OF6A_JzwcQLo"
      },
      "outputs": [],
      "source": [
        "f = np.random.randn(16)\n",
        "\n",
        "ft = fourier_transform_D8(f)\n",
        "\n",
        "new_f = inverse_fourier_transform_D8(ft)\n",
        "\n",
        "assert np.allclose(f, new_f)"
      ]
    },
    {
      "cell_type": "markdown",
      "metadata": {
        "id": "K5Dyf0j9cQLo"
      },
      "source": [
        "#### Parameterizing functions over infinite groups\n",
        "This allows us to also parameterize functions over infinite groups, such as $O(2)$, i.e. the group of all planar rotations and reflections."
      ]
    },
    {
      "cell_type": "code",
      "execution_count": null,
      "metadata": {
        "id": "I9ezRrM0cQLo"
      },
      "outputs": [],
      "source": [
        "G = o2_group()"
      ]
    },
    {
      "cell_type": "code",
      "execution_count": null,
      "metadata": {
        "id": "a_VzVXqUcQLo",
        "colab": {
          "base_uri": "https://localhost:8080/"
        },
        "outputId": "4c3ff74c-c3a2-4241-d2e6-e3769a253540"
      },
      "outputs": [
        {
          "output_type": "execute_result",
          "data": {
            "text/plain": [
              "-1"
            ]
          },
          "metadata": {},
          "execution_count": 46
        }
      ],
      "source": [
        "# the group has infinite many elements, so the `order` method just returns -1\n",
        "G.order()"
      ]
    },
    {
      "cell_type": "markdown",
      "metadata": {
        "id": "0to6C36EcQLp"
      },
      "source": [
        "The equations remain the same, but this group has an *infinite* number of *irreps*.\n",
        "We can, however, parameterize a function over the group by only considering a finite number of irreps in the sum inside the definition of *Inverse Fourier Transform*.\n",
        "Let $\\tilde{G} \\subset \\hat{G}$ be a finite subset of the irreps of $G$.\n",
        "We can then write the following transforms within the subspace of functions spanned only by the entries of the irreps in $\\tilde{G}$.\n",
        "\n",
        "**Inverse Fourier Transform**:\n",
        "$$ f(g) = \\sum_{\\rho_j \\in \\tilde{G}} \\sqrt{d_j} \\text{Tr}\\left(\\rho_j(g)^T \\hat{f}(\\rho_j)\\right) $$\n",
        "\n",
        "and **Fourier Transform**:\n",
        "$$ \\hat{f}(\\rho_j) = \\int_G f(g) \\sqrt{d_j} \\rho_j(g) dg \\ , $$\n"
      ]
    },
    {
      "cell_type": "markdown",
      "metadata": {
        "id": "ysGoKX7rcQLp"
      },
      "source": [
        "---\n",
        "\n",
        "#### <font color='red'>**YOUR CODE HERE:** </font>\n",
        "Now, let's proceed with implementing the Inverse Fourier Transform for the Orthogonal Group $O(2)$. As the group contains infinitely many elements, it's impractical to store values for each element. Instead, we'll sample the function on a specific element of the group.\n",
        "\n",
        "---"
      ]
    },
    {
      "cell_type": "code",
      "execution_count": null,
      "metadata": {
        "id": "xlca8Xv8cQLp"
      },
      "outputs": [],
      "source": [
        "def inverse_fourier_transform_O2(g: GroupElement, ft: dict):\n",
        "    # the method gets in input a dictionary mapping each irrep's `id` to the corresponding Fourier Transform\n",
        "    # and a group element `g`\n",
        "    # The method should return the value of the function evaluated on `g`.\n",
        "\n",
        "    G = o2_group()\n",
        "    f = 0\n",
        "\n",
        "    ########################\n",
        "    # INSERT YOUR CODE HERE:\n",
        "    for rho, ft_rho in ft.items():\n",
        "        rho = G.irrep(*rho)\n",
        "        d = rho.size\n",
        "        f += np.sqrt(d) * (ft_rho * rho(g)).sum()\n",
        "    ########################\n",
        "\n",
        "    return f"
      ]
    },
    {
      "cell_type": "markdown",
      "metadata": {
        "id": "U0JPQeYXcQLp"
      },
      "source": [
        "Let's plot a function.\n",
        "First we generate a random function by using a few irreps."
      ]
    },
    {
      "cell_type": "code",
      "execution_count": null,
      "metadata": {
        "id": "l8HxIbnDcQLp"
      },
      "outputs": [],
      "source": [
        "irreps = [G.irrep(0, 0)] + [G.irrep(1, j) for j in range(3)]\n",
        "\n",
        "ft = {\n",
        "    rho.id: np.random.randn(rho.size, rho.size)\n",
        "    for rho in irreps\n",
        "}"
      ]
    },
    {
      "cell_type": "markdown",
      "metadata": {
        "id": "uX-v7YNJcQLp"
      },
      "source": [
        "Next, we create a grid on the group to assess the function, selecting a finite set of elements from $G$. Similar to the Dihedral group, $O(2)$ encompasses rotations (characterized by an angle $\\theta \\in [0, 2\\pi)$) and a reflection followed by any rotation. For instance:"
      ]
    },
    {
      "cell_type": "code",
      "execution_count": null,
      "metadata": {
        "id": "KFhO6jYecQLq",
        "colab": {
          "base_uri": "https://localhost:8080/"
        },
        "outputId": "ed8c83c7-a58f-4dc3-d6ed-56850d5b08db"
      },
      "outputs": [
        {
          "output_type": "execute_result",
          "data": {
            "text/plain": [
              "(-, 5.931563479576142)"
            ]
          },
          "metadata": {},
          "execution_count": 50
        }
      ],
      "source": [
        "G.sample()"
      ]
    },
    {
      "cell_type": "markdown",
      "metadata": {
        "id": "wGREVzLKcQLq"
      },
      "source": [
        "To build our grid, we sample $100$ rotations and $100$ rotations preceeded by a reflection:"
      ]
    },
    {
      "cell_type": "code",
      "execution_count": null,
      "metadata": {
        "id": "xIcA1mfAcQLq"
      },
      "outputs": [],
      "source": [
        "N = 100\n",
        "thetas = [i*2*np.pi/N for i in range(N)]\n",
        "grid_rot = [G.element((0, theta)) for theta in thetas]\n",
        "grid_refl = [G.element((1, theta)) for theta in thetas]"
      ]
    },
    {
      "cell_type": "markdown",
      "metadata": {
        "id": "DCCVddnocQLq"
      },
      "source": [
        "We now evaluate the function over all these elements and, finally, plot it:"
      ]
    },
    {
      "cell_type": "code",
      "execution_count": null,
      "metadata": {
        "id": "ZsDDkSKOcQLq",
        "colab": {
          "base_uri": "https://localhost:8080/",
          "height": 440
        },
        "outputId": "f97d9ce3-970d-4f1a-9e7b-c9f71961398a"
      },
      "outputs": [
        {
          "output_type": "display_data",
          "data": {
            "text/plain": [
              "<Figure size 640x480 with 1 Axes>"
            ],
            "image/svg+xml": "<?xml version=\"1.0\" encoding=\"utf-8\" standalone=\"no\"?>\n<!DOCTYPE svg PUBLIC \"-//W3C//DTD SVG 1.1//EN\"\n  \"http://www.w3.org/Graphics/SVG/1.1/DTD/svg11.dtd\">\n<svg xmlns:xlink=\"http://www.w3.org/1999/xlink\" width=\"406.940312pt\" height=\"314.386929pt\" viewBox=\"0 0 406.940312 314.386929\" xmlns=\"http://www.w3.org/2000/svg\" version=\"1.1\">\n <metadata>\n  <rdf:RDF xmlns:dc=\"http://purl.org/dc/elements/1.1/\" xmlns:cc=\"http://creativecommons.org/ns#\" xmlns:rdf=\"http://www.w3.org/1999/02/22-rdf-syntax-ns#\">\n   <cc:Work>\n    <dc:type rdf:resource=\"http://purl.org/dc/dcmitype/StillImage\"/>\n    <dc:date>2023-11-27T19:28:49.469767</dc:date>\n    <dc:format>image/svg+xml</dc:format>\n    <dc:creator>\n     <cc:Agent>\n      <dc:title>Matplotlib v3.7.1, https://matplotlib.org/</dc:title>\n     </cc:Agent>\n    </dc:creator>\n   </cc:Work>\n  </rdf:RDF>\n </metadata>\n <defs>\n  <style type=\"text/css\">*{stroke-linejoin: round; stroke-linecap: butt}</style>\n </defs>\n <g id=\"figure_1\">\n  <g id=\"patch_1\">\n   <path d=\"M 0 314.386929 \nL 406.940312 314.386929 \nL 406.940312 0 \nL 0 0 \nz\n\" style=\"fill: #ffffff\"/>\n  </g>\n  <g id=\"axes_1\">\n   <g id=\"patch_2\">\n    <path d=\"M 42.620313 276.830679 \nL 399.740313 276.830679 \nL 399.740313 10.718679 \nL 42.620313 10.718679 \nz\n\" style=\"fill: #ffffff\"/>\n   </g>\n   <g id=\"matplotlib.axis_1\">\n    <g id=\"xtick_1\">\n     <g id=\"line2d_1\">\n      <defs>\n       <path id=\"medb714385c\" d=\"M 0 0 \nL 0 3.5 \n\" style=\"stroke: #000000; stroke-width: 0.8\"/>\n      </defs>\n      <g>\n       <use xlink:href=\"#medb714385c\" x=\"58.85304\" y=\"276.830679\" style=\"stroke: #000000; stroke-width: 0.8\"/>\n      </g>\n     </g>\n     <g id=\"text_1\">\n      <!-- 0 -->\n      <g transform=\"translate(55.67179 291.429117) scale(0.1 -0.1)\">\n       <defs>\n        <path id=\"DejaVuSans-30\" d=\"M 2034 4250 \nQ 1547 4250 1301 3770 \nQ 1056 3291 1056 2328 \nQ 1056 1369 1301 889 \nQ 1547 409 2034 409 \nQ 2525 409 2770 889 \nQ 3016 1369 3016 2328 \nQ 3016 3291 2770 3770 \nQ 2525 4250 2034 4250 \nz\nM 2034 4750 \nQ 2819 4750 3233 4129 \nQ 3647 3509 3647 2328 \nQ 3647 1150 3233 529 \nQ 2819 -91 2034 -91 \nQ 1250 -91 836 529 \nQ 422 1150 422 2328 \nQ 422 3509 836 4129 \nQ 1250 4750 2034 4750 \nz\n\" transform=\"scale(0.015625)\"/>\n       </defs>\n       <use xlink:href=\"#DejaVuSans-30\"/>\n      </g>\n     </g>\n    </g>\n    <g id=\"xtick_2\">\n     <g id=\"line2d_2\">\n      <g>\n       <use xlink:href=\"#medb714385c\" x=\"111.045338\" y=\"276.830679\" style=\"stroke: #000000; stroke-width: 0.8\"/>\n      </g>\n     </g>\n     <g id=\"text_2\">\n      <!-- 1 -->\n      <g transform=\"translate(107.864088 291.429117) scale(0.1 -0.1)\">\n       <defs>\n        <path id=\"DejaVuSans-31\" d=\"M 794 531 \nL 1825 531 \nL 1825 4091 \nL 703 3866 \nL 703 4441 \nL 1819 4666 \nL 2450 4666 \nL 2450 531 \nL 3481 531 \nL 3481 0 \nL 794 0 \nL 794 531 \nz\n\" transform=\"scale(0.015625)\"/>\n       </defs>\n       <use xlink:href=\"#DejaVuSans-31\"/>\n      </g>\n     </g>\n    </g>\n    <g id=\"xtick_3\">\n     <g id=\"line2d_3\">\n      <g>\n       <use xlink:href=\"#medb714385c\" x=\"163.237637\" y=\"276.830679\" style=\"stroke: #000000; stroke-width: 0.8\"/>\n      </g>\n     </g>\n     <g id=\"text_3\">\n      <!-- 2 -->\n      <g transform=\"translate(160.056387 291.429117) scale(0.1 -0.1)\">\n       <defs>\n        <path id=\"DejaVuSans-32\" d=\"M 1228 531 \nL 3431 531 \nL 3431 0 \nL 469 0 \nL 469 531 \nQ 828 903 1448 1529 \nQ 2069 2156 2228 2338 \nQ 2531 2678 2651 2914 \nQ 2772 3150 2772 3378 \nQ 2772 3750 2511 3984 \nQ 2250 4219 1831 4219 \nQ 1534 4219 1204 4116 \nQ 875 4013 500 3803 \nL 500 4441 \nQ 881 4594 1212 4672 \nQ 1544 4750 1819 4750 \nQ 2544 4750 2975 4387 \nQ 3406 4025 3406 3419 \nQ 3406 3131 3298 2873 \nQ 3191 2616 2906 2266 \nQ 2828 2175 2409 1742 \nQ 1991 1309 1228 531 \nz\n\" transform=\"scale(0.015625)\"/>\n       </defs>\n       <use xlink:href=\"#DejaVuSans-32\"/>\n      </g>\n     </g>\n    </g>\n    <g id=\"xtick_4\">\n     <g id=\"line2d_4\">\n      <g>\n       <use xlink:href=\"#medb714385c\" x=\"215.429936\" y=\"276.830679\" style=\"stroke: #000000; stroke-width: 0.8\"/>\n      </g>\n     </g>\n     <g id=\"text_4\">\n      <!-- 3 -->\n      <g transform=\"translate(212.248686 291.429117) scale(0.1 -0.1)\">\n       <defs>\n        <path id=\"DejaVuSans-33\" d=\"M 2597 2516 \nQ 3050 2419 3304 2112 \nQ 3559 1806 3559 1356 \nQ 3559 666 3084 287 \nQ 2609 -91 1734 -91 \nQ 1441 -91 1130 -33 \nQ 819 25 488 141 \nL 488 750 \nQ 750 597 1062 519 \nQ 1375 441 1716 441 \nQ 2309 441 2620 675 \nQ 2931 909 2931 1356 \nQ 2931 1769 2642 2001 \nQ 2353 2234 1838 2234 \nL 1294 2234 \nL 1294 2753 \nL 1863 2753 \nQ 2328 2753 2575 2939 \nQ 2822 3125 2822 3475 \nQ 2822 3834 2567 4026 \nQ 2313 4219 1838 4219 \nQ 1578 4219 1281 4162 \nQ 984 4106 628 3988 \nL 628 4550 \nQ 988 4650 1302 4700 \nQ 1616 4750 1894 4750 \nQ 2613 4750 3031 4423 \nQ 3450 4097 3450 3541 \nQ 3450 3153 3228 2886 \nQ 3006 2619 2597 2516 \nz\n\" transform=\"scale(0.015625)\"/>\n       </defs>\n       <use xlink:href=\"#DejaVuSans-33\"/>\n      </g>\n     </g>\n    </g>\n    <g id=\"xtick_5\">\n     <g id=\"line2d_5\">\n      <g>\n       <use xlink:href=\"#medb714385c\" x=\"267.622235\" y=\"276.830679\" style=\"stroke: #000000; stroke-width: 0.8\"/>\n      </g>\n     </g>\n     <g id=\"text_5\">\n      <!-- 4 -->\n      <g transform=\"translate(264.440985 291.429117) scale(0.1 -0.1)\">\n       <defs>\n        <path id=\"DejaVuSans-34\" d=\"M 2419 4116 \nL 825 1625 \nL 2419 1625 \nL 2419 4116 \nz\nM 2253 4666 \nL 3047 4666 \nL 3047 1625 \nL 3713 1625 \nL 3713 1100 \nL 3047 1100 \nL 3047 0 \nL 2419 0 \nL 2419 1100 \nL 313 1100 \nL 313 1709 \nL 2253 4666 \nz\n\" transform=\"scale(0.015625)\"/>\n       </defs>\n       <use xlink:href=\"#DejaVuSans-34\"/>\n      </g>\n     </g>\n    </g>\n    <g id=\"xtick_6\">\n     <g id=\"line2d_6\">\n      <g>\n       <use xlink:href=\"#medb714385c\" x=\"319.814533\" y=\"276.830679\" style=\"stroke: #000000; stroke-width: 0.8\"/>\n      </g>\n     </g>\n     <g id=\"text_6\">\n      <!-- 5 -->\n      <g transform=\"translate(316.633283 291.429117) scale(0.1 -0.1)\">\n       <defs>\n        <path id=\"DejaVuSans-35\" d=\"M 691 4666 \nL 3169 4666 \nL 3169 4134 \nL 1269 4134 \nL 1269 2991 \nQ 1406 3038 1543 3061 \nQ 1681 3084 1819 3084 \nQ 2600 3084 3056 2656 \nQ 3513 2228 3513 1497 \nQ 3513 744 3044 326 \nQ 2575 -91 1722 -91 \nQ 1428 -91 1123 -41 \nQ 819 9 494 109 \nL 494 744 \nQ 775 591 1075 516 \nQ 1375 441 1709 441 \nQ 2250 441 2565 725 \nQ 2881 1009 2881 1497 \nQ 2881 1984 2565 2268 \nQ 2250 2553 1709 2553 \nQ 1456 2553 1204 2497 \nQ 953 2441 691 2322 \nL 691 4666 \nz\n\" transform=\"scale(0.015625)\"/>\n       </defs>\n       <use xlink:href=\"#DejaVuSans-35\"/>\n      </g>\n     </g>\n    </g>\n    <g id=\"xtick_7\">\n     <g id=\"line2d_7\">\n      <g>\n       <use xlink:href=\"#medb714385c\" x=\"372.006832\" y=\"276.830679\" style=\"stroke: #000000; stroke-width: 0.8\"/>\n      </g>\n     </g>\n     <g id=\"text_7\">\n      <!-- 6 -->\n      <g transform=\"translate(368.825582 291.429117) scale(0.1 -0.1)\">\n       <defs>\n        <path id=\"DejaVuSans-36\" d=\"M 2113 2584 \nQ 1688 2584 1439 2293 \nQ 1191 2003 1191 1497 \nQ 1191 994 1439 701 \nQ 1688 409 2113 409 \nQ 2538 409 2786 701 \nQ 3034 994 3034 1497 \nQ 3034 2003 2786 2293 \nQ 2538 2584 2113 2584 \nz\nM 3366 4563 \nL 3366 3988 \nQ 3128 4100 2886 4159 \nQ 2644 4219 2406 4219 \nQ 1781 4219 1451 3797 \nQ 1122 3375 1075 2522 \nQ 1259 2794 1537 2939 \nQ 1816 3084 2150 3084 \nQ 2853 3084 3261 2657 \nQ 3669 2231 3669 1497 \nQ 3669 778 3244 343 \nQ 2819 -91 2113 -91 \nQ 1303 -91 875 529 \nQ 447 1150 447 2328 \nQ 447 3434 972 4092 \nQ 1497 4750 2381 4750 \nQ 2619 4750 2861 4703 \nQ 3103 4656 3366 4563 \nz\n\" transform=\"scale(0.015625)\"/>\n       </defs>\n       <use xlink:href=\"#DejaVuSans-36\"/>\n      </g>\n     </g>\n    </g>\n    <g id=\"text_8\">\n     <!-- theta [0, 2pi) -->\n     <g transform=\"translate(188.356094 305.107242) scale(0.1 -0.1)\">\n      <defs>\n       <path id=\"DejaVuSans-74\" d=\"M 1172 4494 \nL 1172 3500 \nL 2356 3500 \nL 2356 3053 \nL 1172 3053 \nL 1172 1153 \nQ 1172 725 1289 603 \nQ 1406 481 1766 481 \nL 2356 481 \nL 2356 0 \nL 1766 0 \nQ 1100 0 847 248 \nQ 594 497 594 1153 \nL 594 3053 \nL 172 3053 \nL 172 3500 \nL 594 3500 \nL 594 4494 \nL 1172 4494 \nz\n\" transform=\"scale(0.015625)\"/>\n       <path id=\"DejaVuSans-68\" d=\"M 3513 2113 \nL 3513 0 \nL 2938 0 \nL 2938 2094 \nQ 2938 2591 2744 2837 \nQ 2550 3084 2163 3084 \nQ 1697 3084 1428 2787 \nQ 1159 2491 1159 1978 \nL 1159 0 \nL 581 0 \nL 581 4863 \nL 1159 4863 \nL 1159 2956 \nQ 1366 3272 1645 3428 \nQ 1925 3584 2291 3584 \nQ 2894 3584 3203 3211 \nQ 3513 2838 3513 2113 \nz\n\" transform=\"scale(0.015625)\"/>\n       <path id=\"DejaVuSans-65\" d=\"M 3597 1894 \nL 3597 1613 \nL 953 1613 \nQ 991 1019 1311 708 \nQ 1631 397 2203 397 \nQ 2534 397 2845 478 \nQ 3156 559 3463 722 \nL 3463 178 \nQ 3153 47 2828 -22 \nQ 2503 -91 2169 -91 \nQ 1331 -91 842 396 \nQ 353 884 353 1716 \nQ 353 2575 817 3079 \nQ 1281 3584 2069 3584 \nQ 2775 3584 3186 3129 \nQ 3597 2675 3597 1894 \nz\nM 3022 2063 \nQ 3016 2534 2758 2815 \nQ 2500 3097 2075 3097 \nQ 1594 3097 1305 2825 \nQ 1016 2553 972 2059 \nL 3022 2063 \nz\n\" transform=\"scale(0.015625)\"/>\n       <path id=\"DejaVuSans-61\" d=\"M 2194 1759 \nQ 1497 1759 1228 1600 \nQ 959 1441 959 1056 \nQ 959 750 1161 570 \nQ 1363 391 1709 391 \nQ 2188 391 2477 730 \nQ 2766 1069 2766 1631 \nL 2766 1759 \nL 2194 1759 \nz\nM 3341 1997 \nL 3341 0 \nL 2766 0 \nL 2766 531 \nQ 2569 213 2275 61 \nQ 1981 -91 1556 -91 \nQ 1019 -91 701 211 \nQ 384 513 384 1019 \nQ 384 1609 779 1909 \nQ 1175 2209 1959 2209 \nL 2766 2209 \nL 2766 2266 \nQ 2766 2663 2505 2880 \nQ 2244 3097 1772 3097 \nQ 1472 3097 1187 3025 \nQ 903 2953 641 2809 \nL 641 3341 \nQ 956 3463 1253 3523 \nQ 1550 3584 1831 3584 \nQ 2591 3584 2966 3190 \nQ 3341 2797 3341 1997 \nz\n\" transform=\"scale(0.015625)\"/>\n       <path id=\"DejaVuSans-20\" transform=\"scale(0.015625)\"/>\n       <path id=\"DejaVuSans-5b\" d=\"M 550 4863 \nL 1875 4863 \nL 1875 4416 \nL 1125 4416 \nL 1125 -397 \nL 1875 -397 \nL 1875 -844 \nL 550 -844 \nL 550 4863 \nz\n\" transform=\"scale(0.015625)\"/>\n       <path id=\"DejaVuSans-2c\" d=\"M 750 794 \nL 1409 794 \nL 1409 256 \nL 897 -744 \nL 494 -744 \nL 750 256 \nL 750 794 \nz\n\" transform=\"scale(0.015625)\"/>\n       <path id=\"DejaVuSans-70\" d=\"M 1159 525 \nL 1159 -1331 \nL 581 -1331 \nL 581 3500 \nL 1159 3500 \nL 1159 2969 \nQ 1341 3281 1617 3432 \nQ 1894 3584 2278 3584 \nQ 2916 3584 3314 3078 \nQ 3713 2572 3713 1747 \nQ 3713 922 3314 415 \nQ 2916 -91 2278 -91 \nQ 1894 -91 1617 61 \nQ 1341 213 1159 525 \nz\nM 3116 1747 \nQ 3116 2381 2855 2742 \nQ 2594 3103 2138 3103 \nQ 1681 3103 1420 2742 \nQ 1159 2381 1159 1747 \nQ 1159 1113 1420 752 \nQ 1681 391 2138 391 \nQ 2594 391 2855 752 \nQ 3116 1113 3116 1747 \nz\n\" transform=\"scale(0.015625)\"/>\n       <path id=\"DejaVuSans-69\" d=\"M 603 3500 \nL 1178 3500 \nL 1178 0 \nL 603 0 \nL 603 3500 \nz\nM 603 4863 \nL 1178 4863 \nL 1178 4134 \nL 603 4134 \nL 603 4863 \nz\n\" transform=\"scale(0.015625)\"/>\n       <path id=\"DejaVuSans-29\" d=\"M 513 4856 \nL 1013 4856 \nQ 1481 4119 1714 3412 \nQ 1947 2706 1947 2009 \nQ 1947 1309 1714 600 \nQ 1481 -109 1013 -844 \nL 513 -844 \nQ 928 -128 1133 580 \nQ 1338 1288 1338 2009 \nQ 1338 2731 1133 3434 \nQ 928 4138 513 4856 \nz\n\" transform=\"scale(0.015625)\"/>\n      </defs>\n      <use xlink:href=\"#DejaVuSans-74\"/>\n      <use xlink:href=\"#DejaVuSans-68\" x=\"39.208984\"/>\n      <use xlink:href=\"#DejaVuSans-65\" x=\"102.587891\"/>\n      <use xlink:href=\"#DejaVuSans-74\" x=\"164.111328\"/>\n      <use xlink:href=\"#DejaVuSans-61\" x=\"203.320312\"/>\n      <use xlink:href=\"#DejaVuSans-20\" x=\"264.599609\"/>\n      <use xlink:href=\"#DejaVuSans-5b\" x=\"296.386719\"/>\n      <use xlink:href=\"#DejaVuSans-30\" x=\"335.400391\"/>\n      <use xlink:href=\"#DejaVuSans-2c\" x=\"399.023438\"/>\n      <use xlink:href=\"#DejaVuSans-20\" x=\"430.810547\"/>\n      <use xlink:href=\"#DejaVuSans-32\" x=\"462.597656\"/>\n      <use xlink:href=\"#DejaVuSans-70\" x=\"526.220703\"/>\n      <use xlink:href=\"#DejaVuSans-69\" x=\"589.697266\"/>\n      <use xlink:href=\"#DejaVuSans-29\" x=\"617.480469\"/>\n     </g>\n    </g>\n   </g>\n   <g id=\"matplotlib.axis_2\">\n    <g id=\"ytick_1\">\n     <g id=\"line2d_8\">\n      <defs>\n       <path id=\"m93ccf8ffe4\" d=\"M 0 0 \nL -3.5 0 \n\" style=\"stroke: #000000; stroke-width: 0.8\"/>\n      </defs>\n      <g>\n       <use xlink:href=\"#m93ccf8ffe4\" x=\"42.620313\" y=\"275.523076\" style=\"stroke: #000000; stroke-width: 0.8\"/>\n      </g>\n     </g>\n     <g id=\"text_9\">\n      <!-- −8 -->\n      <g transform=\"translate(20.878125 279.322295) scale(0.1 -0.1)\">\n       <defs>\n        <path id=\"DejaVuSans-2212\" d=\"M 678 2272 \nL 4684 2272 \nL 4684 1741 \nL 678 1741 \nL 678 2272 \nz\n\" transform=\"scale(0.015625)\"/>\n        <path id=\"DejaVuSans-38\" d=\"M 2034 2216 \nQ 1584 2216 1326 1975 \nQ 1069 1734 1069 1313 \nQ 1069 891 1326 650 \nQ 1584 409 2034 409 \nQ 2484 409 2743 651 \nQ 3003 894 3003 1313 \nQ 3003 1734 2745 1975 \nQ 2488 2216 2034 2216 \nz\nM 1403 2484 \nQ 997 2584 770 2862 \nQ 544 3141 544 3541 \nQ 544 4100 942 4425 \nQ 1341 4750 2034 4750 \nQ 2731 4750 3128 4425 \nQ 3525 4100 3525 3541 \nQ 3525 3141 3298 2862 \nQ 3072 2584 2669 2484 \nQ 3125 2378 3379 2068 \nQ 3634 1759 3634 1313 \nQ 3634 634 3220 271 \nQ 2806 -91 2034 -91 \nQ 1263 -91 848 271 \nQ 434 634 434 1313 \nQ 434 1759 690 2068 \nQ 947 2378 1403 2484 \nz\nM 1172 3481 \nQ 1172 3119 1398 2916 \nQ 1625 2713 2034 2713 \nQ 2441 2713 2670 2916 \nQ 2900 3119 2900 3481 \nQ 2900 3844 2670 4047 \nQ 2441 4250 2034 4250 \nQ 1625 4250 1398 4047 \nQ 1172 3844 1172 3481 \nz\n\" transform=\"scale(0.015625)\"/>\n       </defs>\n       <use xlink:href=\"#DejaVuSans-2212\"/>\n       <use xlink:href=\"#DejaVuSans-38\" x=\"83.789062\"/>\n      </g>\n     </g>\n    </g>\n    <g id=\"ytick_2\">\n     <g id=\"line2d_9\">\n      <g>\n       <use xlink:href=\"#m93ccf8ffe4\" x=\"42.620313\" y=\"242.457594\" style=\"stroke: #000000; stroke-width: 0.8\"/>\n      </g>\n     </g>\n     <g id=\"text_10\">\n      <!-- −6 -->\n      <g transform=\"translate(20.878125 246.256813) scale(0.1 -0.1)\">\n       <use xlink:href=\"#DejaVuSans-2212\"/>\n       <use xlink:href=\"#DejaVuSans-36\" x=\"83.789062\"/>\n      </g>\n     </g>\n    </g>\n    <g id=\"ytick_3\">\n     <g id=\"line2d_10\">\n      <g>\n       <use xlink:href=\"#m93ccf8ffe4\" x=\"42.620313\" y=\"209.392112\" style=\"stroke: #000000; stroke-width: 0.8\"/>\n      </g>\n     </g>\n     <g id=\"text_11\">\n      <!-- −4 -->\n      <g transform=\"translate(20.878125 213.19133) scale(0.1 -0.1)\">\n       <use xlink:href=\"#DejaVuSans-2212\"/>\n       <use xlink:href=\"#DejaVuSans-34\" x=\"83.789062\"/>\n      </g>\n     </g>\n    </g>\n    <g id=\"ytick_4\">\n     <g id=\"line2d_11\">\n      <g>\n       <use xlink:href=\"#m93ccf8ffe4\" x=\"42.620313\" y=\"176.32663\" style=\"stroke: #000000; stroke-width: 0.8\"/>\n      </g>\n     </g>\n     <g id=\"text_12\">\n      <!-- −2 -->\n      <g transform=\"translate(20.878125 180.125848) scale(0.1 -0.1)\">\n       <use xlink:href=\"#DejaVuSans-2212\"/>\n       <use xlink:href=\"#DejaVuSans-32\" x=\"83.789062\"/>\n      </g>\n     </g>\n    </g>\n    <g id=\"ytick_5\">\n     <g id=\"line2d_12\">\n      <g>\n       <use xlink:href=\"#m93ccf8ffe4\" x=\"42.620313\" y=\"143.261147\" style=\"stroke: #000000; stroke-width: 0.8\"/>\n      </g>\n     </g>\n     <g id=\"text_13\">\n      <!-- 0 -->\n      <g transform=\"translate(29.257813 147.060366) scale(0.1 -0.1)\">\n       <use xlink:href=\"#DejaVuSans-30\"/>\n      </g>\n     </g>\n    </g>\n    <g id=\"ytick_6\">\n     <g id=\"line2d_13\">\n      <g>\n       <use xlink:href=\"#m93ccf8ffe4\" x=\"42.620313\" y=\"110.195665\" style=\"stroke: #000000; stroke-width: 0.8\"/>\n      </g>\n     </g>\n     <g id=\"text_14\">\n      <!-- 2 -->\n      <g transform=\"translate(29.257813 113.994884) scale(0.1 -0.1)\">\n       <use xlink:href=\"#DejaVuSans-32\"/>\n      </g>\n     </g>\n    </g>\n    <g id=\"ytick_7\">\n     <g id=\"line2d_14\">\n      <g>\n       <use xlink:href=\"#m93ccf8ffe4\" x=\"42.620313\" y=\"77.130183\" style=\"stroke: #000000; stroke-width: 0.8\"/>\n      </g>\n     </g>\n     <g id=\"text_15\">\n      <!-- 4 -->\n      <g transform=\"translate(29.257813 80.929402) scale(0.1 -0.1)\">\n       <use xlink:href=\"#DejaVuSans-34\"/>\n      </g>\n     </g>\n    </g>\n    <g id=\"ytick_8\">\n     <g id=\"line2d_15\">\n      <g>\n       <use xlink:href=\"#m93ccf8ffe4\" x=\"42.620313\" y=\"44.064701\" style=\"stroke: #000000; stroke-width: 0.8\"/>\n      </g>\n     </g>\n     <g id=\"text_16\">\n      <!-- 6 -->\n      <g transform=\"translate(29.257813 47.86392) scale(0.1 -0.1)\">\n       <use xlink:href=\"#DejaVuSans-36\"/>\n      </g>\n     </g>\n    </g>\n    <g id=\"ytick_9\">\n     <g id=\"line2d_16\">\n      <g>\n       <use xlink:href=\"#m93ccf8ffe4\" x=\"42.620313\" y=\"10.999219\" style=\"stroke: #000000; stroke-width: 0.8\"/>\n      </g>\n     </g>\n     <g id=\"text_17\">\n      <!-- 8 -->\n      <g transform=\"translate(29.257813 14.798437) scale(0.1 -0.1)\">\n       <use xlink:href=\"#DejaVuSans-38\"/>\n      </g>\n     </g>\n    </g>\n    <g id=\"text_18\">\n     <!-- f(g) -->\n     <g transform=\"translate(14.798438 152.610617) rotate(-90) scale(0.1 -0.1)\">\n      <defs>\n       <path id=\"DejaVuSans-66\" d=\"M 2375 4863 \nL 2375 4384 \nL 1825 4384 \nQ 1516 4384 1395 4259 \nQ 1275 4134 1275 3809 \nL 1275 3500 \nL 2222 3500 \nL 2222 3053 \nL 1275 3053 \nL 1275 0 \nL 697 0 \nL 697 3053 \nL 147 3053 \nL 147 3500 \nL 697 3500 \nL 697 3744 \nQ 697 4328 969 4595 \nQ 1241 4863 1831 4863 \nL 2375 4863 \nz\n\" transform=\"scale(0.015625)\"/>\n       <path id=\"DejaVuSans-28\" d=\"M 1984 4856 \nQ 1566 4138 1362 3434 \nQ 1159 2731 1159 2009 \nQ 1159 1288 1364 580 \nQ 1569 -128 1984 -844 \nL 1484 -844 \nQ 1016 -109 783 600 \nQ 550 1309 550 2009 \nQ 550 2706 781 3412 \nQ 1013 4119 1484 4856 \nL 1984 4856 \nz\n\" transform=\"scale(0.015625)\"/>\n       <path id=\"DejaVuSans-67\" d=\"M 2906 1791 \nQ 2906 2416 2648 2759 \nQ 2391 3103 1925 3103 \nQ 1463 3103 1205 2759 \nQ 947 2416 947 1791 \nQ 947 1169 1205 825 \nQ 1463 481 1925 481 \nQ 2391 481 2648 825 \nQ 2906 1169 2906 1791 \nz\nM 3481 434 \nQ 3481 -459 3084 -895 \nQ 2688 -1331 1869 -1331 \nQ 1566 -1331 1297 -1286 \nQ 1028 -1241 775 -1147 \nL 775 -588 \nQ 1028 -725 1275 -790 \nQ 1522 -856 1778 -856 \nQ 2344 -856 2625 -561 \nQ 2906 -266 2906 331 \nL 2906 616 \nQ 2728 306 2450 153 \nQ 2172 0 1784 0 \nQ 1141 0 747 490 \nQ 353 981 353 1791 \nQ 353 2603 747 3093 \nQ 1141 3584 1784 3584 \nQ 2172 3584 2450 3431 \nQ 2728 3278 2906 2969 \nL 2906 3500 \nL 3481 3500 \nL 3481 434 \nz\n\" transform=\"scale(0.015625)\"/>\n      </defs>\n      <use xlink:href=\"#DejaVuSans-66\"/>\n      <use xlink:href=\"#DejaVuSans-28\" x=\"35.205078\"/>\n      <use xlink:href=\"#DejaVuSans-67\" x=\"74.21875\"/>\n      <use xlink:href=\"#DejaVuSans-29\" x=\"137.695312\"/>\n     </g>\n    </g>\n   </g>\n   <g id=\"line2d_17\">\n    <path d=\"M 58.85304 131.011517 \nL 62.132379 141.470774 \nL 65.411717 152.452648 \nL 68.691056 163.78694 \nL 71.970395 175.296114 \nL 75.249734 186.798096 \nL 78.529073 198.109148 \nL 81.808412 209.046774 \nL 85.087751 219.432614 \nL 88.367089 229.09528 \nL 91.646428 237.873089 \nL 94.925767 245.616651 \nL 98.205106 252.191266 \nL 101.484445 257.4791 \nL 104.763784 261.381097 \nL 108.043122 263.818604 \nL 111.322461 264.734679 \nL 114.6018 264.095063 \nL 117.881139 261.888797 \nL 121.160478 258.128478 \nL 124.439817 252.850148 \nL 127.719155 246.11282 \nL 130.998494 237.997638 \nL 134.277833 228.6067 \nL 137.557172 218.061549 \nL 140.836511 206.501363 \nL 144.11585 194.080861 \nL 147.395189 180.967981 \nL 150.674527 167.341333 \nL 153.953866 153.3875 \nL 157.233205 139.298203 \nL 160.512544 125.267391 \nL 163.791883 111.488294 \nL 167.071222 98.150487 \nL 170.35056 85.437007 \nL 173.629899 73.521576 \nL 176.909238 62.565968 \nL 180.188577 52.71756 \nL 183.467916 44.107105 \nL 186.747255 36.846774 \nL 190.026593 31.028471 \nL 193.305932 26.722482 \nL 196.585271 23.976445 \nL 199.86461 22.814679 \nL 203.143949 23.23788 \nL 206.423288 25.223176 \nL 209.702627 28.72455 \nL 212.981965 33.67363 \nL 216.261304 39.980811 \nL 219.540643 47.536721 \nL 222.819982 56.21398 \nL 226.099321 65.869246 \nL 229.37866 76.345494 \nL 232.657998 87.47452 \nL 235.937337 99.079597 \nL 239.216676 110.978275 \nL 242.496015 122.98525 \nL 245.775354 134.915277 \nL 249.054693 146.586082 \nL 252.334032 157.821204 \nL 255.61337 168.452756 \nL 258.892709 178.324032 \nL 262.172048 187.291934 \nL 265.451387 195.229183 \nL 268.730726 202.026266 \nL 272.010065 207.593106 \nL 275.289403 211.86041 \nL 278.568742 214.780694 \nL 281.848081 216.328949 \nL 285.12742 216.502955 \nL 288.406759 215.323228 \nL 291.686098 212.832603 \nL 294.965436 209.095467 \nL 298.244775 204.196638 \nL 301.524114 198.239932 \nL 304.803453 191.346417 \nL 308.082792 183.652396 \nL 311.362131 175.307153 \nL 314.64147 166.470484 \nL 317.920808 157.310066 \nL 321.200147 147.998703 \nL 324.479486 138.711488 \nL 327.758825 129.622931 \nL 331.038164 120.904095 \nL 334.317503 112.719787 \nL 337.596841 105.225856 \nL 340.87618 98.566626 \nL 344.155519 92.872517 \nL 347.434858 88.257889 \nL 350.714197 84.81914 \nL 353.993536 82.633096 \nL 357.272874 81.755705 \nL 360.552213 82.221075 \nL 363.831552 84.040852 \nL 367.110891 87.203964 \nL 370.39023 91.676725 \nL 373.669569 97.403303 \nL 376.948908 104.306543 \nL 380.228246 112.289129 \nL 383.507585 121.235075 \n\" clip-path=\"url(#p2bfffa3b3c)\" style=\"fill: none; stroke: #1f77b4; stroke-width: 2; stroke-linecap: square\"/>\n   </g>\n   <g id=\"line2d_18\">\n    <path d=\"M 58.85304 232.098069 \nL 62.132379 229.807227 \nL 65.411717 227.297746 \nL 68.691056 224.649644 \nL 71.970395 221.942647 \nL 75.249734 219.254784 \nL 78.529073 216.661017 \nL 81.808412 214.231933 \nL 85.087751 212.032505 \nL 88.367089 210.120974 \nL 91.646428 208.547827 \nL 94.925767 207.354927 \nL 98.205106 206.574783 \nL 101.484445 206.229984 \nL 104.763784 206.332802 \nL 108.043122 206.88497 \nL 111.322461 207.877645 \nL 114.6018 209.291543 \nL 117.881139 211.097263 \nL 121.160478 213.255775 \nL 124.439817 215.719077 \nL 127.719155 218.43101 \nL 130.998494 221.328208 \nL 134.277833 224.341183 \nL 137.557172 227.395512 \nL 140.836511 230.413116 \nL 144.11585 233.313613 \nL 147.395189 236.015712 \nL 150.674527 238.438636 \nL 153.953866 240.503547 \nL 157.233205 242.13495 \nL 160.512544 243.262051 \nL 163.791883 243.820055 \nL 167.071222 243.751369 \nL 170.35056 243.006707 \nL 173.629899 241.546062 \nL 176.909238 239.339545 \nL 180.188577 236.368062 \nL 183.467916 232.623832 \nL 186.747255 228.11072 \nL 190.026593 222.844396 \nL 193.305932 216.852311 \nL 196.585271 210.173477 \nL 199.86461 202.858074 \nL 203.143949 194.966877 \nL 206.423288 186.570512 \nL 209.702627 177.748552 \nL 212.981965 168.588477 \nL 216.261304 159.184492 \nL 219.540643 149.636243 \nL 222.819982 140.047436 \nL 226.099321 130.524388 \nL 229.37866 121.174525 \nL 232.657998 112.10486 \nL 235.937337 103.420464 \nL 239.216676 95.222954 \nL 242.496015 87.609038 \nL 245.775354 80.669113 \nL 249.054693 74.485957 \nL 252.334032 69.13353 \nL 255.61337 64.6759 \nL 258.892709 61.166315 \nL 262.172048 58.646425 \nL 265.451387 57.145686 \nL 268.730726 56.680931 \nL 272.010065 57.256134 \nL 275.289403 58.86236 \nL 278.568742 61.477905 \nL 281.848081 65.068625 \nL 285.12742 69.588444 \nL 288.406759 74.980044 \nL 291.686098 81.175706 \nL 294.965436 88.098318 \nL 298.244775 95.662504 \nL 301.524114 103.77588 \nL 304.803453 112.340402 \nL 308.082792 121.253796 \nL 311.362131 130.41104 \nL 314.64147 139.705883 \nL 317.920808 149.032366 \nL 321.200147 158.286336 \nL 324.479486 167.366916 \nL 327.758825 176.177923 \nL 331.038164 184.629192 \nL 334.317503 192.637813 \nL 337.596841 200.129234 \nL 340.87618 207.038237 \nL 344.155519 213.309753 \nL 347.434858 218.899521 \nL 350.714197 223.774571 \nL 353.993536 227.913523 \nL 357.272874 231.306708 \nL 360.552213 233.956098 \nL 363.831552 235.875061 \nL 367.110891 237.087927 \nL 370.39023 237.629391 \nL 373.669569 237.543756 \nL 376.948908 236.88402 \nL 380.228246 235.710844 \nL 383.507585 234.091388 \n\" clip-path=\"url(#p2bfffa3b3c)\" style=\"fill: none; stroke: #ff7f0e; stroke-width: 2; stroke-linecap: square\"/>\n   </g>\n   <g id=\"patch_3\">\n    <path d=\"M 42.620313 276.830679 \nL 42.620313 10.718679 \n\" style=\"fill: none; stroke: #000000; stroke-width: 0.8; stroke-linejoin: miter; stroke-linecap: square\"/>\n   </g>\n   <g id=\"patch_4\">\n    <path d=\"M 399.740313 276.830679 \nL 399.740313 10.718679 \n\" style=\"fill: none; stroke: #000000; stroke-width: 0.8; stroke-linejoin: miter; stroke-linecap: square\"/>\n   </g>\n   <g id=\"patch_5\">\n    <path d=\"M 42.620313 276.830679 \nL 399.740313 276.830679 \n\" style=\"fill: none; stroke: #000000; stroke-width: 0.8; stroke-linejoin: miter; stroke-linecap: square\"/>\n   </g>\n   <g id=\"patch_6\">\n    <path d=\"M 42.620313 10.718679 \nL 399.740313 10.718679 \n\" style=\"fill: none; stroke: #000000; stroke-width: 0.8; stroke-linejoin: miter; stroke-linecap: square\"/>\n   </g>\n   <g id=\"legend_1\">\n    <g id=\"patch_7\">\n     <path d=\"M 254.443438 48.074929 \nL 392.740313 48.074929 \nQ 394.740313 48.074929 394.740313 46.074929 \nL 394.740313 17.718679 \nQ 394.740313 15.718679 392.740313 15.718679 \nL 254.443438 15.718679 \nQ 252.443438 15.718679 252.443438 17.718679 \nL 252.443438 46.074929 \nQ 252.443438 48.074929 254.443438 48.074929 \nz\n\" style=\"fill: #ffffff; opacity: 0.8; stroke: #cccccc; stroke-linejoin: miter\"/>\n    </g>\n    <g id=\"line2d_19\">\n     <path d=\"M 256.443438 23.817117 \nL 266.443438 23.817117 \nL 276.443438 23.817117 \n\" style=\"fill: none; stroke: #1f77b4; stroke-width: 2; stroke-linecap: square\"/>\n    </g>\n    <g id=\"text_19\">\n     <!-- rotations -->\n     <g transform=\"translate(284.443438 27.317117) scale(0.1 -0.1)\">\n      <defs>\n       <path id=\"DejaVuSans-72\" d=\"M 2631 2963 \nQ 2534 3019 2420 3045 \nQ 2306 3072 2169 3072 \nQ 1681 3072 1420 2755 \nQ 1159 2438 1159 1844 \nL 1159 0 \nL 581 0 \nL 581 3500 \nL 1159 3500 \nL 1159 2956 \nQ 1341 3275 1631 3429 \nQ 1922 3584 2338 3584 \nQ 2397 3584 2469 3576 \nQ 2541 3569 2628 3553 \nL 2631 2963 \nz\n\" transform=\"scale(0.015625)\"/>\n       <path id=\"DejaVuSans-6f\" d=\"M 1959 3097 \nQ 1497 3097 1228 2736 \nQ 959 2375 959 1747 \nQ 959 1119 1226 758 \nQ 1494 397 1959 397 \nQ 2419 397 2687 759 \nQ 2956 1122 2956 1747 \nQ 2956 2369 2687 2733 \nQ 2419 3097 1959 3097 \nz\nM 1959 3584 \nQ 2709 3584 3137 3096 \nQ 3566 2609 3566 1747 \nQ 3566 888 3137 398 \nQ 2709 -91 1959 -91 \nQ 1206 -91 779 398 \nQ 353 888 353 1747 \nQ 353 2609 779 3096 \nQ 1206 3584 1959 3584 \nz\n\" transform=\"scale(0.015625)\"/>\n       <path id=\"DejaVuSans-6e\" d=\"M 3513 2113 \nL 3513 0 \nL 2938 0 \nL 2938 2094 \nQ 2938 2591 2744 2837 \nQ 2550 3084 2163 3084 \nQ 1697 3084 1428 2787 \nQ 1159 2491 1159 1978 \nL 1159 0 \nL 581 0 \nL 581 3500 \nL 1159 3500 \nL 1159 2956 \nQ 1366 3272 1645 3428 \nQ 1925 3584 2291 3584 \nQ 2894 3584 3203 3211 \nQ 3513 2838 3513 2113 \nz\n\" transform=\"scale(0.015625)\"/>\n       <path id=\"DejaVuSans-73\" d=\"M 2834 3397 \nL 2834 2853 \nQ 2591 2978 2328 3040 \nQ 2066 3103 1784 3103 \nQ 1356 3103 1142 2972 \nQ 928 2841 928 2578 \nQ 928 2378 1081 2264 \nQ 1234 2150 1697 2047 \nL 1894 2003 \nQ 2506 1872 2764 1633 \nQ 3022 1394 3022 966 \nQ 3022 478 2636 193 \nQ 2250 -91 1575 -91 \nQ 1294 -91 989 -36 \nQ 684 19 347 128 \nL 347 722 \nQ 666 556 975 473 \nQ 1284 391 1588 391 \nQ 1994 391 2212 530 \nQ 2431 669 2431 922 \nQ 2431 1156 2273 1281 \nQ 2116 1406 1581 1522 \nL 1381 1569 \nQ 847 1681 609 1914 \nQ 372 2147 372 2553 \nQ 372 3047 722 3315 \nQ 1072 3584 1716 3584 \nQ 2034 3584 2315 3537 \nQ 2597 3491 2834 3397 \nz\n\" transform=\"scale(0.015625)\"/>\n      </defs>\n      <use xlink:href=\"#DejaVuSans-72\"/>\n      <use xlink:href=\"#DejaVuSans-6f\" x=\"38.863281\"/>\n      <use xlink:href=\"#DejaVuSans-74\" x=\"100.044922\"/>\n      <use xlink:href=\"#DejaVuSans-61\" x=\"139.253906\"/>\n      <use xlink:href=\"#DejaVuSans-74\" x=\"200.533203\"/>\n      <use xlink:href=\"#DejaVuSans-69\" x=\"239.742188\"/>\n      <use xlink:href=\"#DejaVuSans-6f\" x=\"267.525391\"/>\n      <use xlink:href=\"#DejaVuSans-6e\" x=\"328.707031\"/>\n      <use xlink:href=\"#DejaVuSans-73\" x=\"392.085938\"/>\n     </g>\n    </g>\n    <g id=\"line2d_20\">\n     <path d=\"M 256.443438 38.495242 \nL 266.443438 38.495242 \nL 276.443438 38.495242 \n\" style=\"fill: none; stroke: #ff7f0e; stroke-width: 2; stroke-linecap: square\"/>\n    </g>\n    <g id=\"text_20\">\n     <!-- reflection + rotations -->\n     <g transform=\"translate(284.443438 41.995242) scale(0.1 -0.1)\">\n      <defs>\n       <path id=\"DejaVuSans-6c\" d=\"M 603 4863 \nL 1178 4863 \nL 1178 0 \nL 603 0 \nL 603 4863 \nz\n\" transform=\"scale(0.015625)\"/>\n       <path id=\"DejaVuSans-63\" d=\"M 3122 3366 \nL 3122 2828 \nQ 2878 2963 2633 3030 \nQ 2388 3097 2138 3097 \nQ 1578 3097 1268 2742 \nQ 959 2388 959 1747 \nQ 959 1106 1268 751 \nQ 1578 397 2138 397 \nQ 2388 397 2633 464 \nQ 2878 531 3122 666 \nL 3122 134 \nQ 2881 22 2623 -34 \nQ 2366 -91 2075 -91 \nQ 1284 -91 818 406 \nQ 353 903 353 1747 \nQ 353 2603 823 3093 \nQ 1294 3584 2113 3584 \nQ 2378 3584 2631 3529 \nQ 2884 3475 3122 3366 \nz\n\" transform=\"scale(0.015625)\"/>\n       <path id=\"DejaVuSans-2b\" d=\"M 2944 4013 \nL 2944 2272 \nL 4684 2272 \nL 4684 1741 \nL 2944 1741 \nL 2944 0 \nL 2419 0 \nL 2419 1741 \nL 678 1741 \nL 678 2272 \nL 2419 2272 \nL 2419 4013 \nL 2944 4013 \nz\n\" transform=\"scale(0.015625)\"/>\n      </defs>\n      <use xlink:href=\"#DejaVuSans-72\"/>\n      <use xlink:href=\"#DejaVuSans-65\" x=\"38.863281\"/>\n      <use xlink:href=\"#DejaVuSans-66\" x=\"100.386719\"/>\n      <use xlink:href=\"#DejaVuSans-6c\" x=\"135.591797\"/>\n      <use xlink:href=\"#DejaVuSans-65\" x=\"163.375\"/>\n      <use xlink:href=\"#DejaVuSans-63\" x=\"224.898438\"/>\n      <use xlink:href=\"#DejaVuSans-74\" x=\"279.878906\"/>\n      <use xlink:href=\"#DejaVuSans-69\" x=\"319.087891\"/>\n      <use xlink:href=\"#DejaVuSans-6f\" x=\"346.871094\"/>\n      <use xlink:href=\"#DejaVuSans-6e\" x=\"408.052734\"/>\n      <use xlink:href=\"#DejaVuSans-20\" x=\"471.431641\"/>\n      <use xlink:href=\"#DejaVuSans-2b\" x=\"503.21875\"/>\n      <use xlink:href=\"#DejaVuSans-20\" x=\"587.007812\"/>\n      <use xlink:href=\"#DejaVuSans-72\" x=\"618.794922\"/>\n      <use xlink:href=\"#DejaVuSans-6f\" x=\"657.658203\"/>\n      <use xlink:href=\"#DejaVuSans-74\" x=\"718.839844\"/>\n      <use xlink:href=\"#DejaVuSans-61\" x=\"758.048828\"/>\n      <use xlink:href=\"#DejaVuSans-74\" x=\"819.328125\"/>\n      <use xlink:href=\"#DejaVuSans-69\" x=\"858.537109\"/>\n      <use xlink:href=\"#DejaVuSans-6f\" x=\"886.320312\"/>\n      <use xlink:href=\"#DejaVuSans-6e\" x=\"947.501953\"/>\n      <use xlink:href=\"#DejaVuSans-73\" x=\"1010.880859\"/>\n     </g>\n    </g>\n   </g>\n  </g>\n </g>\n <defs>\n  <clipPath id=\"p2bfffa3b3c\">\n   <rect x=\"42.620313\" y=\"10.718679\" width=\"357.12\" height=\"266.112\"/>\n  </clipPath>\n </defs>\n</svg>\n",
            "application/pdf": "[encoded data removed]"
          },
          "metadata": {}
        }
      ],
      "source": [
        "f_rot = [\n",
        "    inverse_fourier_transform_O2(g, ft) for g in grid_rot\n",
        "]\n",
        "f_refl = [\n",
        "    inverse_fourier_transform_O2(g, ft) for g in grid_refl\n",
        "]\n",
        "\n",
        "\n",
        "plt.plot(thetas, f_rot, label='rotations')\n",
        "plt.plot(thetas, f_refl, label='reflection + rotations')\n",
        "plt.xlabel('theta [0, 2pi)')\n",
        "plt.ylabel('f(g)')\n",
        "plt.legend()\n",
        "plt.show()"
      ]
    },
    {
      "cell_type": "markdown",
      "metadata": {
        "id": "HH5RBOBZcQLq"
      },
      "source": [
        "Observe that using more irreps allows one to parameterize more flexible functions.\n",
        "Let's try to add some more:"
      ]
    },
    {
      "cell_type": "code",
      "execution_count": null,
      "metadata": {
        "id": "Ic9uAMJEcQLr",
        "colab": {
          "base_uri": "https://localhost:8080/",
          "height": 436
        },
        "outputId": "d9fe5d79-3445-4a6e-caca-7f4b6e5b405c"
      },
      "outputs": [
        {
          "output_type": "display_data",
          "data": {
            "text/plain": [
              "<Figure size 640x480 with 1 Axes>"
            ],
            "image/svg+xml": "<?xml version=\"1.0\" encoding=\"utf-8\" standalone=\"no\"?>\n<!DOCTYPE svg PUBLIC \"-//W3C//DTD SVG 1.1//EN\"\n  \"http://www.w3.org/Graphics/SVG/1.1/DTD/svg11.dtd\">\n<svg xmlns:xlink=\"http://www.w3.org/1999/xlink\" width=\"413.302812pt\" height=\"310.86825pt\" viewBox=\"0 0 413.302812 310.86825\" xmlns=\"http://www.w3.org/2000/svg\" version=\"1.1\">\n <metadata>\n  <rdf:RDF xmlns:dc=\"http://purl.org/dc/elements/1.1/\" xmlns:cc=\"http://creativecommons.org/ns#\" xmlns:rdf=\"http://www.w3.org/1999/02/22-rdf-syntax-ns#\">\n   <cc:Work>\n    <dc:type rdf:resource=\"http://purl.org/dc/dcmitype/StillImage\"/>\n    <dc:date>2023-11-27T19:28:53.030633</dc:date>\n    <dc:format>image/svg+xml</dc:format>\n    <dc:creator>\n     <cc:Agent>\n      <dc:title>Matplotlib v3.7.1, https://matplotlib.org/</dc:title>\n     </cc:Agent>\n    </dc:creator>\n   </cc:Work>\n  </rdf:RDF>\n </metadata>\n <defs>\n  <style type=\"text/css\">*{stroke-linejoin: round; stroke-linecap: butt}</style>\n </defs>\n <g id=\"figure_1\">\n  <g id=\"patch_1\">\n   <path d=\"M 0 310.86825 \nL 413.302812 310.86825 \nL 413.302812 0 \nL 0 0 \nz\n\" style=\"fill: #ffffff\"/>\n  </g>\n  <g id=\"axes_1\">\n   <g id=\"patch_2\">\n    <path d=\"M 48.982813 273.312 \nL 406.102813 273.312 \nL 406.102813 7.2 \nL 48.982813 7.2 \nz\n\" style=\"fill: #ffffff\"/>\n   </g>\n   <g id=\"matplotlib.axis_1\">\n    <g id=\"xtick_1\">\n     <g id=\"line2d_1\">\n      <defs>\n       <path id=\"m36a4a2522a\" d=\"M 0 0 \nL 0 3.5 \n\" style=\"stroke: #000000; stroke-width: 0.8\"/>\n      </defs>\n      <g>\n       <use xlink:href=\"#m36a4a2522a\" x=\"65.21554\" y=\"273.312\" style=\"stroke: #000000; stroke-width: 0.8\"/>\n      </g>\n     </g>\n     <g id=\"text_1\">\n      <!-- 0 -->\n      <g transform=\"translate(62.03429 287.910437) scale(0.1 -0.1)\">\n       <defs>\n        <path id=\"DejaVuSans-30\" d=\"M 2034 4250 \nQ 1547 4250 1301 3770 \nQ 1056 3291 1056 2328 \nQ 1056 1369 1301 889 \nQ 1547 409 2034 409 \nQ 2525 409 2770 889 \nQ 3016 1369 3016 2328 \nQ 3016 3291 2770 3770 \nQ 2525 4250 2034 4250 \nz\nM 2034 4750 \nQ 2819 4750 3233 4129 \nQ 3647 3509 3647 2328 \nQ 3647 1150 3233 529 \nQ 2819 -91 2034 -91 \nQ 1250 -91 836 529 \nQ 422 1150 422 2328 \nQ 422 3509 836 4129 \nQ 1250 4750 2034 4750 \nz\n\" transform=\"scale(0.015625)\"/>\n       </defs>\n       <use xlink:href=\"#DejaVuSans-30\"/>\n      </g>\n     </g>\n    </g>\n    <g id=\"xtick_2\">\n     <g id=\"line2d_2\">\n      <g>\n       <use xlink:href=\"#m36a4a2522a\" x=\"117.407838\" y=\"273.312\" style=\"stroke: #000000; stroke-width: 0.8\"/>\n      </g>\n     </g>\n     <g id=\"text_2\">\n      <!-- 1 -->\n      <g transform=\"translate(114.226588 287.910437) scale(0.1 -0.1)\">\n       <defs>\n        <path id=\"DejaVuSans-31\" d=\"M 794 531 \nL 1825 531 \nL 1825 4091 \nL 703 3866 \nL 703 4441 \nL 1819 4666 \nL 2450 4666 \nL 2450 531 \nL 3481 531 \nL 3481 0 \nL 794 0 \nL 794 531 \nz\n\" transform=\"scale(0.015625)\"/>\n       </defs>\n       <use xlink:href=\"#DejaVuSans-31\"/>\n      </g>\n     </g>\n    </g>\n    <g id=\"xtick_3\">\n     <g id=\"line2d_3\">\n      <g>\n       <use xlink:href=\"#m36a4a2522a\" x=\"169.600137\" y=\"273.312\" style=\"stroke: #000000; stroke-width: 0.8\"/>\n      </g>\n     </g>\n     <g id=\"text_3\">\n      <!-- 2 -->\n      <g transform=\"translate(166.418887 287.910437) scale(0.1 -0.1)\">\n       <defs>\n        <path id=\"DejaVuSans-32\" d=\"M 1228 531 \nL 3431 531 \nL 3431 0 \nL 469 0 \nL 469 531 \nQ 828 903 1448 1529 \nQ 2069 2156 2228 2338 \nQ 2531 2678 2651 2914 \nQ 2772 3150 2772 3378 \nQ 2772 3750 2511 3984 \nQ 2250 4219 1831 4219 \nQ 1534 4219 1204 4116 \nQ 875 4013 500 3803 \nL 500 4441 \nQ 881 4594 1212 4672 \nQ 1544 4750 1819 4750 \nQ 2544 4750 2975 4387 \nQ 3406 4025 3406 3419 \nQ 3406 3131 3298 2873 \nQ 3191 2616 2906 2266 \nQ 2828 2175 2409 1742 \nQ 1991 1309 1228 531 \nz\n\" transform=\"scale(0.015625)\"/>\n       </defs>\n       <use xlink:href=\"#DejaVuSans-32\"/>\n      </g>\n     </g>\n    </g>\n    <g id=\"xtick_4\">\n     <g id=\"line2d_4\">\n      <g>\n       <use xlink:href=\"#m36a4a2522a\" x=\"221.792436\" y=\"273.312\" style=\"stroke: #000000; stroke-width: 0.8\"/>\n      </g>\n     </g>\n     <g id=\"text_4\">\n      <!-- 3 -->\n      <g transform=\"translate(218.611186 287.910437) scale(0.1 -0.1)\">\n       <defs>\n        <path id=\"DejaVuSans-33\" d=\"M 2597 2516 \nQ 3050 2419 3304 2112 \nQ 3559 1806 3559 1356 \nQ 3559 666 3084 287 \nQ 2609 -91 1734 -91 \nQ 1441 -91 1130 -33 \nQ 819 25 488 141 \nL 488 750 \nQ 750 597 1062 519 \nQ 1375 441 1716 441 \nQ 2309 441 2620 675 \nQ 2931 909 2931 1356 \nQ 2931 1769 2642 2001 \nQ 2353 2234 1838 2234 \nL 1294 2234 \nL 1294 2753 \nL 1863 2753 \nQ 2328 2753 2575 2939 \nQ 2822 3125 2822 3475 \nQ 2822 3834 2567 4026 \nQ 2313 4219 1838 4219 \nQ 1578 4219 1281 4162 \nQ 984 4106 628 3988 \nL 628 4550 \nQ 988 4650 1302 4700 \nQ 1616 4750 1894 4750 \nQ 2613 4750 3031 4423 \nQ 3450 4097 3450 3541 \nQ 3450 3153 3228 2886 \nQ 3006 2619 2597 2516 \nz\n\" transform=\"scale(0.015625)\"/>\n       </defs>\n       <use xlink:href=\"#DejaVuSans-33\"/>\n      </g>\n     </g>\n    </g>\n    <g id=\"xtick_5\">\n     <g id=\"line2d_5\">\n      <g>\n       <use xlink:href=\"#m36a4a2522a\" x=\"273.984735\" y=\"273.312\" style=\"stroke: #000000; stroke-width: 0.8\"/>\n      </g>\n     </g>\n     <g id=\"text_5\">\n      <!-- 4 -->\n      <g transform=\"translate(270.803485 287.910437) scale(0.1 -0.1)\">\n       <defs>\n        <path id=\"DejaVuSans-34\" d=\"M 2419 4116 \nL 825 1625 \nL 2419 1625 \nL 2419 4116 \nz\nM 2253 4666 \nL 3047 4666 \nL 3047 1625 \nL 3713 1625 \nL 3713 1100 \nL 3047 1100 \nL 3047 0 \nL 2419 0 \nL 2419 1100 \nL 313 1100 \nL 313 1709 \nL 2253 4666 \nz\n\" transform=\"scale(0.015625)\"/>\n       </defs>\n       <use xlink:href=\"#DejaVuSans-34\"/>\n      </g>\n     </g>\n    </g>\n    <g id=\"xtick_6\">\n     <g id=\"line2d_6\">\n      <g>\n       <use xlink:href=\"#m36a4a2522a\" x=\"326.177033\" y=\"273.312\" style=\"stroke: #000000; stroke-width: 0.8\"/>\n      </g>\n     </g>\n     <g id=\"text_6\">\n      <!-- 5 -->\n      <g transform=\"translate(322.995783 287.910437) scale(0.1 -0.1)\">\n       <defs>\n        <path id=\"DejaVuSans-35\" d=\"M 691 4666 \nL 3169 4666 \nL 3169 4134 \nL 1269 4134 \nL 1269 2991 \nQ 1406 3038 1543 3061 \nQ 1681 3084 1819 3084 \nQ 2600 3084 3056 2656 \nQ 3513 2228 3513 1497 \nQ 3513 744 3044 326 \nQ 2575 -91 1722 -91 \nQ 1428 -91 1123 -41 \nQ 819 9 494 109 \nL 494 744 \nQ 775 591 1075 516 \nQ 1375 441 1709 441 \nQ 2250 441 2565 725 \nQ 2881 1009 2881 1497 \nQ 2881 1984 2565 2268 \nQ 2250 2553 1709 2553 \nQ 1456 2553 1204 2497 \nQ 953 2441 691 2322 \nL 691 4666 \nz\n\" transform=\"scale(0.015625)\"/>\n       </defs>\n       <use xlink:href=\"#DejaVuSans-35\"/>\n      </g>\n     </g>\n    </g>\n    <g id=\"xtick_7\">\n     <g id=\"line2d_7\">\n      <g>\n       <use xlink:href=\"#m36a4a2522a\" x=\"378.369332\" y=\"273.312\" style=\"stroke: #000000; stroke-width: 0.8\"/>\n      </g>\n     </g>\n     <g id=\"text_7\">\n      <!-- 6 -->\n      <g transform=\"translate(375.188082 287.910437) scale(0.1 -0.1)\">\n       <defs>\n        <path id=\"DejaVuSans-36\" d=\"M 2113 2584 \nQ 1688 2584 1439 2293 \nQ 1191 2003 1191 1497 \nQ 1191 994 1439 701 \nQ 1688 409 2113 409 \nQ 2538 409 2786 701 \nQ 3034 994 3034 1497 \nQ 3034 2003 2786 2293 \nQ 2538 2584 2113 2584 \nz\nM 3366 4563 \nL 3366 3988 \nQ 3128 4100 2886 4159 \nQ 2644 4219 2406 4219 \nQ 1781 4219 1451 3797 \nQ 1122 3375 1075 2522 \nQ 1259 2794 1537 2939 \nQ 1816 3084 2150 3084 \nQ 2853 3084 3261 2657 \nQ 3669 2231 3669 1497 \nQ 3669 778 3244 343 \nQ 2819 -91 2113 -91 \nQ 1303 -91 875 529 \nQ 447 1150 447 2328 \nQ 447 3434 972 4092 \nQ 1497 4750 2381 4750 \nQ 2619 4750 2861 4703 \nQ 3103 4656 3366 4563 \nz\n\" transform=\"scale(0.015625)\"/>\n       </defs>\n       <use xlink:href=\"#DejaVuSans-36\"/>\n      </g>\n     </g>\n    </g>\n    <g id=\"text_8\">\n     <!-- theta [0, 2pi) -->\n     <g transform=\"translate(194.718594 301.588562) scale(0.1 -0.1)\">\n      <defs>\n       <path id=\"DejaVuSans-74\" d=\"M 1172 4494 \nL 1172 3500 \nL 2356 3500 \nL 2356 3053 \nL 1172 3053 \nL 1172 1153 \nQ 1172 725 1289 603 \nQ 1406 481 1766 481 \nL 2356 481 \nL 2356 0 \nL 1766 0 \nQ 1100 0 847 248 \nQ 594 497 594 1153 \nL 594 3053 \nL 172 3053 \nL 172 3500 \nL 594 3500 \nL 594 4494 \nL 1172 4494 \nz\n\" transform=\"scale(0.015625)\"/>\n       <path id=\"DejaVuSans-68\" d=\"M 3513 2113 \nL 3513 0 \nL 2938 0 \nL 2938 2094 \nQ 2938 2591 2744 2837 \nQ 2550 3084 2163 3084 \nQ 1697 3084 1428 2787 \nQ 1159 2491 1159 1978 \nL 1159 0 \nL 581 0 \nL 581 4863 \nL 1159 4863 \nL 1159 2956 \nQ 1366 3272 1645 3428 \nQ 1925 3584 2291 3584 \nQ 2894 3584 3203 3211 \nQ 3513 2838 3513 2113 \nz\n\" transform=\"scale(0.015625)\"/>\n       <path id=\"DejaVuSans-65\" d=\"M 3597 1894 \nL 3597 1613 \nL 953 1613 \nQ 991 1019 1311 708 \nQ 1631 397 2203 397 \nQ 2534 397 2845 478 \nQ 3156 559 3463 722 \nL 3463 178 \nQ 3153 47 2828 -22 \nQ 2503 -91 2169 -91 \nQ 1331 -91 842 396 \nQ 353 884 353 1716 \nQ 353 2575 817 3079 \nQ 1281 3584 2069 3584 \nQ 2775 3584 3186 3129 \nQ 3597 2675 3597 1894 \nz\nM 3022 2063 \nQ 3016 2534 2758 2815 \nQ 2500 3097 2075 3097 \nQ 1594 3097 1305 2825 \nQ 1016 2553 972 2059 \nL 3022 2063 \nz\n\" transform=\"scale(0.015625)\"/>\n       <path id=\"DejaVuSans-61\" d=\"M 2194 1759 \nQ 1497 1759 1228 1600 \nQ 959 1441 959 1056 \nQ 959 750 1161 570 \nQ 1363 391 1709 391 \nQ 2188 391 2477 730 \nQ 2766 1069 2766 1631 \nL 2766 1759 \nL 2194 1759 \nz\nM 3341 1997 \nL 3341 0 \nL 2766 0 \nL 2766 531 \nQ 2569 213 2275 61 \nQ 1981 -91 1556 -91 \nQ 1019 -91 701 211 \nQ 384 513 384 1019 \nQ 384 1609 779 1909 \nQ 1175 2209 1959 2209 \nL 2766 2209 \nL 2766 2266 \nQ 2766 2663 2505 2880 \nQ 2244 3097 1772 3097 \nQ 1472 3097 1187 3025 \nQ 903 2953 641 2809 \nL 641 3341 \nQ 956 3463 1253 3523 \nQ 1550 3584 1831 3584 \nQ 2591 3584 2966 3190 \nQ 3341 2797 3341 1997 \nz\n\" transform=\"scale(0.015625)\"/>\n       <path id=\"DejaVuSans-20\" transform=\"scale(0.015625)\"/>\n       <path id=\"DejaVuSans-5b\" d=\"M 550 4863 \nL 1875 4863 \nL 1875 4416 \nL 1125 4416 \nL 1125 -397 \nL 1875 -397 \nL 1875 -844 \nL 550 -844 \nL 550 4863 \nz\n\" transform=\"scale(0.015625)\"/>\n       <path id=\"DejaVuSans-2c\" d=\"M 750 794 \nL 1409 794 \nL 1409 256 \nL 897 -744 \nL 494 -744 \nL 750 256 \nL 750 794 \nz\n\" transform=\"scale(0.015625)\"/>\n       <path id=\"DejaVuSans-70\" d=\"M 1159 525 \nL 1159 -1331 \nL 581 -1331 \nL 581 3500 \nL 1159 3500 \nL 1159 2969 \nQ 1341 3281 1617 3432 \nQ 1894 3584 2278 3584 \nQ 2916 3584 3314 3078 \nQ 3713 2572 3713 1747 \nQ 3713 922 3314 415 \nQ 2916 -91 2278 -91 \nQ 1894 -91 1617 61 \nQ 1341 213 1159 525 \nz\nM 3116 1747 \nQ 3116 2381 2855 2742 \nQ 2594 3103 2138 3103 \nQ 1681 3103 1420 2742 \nQ 1159 2381 1159 1747 \nQ 1159 1113 1420 752 \nQ 1681 391 2138 391 \nQ 2594 391 2855 752 \nQ 3116 1113 3116 1747 \nz\n\" transform=\"scale(0.015625)\"/>\n       <path id=\"DejaVuSans-69\" d=\"M 603 3500 \nL 1178 3500 \nL 1178 0 \nL 603 0 \nL 603 3500 \nz\nM 603 4863 \nL 1178 4863 \nL 1178 4134 \nL 603 4134 \nL 603 4863 \nz\n\" transform=\"scale(0.015625)\"/>\n       <path id=\"DejaVuSans-29\" d=\"M 513 4856 \nL 1013 4856 \nQ 1481 4119 1714 3412 \nQ 1947 2706 1947 2009 \nQ 1947 1309 1714 600 \nQ 1481 -109 1013 -844 \nL 513 -844 \nQ 928 -128 1133 580 \nQ 1338 1288 1338 2009 \nQ 1338 2731 1133 3434 \nQ 928 4138 513 4856 \nz\n\" transform=\"scale(0.015625)\"/>\n      </defs>\n      <use xlink:href=\"#DejaVuSans-74\"/>\n      <use xlink:href=\"#DejaVuSans-68\" x=\"39.208984\"/>\n      <use xlink:href=\"#DejaVuSans-65\" x=\"102.587891\"/>\n      <use xlink:href=\"#DejaVuSans-74\" x=\"164.111328\"/>\n      <use xlink:href=\"#DejaVuSans-61\" x=\"203.320312\"/>\n      <use xlink:href=\"#DejaVuSans-20\" x=\"264.599609\"/>\n      <use xlink:href=\"#DejaVuSans-5b\" x=\"296.386719\"/>\n      <use xlink:href=\"#DejaVuSans-30\" x=\"335.400391\"/>\n      <use xlink:href=\"#DejaVuSans-2c\" x=\"399.023438\"/>\n      <use xlink:href=\"#DejaVuSans-20\" x=\"430.810547\"/>\n      <use xlink:href=\"#DejaVuSans-32\" x=\"462.597656\"/>\n      <use xlink:href=\"#DejaVuSans-70\" x=\"526.220703\"/>\n      <use xlink:href=\"#DejaVuSans-69\" x=\"589.697266\"/>\n      <use xlink:href=\"#DejaVuSans-29\" x=\"617.480469\"/>\n     </g>\n    </g>\n   </g>\n   <g id=\"matplotlib.axis_2\">\n    <g id=\"ytick_1\">\n     <g id=\"line2d_8\">\n      <defs>\n       <path id=\"mc343ea2f47\" d=\"M 0 0 \nL -3.5 0 \n\" style=\"stroke: #000000; stroke-width: 0.8\"/>\n      </defs>\n      <g>\n       <use xlink:href=\"#mc343ea2f47\" x=\"48.982813\" y=\"262.076273\" style=\"stroke: #000000; stroke-width: 0.8\"/>\n      </g>\n     </g>\n     <g id=\"text_9\">\n      <!-- −10 -->\n      <g transform=\"translate(20.878125 265.875492) scale(0.1 -0.1)\">\n       <defs>\n        <path id=\"DejaVuSans-2212\" d=\"M 678 2272 \nL 4684 2272 \nL 4684 1741 \nL 678 1741 \nL 678 2272 \nz\n\" transform=\"scale(0.015625)\"/>\n       </defs>\n       <use xlink:href=\"#DejaVuSans-2212\"/>\n       <use xlink:href=\"#DejaVuSans-31\" x=\"83.789062\"/>\n       <use xlink:href=\"#DejaVuSans-30\" x=\"147.412109\"/>\n      </g>\n     </g>\n    </g>\n    <g id=\"ytick_2\">\n     <g id=\"line2d_9\">\n      <g>\n       <use xlink:href=\"#mc343ea2f47\" x=\"48.982813\" y=\"213.913686\" style=\"stroke: #000000; stroke-width: 0.8\"/>\n      </g>\n     </g>\n     <g id=\"text_10\">\n      <!-- −5 -->\n      <g transform=\"translate(27.240625 217.712905) scale(0.1 -0.1)\">\n       <use xlink:href=\"#DejaVuSans-2212\"/>\n       <use xlink:href=\"#DejaVuSans-35\" x=\"83.789062\"/>\n      </g>\n     </g>\n    </g>\n    <g id=\"ytick_3\">\n     <g id=\"line2d_10\">\n      <g>\n       <use xlink:href=\"#mc343ea2f47\" x=\"48.982813\" y=\"165.751099\" style=\"stroke: #000000; stroke-width: 0.8\"/>\n      </g>\n     </g>\n     <g id=\"text_11\">\n      <!-- 0 -->\n      <g transform=\"translate(35.620313 169.550318) scale(0.1 -0.1)\">\n       <use xlink:href=\"#DejaVuSans-30\"/>\n      </g>\n     </g>\n    </g>\n    <g id=\"ytick_4\">\n     <g id=\"line2d_11\">\n      <g>\n       <use xlink:href=\"#mc343ea2f47\" x=\"48.982813\" y=\"117.588512\" style=\"stroke: #000000; stroke-width: 0.8\"/>\n      </g>\n     </g>\n     <g id=\"text_12\">\n      <!-- 5 -->\n      <g transform=\"translate(35.620313 121.387731) scale(0.1 -0.1)\">\n       <use xlink:href=\"#DejaVuSans-35\"/>\n      </g>\n     </g>\n    </g>\n    <g id=\"ytick_5\">\n     <g id=\"line2d_12\">\n      <g>\n       <use xlink:href=\"#mc343ea2f47\" x=\"48.982813\" y=\"69.425925\" style=\"stroke: #000000; stroke-width: 0.8\"/>\n      </g>\n     </g>\n     <g id=\"text_13\">\n      <!-- 10 -->\n      <g transform=\"translate(29.257813 73.225143) scale(0.1 -0.1)\">\n       <use xlink:href=\"#DejaVuSans-31\"/>\n       <use xlink:href=\"#DejaVuSans-30\" x=\"63.623047\"/>\n      </g>\n     </g>\n    </g>\n    <g id=\"ytick_6\">\n     <g id=\"line2d_13\">\n      <g>\n       <use xlink:href=\"#mc343ea2f47\" x=\"48.982813\" y=\"21.263338\" style=\"stroke: #000000; stroke-width: 0.8\"/>\n      </g>\n     </g>\n     <g id=\"text_14\">\n      <!-- 15 -->\n      <g transform=\"translate(29.257813 25.062556) scale(0.1 -0.1)\">\n       <use xlink:href=\"#DejaVuSans-31\"/>\n       <use xlink:href=\"#DejaVuSans-35\" x=\"63.623047\"/>\n      </g>\n     </g>\n    </g>\n    <g id=\"text_15\">\n     <!-- f(g) -->\n     <g transform=\"translate(14.798438 149.091937) rotate(-90) scale(0.1 -0.1)\">\n      <defs>\n       <path id=\"DejaVuSans-66\" d=\"M 2375 4863 \nL 2375 4384 \nL 1825 4384 \nQ 1516 4384 1395 4259 \nQ 1275 4134 1275 3809 \nL 1275 3500 \nL 2222 3500 \nL 2222 3053 \nL 1275 3053 \nL 1275 0 \nL 697 0 \nL 697 3053 \nL 147 3053 \nL 147 3500 \nL 697 3500 \nL 697 3744 \nQ 697 4328 969 4595 \nQ 1241 4863 1831 4863 \nL 2375 4863 \nz\n\" transform=\"scale(0.015625)\"/>\n       <path id=\"DejaVuSans-28\" d=\"M 1984 4856 \nQ 1566 4138 1362 3434 \nQ 1159 2731 1159 2009 \nQ 1159 1288 1364 580 \nQ 1569 -128 1984 -844 \nL 1484 -844 \nQ 1016 -109 783 600 \nQ 550 1309 550 2009 \nQ 550 2706 781 3412 \nQ 1013 4119 1484 4856 \nL 1984 4856 \nz\n\" transform=\"scale(0.015625)\"/>\n       <path id=\"DejaVuSans-67\" d=\"M 2906 1791 \nQ 2906 2416 2648 2759 \nQ 2391 3103 1925 3103 \nQ 1463 3103 1205 2759 \nQ 947 2416 947 1791 \nQ 947 1169 1205 825 \nQ 1463 481 1925 481 \nQ 2391 481 2648 825 \nQ 2906 1169 2906 1791 \nz\nM 3481 434 \nQ 3481 -459 3084 -895 \nQ 2688 -1331 1869 -1331 \nQ 1566 -1331 1297 -1286 \nQ 1028 -1241 775 -1147 \nL 775 -588 \nQ 1028 -725 1275 -790 \nQ 1522 -856 1778 -856 \nQ 2344 -856 2625 -561 \nQ 2906 -266 2906 331 \nL 2906 616 \nQ 2728 306 2450 153 \nQ 2172 0 1784 0 \nQ 1141 0 747 490 \nQ 353 981 353 1791 \nQ 353 2603 747 3093 \nQ 1141 3584 1784 3584 \nQ 2172 3584 2450 3431 \nQ 2728 3278 2906 2969 \nL 2906 3500 \nL 3481 3500 \nL 3481 434 \nz\n\" transform=\"scale(0.015625)\"/>\n      </defs>\n      <use xlink:href=\"#DejaVuSans-66\"/>\n      <use xlink:href=\"#DejaVuSans-28\" x=\"35.205078\"/>\n      <use xlink:href=\"#DejaVuSans-67\" x=\"74.21875\"/>\n      <use xlink:href=\"#DejaVuSans-29\" x=\"137.695312\"/>\n     </g>\n    </g>\n   </g>\n   <g id=\"line2d_14\">\n    <path d=\"M 65.21554 129.358165 \nL 68.494879 118.84039 \nL 71.774217 107.367266 \nL 75.053556 94.566473 \nL 78.332895 80.838785 \nL 81.612234 67.359714 \nL 84.891573 55.880849 \nL 88.170912 48.369637 \nL 91.450251 46.562528 \nL 94.729589 51.527419 \nL 98.008928 63.332726 \nL 101.288267 80.901488 \nL 104.567606 102.093282 \nL 107.846945 124.011141 \nL 111.126284 143.484257 \nL 114.405622 157.639204 \nL 117.684961 164.450678 \nL 120.9643 163.161976 \nL 124.243639 154.486435 \nL 127.522978 140.540182 \nL 130.802317 124.50671 \nL 134.081655 110.085475 \nL 137.360994 100.819936 \nL 140.640333 99.426727 \nL 143.919672 107.251456 \nL 147.199011 123.95674 \nL 150.47835 147.50778 \nL 153.757689 174.467197 \nL 157.037027 200.553889 \nL 160.316366 221.370943 \nL 163.595705 233.174607 \nL 166.875044 233.546397 \nL 170.154383 221.84585 \nL 173.433722 199.359607 \nL 176.71306 169.116634 \nL 179.992399 135.39963 \nL 183.271738 103.037842 \nL 186.551077 76.606436 \nL 189.830416 59.674756 \nL 193.109755 54.236904 \nL 196.389093 60.42476 \nL 199.668432 76.551783 \nL 202.947771 99.475398 \nL 206.22711 125.207577 \nL 209.506449 149.658257 \nL 212.785788 169.372793 \nL 216.065127 182.127086 \nL 219.344465 187.271874 \nL 222.623804 185.765635 \nL 225.903143 179.894711 \nL 229.182482 172.738376 \nL 232.461821 167.484709 \nL 235.74116 166.731121 \nL 239.020498 171.906026 \nL 242.299837 182.924976 \nL 245.579176 198.149889 \nL 248.858515 214.662219 \nL 252.137854 228.800942 \nL 255.417193 236.865282 \nL 258.696532 235.849873 \nL 261.97587 224.072553 \nL 265.255209 201.573783 \nL 268.534548 170.208254 \nL 271.813887 133.405936 \nL 275.093226 95.641028 \nL 278.372565 61.701667 \nL 281.651903 35.890634 \nL 284.931242 21.300794 \nL 288.210581 19.296 \nL 291.48992 29.291252 \nL 294.769259 48.871685 \nL 298.048598 74.228683 \nL 301.327936 100.834236 \nL 304.607275 124.232164 \nL 307.886614 140.804654 \nL 311.165953 148.378307 \nL 314.445292 146.564261 \nL 317.724631 136.77612 \nL 321.00397 121.928205 \nL 324.283308 105.874091 \nL 327.562647 92.691029 \nL 330.841986 85.941434 \nL 334.121325 88.043815 \nL 337.400664 99.862516 \nL 340.680003 120.583154 \nL 343.959341 147.886941 \nL 347.23868 178.382336 \nL 350.518019 208.206948 \nL 353.797358 233.684477 \nL 357.076697 251.915706 \nL 360.356036 261.199532 \nL 363.635374 261.216 \nL 366.914713 252.950984 \nL 370.194052 238.391975 \nL 373.473391 220.066942 \nL 376.75273 200.525259 \nL 380.032069 181.866457 \nL 383.311408 165.408218 \nL 386.590746 151.552937 \nL 389.870085 139.869061 \n\" clip-path=\"url(#p3166604456)\" style=\"fill: none; stroke: #1f77b4; stroke-width: 2; stroke-linecap: square\"/>\n   </g>\n   <g id=\"line2d_15\">\n    <path d=\"M 65.21554 168.167745 \nL 68.494879 167.924337 \nL 71.774217 169.561493 \nL 75.053556 172.164845 \nL 78.332895 174.730767 \nL 81.612234 176.401589 \nL 84.891573 176.660996 \nL 88.170912 175.450118 \nL 91.450251 173.181425 \nL 94.729589 170.648396 \nL 98.008928 168.849977 \nL 101.288267 168.765874 \nL 104.567606 171.128511 \nL 107.846945 176.238144 \nL 111.126284 183.859109 \nL 114.405622 193.219242 \nL 117.684961 203.114227 \nL 120.9643 212.098181 \nL 124.243639 218.724881 \nL 127.522978 221.7943 \nL 130.802317 220.558097 \nL 134.081655 214.84577 \nL 137.360994 205.088616 \nL 140.640333 192.238395 \nL 143.919672 177.597801 \nL 147.199011 162.596526 \nL 150.47835 148.55662 \nL 153.757689 136.492074 \nL 157.037027 126.97991 \nL 160.316366 120.125067 \nL 163.595705 115.622108 \nL 166.875044 112.896981 \nL 170.154383 111.295857 \nL 173.433722 110.27853 \nL 176.71306 109.573146 \nL 179.992399 109.257136 \nL 183.271738 109.744743 \nL 186.551077 111.681348 \nL 189.830416 115.764936 \nL 193.109755 122.5315 \nL 196.389093 132.150473 \nL 199.668432 144.276438 \nL 202.947771 157.994086 \nL 206.22711 171.87627 \nL 209.506449 184.153249 \nL 212.785788 192.968918 \nL 216.065127 196.681394 \nL 219.344465 194.154461 \nL 222.623804 184.985362 \nL 225.903143 169.623795 \nL 229.182482 149.355197 \nL 232.461821 126.145273 \nL 235.74116 102.367858 \nL 239.020498 80.459962 \nL 242.299837 62.562017 \nL 245.579176 50.205183 \nL 248.858515 44.100159 \nL 252.137854 44.064498 \nL 255.417193 49.100936 \nL 258.696532 57.612286 \nL 261.97587 67.713811 \nL 265.255209 77.586331 \nL 268.534548 85.805944 \nL 271.813887 91.590528 \nL 275.093226 94.918515 \nL 278.372565 96.498937 \nL 281.651903 97.59923 \nL 284.931242 99.76363 \nL 288.210581 104.475354 \nL 291.48992 112.826403 \nL 294.769259 125.257623 \nL 298.048598 141.418997 \nL 301.327936 160.178084 \nL 304.607275 179.777321 \nL 307.886614 198.113434 \nL 311.165953 213.089523 \nL 314.445292 222.976764 \nL 317.724631 226.720458 \nL 321.00397 224.134925 \nL 324.283308 215.951536 \nL 327.562647 203.710516 \nL 330.841986 189.515057 \nL 334.121325 175.690791 \nL 337.400664 164.410278 \nL 340.680003 157.347888 \nL 343.959341 155.424421 \nL 347.23868 158.684106 \nL 350.518019 166.322545 \nL 353.797358 176.857059 \nL 357.076697 188.405855 \nL 360.356036 199.023849 \nL 363.635374 207.034335 \nL 366.914713 211.298155 \nL 370.194052 211.375123 \nL 373.473391 207.553468 \nL 376.75273 200.74792 \nL 380.032069 192.291155 \nL 383.311408 183.662081 \nL 386.590746 176.204606 \nL 389.870085 170.890258 \n\" clip-path=\"url(#p3166604456)\" style=\"fill: none; stroke: #ff7f0e; stroke-width: 2; stroke-linecap: square\"/>\n   </g>\n   <g id=\"patch_3\">\n    <path d=\"M 48.982813 273.312 \nL 48.982813 7.2 \n\" style=\"fill: none; stroke: #000000; stroke-width: 0.8; stroke-linejoin: miter; stroke-linecap: square\"/>\n   </g>\n   <g id=\"patch_4\">\n    <path d=\"M 406.102813 273.312 \nL 406.102813 7.2 \n\" style=\"fill: none; stroke: #000000; stroke-width: 0.8; stroke-linejoin: miter; stroke-linecap: square\"/>\n   </g>\n   <g id=\"patch_5\">\n    <path d=\"M 48.982813 273.312 \nL 406.102813 273.312 \n\" style=\"fill: none; stroke: #000000; stroke-width: 0.8; stroke-linejoin: miter; stroke-linecap: square\"/>\n   </g>\n   <g id=\"patch_6\">\n    <path d=\"M 48.982813 7.2 \nL 406.102813 7.2 \n\" style=\"fill: none; stroke: #000000; stroke-width: 0.8; stroke-linejoin: miter; stroke-linecap: square\"/>\n   </g>\n   <g id=\"legend_1\">\n    <g id=\"patch_7\">\n     <path d=\"M 55.982813 44.55625 \nL 194.279688 44.55625 \nQ 196.279688 44.55625 196.279688 42.55625 \nL 196.279688 14.2 \nQ 196.279688 12.2 194.279688 12.2 \nL 55.982813 12.2 \nQ 53.982813 12.2 53.982813 14.2 \nL 53.982813 42.55625 \nQ 53.982813 44.55625 55.982813 44.55625 \nz\n\" style=\"fill: #ffffff; opacity: 0.8; stroke: #cccccc; stroke-linejoin: miter\"/>\n    </g>\n    <g id=\"line2d_16\">\n     <path d=\"M 57.982813 20.298437 \nL 67.982813 20.298437 \nL 77.982813 20.298437 \n\" style=\"fill: none; stroke: #1f77b4; stroke-width: 2; stroke-linecap: square\"/>\n    </g>\n    <g id=\"text_16\">\n     <!-- rotations -->\n     <g transform=\"translate(85.982813 23.798437) scale(0.1 -0.1)\">\n      <defs>\n       <path id=\"DejaVuSans-72\" d=\"M 2631 2963 \nQ 2534 3019 2420 3045 \nQ 2306 3072 2169 3072 \nQ 1681 3072 1420 2755 \nQ 1159 2438 1159 1844 \nL 1159 0 \nL 581 0 \nL 581 3500 \nL 1159 3500 \nL 1159 2956 \nQ 1341 3275 1631 3429 \nQ 1922 3584 2338 3584 \nQ 2397 3584 2469 3576 \nQ 2541 3569 2628 3553 \nL 2631 2963 \nz\n\" transform=\"scale(0.015625)\"/>\n       <path id=\"DejaVuSans-6f\" d=\"M 1959 3097 \nQ 1497 3097 1228 2736 \nQ 959 2375 959 1747 \nQ 959 1119 1226 758 \nQ 1494 397 1959 397 \nQ 2419 397 2687 759 \nQ 2956 1122 2956 1747 \nQ 2956 2369 2687 2733 \nQ 2419 3097 1959 3097 \nz\nM 1959 3584 \nQ 2709 3584 3137 3096 \nQ 3566 2609 3566 1747 \nQ 3566 888 3137 398 \nQ 2709 -91 1959 -91 \nQ 1206 -91 779 398 \nQ 353 888 353 1747 \nQ 353 2609 779 3096 \nQ 1206 3584 1959 3584 \nz\n\" transform=\"scale(0.015625)\"/>\n       <path id=\"DejaVuSans-6e\" d=\"M 3513 2113 \nL 3513 0 \nL 2938 0 \nL 2938 2094 \nQ 2938 2591 2744 2837 \nQ 2550 3084 2163 3084 \nQ 1697 3084 1428 2787 \nQ 1159 2491 1159 1978 \nL 1159 0 \nL 581 0 \nL 581 3500 \nL 1159 3500 \nL 1159 2956 \nQ 1366 3272 1645 3428 \nQ 1925 3584 2291 3584 \nQ 2894 3584 3203 3211 \nQ 3513 2838 3513 2113 \nz\n\" transform=\"scale(0.015625)\"/>\n       <path id=\"DejaVuSans-73\" d=\"M 2834 3397 \nL 2834 2853 \nQ 2591 2978 2328 3040 \nQ 2066 3103 1784 3103 \nQ 1356 3103 1142 2972 \nQ 928 2841 928 2578 \nQ 928 2378 1081 2264 \nQ 1234 2150 1697 2047 \nL 1894 2003 \nQ 2506 1872 2764 1633 \nQ 3022 1394 3022 966 \nQ 3022 478 2636 193 \nQ 2250 -91 1575 -91 \nQ 1294 -91 989 -36 \nQ 684 19 347 128 \nL 347 722 \nQ 666 556 975 473 \nQ 1284 391 1588 391 \nQ 1994 391 2212 530 \nQ 2431 669 2431 922 \nQ 2431 1156 2273 1281 \nQ 2116 1406 1581 1522 \nL 1381 1569 \nQ 847 1681 609 1914 \nQ 372 2147 372 2553 \nQ 372 3047 722 3315 \nQ 1072 3584 1716 3584 \nQ 2034 3584 2315 3537 \nQ 2597 3491 2834 3397 \nz\n\" transform=\"scale(0.015625)\"/>\n      </defs>\n      <use xlink:href=\"#DejaVuSans-72\"/>\n      <use xlink:href=\"#DejaVuSans-6f\" x=\"38.863281\"/>\n      <use xlink:href=\"#DejaVuSans-74\" x=\"100.044922\"/>\n      <use xlink:href=\"#DejaVuSans-61\" x=\"139.253906\"/>\n      <use xlink:href=\"#DejaVuSans-74\" x=\"200.533203\"/>\n      <use xlink:href=\"#DejaVuSans-69\" x=\"239.742188\"/>\n      <use xlink:href=\"#DejaVuSans-6f\" x=\"267.525391\"/>\n      <use xlink:href=\"#DejaVuSans-6e\" x=\"328.707031\"/>\n      <use xlink:href=\"#DejaVuSans-73\" x=\"392.085938\"/>\n     </g>\n    </g>\n    <g id=\"line2d_17\">\n     <path d=\"M 57.982813 34.976562 \nL 67.982813 34.976562 \nL 77.982813 34.976562 \n\" style=\"fill: none; stroke: #ff7f0e; stroke-width: 2; stroke-linecap: square\"/>\n    </g>\n    <g id=\"text_17\">\n     <!-- reflection + rotations -->\n     <g transform=\"translate(85.982813 38.476562) scale(0.1 -0.1)\">\n      <defs>\n       <path id=\"DejaVuSans-6c\" d=\"M 603 4863 \nL 1178 4863 \nL 1178 0 \nL 603 0 \nL 603 4863 \nz\n\" transform=\"scale(0.015625)\"/>\n       <path id=\"DejaVuSans-63\" d=\"M 3122 3366 \nL 3122 2828 \nQ 2878 2963 2633 3030 \nQ 2388 3097 2138 3097 \nQ 1578 3097 1268 2742 \nQ 959 2388 959 1747 \nQ 959 1106 1268 751 \nQ 1578 397 2138 397 \nQ 2388 397 2633 464 \nQ 2878 531 3122 666 \nL 3122 134 \nQ 2881 22 2623 -34 \nQ 2366 -91 2075 -91 \nQ 1284 -91 818 406 \nQ 353 903 353 1747 \nQ 353 2603 823 3093 \nQ 1294 3584 2113 3584 \nQ 2378 3584 2631 3529 \nQ 2884 3475 3122 3366 \nz\n\" transform=\"scale(0.015625)\"/>\n       <path id=\"DejaVuSans-2b\" d=\"M 2944 4013 \nL 2944 2272 \nL 4684 2272 \nL 4684 1741 \nL 2944 1741 \nL 2944 0 \nL 2419 0 \nL 2419 1741 \nL 678 1741 \nL 678 2272 \nL 2419 2272 \nL 2419 4013 \nL 2944 4013 \nz\n\" transform=\"scale(0.015625)\"/>\n      </defs>\n      <use xlink:href=\"#DejaVuSans-72\"/>\n      <use xlink:href=\"#DejaVuSans-65\" x=\"38.863281\"/>\n      <use xlink:href=\"#DejaVuSans-66\" x=\"100.386719\"/>\n      <use xlink:href=\"#DejaVuSans-6c\" x=\"135.591797\"/>\n      <use xlink:href=\"#DejaVuSans-65\" x=\"163.375\"/>\n      <use xlink:href=\"#DejaVuSans-63\" x=\"224.898438\"/>\n      <use xlink:href=\"#DejaVuSans-74\" x=\"279.878906\"/>\n      <use xlink:href=\"#DejaVuSans-69\" x=\"319.087891\"/>\n      <use xlink:href=\"#DejaVuSans-6f\" x=\"346.871094\"/>\n      <use xlink:href=\"#DejaVuSans-6e\" x=\"408.052734\"/>\n      <use xlink:href=\"#DejaVuSans-20\" x=\"471.431641\"/>\n      <use xlink:href=\"#DejaVuSans-2b\" x=\"503.21875\"/>\n      <use xlink:href=\"#DejaVuSans-20\" x=\"587.007812\"/>\n      <use xlink:href=\"#DejaVuSans-72\" x=\"618.794922\"/>\n      <use xlink:href=\"#DejaVuSans-6f\" x=\"657.658203\"/>\n      <use xlink:href=\"#DejaVuSans-74\" x=\"718.839844\"/>\n      <use xlink:href=\"#DejaVuSans-61\" x=\"758.048828\"/>\n      <use xlink:href=\"#DejaVuSans-74\" x=\"819.328125\"/>\n      <use xlink:href=\"#DejaVuSans-69\" x=\"858.537109\"/>\n      <use xlink:href=\"#DejaVuSans-6f\" x=\"886.320312\"/>\n      <use xlink:href=\"#DejaVuSans-6e\" x=\"947.501953\"/>\n      <use xlink:href=\"#DejaVuSans-73\" x=\"1010.880859\"/>\n     </g>\n    </g>\n   </g>\n  </g>\n </g>\n <defs>\n  <clipPath id=\"p3166604456\">\n   <rect x=\"48.982813\" y=\"7.2\" width=\"357.12\" height=\"266.112\"/>\n  </clipPath>\n </defs>\n</svg>\n",
            "application/pdf": "[encoded data removed]"
          },
          "metadata": {}
        }
      ],
      "source": [
        "irreps = [G.irrep(0, 0)] + [G.irrep(1, j) for j in range(8)]\n",
        "\n",
        "ft = {\n",
        "    rho.id: np.random.randn(rho.size, rho.size)\n",
        "    for rho in irreps\n",
        "}\n",
        "\n",
        "f_rot = [\n",
        "    inverse_fourier_transform_O2(g, ft) for g in grid_rot\n",
        "]\n",
        "f_refl = [\n",
        "    inverse_fourier_transform_O2(g, ft) for g in grid_refl\n",
        "]\n",
        "\n",
        "\n",
        "plt.plot(thetas, f_rot, label='rotations')\n",
        "plt.plot(thetas, f_refl, label='reflection + rotations')\n",
        "plt.xlabel('theta [0, 2pi)')\n",
        "plt.ylabel('f(g)')\n",
        "plt.legend()\n",
        "plt.show()"
      ]
    },
    {
      "cell_type": "markdown",
      "metadata": {
        "id": "GJ-VvAUmcQLr"
      },
      "source": [
        "#### Fourier Transform of shifted functions\n",
        "\n",
        "Recall that a group element $g \\in G$ can act on a function $f: G \\to \\mathbb{R}$ as:\n",
        "$$ [g.f](h) = f(g^{-1}h) \\ .$$\n",
        "\n",
        "A useful property in our previously defined Fourier Transform is that the transform of $f$ and of $[g.f]$ are related as follows:\n",
        "$$\\widehat{g.f}(\\rho_j) = \\rho_j(g) \\widehat{f} $$\n",
        "\n",
        "for any irrep $\\rho_j$."
      ]
    },
    {
      "cell_type": "markdown",
      "metadata": {
        "id": "7QtTiJ6fcQLr"
      },
      "source": [
        "We can verify this property visually:"
      ]
    },
    {
      "cell_type": "code",
      "execution_count": null,
      "metadata": {
        "id": "RaPtUhgxcQLr",
        "colab": {
          "base_uri": "https://localhost:8080/",
          "height": 912
        },
        "outputId": "e2315c98-9d9d-4c31-d380-aa858124f793"
      },
      "outputs": [
        {
          "output_type": "stream",
          "name": "stdout",
          "text": [
            "Transforming the function with g=(-, 3.183721695074769)\n"
          ]
        },
        {
          "output_type": "display_data",
          "data": {
            "text/plain": [
              "<Figure size 640x480 with 1 Axes>"
            ],
            "image/svg+xml": "<?xml version=\"1.0\" encoding=\"utf-8\" standalone=\"no\"?>\n<!DOCTYPE svg PUBLIC \"-//W3C//DTD SVG 1.1//EN\"\n  \"http://www.w3.org/Graphics/SVG/1.1/DTD/svg11.dtd\">\n<svg xmlns:xlink=\"http://www.w3.org/1999/xlink\" width=\"413.302812pt\" height=\"325.986375pt\" viewBox=\"0 0 413.302812 325.986375\" xmlns=\"http://www.w3.org/2000/svg\" version=\"1.1\">\n <metadata>\n  <rdf:RDF xmlns:dc=\"http://purl.org/dc/elements/1.1/\" xmlns:cc=\"http://creativecommons.org/ns#\" xmlns:rdf=\"http://www.w3.org/1999/02/22-rdf-syntax-ns#\">\n   <cc:Work>\n    <dc:type rdf:resource=\"http://purl.org/dc/dcmitype/StillImage\"/>\n    <dc:date>2023-11-27T19:28:56.511435</dc:date>\n    <dc:format>image/svg+xml</dc:format>\n    <dc:creator>\n     <cc:Agent>\n      <dc:title>Matplotlib v3.7.1, https://matplotlib.org/</dc:title>\n     </cc:Agent>\n    </dc:creator>\n   </cc:Work>\n  </rdf:RDF>\n </metadata>\n <defs>\n  <style type=\"text/css\">*{stroke-linejoin: round; stroke-linecap: butt}</style>\n </defs>\n <g id=\"figure_1\">\n  <g id=\"patch_1\">\n   <path d=\"M 0 325.986375 \nL 413.302812 325.986375 \nL 413.302812 0 \nL 0 0 \nz\n\" style=\"fill: #ffffff\"/>\n  </g>\n  <g id=\"axes_1\">\n   <g id=\"patch_2\">\n    <path d=\"M 48.982813 288.430125 \nL 406.102813 288.430125 \nL 406.102813 22.318125 \nL 48.982813 22.318125 \nz\n\" style=\"fill: #ffffff\"/>\n   </g>\n   <g id=\"matplotlib.axis_1\">\n    <g id=\"xtick_1\">\n     <g id=\"line2d_1\">\n      <defs>\n       <path id=\"m5bf7400aff\" d=\"M 0 0 \nL 0 3.5 \n\" style=\"stroke: #000000; stroke-width: 0.8\"/>\n      </defs>\n      <g>\n       <use xlink:href=\"#m5bf7400aff\" x=\"65.21554\" y=\"288.430125\" style=\"stroke: #000000; stroke-width: 0.8\"/>\n      </g>\n     </g>\n     <g id=\"text_1\">\n      <!-- 0 -->\n      <g transform=\"translate(62.03429 303.028562) scale(0.1 -0.1)\">\n       <defs>\n        <path id=\"DejaVuSans-30\" d=\"M 2034 4250 \nQ 1547 4250 1301 3770 \nQ 1056 3291 1056 2328 \nQ 1056 1369 1301 889 \nQ 1547 409 2034 409 \nQ 2525 409 2770 889 \nQ 3016 1369 3016 2328 \nQ 3016 3291 2770 3770 \nQ 2525 4250 2034 4250 \nz\nM 2034 4750 \nQ 2819 4750 3233 4129 \nQ 3647 3509 3647 2328 \nQ 3647 1150 3233 529 \nQ 2819 -91 2034 -91 \nQ 1250 -91 836 529 \nQ 422 1150 422 2328 \nQ 422 3509 836 4129 \nQ 1250 4750 2034 4750 \nz\n\" transform=\"scale(0.015625)\"/>\n       </defs>\n       <use xlink:href=\"#DejaVuSans-30\"/>\n      </g>\n     </g>\n    </g>\n    <g id=\"xtick_2\">\n     <g id=\"line2d_2\">\n      <g>\n       <use xlink:href=\"#m5bf7400aff\" x=\"117.407838\" y=\"288.430125\" style=\"stroke: #000000; stroke-width: 0.8\"/>\n      </g>\n     </g>\n     <g id=\"text_2\">\n      <!-- 1 -->\n      <g transform=\"translate(114.226588 303.028562) scale(0.1 -0.1)\">\n       <defs>\n        <path id=\"DejaVuSans-31\" d=\"M 794 531 \nL 1825 531 \nL 1825 4091 \nL 703 3866 \nL 703 4441 \nL 1819 4666 \nL 2450 4666 \nL 2450 531 \nL 3481 531 \nL 3481 0 \nL 794 0 \nL 794 531 \nz\n\" transform=\"scale(0.015625)\"/>\n       </defs>\n       <use xlink:href=\"#DejaVuSans-31\"/>\n      </g>\n     </g>\n    </g>\n    <g id=\"xtick_3\">\n     <g id=\"line2d_3\">\n      <g>\n       <use xlink:href=\"#m5bf7400aff\" x=\"169.600137\" y=\"288.430125\" style=\"stroke: #000000; stroke-width: 0.8\"/>\n      </g>\n     </g>\n     <g id=\"text_3\">\n      <!-- 2 -->\n      <g transform=\"translate(166.418887 303.028562) scale(0.1 -0.1)\">\n       <defs>\n        <path id=\"DejaVuSans-32\" d=\"M 1228 531 \nL 3431 531 \nL 3431 0 \nL 469 0 \nL 469 531 \nQ 828 903 1448 1529 \nQ 2069 2156 2228 2338 \nQ 2531 2678 2651 2914 \nQ 2772 3150 2772 3378 \nQ 2772 3750 2511 3984 \nQ 2250 4219 1831 4219 \nQ 1534 4219 1204 4116 \nQ 875 4013 500 3803 \nL 500 4441 \nQ 881 4594 1212 4672 \nQ 1544 4750 1819 4750 \nQ 2544 4750 2975 4387 \nQ 3406 4025 3406 3419 \nQ 3406 3131 3298 2873 \nQ 3191 2616 2906 2266 \nQ 2828 2175 2409 1742 \nQ 1991 1309 1228 531 \nz\n\" transform=\"scale(0.015625)\"/>\n       </defs>\n       <use xlink:href=\"#DejaVuSans-32\"/>\n      </g>\n     </g>\n    </g>\n    <g id=\"xtick_4\">\n     <g id=\"line2d_4\">\n      <g>\n       <use xlink:href=\"#m5bf7400aff\" x=\"221.792436\" y=\"288.430125\" style=\"stroke: #000000; stroke-width: 0.8\"/>\n      </g>\n     </g>\n     <g id=\"text_4\">\n      <!-- 3 -->\n      <g transform=\"translate(218.611186 303.028562) scale(0.1 -0.1)\">\n       <defs>\n        <path id=\"DejaVuSans-33\" d=\"M 2597 2516 \nQ 3050 2419 3304 2112 \nQ 3559 1806 3559 1356 \nQ 3559 666 3084 287 \nQ 2609 -91 1734 -91 \nQ 1441 -91 1130 -33 \nQ 819 25 488 141 \nL 488 750 \nQ 750 597 1062 519 \nQ 1375 441 1716 441 \nQ 2309 441 2620 675 \nQ 2931 909 2931 1356 \nQ 2931 1769 2642 2001 \nQ 2353 2234 1838 2234 \nL 1294 2234 \nL 1294 2753 \nL 1863 2753 \nQ 2328 2753 2575 2939 \nQ 2822 3125 2822 3475 \nQ 2822 3834 2567 4026 \nQ 2313 4219 1838 4219 \nQ 1578 4219 1281 4162 \nQ 984 4106 628 3988 \nL 628 4550 \nQ 988 4650 1302 4700 \nQ 1616 4750 1894 4750 \nQ 2613 4750 3031 4423 \nQ 3450 4097 3450 3541 \nQ 3450 3153 3228 2886 \nQ 3006 2619 2597 2516 \nz\n\" transform=\"scale(0.015625)\"/>\n       </defs>\n       <use xlink:href=\"#DejaVuSans-33\"/>\n      </g>\n     </g>\n    </g>\n    <g id=\"xtick_5\">\n     <g id=\"line2d_5\">\n      <g>\n       <use xlink:href=\"#m5bf7400aff\" x=\"273.984735\" y=\"288.430125\" style=\"stroke: #000000; stroke-width: 0.8\"/>\n      </g>\n     </g>\n     <g id=\"text_5\">\n      <!-- 4 -->\n      <g transform=\"translate(270.803485 303.028562) scale(0.1 -0.1)\">\n       <defs>\n        <path id=\"DejaVuSans-34\" d=\"M 2419 4116 \nL 825 1625 \nL 2419 1625 \nL 2419 4116 \nz\nM 2253 4666 \nL 3047 4666 \nL 3047 1625 \nL 3713 1625 \nL 3713 1100 \nL 3047 1100 \nL 3047 0 \nL 2419 0 \nL 2419 1100 \nL 313 1100 \nL 313 1709 \nL 2253 4666 \nz\n\" transform=\"scale(0.015625)\"/>\n       </defs>\n       <use xlink:href=\"#DejaVuSans-34\"/>\n      </g>\n     </g>\n    </g>\n    <g id=\"xtick_6\">\n     <g id=\"line2d_6\">\n      <g>\n       <use xlink:href=\"#m5bf7400aff\" x=\"326.177033\" y=\"288.430125\" style=\"stroke: #000000; stroke-width: 0.8\"/>\n      </g>\n     </g>\n     <g id=\"text_6\">\n      <!-- 5 -->\n      <g transform=\"translate(322.995783 303.028562) scale(0.1 -0.1)\">\n       <defs>\n        <path id=\"DejaVuSans-35\" d=\"M 691 4666 \nL 3169 4666 \nL 3169 4134 \nL 1269 4134 \nL 1269 2991 \nQ 1406 3038 1543 3061 \nQ 1681 3084 1819 3084 \nQ 2600 3084 3056 2656 \nQ 3513 2228 3513 1497 \nQ 3513 744 3044 326 \nQ 2575 -91 1722 -91 \nQ 1428 -91 1123 -41 \nQ 819 9 494 109 \nL 494 744 \nQ 775 591 1075 516 \nQ 1375 441 1709 441 \nQ 2250 441 2565 725 \nQ 2881 1009 2881 1497 \nQ 2881 1984 2565 2268 \nQ 2250 2553 1709 2553 \nQ 1456 2553 1204 2497 \nQ 953 2441 691 2322 \nL 691 4666 \nz\n\" transform=\"scale(0.015625)\"/>\n       </defs>\n       <use xlink:href=\"#DejaVuSans-35\"/>\n      </g>\n     </g>\n    </g>\n    <g id=\"xtick_7\">\n     <g id=\"line2d_7\">\n      <g>\n       <use xlink:href=\"#m5bf7400aff\" x=\"378.369332\" y=\"288.430125\" style=\"stroke: #000000; stroke-width: 0.8\"/>\n      </g>\n     </g>\n     <g id=\"text_7\">\n      <!-- 6 -->\n      <g transform=\"translate(375.188082 303.028562) scale(0.1 -0.1)\">\n       <defs>\n        <path id=\"DejaVuSans-36\" d=\"M 2113 2584 \nQ 1688 2584 1439 2293 \nQ 1191 2003 1191 1497 \nQ 1191 994 1439 701 \nQ 1688 409 2113 409 \nQ 2538 409 2786 701 \nQ 3034 994 3034 1497 \nQ 3034 2003 2786 2293 \nQ 2538 2584 2113 2584 \nz\nM 3366 4563 \nL 3366 3988 \nQ 3128 4100 2886 4159 \nQ 2644 4219 2406 4219 \nQ 1781 4219 1451 3797 \nQ 1122 3375 1075 2522 \nQ 1259 2794 1537 2939 \nQ 1816 3084 2150 3084 \nQ 2853 3084 3261 2657 \nQ 3669 2231 3669 1497 \nQ 3669 778 3244 343 \nQ 2819 -91 2113 -91 \nQ 1303 -91 875 529 \nQ 447 1150 447 2328 \nQ 447 3434 972 4092 \nQ 1497 4750 2381 4750 \nQ 2619 4750 2861 4703 \nQ 3103 4656 3366 4563 \nz\n\" transform=\"scale(0.015625)\"/>\n       </defs>\n       <use xlink:href=\"#DejaVuSans-36\"/>\n      </g>\n     </g>\n    </g>\n    <g id=\"text_8\">\n     <!-- theta [0, 2pi) -->\n     <g transform=\"translate(194.718594 316.706687) scale(0.1 -0.1)\">\n      <defs>\n       <path id=\"DejaVuSans-74\" d=\"M 1172 4494 \nL 1172 3500 \nL 2356 3500 \nL 2356 3053 \nL 1172 3053 \nL 1172 1153 \nQ 1172 725 1289 603 \nQ 1406 481 1766 481 \nL 2356 481 \nL 2356 0 \nL 1766 0 \nQ 1100 0 847 248 \nQ 594 497 594 1153 \nL 594 3053 \nL 172 3053 \nL 172 3500 \nL 594 3500 \nL 594 4494 \nL 1172 4494 \nz\n\" transform=\"scale(0.015625)\"/>\n       <path id=\"DejaVuSans-68\" d=\"M 3513 2113 \nL 3513 0 \nL 2938 0 \nL 2938 2094 \nQ 2938 2591 2744 2837 \nQ 2550 3084 2163 3084 \nQ 1697 3084 1428 2787 \nQ 1159 2491 1159 1978 \nL 1159 0 \nL 581 0 \nL 581 4863 \nL 1159 4863 \nL 1159 2956 \nQ 1366 3272 1645 3428 \nQ 1925 3584 2291 3584 \nQ 2894 3584 3203 3211 \nQ 3513 2838 3513 2113 \nz\n\" transform=\"scale(0.015625)\"/>\n       <path id=\"DejaVuSans-65\" d=\"M 3597 1894 \nL 3597 1613 \nL 953 1613 \nQ 991 1019 1311 708 \nQ 1631 397 2203 397 \nQ 2534 397 2845 478 \nQ 3156 559 3463 722 \nL 3463 178 \nQ 3153 47 2828 -22 \nQ 2503 -91 2169 -91 \nQ 1331 -91 842 396 \nQ 353 884 353 1716 \nQ 353 2575 817 3079 \nQ 1281 3584 2069 3584 \nQ 2775 3584 3186 3129 \nQ 3597 2675 3597 1894 \nz\nM 3022 2063 \nQ 3016 2534 2758 2815 \nQ 2500 3097 2075 3097 \nQ 1594 3097 1305 2825 \nQ 1016 2553 972 2059 \nL 3022 2063 \nz\n\" transform=\"scale(0.015625)\"/>\n       <path id=\"DejaVuSans-61\" d=\"M 2194 1759 \nQ 1497 1759 1228 1600 \nQ 959 1441 959 1056 \nQ 959 750 1161 570 \nQ 1363 391 1709 391 \nQ 2188 391 2477 730 \nQ 2766 1069 2766 1631 \nL 2766 1759 \nL 2194 1759 \nz\nM 3341 1997 \nL 3341 0 \nL 2766 0 \nL 2766 531 \nQ 2569 213 2275 61 \nQ 1981 -91 1556 -91 \nQ 1019 -91 701 211 \nQ 384 513 384 1019 \nQ 384 1609 779 1909 \nQ 1175 2209 1959 2209 \nL 2766 2209 \nL 2766 2266 \nQ 2766 2663 2505 2880 \nQ 2244 3097 1772 3097 \nQ 1472 3097 1187 3025 \nQ 903 2953 641 2809 \nL 641 3341 \nQ 956 3463 1253 3523 \nQ 1550 3584 1831 3584 \nQ 2591 3584 2966 3190 \nQ 3341 2797 3341 1997 \nz\n\" transform=\"scale(0.015625)\"/>\n       <path id=\"DejaVuSans-20\" transform=\"scale(0.015625)\"/>\n       <path id=\"DejaVuSans-5b\" d=\"M 550 4863 \nL 1875 4863 \nL 1875 4416 \nL 1125 4416 \nL 1125 -397 \nL 1875 -397 \nL 1875 -844 \nL 550 -844 \nL 550 4863 \nz\n\" transform=\"scale(0.015625)\"/>\n       <path id=\"DejaVuSans-2c\" d=\"M 750 794 \nL 1409 794 \nL 1409 256 \nL 897 -744 \nL 494 -744 \nL 750 256 \nL 750 794 \nz\n\" transform=\"scale(0.015625)\"/>\n       <path id=\"DejaVuSans-70\" d=\"M 1159 525 \nL 1159 -1331 \nL 581 -1331 \nL 581 3500 \nL 1159 3500 \nL 1159 2969 \nQ 1341 3281 1617 3432 \nQ 1894 3584 2278 3584 \nQ 2916 3584 3314 3078 \nQ 3713 2572 3713 1747 \nQ 3713 922 3314 415 \nQ 2916 -91 2278 -91 \nQ 1894 -91 1617 61 \nQ 1341 213 1159 525 \nz\nM 3116 1747 \nQ 3116 2381 2855 2742 \nQ 2594 3103 2138 3103 \nQ 1681 3103 1420 2742 \nQ 1159 2381 1159 1747 \nQ 1159 1113 1420 752 \nQ 1681 391 2138 391 \nQ 2594 391 2855 752 \nQ 3116 1113 3116 1747 \nz\n\" transform=\"scale(0.015625)\"/>\n       <path id=\"DejaVuSans-69\" d=\"M 603 3500 \nL 1178 3500 \nL 1178 0 \nL 603 0 \nL 603 3500 \nz\nM 603 4863 \nL 1178 4863 \nL 1178 4134 \nL 603 4134 \nL 603 4863 \nz\n\" transform=\"scale(0.015625)\"/>\n       <path id=\"DejaVuSans-29\" d=\"M 513 4856 \nL 1013 4856 \nQ 1481 4119 1714 3412 \nQ 1947 2706 1947 2009 \nQ 1947 1309 1714 600 \nQ 1481 -109 1013 -844 \nL 513 -844 \nQ 928 -128 1133 580 \nQ 1338 1288 1338 2009 \nQ 1338 2731 1133 3434 \nQ 928 4138 513 4856 \nz\n\" transform=\"scale(0.015625)\"/>\n      </defs>\n      <use xlink:href=\"#DejaVuSans-74\"/>\n      <use xlink:href=\"#DejaVuSans-68\" x=\"39.208984\"/>\n      <use xlink:href=\"#DejaVuSans-65\" x=\"102.587891\"/>\n      <use xlink:href=\"#DejaVuSans-74\" x=\"164.111328\"/>\n      <use xlink:href=\"#DejaVuSans-61\" x=\"203.320312\"/>\n      <use xlink:href=\"#DejaVuSans-20\" x=\"264.599609\"/>\n      <use xlink:href=\"#DejaVuSans-5b\" x=\"296.386719\"/>\n      <use xlink:href=\"#DejaVuSans-30\" x=\"335.400391\"/>\n      <use xlink:href=\"#DejaVuSans-2c\" x=\"399.023438\"/>\n      <use xlink:href=\"#DejaVuSans-20\" x=\"430.810547\"/>\n      <use xlink:href=\"#DejaVuSans-32\" x=\"462.597656\"/>\n      <use xlink:href=\"#DejaVuSans-70\" x=\"526.220703\"/>\n      <use xlink:href=\"#DejaVuSans-69\" x=\"589.697266\"/>\n      <use xlink:href=\"#DejaVuSans-29\" x=\"617.480469\"/>\n     </g>\n    </g>\n   </g>\n   <g id=\"matplotlib.axis_2\">\n    <g id=\"ytick_1\">\n     <g id=\"line2d_8\">\n      <defs>\n       <path id=\"me2c8e7b78d\" d=\"M 0 0 \nL -3.5 0 \n\" style=\"stroke: #000000; stroke-width: 0.8\"/>\n      </defs>\n      <g>\n       <use xlink:href=\"#me2c8e7b78d\" x=\"48.982813\" y=\"276.13347\" style=\"stroke: #000000; stroke-width: 0.8\"/>\n      </g>\n     </g>\n     <g id=\"text_9\">\n      <!-- −15 -->\n      <g transform=\"translate(20.878125 279.932688) scale(0.1 -0.1)\">\n       <defs>\n        <path id=\"DejaVuSans-2212\" d=\"M 678 2272 \nL 4684 2272 \nL 4684 1741 \nL 678 1741 \nL 678 2272 \nz\n\" transform=\"scale(0.015625)\"/>\n       </defs>\n       <use xlink:href=\"#DejaVuSans-2212\"/>\n       <use xlink:href=\"#DejaVuSans-31\" x=\"83.789062\"/>\n       <use xlink:href=\"#DejaVuSans-35\" x=\"147.412109\"/>\n      </g>\n     </g>\n    </g>\n    <g id=\"ytick_2\">\n     <g id=\"line2d_9\">\n      <g>\n       <use xlink:href=\"#me2c8e7b78d\" x=\"48.982813\" y=\"241.125314\" style=\"stroke: #000000; stroke-width: 0.8\"/>\n      </g>\n     </g>\n     <g id=\"text_10\">\n      <!-- −10 -->\n      <g transform=\"translate(20.878125 244.924532) scale(0.1 -0.1)\">\n       <use xlink:href=\"#DejaVuSans-2212\"/>\n       <use xlink:href=\"#DejaVuSans-31\" x=\"83.789062\"/>\n       <use xlink:href=\"#DejaVuSans-30\" x=\"147.412109\"/>\n      </g>\n     </g>\n    </g>\n    <g id=\"ytick_3\">\n     <g id=\"line2d_10\">\n      <g>\n       <use xlink:href=\"#me2c8e7b78d\" x=\"48.982813\" y=\"206.117158\" style=\"stroke: #000000; stroke-width: 0.8\"/>\n      </g>\n     </g>\n     <g id=\"text_11\">\n      <!-- −5 -->\n      <g transform=\"translate(27.240625 209.916377) scale(0.1 -0.1)\">\n       <use xlink:href=\"#DejaVuSans-2212\"/>\n       <use xlink:href=\"#DejaVuSans-35\" x=\"83.789062\"/>\n      </g>\n     </g>\n    </g>\n    <g id=\"ytick_4\">\n     <g id=\"line2d_11\">\n      <g>\n       <use xlink:href=\"#me2c8e7b78d\" x=\"48.982813\" y=\"171.109002\" style=\"stroke: #000000; stroke-width: 0.8\"/>\n      </g>\n     </g>\n     <g id=\"text_12\">\n      <!-- 0 -->\n      <g transform=\"translate(35.620313 174.908221) scale(0.1 -0.1)\">\n       <use xlink:href=\"#DejaVuSans-30\"/>\n      </g>\n     </g>\n    </g>\n    <g id=\"ytick_5\">\n     <g id=\"line2d_12\">\n      <g>\n       <use xlink:href=\"#me2c8e7b78d\" x=\"48.982813\" y=\"136.100846\" style=\"stroke: #000000; stroke-width: 0.8\"/>\n      </g>\n     </g>\n     <g id=\"text_13\">\n      <!-- 5 -->\n      <g transform=\"translate(35.620313 139.900065) scale(0.1 -0.1)\">\n       <use xlink:href=\"#DejaVuSans-35\"/>\n      </g>\n     </g>\n    </g>\n    <g id=\"ytick_6\">\n     <g id=\"line2d_13\">\n      <g>\n       <use xlink:href=\"#me2c8e7b78d\" x=\"48.982813\" y=\"101.09269\" style=\"stroke: #000000; stroke-width: 0.8\"/>\n      </g>\n     </g>\n     <g id=\"text_14\">\n      <!-- 10 -->\n      <g transform=\"translate(29.257813 104.891909) scale(0.1 -0.1)\">\n       <use xlink:href=\"#DejaVuSans-31\"/>\n       <use xlink:href=\"#DejaVuSans-30\" x=\"63.623047\"/>\n      </g>\n     </g>\n    </g>\n    <g id=\"ytick_7\">\n     <g id=\"line2d_14\">\n      <g>\n       <use xlink:href=\"#me2c8e7b78d\" x=\"48.982813\" y=\"66.084534\" style=\"stroke: #000000; stroke-width: 0.8\"/>\n      </g>\n     </g>\n     <g id=\"text_15\">\n      <!-- 15 -->\n      <g transform=\"translate(29.257813 69.883753) scale(0.1 -0.1)\">\n       <use xlink:href=\"#DejaVuSans-31\"/>\n       <use xlink:href=\"#DejaVuSans-35\" x=\"63.623047\"/>\n      </g>\n     </g>\n    </g>\n    <g id=\"ytick_8\">\n     <g id=\"line2d_15\">\n      <g>\n       <use xlink:href=\"#me2c8e7b78d\" x=\"48.982813\" y=\"31.076378\" style=\"stroke: #000000; stroke-width: 0.8\"/>\n      </g>\n     </g>\n     <g id=\"text_16\">\n      <!-- 20 -->\n      <g transform=\"translate(29.257813 34.875597) scale(0.1 -0.1)\">\n       <use xlink:href=\"#DejaVuSans-32\"/>\n       <use xlink:href=\"#DejaVuSans-30\" x=\"63.623047\"/>\n      </g>\n     </g>\n    </g>\n    <g id=\"text_17\">\n     <!-- f(g) -->\n     <g transform=\"translate(14.798438 164.210062) rotate(-90) scale(0.1 -0.1)\">\n      <defs>\n       <path id=\"DejaVuSans-66\" d=\"M 2375 4863 \nL 2375 4384 \nL 1825 4384 \nQ 1516 4384 1395 4259 \nQ 1275 4134 1275 3809 \nL 1275 3500 \nL 2222 3500 \nL 2222 3053 \nL 1275 3053 \nL 1275 0 \nL 697 0 \nL 697 3053 \nL 147 3053 \nL 147 3500 \nL 697 3500 \nL 697 3744 \nQ 697 4328 969 4595 \nQ 1241 4863 1831 4863 \nL 2375 4863 \nz\n\" transform=\"scale(0.015625)\"/>\n       <path id=\"DejaVuSans-28\" d=\"M 1984 4856 \nQ 1566 4138 1362 3434 \nQ 1159 2731 1159 2009 \nQ 1159 1288 1364 580 \nQ 1569 -128 1984 -844 \nL 1484 -844 \nQ 1016 -109 783 600 \nQ 550 1309 550 2009 \nQ 550 2706 781 3412 \nQ 1013 4119 1484 4856 \nL 1984 4856 \nz\n\" transform=\"scale(0.015625)\"/>\n       <path id=\"DejaVuSans-67\" d=\"M 2906 1791 \nQ 2906 2416 2648 2759 \nQ 2391 3103 1925 3103 \nQ 1463 3103 1205 2759 \nQ 947 2416 947 1791 \nQ 947 1169 1205 825 \nQ 1463 481 1925 481 \nQ 2391 481 2648 825 \nQ 2906 1169 2906 1791 \nz\nM 3481 434 \nQ 3481 -459 3084 -895 \nQ 2688 -1331 1869 -1331 \nQ 1566 -1331 1297 -1286 \nQ 1028 -1241 775 -1147 \nL 775 -588 \nQ 1028 -725 1275 -790 \nQ 1522 -856 1778 -856 \nQ 2344 -856 2625 -561 \nQ 2906 -266 2906 331 \nL 2906 616 \nQ 2728 306 2450 153 \nQ 2172 0 1784 0 \nQ 1141 0 747 490 \nQ 353 981 353 1791 \nQ 353 2603 747 3093 \nQ 1141 3584 1784 3584 \nQ 2172 3584 2450 3431 \nQ 2728 3278 2906 2969 \nL 2906 3500 \nL 3481 3500 \nL 3481 434 \nz\n\" transform=\"scale(0.015625)\"/>\n      </defs>\n      <use xlink:href=\"#DejaVuSans-66\"/>\n      <use xlink:href=\"#DejaVuSans-28\" x=\"35.205078\"/>\n      <use xlink:href=\"#DejaVuSans-67\" x=\"74.21875\"/>\n      <use xlink:href=\"#DejaVuSans-29\" x=\"137.695312\"/>\n     </g>\n    </g>\n   </g>\n   <g id=\"line2d_16\">\n    <path d=\"M 65.21554 206.099801 \nL 68.494879 210.392093 \nL 71.774217 214.967568 \nL 75.053556 219.435722 \nL 78.332895 223.462303 \nL 81.612234 226.821762 \nL 84.891573 229.427016 \nL 88.170912 231.329775 \nL 91.450251 232.690062 \nL 94.729589 233.719707 \nL 98.008928 234.610164 \nL 101.288267 235.459052 \nL 104.567606 236.211294 \nL 107.846945 236.629195 \nL 111.126284 236.301349 \nL 114.405622 234.693476 \nL 117.684961 231.236297 \nL 120.9643 225.437859 \nL 124.243639 217.00164 \nL 127.522978 205.928761 \nL 130.802317 192.583321 \nL 134.081655 177.704458 \nL 137.360994 162.356735 \nL 140.640333 147.820485 \nL 143.919672 135.434352 \nL 147.199011 126.41144 \nL 150.47835 121.656605 \nL 153.757689 121.614298 \nL 157.037027 126.173283 \nL 160.316366 134.646999 \nL 163.595705 145.837161 \nL 166.875044 158.175315 \nL 170.154383 169.924419 \nL 173.433722 179.412349 \nL 176.71306 185.263182 \nL 179.992399 186.591418 \nL 183.271738 183.129158 \nL 186.551077 175.265952 \nL 189.830416 163.994248 \nL 193.109755 150.767767 \nL 196.389093 137.293645 \nL 199.668432 125.28943 \nL 202.947771 116.241448 \nL 206.22711 111.200708 \nL 209.506449 110.646498 \nL 212.785788 114.4371 \nL 216.065127 121.853364 \nL 219.344465 131.726476 \nL 222.623804 142.628444 \nL 225.903143 153.094598 \nL 229.182482 161.84323 \nL 232.461821 167.958903 \nL 235.74116 171.012586 \nL 239.020498 171.102448 \nL 242.299837 168.811994 \nL 245.579176 165.09522 \nL 248.858515 161.109352 \nL 252.137854 158.02307 \nL 255.417193 156.830662 \nL 258.696532 158.20026 \nL 261.97587 162.377674 \nL 265.255209 169.157719 \nL 268.534548 177.923919 \nL 271.813887 187.747046 \nL 275.093226 197.524573 \nL 278.372565 206.138186 \nL 281.651903 212.605351 \nL 284.931242 216.203697 \nL 288.210581 216.552672 \nL 291.48992 213.644616 \nL 294.769259 207.82548 \nL 298.048598 199.732692 \nL 301.327936 190.202964 \nL 304.607275 180.165555 \nL 307.886614 170.536488 \nL 311.165953 162.126859 \nL 314.445292 155.574332 \nL 317.724631 151.302183 \nL 321.00397 149.505709 \nL 324.283308 150.16224 \nL 327.562647 153.058842 \nL 330.841986 157.831153 \nL 334.121325 164.007462 \nL 337.400664 171.053625 \nL 340.680003 178.416161 \nL 343.959341 185.562303 \nL 347.23868 192.01661 \nL 350.518019 197.393728 \nL 353.797358 201.426266 \nL 357.076697 203.985814 \nL 360.356036 205.094319 \nL 363.635374 204.922821 \nL 366.914713 203.77524 \nL 370.194052 202.056503 \nL 373.473391 200.226735 \nL 376.75273 198.745873 \nL 380.032069 198.01555 \nL 383.311408 198.326598 \nL 386.590746 199.82065 \nL 389.870085 202.472875 \n\" clip-path=\"url(#p3b9fd2c0d4)\" style=\"fill: none; stroke: #1f77b4; stroke-width: 2; stroke-linecap: square\"/>\n   </g>\n   <g id=\"line2d_17\">\n    <path d=\"M 65.21554 126.3757 \nL 68.494879 124.163255 \nL 71.774217 126.94168 \nL 75.053556 133.483664 \nL 78.332895 142.032825 \nL 81.612234 150.593545 \nL 84.891573 157.262697 \nL 88.170912 160.550585 \nL 91.450251 159.638033 \nL 94.729589 154.525253 \nL 98.008928 146.044821 \nL 101.288267 135.733246 \nL 104.567606 125.579579 \nL 107.846945 117.691071 \nL 111.126284 113.931252 \nL 114.405622 115.591942 \nL 117.684961 123.1563 \nL 120.9643 136.19555 \nL 124.243639 153.419624 \nL 127.522978 172.875607 \nL 130.802317 192.26188 \nL 134.081655 209.305042 \nL 137.360994 222.13474 \nL 140.640333 229.590816 \nL 143.919672 231.408042 \nL 147.199011 228.244464 \nL 150.47835 221.54649 \nL 153.757689 213.27272 \nL 157.037027 205.523925 \nL 160.316366 200.144069 \nL 163.595705 198.363538 \nL 166.875044 200.549495 \nL 170.154383 206.110451 \nL 173.433722 213.5757 \nL 176.71306 220.839675 \nL 179.992399 225.531976 \nL 183.271738 225.450872 \nL 186.551077 218.985646 \nL 189.830416 205.453545 \nL 193.109755 185.290344 \nL 196.389093 160.057592 \nL 199.668432 132.260248 \nL 202.947771 105.000612 \nL 206.22711 81.522512 \nL 209.506449 64.718885 \nL 212.785788 56.682891 \nL 216.065127 58.376209 \nL 219.344465 69.469398 \nL 222.623804 88.381231 \nL 225.903143 112.511521 \nL 229.182482 138.63058 \nL 232.461821 163.363347 \nL 235.74116 183.6914 \nL 239.020498 197.394024 \nL 242.299837 203.360191 \nL 245.579176 201.724899 \nL 248.858515 193.811923 \nL 252.137854 181.89591 \nL 255.417193 168.824672 \nL 258.696532 157.563235 \nL 261.97587 150.73134 \nL 265.255209 150.20468 \nL 268.534548 156.837638 \nL 271.813887 170.344406 \nL 275.093226 189.349687 \nL 278.372565 211.59423 \nL 281.651903 234.258234 \nL 284.931242 254.350608 \nL 288.210581 269.105923 \nL 291.48992 276.334125 \nL 294.769259 274.679168 \nL 298.048598 263.759441 \nL 301.327936 244.181808 \nL 304.607275 217.439154 \nL 307.886614 185.715664 \nL 311.165953 151.632956 \nL 314.445292 117.972908 \nL 317.724631 87.410181 \nL 321.00397 62.280404 \nL 324.283308 44.400863 \nL 327.562647 34.951212 \nL 330.841986 34.414125 \nL 334.121325 42.57069 \nL 337.400664 58.54319 \nL 340.680003 80.877929 \nL 343.959341 107.662043 \nL 347.23868 136.669415 \nL 350.518019 165.530788 \nL 353.797358 191.921461 \nL 357.076697 213.756456 \nL 360.356036 229.378686 \nL 363.635374 237.721639 \nL 366.914713 238.425919 \nL 370.194052 231.889981 \nL 373.473391 219.240367 \nL 376.75273 202.215572 \nL 380.032069 182.969468 \nL 383.311408 163.813132 \nL 386.590746 146.925699 \nL 389.870085 134.073045 \n\" clip-path=\"url(#p3b9fd2c0d4)\" style=\"fill: none; stroke: #ff7f0e; stroke-width: 2; stroke-linecap: square\"/>\n   </g>\n   <g id=\"patch_3\">\n    <path d=\"M 48.982813 288.430125 \nL 48.982813 22.318125 \n\" style=\"fill: none; stroke: #000000; stroke-width: 0.8; stroke-linejoin: miter; stroke-linecap: square\"/>\n   </g>\n   <g id=\"patch_4\">\n    <path d=\"M 406.102813 288.430125 \nL 406.102813 22.318125 \n\" style=\"fill: none; stroke: #000000; stroke-width: 0.8; stroke-linejoin: miter; stroke-linecap: square\"/>\n   </g>\n   <g id=\"patch_5\">\n    <path d=\"M 48.982813 288.430125 \nL 406.102813 288.430125 \n\" style=\"fill: none; stroke: #000000; stroke-width: 0.8; stroke-linejoin: miter; stroke-linecap: square\"/>\n   </g>\n   <g id=\"patch_6\">\n    <path d=\"M 48.982813 22.318125 \nL 406.102813 22.318125 \n\" style=\"fill: none; stroke: #000000; stroke-width: 0.8; stroke-linejoin: miter; stroke-linecap: square\"/>\n   </g>\n   <g id=\"text_18\">\n    <!-- f -->\n    <g transform=\"translate(225.430625 16.318125) scale(0.12 -0.12)\">\n     <use xlink:href=\"#DejaVuSans-66\"/>\n    </g>\n   </g>\n   <g id=\"legend_1\">\n    <g id=\"patch_7\">\n     <path d=\"M 55.982813 59.674375 \nL 194.279688 59.674375 \nQ 196.279688 59.674375 196.279688 57.674375 \nL 196.279688 29.318125 \nQ 196.279688 27.318125 194.279688 27.318125 \nL 55.982813 27.318125 \nQ 53.982813 27.318125 53.982813 29.318125 \nL 53.982813 57.674375 \nQ 53.982813 59.674375 55.982813 59.674375 \nz\n\" style=\"fill: #ffffff; opacity: 0.8; stroke: #cccccc; stroke-linejoin: miter\"/>\n    </g>\n    <g id=\"line2d_18\">\n     <path d=\"M 57.982813 35.416562 \nL 67.982813 35.416562 \nL 77.982813 35.416562 \n\" style=\"fill: none; stroke: #1f77b4; stroke-width: 2; stroke-linecap: square\"/>\n    </g>\n    <g id=\"text_19\">\n     <!-- rotations -->\n     <g transform=\"translate(85.982813 38.916562) scale(0.1 -0.1)\">\n      <defs>\n       <path id=\"DejaVuSans-72\" d=\"M 2631 2963 \nQ 2534 3019 2420 3045 \nQ 2306 3072 2169 3072 \nQ 1681 3072 1420 2755 \nQ 1159 2438 1159 1844 \nL 1159 0 \nL 581 0 \nL 581 3500 \nL 1159 3500 \nL 1159 2956 \nQ 1341 3275 1631 3429 \nQ 1922 3584 2338 3584 \nQ 2397 3584 2469 3576 \nQ 2541 3569 2628 3553 \nL 2631 2963 \nz\n\" transform=\"scale(0.015625)\"/>\n       <path id=\"DejaVuSans-6f\" d=\"M 1959 3097 \nQ 1497 3097 1228 2736 \nQ 959 2375 959 1747 \nQ 959 1119 1226 758 \nQ 1494 397 1959 397 \nQ 2419 397 2687 759 \nQ 2956 1122 2956 1747 \nQ 2956 2369 2687 2733 \nQ 2419 3097 1959 3097 \nz\nM 1959 3584 \nQ 2709 3584 3137 3096 \nQ 3566 2609 3566 1747 \nQ 3566 888 3137 398 \nQ 2709 -91 1959 -91 \nQ 1206 -91 779 398 \nQ 353 888 353 1747 \nQ 353 2609 779 3096 \nQ 1206 3584 1959 3584 \nz\n\" transform=\"scale(0.015625)\"/>\n       <path id=\"DejaVuSans-6e\" d=\"M 3513 2113 \nL 3513 0 \nL 2938 0 \nL 2938 2094 \nQ 2938 2591 2744 2837 \nQ 2550 3084 2163 3084 \nQ 1697 3084 1428 2787 \nQ 1159 2491 1159 1978 \nL 1159 0 \nL 581 0 \nL 581 3500 \nL 1159 3500 \nL 1159 2956 \nQ 1366 3272 1645 3428 \nQ 1925 3584 2291 3584 \nQ 2894 3584 3203 3211 \nQ 3513 2838 3513 2113 \nz\n\" transform=\"scale(0.015625)\"/>\n       <path id=\"DejaVuSans-73\" d=\"M 2834 3397 \nL 2834 2853 \nQ 2591 2978 2328 3040 \nQ 2066 3103 1784 3103 \nQ 1356 3103 1142 2972 \nQ 928 2841 928 2578 \nQ 928 2378 1081 2264 \nQ 1234 2150 1697 2047 \nL 1894 2003 \nQ 2506 1872 2764 1633 \nQ 3022 1394 3022 966 \nQ 3022 478 2636 193 \nQ 2250 -91 1575 -91 \nQ 1294 -91 989 -36 \nQ 684 19 347 128 \nL 347 722 \nQ 666 556 975 473 \nQ 1284 391 1588 391 \nQ 1994 391 2212 530 \nQ 2431 669 2431 922 \nQ 2431 1156 2273 1281 \nQ 2116 1406 1581 1522 \nL 1381 1569 \nQ 847 1681 609 1914 \nQ 372 2147 372 2553 \nQ 372 3047 722 3315 \nQ 1072 3584 1716 3584 \nQ 2034 3584 2315 3537 \nQ 2597 3491 2834 3397 \nz\n\" transform=\"scale(0.015625)\"/>\n      </defs>\n      <use xlink:href=\"#DejaVuSans-72\"/>\n      <use xlink:href=\"#DejaVuSans-6f\" x=\"38.863281\"/>\n      <use xlink:href=\"#DejaVuSans-74\" x=\"100.044922\"/>\n      <use xlink:href=\"#DejaVuSans-61\" x=\"139.253906\"/>\n      <use xlink:href=\"#DejaVuSans-74\" x=\"200.533203\"/>\n      <use xlink:href=\"#DejaVuSans-69\" x=\"239.742188\"/>\n      <use xlink:href=\"#DejaVuSans-6f\" x=\"267.525391\"/>\n      <use xlink:href=\"#DejaVuSans-6e\" x=\"328.707031\"/>\n      <use xlink:href=\"#DejaVuSans-73\" x=\"392.085938\"/>\n     </g>\n    </g>\n    <g id=\"line2d_19\">\n     <path d=\"M 57.982813 50.094687 \nL 67.982813 50.094687 \nL 77.982813 50.094687 \n\" style=\"fill: none; stroke: #ff7f0e; stroke-width: 2; stroke-linecap: square\"/>\n    </g>\n    <g id=\"text_20\">\n     <!-- reflection + rotations -->\n     <g transform=\"translate(85.982813 53.594687) scale(0.1 -0.1)\">\n      <defs>\n       <path id=\"DejaVuSans-6c\" d=\"M 603 4863 \nL 1178 4863 \nL 1178 0 \nL 603 0 \nL 603 4863 \nz\n\" transform=\"scale(0.015625)\"/>\n       <path id=\"DejaVuSans-63\" d=\"M 3122 3366 \nL 3122 2828 \nQ 2878 2963 2633 3030 \nQ 2388 3097 2138 3097 \nQ 1578 3097 1268 2742 \nQ 959 2388 959 1747 \nQ 959 1106 1268 751 \nQ 1578 397 2138 397 \nQ 2388 397 2633 464 \nQ 2878 531 3122 666 \nL 3122 134 \nQ 2881 22 2623 -34 \nQ 2366 -91 2075 -91 \nQ 1284 -91 818 406 \nQ 353 903 353 1747 \nQ 353 2603 823 3093 \nQ 1294 3584 2113 3584 \nQ 2378 3584 2631 3529 \nQ 2884 3475 3122 3366 \nz\n\" transform=\"scale(0.015625)\"/>\n       <path id=\"DejaVuSans-2b\" d=\"M 2944 4013 \nL 2944 2272 \nL 4684 2272 \nL 4684 1741 \nL 2944 1741 \nL 2944 0 \nL 2419 0 \nL 2419 1741 \nL 678 1741 \nL 678 2272 \nL 2419 2272 \nL 2419 4013 \nL 2944 4013 \nz\n\" transform=\"scale(0.015625)\"/>\n      </defs>\n      <use xlink:href=\"#DejaVuSans-72\"/>\n      <use xlink:href=\"#DejaVuSans-65\" x=\"38.863281\"/>\n      <use xlink:href=\"#DejaVuSans-66\" x=\"100.386719\"/>\n      <use xlink:href=\"#DejaVuSans-6c\" x=\"135.591797\"/>\n      <use xlink:href=\"#DejaVuSans-65\" x=\"163.375\"/>\n      <use xlink:href=\"#DejaVuSans-63\" x=\"224.898438\"/>\n      <use xlink:href=\"#DejaVuSans-74\" x=\"279.878906\"/>\n      <use xlink:href=\"#DejaVuSans-69\" x=\"319.087891\"/>\n      <use xlink:href=\"#DejaVuSans-6f\" x=\"346.871094\"/>\n      <use xlink:href=\"#DejaVuSans-6e\" x=\"408.052734\"/>\n      <use xlink:href=\"#DejaVuSans-20\" x=\"471.431641\"/>\n      <use xlink:href=\"#DejaVuSans-2b\" x=\"503.21875\"/>\n      <use xlink:href=\"#DejaVuSans-20\" x=\"587.007812\"/>\n      <use xlink:href=\"#DejaVuSans-72\" x=\"618.794922\"/>\n      <use xlink:href=\"#DejaVuSans-6f\" x=\"657.658203\"/>\n      <use xlink:href=\"#DejaVuSans-74\" x=\"718.839844\"/>\n      <use xlink:href=\"#DejaVuSans-61\" x=\"758.048828\"/>\n      <use xlink:href=\"#DejaVuSans-74\" x=\"819.328125\"/>\n      <use xlink:href=\"#DejaVuSans-69\" x=\"858.537109\"/>\n      <use xlink:href=\"#DejaVuSans-6f\" x=\"886.320312\"/>\n      <use xlink:href=\"#DejaVuSans-6e\" x=\"947.501953\"/>\n      <use xlink:href=\"#DejaVuSans-73\" x=\"1010.880859\"/>\n     </g>\n    </g>\n   </g>\n  </g>\n </g>\n <defs>\n  <clipPath id=\"p3b9fd2c0d4\">\n   <rect x=\"48.982813\" y=\"22.318125\" width=\"357.12\" height=\"266.112\"/>\n  </clipPath>\n </defs>\n</svg>\n",
            "application/pdf": "[encoded data removed]"
          },
          "metadata": {}
        },
        {
          "output_type": "display_data",
          "data": {
            "text/plain": [
              "<Figure size 640x480 with 1 Axes>"
            ],
            "image/svg+xml": "<?xml version=\"1.0\" encoding=\"utf-8\" standalone=\"no\"?>\n<!DOCTYPE svg PUBLIC \"-//W3C//DTD SVG 1.1//EN\"\n  \"http://www.w3.org/Graphics/SVG/1.1/DTD/svg11.dtd\">\n<svg xmlns:xlink=\"http://www.w3.org/1999/xlink\" width=\"413.302812pt\" height=\"325.986375pt\" viewBox=\"0 0 413.302812 325.986375\" xmlns=\"http://www.w3.org/2000/svg\" version=\"1.1\">\n <metadata>\n  <rdf:RDF xmlns:dc=\"http://purl.org/dc/elements/1.1/\" xmlns:cc=\"http://creativecommons.org/ns#\" xmlns:rdf=\"http://www.w3.org/1999/02/22-rdf-syntax-ns#\">\n   <cc:Work>\n    <dc:type rdf:resource=\"http://purl.org/dc/dcmitype/StillImage\"/>\n    <dc:date>2023-11-27T19:28:57.000815</dc:date>\n    <dc:format>image/svg+xml</dc:format>\n    <dc:creator>\n     <cc:Agent>\n      <dc:title>Matplotlib v3.7.1, https://matplotlib.org/</dc:title>\n     </cc:Agent>\n    </dc:creator>\n   </cc:Work>\n  </rdf:RDF>\n </metadata>\n <defs>\n  <style type=\"text/css\">*{stroke-linejoin: round; stroke-linecap: butt}</style>\n </defs>\n <g id=\"figure_1\">\n  <g id=\"patch_1\">\n   <path d=\"M 0 325.986375 \nL 413.302812 325.986375 \nL 413.302812 0 \nL 0 0 \nz\n\" style=\"fill: #ffffff\"/>\n  </g>\n  <g id=\"axes_1\">\n   <g id=\"patch_2\">\n    <path d=\"M 48.982813 288.430125 \nL 406.102813 288.430125 \nL 406.102813 22.318125 \nL 48.982813 22.318125 \nz\n\" style=\"fill: #ffffff\"/>\n   </g>\n   <g id=\"matplotlib.axis_1\">\n    <g id=\"xtick_1\">\n     <g id=\"line2d_1\">\n      <defs>\n       <path id=\"mad174e9336\" d=\"M 0 0 \nL 0 3.5 \n\" style=\"stroke: #000000; stroke-width: 0.8\"/>\n      </defs>\n      <g>\n       <use xlink:href=\"#mad174e9336\" x=\"65.21554\" y=\"288.430125\" style=\"stroke: #000000; stroke-width: 0.8\"/>\n      </g>\n     </g>\n     <g id=\"text_1\">\n      <!-- 0 -->\n      <g transform=\"translate(62.03429 303.028562) scale(0.1 -0.1)\">\n       <defs>\n        <path id=\"DejaVuSans-30\" d=\"M 2034 4250 \nQ 1547 4250 1301 3770 \nQ 1056 3291 1056 2328 \nQ 1056 1369 1301 889 \nQ 1547 409 2034 409 \nQ 2525 409 2770 889 \nQ 3016 1369 3016 2328 \nQ 3016 3291 2770 3770 \nQ 2525 4250 2034 4250 \nz\nM 2034 4750 \nQ 2819 4750 3233 4129 \nQ 3647 3509 3647 2328 \nQ 3647 1150 3233 529 \nQ 2819 -91 2034 -91 \nQ 1250 -91 836 529 \nQ 422 1150 422 2328 \nQ 422 3509 836 4129 \nQ 1250 4750 2034 4750 \nz\n\" transform=\"scale(0.015625)\"/>\n       </defs>\n       <use xlink:href=\"#DejaVuSans-30\"/>\n      </g>\n     </g>\n    </g>\n    <g id=\"xtick_2\">\n     <g id=\"line2d_2\">\n      <g>\n       <use xlink:href=\"#mad174e9336\" x=\"117.407838\" y=\"288.430125\" style=\"stroke: #000000; stroke-width: 0.8\"/>\n      </g>\n     </g>\n     <g id=\"text_2\">\n      <!-- 1 -->\n      <g transform=\"translate(114.226588 303.028562) scale(0.1 -0.1)\">\n       <defs>\n        <path id=\"DejaVuSans-31\" d=\"M 794 531 \nL 1825 531 \nL 1825 4091 \nL 703 3866 \nL 703 4441 \nL 1819 4666 \nL 2450 4666 \nL 2450 531 \nL 3481 531 \nL 3481 0 \nL 794 0 \nL 794 531 \nz\n\" transform=\"scale(0.015625)\"/>\n       </defs>\n       <use xlink:href=\"#DejaVuSans-31\"/>\n      </g>\n     </g>\n    </g>\n    <g id=\"xtick_3\">\n     <g id=\"line2d_3\">\n      <g>\n       <use xlink:href=\"#mad174e9336\" x=\"169.600137\" y=\"288.430125\" style=\"stroke: #000000; stroke-width: 0.8\"/>\n      </g>\n     </g>\n     <g id=\"text_3\">\n      <!-- 2 -->\n      <g transform=\"translate(166.418887 303.028562) scale(0.1 -0.1)\">\n       <defs>\n        <path id=\"DejaVuSans-32\" d=\"M 1228 531 \nL 3431 531 \nL 3431 0 \nL 469 0 \nL 469 531 \nQ 828 903 1448 1529 \nQ 2069 2156 2228 2338 \nQ 2531 2678 2651 2914 \nQ 2772 3150 2772 3378 \nQ 2772 3750 2511 3984 \nQ 2250 4219 1831 4219 \nQ 1534 4219 1204 4116 \nQ 875 4013 500 3803 \nL 500 4441 \nQ 881 4594 1212 4672 \nQ 1544 4750 1819 4750 \nQ 2544 4750 2975 4387 \nQ 3406 4025 3406 3419 \nQ 3406 3131 3298 2873 \nQ 3191 2616 2906 2266 \nQ 2828 2175 2409 1742 \nQ 1991 1309 1228 531 \nz\n\" transform=\"scale(0.015625)\"/>\n       </defs>\n       <use xlink:href=\"#DejaVuSans-32\"/>\n      </g>\n     </g>\n    </g>\n    <g id=\"xtick_4\">\n     <g id=\"line2d_4\">\n      <g>\n       <use xlink:href=\"#mad174e9336\" x=\"221.792436\" y=\"288.430125\" style=\"stroke: #000000; stroke-width: 0.8\"/>\n      </g>\n     </g>\n     <g id=\"text_4\">\n      <!-- 3 -->\n      <g transform=\"translate(218.611186 303.028562) scale(0.1 -0.1)\">\n       <defs>\n        <path id=\"DejaVuSans-33\" d=\"M 2597 2516 \nQ 3050 2419 3304 2112 \nQ 3559 1806 3559 1356 \nQ 3559 666 3084 287 \nQ 2609 -91 1734 -91 \nQ 1441 -91 1130 -33 \nQ 819 25 488 141 \nL 488 750 \nQ 750 597 1062 519 \nQ 1375 441 1716 441 \nQ 2309 441 2620 675 \nQ 2931 909 2931 1356 \nQ 2931 1769 2642 2001 \nQ 2353 2234 1838 2234 \nL 1294 2234 \nL 1294 2753 \nL 1863 2753 \nQ 2328 2753 2575 2939 \nQ 2822 3125 2822 3475 \nQ 2822 3834 2567 4026 \nQ 2313 4219 1838 4219 \nQ 1578 4219 1281 4162 \nQ 984 4106 628 3988 \nL 628 4550 \nQ 988 4650 1302 4700 \nQ 1616 4750 1894 4750 \nQ 2613 4750 3031 4423 \nQ 3450 4097 3450 3541 \nQ 3450 3153 3228 2886 \nQ 3006 2619 2597 2516 \nz\n\" transform=\"scale(0.015625)\"/>\n       </defs>\n       <use xlink:href=\"#DejaVuSans-33\"/>\n      </g>\n     </g>\n    </g>\n    <g id=\"xtick_5\">\n     <g id=\"line2d_5\">\n      <g>\n       <use xlink:href=\"#mad174e9336\" x=\"273.984735\" y=\"288.430125\" style=\"stroke: #000000; stroke-width: 0.8\"/>\n      </g>\n     </g>\n     <g id=\"text_5\">\n      <!-- 4 -->\n      <g transform=\"translate(270.803485 303.028562) scale(0.1 -0.1)\">\n       <defs>\n        <path id=\"DejaVuSans-34\" d=\"M 2419 4116 \nL 825 1625 \nL 2419 1625 \nL 2419 4116 \nz\nM 2253 4666 \nL 3047 4666 \nL 3047 1625 \nL 3713 1625 \nL 3713 1100 \nL 3047 1100 \nL 3047 0 \nL 2419 0 \nL 2419 1100 \nL 313 1100 \nL 313 1709 \nL 2253 4666 \nz\n\" transform=\"scale(0.015625)\"/>\n       </defs>\n       <use xlink:href=\"#DejaVuSans-34\"/>\n      </g>\n     </g>\n    </g>\n    <g id=\"xtick_6\">\n     <g id=\"line2d_6\">\n      <g>\n       <use xlink:href=\"#mad174e9336\" x=\"326.177033\" y=\"288.430125\" style=\"stroke: #000000; stroke-width: 0.8\"/>\n      </g>\n     </g>\n     <g id=\"text_6\">\n      <!-- 5 -->\n      <g transform=\"translate(322.995783 303.028562) scale(0.1 -0.1)\">\n       <defs>\n        <path id=\"DejaVuSans-35\" d=\"M 691 4666 \nL 3169 4666 \nL 3169 4134 \nL 1269 4134 \nL 1269 2991 \nQ 1406 3038 1543 3061 \nQ 1681 3084 1819 3084 \nQ 2600 3084 3056 2656 \nQ 3513 2228 3513 1497 \nQ 3513 744 3044 326 \nQ 2575 -91 1722 -91 \nQ 1428 -91 1123 -41 \nQ 819 9 494 109 \nL 494 744 \nQ 775 591 1075 516 \nQ 1375 441 1709 441 \nQ 2250 441 2565 725 \nQ 2881 1009 2881 1497 \nQ 2881 1984 2565 2268 \nQ 2250 2553 1709 2553 \nQ 1456 2553 1204 2497 \nQ 953 2441 691 2322 \nL 691 4666 \nz\n\" transform=\"scale(0.015625)\"/>\n       </defs>\n       <use xlink:href=\"#DejaVuSans-35\"/>\n      </g>\n     </g>\n    </g>\n    <g id=\"xtick_7\">\n     <g id=\"line2d_7\">\n      <g>\n       <use xlink:href=\"#mad174e9336\" x=\"378.369332\" y=\"288.430125\" style=\"stroke: #000000; stroke-width: 0.8\"/>\n      </g>\n     </g>\n     <g id=\"text_7\">\n      <!-- 6 -->\n      <g transform=\"translate(375.188082 303.028562) scale(0.1 -0.1)\">\n       <defs>\n        <path id=\"DejaVuSans-36\" d=\"M 2113 2584 \nQ 1688 2584 1439 2293 \nQ 1191 2003 1191 1497 \nQ 1191 994 1439 701 \nQ 1688 409 2113 409 \nQ 2538 409 2786 701 \nQ 3034 994 3034 1497 \nQ 3034 2003 2786 2293 \nQ 2538 2584 2113 2584 \nz\nM 3366 4563 \nL 3366 3988 \nQ 3128 4100 2886 4159 \nQ 2644 4219 2406 4219 \nQ 1781 4219 1451 3797 \nQ 1122 3375 1075 2522 \nQ 1259 2794 1537 2939 \nQ 1816 3084 2150 3084 \nQ 2853 3084 3261 2657 \nQ 3669 2231 3669 1497 \nQ 3669 778 3244 343 \nQ 2819 -91 2113 -91 \nQ 1303 -91 875 529 \nQ 447 1150 447 2328 \nQ 447 3434 972 4092 \nQ 1497 4750 2381 4750 \nQ 2619 4750 2861 4703 \nQ 3103 4656 3366 4563 \nz\n\" transform=\"scale(0.015625)\"/>\n       </defs>\n       <use xlink:href=\"#DejaVuSans-36\"/>\n      </g>\n     </g>\n    </g>\n    <g id=\"text_8\">\n     <!-- theta [0, 2pi) -->\n     <g transform=\"translate(194.718594 316.706687) scale(0.1 -0.1)\">\n      <defs>\n       <path id=\"DejaVuSans-74\" d=\"M 1172 4494 \nL 1172 3500 \nL 2356 3500 \nL 2356 3053 \nL 1172 3053 \nL 1172 1153 \nQ 1172 725 1289 603 \nQ 1406 481 1766 481 \nL 2356 481 \nL 2356 0 \nL 1766 0 \nQ 1100 0 847 248 \nQ 594 497 594 1153 \nL 594 3053 \nL 172 3053 \nL 172 3500 \nL 594 3500 \nL 594 4494 \nL 1172 4494 \nz\n\" transform=\"scale(0.015625)\"/>\n       <path id=\"DejaVuSans-68\" d=\"M 3513 2113 \nL 3513 0 \nL 2938 0 \nL 2938 2094 \nQ 2938 2591 2744 2837 \nQ 2550 3084 2163 3084 \nQ 1697 3084 1428 2787 \nQ 1159 2491 1159 1978 \nL 1159 0 \nL 581 0 \nL 581 4863 \nL 1159 4863 \nL 1159 2956 \nQ 1366 3272 1645 3428 \nQ 1925 3584 2291 3584 \nQ 2894 3584 3203 3211 \nQ 3513 2838 3513 2113 \nz\n\" transform=\"scale(0.015625)\"/>\n       <path id=\"DejaVuSans-65\" d=\"M 3597 1894 \nL 3597 1613 \nL 953 1613 \nQ 991 1019 1311 708 \nQ 1631 397 2203 397 \nQ 2534 397 2845 478 \nQ 3156 559 3463 722 \nL 3463 178 \nQ 3153 47 2828 -22 \nQ 2503 -91 2169 -91 \nQ 1331 -91 842 396 \nQ 353 884 353 1716 \nQ 353 2575 817 3079 \nQ 1281 3584 2069 3584 \nQ 2775 3584 3186 3129 \nQ 3597 2675 3597 1894 \nz\nM 3022 2063 \nQ 3016 2534 2758 2815 \nQ 2500 3097 2075 3097 \nQ 1594 3097 1305 2825 \nQ 1016 2553 972 2059 \nL 3022 2063 \nz\n\" transform=\"scale(0.015625)\"/>\n       <path id=\"DejaVuSans-61\" d=\"M 2194 1759 \nQ 1497 1759 1228 1600 \nQ 959 1441 959 1056 \nQ 959 750 1161 570 \nQ 1363 391 1709 391 \nQ 2188 391 2477 730 \nQ 2766 1069 2766 1631 \nL 2766 1759 \nL 2194 1759 \nz\nM 3341 1997 \nL 3341 0 \nL 2766 0 \nL 2766 531 \nQ 2569 213 2275 61 \nQ 1981 -91 1556 -91 \nQ 1019 -91 701 211 \nQ 384 513 384 1019 \nQ 384 1609 779 1909 \nQ 1175 2209 1959 2209 \nL 2766 2209 \nL 2766 2266 \nQ 2766 2663 2505 2880 \nQ 2244 3097 1772 3097 \nQ 1472 3097 1187 3025 \nQ 903 2953 641 2809 \nL 641 3341 \nQ 956 3463 1253 3523 \nQ 1550 3584 1831 3584 \nQ 2591 3584 2966 3190 \nQ 3341 2797 3341 1997 \nz\n\" transform=\"scale(0.015625)\"/>\n       <path id=\"DejaVuSans-20\" transform=\"scale(0.015625)\"/>\n       <path id=\"DejaVuSans-5b\" d=\"M 550 4863 \nL 1875 4863 \nL 1875 4416 \nL 1125 4416 \nL 1125 -397 \nL 1875 -397 \nL 1875 -844 \nL 550 -844 \nL 550 4863 \nz\n\" transform=\"scale(0.015625)\"/>\n       <path id=\"DejaVuSans-2c\" d=\"M 750 794 \nL 1409 794 \nL 1409 256 \nL 897 -744 \nL 494 -744 \nL 750 256 \nL 750 794 \nz\n\" transform=\"scale(0.015625)\"/>\n       <path id=\"DejaVuSans-70\" d=\"M 1159 525 \nL 1159 -1331 \nL 581 -1331 \nL 581 3500 \nL 1159 3500 \nL 1159 2969 \nQ 1341 3281 1617 3432 \nQ 1894 3584 2278 3584 \nQ 2916 3584 3314 3078 \nQ 3713 2572 3713 1747 \nQ 3713 922 3314 415 \nQ 2916 -91 2278 -91 \nQ 1894 -91 1617 61 \nQ 1341 213 1159 525 \nz\nM 3116 1747 \nQ 3116 2381 2855 2742 \nQ 2594 3103 2138 3103 \nQ 1681 3103 1420 2742 \nQ 1159 2381 1159 1747 \nQ 1159 1113 1420 752 \nQ 1681 391 2138 391 \nQ 2594 391 2855 752 \nQ 3116 1113 3116 1747 \nz\n\" transform=\"scale(0.015625)\"/>\n       <path id=\"DejaVuSans-69\" d=\"M 603 3500 \nL 1178 3500 \nL 1178 0 \nL 603 0 \nL 603 3500 \nz\nM 603 4863 \nL 1178 4863 \nL 1178 4134 \nL 603 4134 \nL 603 4863 \nz\n\" transform=\"scale(0.015625)\"/>\n       <path id=\"DejaVuSans-29\" d=\"M 513 4856 \nL 1013 4856 \nQ 1481 4119 1714 3412 \nQ 1947 2706 1947 2009 \nQ 1947 1309 1714 600 \nQ 1481 -109 1013 -844 \nL 513 -844 \nQ 928 -128 1133 580 \nQ 1338 1288 1338 2009 \nQ 1338 2731 1133 3434 \nQ 928 4138 513 4856 \nz\n\" transform=\"scale(0.015625)\"/>\n      </defs>\n      <use xlink:href=\"#DejaVuSans-74\"/>\n      <use xlink:href=\"#DejaVuSans-68\" x=\"39.208984\"/>\n      <use xlink:href=\"#DejaVuSans-65\" x=\"102.587891\"/>\n      <use xlink:href=\"#DejaVuSans-74\" x=\"164.111328\"/>\n      <use xlink:href=\"#DejaVuSans-61\" x=\"203.320312\"/>\n      <use xlink:href=\"#DejaVuSans-20\" x=\"264.599609\"/>\n      <use xlink:href=\"#DejaVuSans-5b\" x=\"296.386719\"/>\n      <use xlink:href=\"#DejaVuSans-30\" x=\"335.400391\"/>\n      <use xlink:href=\"#DejaVuSans-2c\" x=\"399.023438\"/>\n      <use xlink:href=\"#DejaVuSans-20\" x=\"430.810547\"/>\n      <use xlink:href=\"#DejaVuSans-32\" x=\"462.597656\"/>\n      <use xlink:href=\"#DejaVuSans-70\" x=\"526.220703\"/>\n      <use xlink:href=\"#DejaVuSans-69\" x=\"589.697266\"/>\n      <use xlink:href=\"#DejaVuSans-29\" x=\"617.480469\"/>\n     </g>\n    </g>\n   </g>\n   <g id=\"matplotlib.axis_2\">\n    <g id=\"ytick_1\">\n     <g id=\"line2d_8\">\n      <defs>\n       <path id=\"m70f9b8afbe\" d=\"M 0 0 \nL -3.5 0 \n\" style=\"stroke: #000000; stroke-width: 0.8\"/>\n      </defs>\n      <g>\n       <use xlink:href=\"#m70f9b8afbe\" x=\"48.982813\" y=\"276.218125\" style=\"stroke: #000000; stroke-width: 0.8\"/>\n      </g>\n     </g>\n     <g id=\"text_9\">\n      <!-- −15 -->\n      <g transform=\"translate(20.878125 280.017344) scale(0.1 -0.1)\">\n       <defs>\n        <path id=\"DejaVuSans-2212\" d=\"M 678 2272 \nL 4684 2272 \nL 4684 1741 \nL 678 1741 \nL 678 2272 \nz\n\" transform=\"scale(0.015625)\"/>\n       </defs>\n       <use xlink:href=\"#DejaVuSans-2212\"/>\n       <use xlink:href=\"#DejaVuSans-31\" x=\"83.789062\"/>\n       <use xlink:href=\"#DejaVuSans-35\" x=\"147.412109\"/>\n      </g>\n     </g>\n    </g>\n    <g id=\"ytick_2\">\n     <g id=\"line2d_9\">\n      <g>\n       <use xlink:href=\"#m70f9b8afbe\" x=\"48.982813\" y=\"241.314403\" style=\"stroke: #000000; stroke-width: 0.8\"/>\n      </g>\n     </g>\n     <g id=\"text_10\">\n      <!-- −10 -->\n      <g transform=\"translate(20.878125 245.113622) scale(0.1 -0.1)\">\n       <use xlink:href=\"#DejaVuSans-2212\"/>\n       <use xlink:href=\"#DejaVuSans-31\" x=\"83.789062\"/>\n       <use xlink:href=\"#DejaVuSans-30\" x=\"147.412109\"/>\n      </g>\n     </g>\n    </g>\n    <g id=\"ytick_3\">\n     <g id=\"line2d_10\">\n      <g>\n       <use xlink:href=\"#m70f9b8afbe\" x=\"48.982813\" y=\"206.410681\" style=\"stroke: #000000; stroke-width: 0.8\"/>\n      </g>\n     </g>\n     <g id=\"text_11\">\n      <!-- −5 -->\n      <g transform=\"translate(27.240625 210.209899) scale(0.1 -0.1)\">\n       <use xlink:href=\"#DejaVuSans-2212\"/>\n       <use xlink:href=\"#DejaVuSans-35\" x=\"83.789062\"/>\n      </g>\n     </g>\n    </g>\n    <g id=\"ytick_4\">\n     <g id=\"line2d_11\">\n      <g>\n       <use xlink:href=\"#m70f9b8afbe\" x=\"48.982813\" y=\"171.506959\" style=\"stroke: #000000; stroke-width: 0.8\"/>\n      </g>\n     </g>\n     <g id=\"text_12\">\n      <!-- 0 -->\n      <g transform=\"translate(35.620313 175.306177) scale(0.1 -0.1)\">\n       <use xlink:href=\"#DejaVuSans-30\"/>\n      </g>\n     </g>\n    </g>\n    <g id=\"ytick_5\">\n     <g id=\"line2d_12\">\n      <g>\n       <use xlink:href=\"#m70f9b8afbe\" x=\"48.982813\" y=\"136.603236\" style=\"stroke: #000000; stroke-width: 0.8\"/>\n      </g>\n     </g>\n     <g id=\"text_13\">\n      <!-- 5 -->\n      <g transform=\"translate(35.620313 140.402455) scale(0.1 -0.1)\">\n       <use xlink:href=\"#DejaVuSans-35\"/>\n      </g>\n     </g>\n    </g>\n    <g id=\"ytick_6\">\n     <g id=\"line2d_13\">\n      <g>\n       <use xlink:href=\"#m70f9b8afbe\" x=\"48.982813\" y=\"101.699514\" style=\"stroke: #000000; stroke-width: 0.8\"/>\n      </g>\n     </g>\n     <g id=\"text_14\">\n      <!-- 10 -->\n      <g transform=\"translate(29.257813 105.498733) scale(0.1 -0.1)\">\n       <use xlink:href=\"#DejaVuSans-31\"/>\n       <use xlink:href=\"#DejaVuSans-30\" x=\"63.623047\"/>\n      </g>\n     </g>\n    </g>\n    <g id=\"ytick_7\">\n     <g id=\"line2d_14\">\n      <g>\n       <use xlink:href=\"#m70f9b8afbe\" x=\"48.982813\" y=\"66.795792\" style=\"stroke: #000000; stroke-width: 0.8\"/>\n      </g>\n     </g>\n     <g id=\"text_15\">\n      <!-- 15 -->\n      <g transform=\"translate(29.257813 70.595011) scale(0.1 -0.1)\">\n       <use xlink:href=\"#DejaVuSans-31\"/>\n       <use xlink:href=\"#DejaVuSans-35\" x=\"63.623047\"/>\n      </g>\n     </g>\n    </g>\n    <g id=\"ytick_8\">\n     <g id=\"line2d_15\">\n      <g>\n       <use xlink:href=\"#m70f9b8afbe\" x=\"48.982813\" y=\"31.89207\" style=\"stroke: #000000; stroke-width: 0.8\"/>\n      </g>\n     </g>\n     <g id=\"text_16\">\n      <!-- 20 -->\n      <g transform=\"translate(29.257813 35.691289) scale(0.1 -0.1)\">\n       <use xlink:href=\"#DejaVuSans-32\"/>\n       <use xlink:href=\"#DejaVuSans-30\" x=\"63.623047\"/>\n      </g>\n     </g>\n    </g>\n    <g id=\"text_17\">\n     <!-- f(g) -->\n     <g transform=\"translate(14.798438 164.210062) rotate(-90) scale(0.1 -0.1)\">\n      <defs>\n       <path id=\"DejaVuSans-66\" d=\"M 2375 4863 \nL 2375 4384 \nL 1825 4384 \nQ 1516 4384 1395 4259 \nQ 1275 4134 1275 3809 \nL 1275 3500 \nL 2222 3500 \nL 2222 3053 \nL 1275 3053 \nL 1275 0 \nL 697 0 \nL 697 3053 \nL 147 3053 \nL 147 3500 \nL 697 3500 \nL 697 3744 \nQ 697 4328 969 4595 \nQ 1241 4863 1831 4863 \nL 2375 4863 \nz\n\" transform=\"scale(0.015625)\"/>\n       <path id=\"DejaVuSans-28\" d=\"M 1984 4856 \nQ 1566 4138 1362 3434 \nQ 1159 2731 1159 2009 \nQ 1159 1288 1364 580 \nQ 1569 -128 1984 -844 \nL 1484 -844 \nQ 1016 -109 783 600 \nQ 550 1309 550 2009 \nQ 550 2706 781 3412 \nQ 1013 4119 1484 4856 \nL 1984 4856 \nz\n\" transform=\"scale(0.015625)\"/>\n       <path id=\"DejaVuSans-67\" d=\"M 2906 1791 \nQ 2906 2416 2648 2759 \nQ 2391 3103 1925 3103 \nQ 1463 3103 1205 2759 \nQ 947 2416 947 1791 \nQ 947 1169 1205 825 \nQ 1463 481 1925 481 \nQ 2391 481 2648 825 \nQ 2906 1169 2906 1791 \nz\nM 3481 434 \nQ 3481 -459 3084 -895 \nQ 2688 -1331 1869 -1331 \nQ 1566 -1331 1297 -1286 \nQ 1028 -1241 775 -1147 \nL 775 -588 \nQ 1028 -725 1275 -790 \nQ 1522 -856 1778 -856 \nQ 2344 -856 2625 -561 \nQ 2906 -266 2906 331 \nL 2906 616 \nQ 2728 306 2450 153 \nQ 2172 0 1784 0 \nQ 1141 0 747 490 \nQ 353 981 353 1791 \nQ 353 2603 747 3093 \nQ 1141 3584 1784 3584 \nQ 2172 3584 2450 3431 \nQ 2728 3278 2906 2969 \nL 2906 3500 \nL 3481 3500 \nL 3481 434 \nz\n\" transform=\"scale(0.015625)\"/>\n      </defs>\n      <use xlink:href=\"#DejaVuSans-66\"/>\n      <use xlink:href=\"#DejaVuSans-28\" x=\"35.205078\"/>\n      <use xlink:href=\"#DejaVuSans-67\" x=\"74.21875\"/>\n      <use xlink:href=\"#DejaVuSans-29\" x=\"137.695312\"/>\n     </g>\n    </g>\n   </g>\n   <g id=\"line2d_16\">\n    <path d=\"M 65.21554 156.00967 \nL 68.494879 130.53554 \nL 71.774217 104.772713 \nL 75.053556 82.094485 \nL 78.332895 65.564283 \nL 81.612234 57.476106 \nL 84.891573 59.011907 \nL 88.170912 70.070409 \nL 91.450251 89.294276 \nL 94.729589 114.290258 \nL 98.008928 142.005595 \nL 101.288267 169.198561 \nL 104.567606 192.926144 \nL 107.846945 210.969792 \nL 111.126284 222.131389 \nL 114.405622 226.35409 \nL 117.684961 224.652612 \nL 120.9643 218.86972 \nL 124.243639 211.304622 \nL 127.522978 204.279744 \nL 130.802317 199.721518 \nL 134.081655 198.826832 \nL 137.360994 201.870599 \nL 140.640333 208.184439 \nL 143.919672 216.30617 \nL 147.199011 224.270175 \nL 150.47835 229.984684 \nL 153.757689 231.627832 \nL 157.037027 227.99224 \nL 160.316366 218.718064 \nL 163.595705 204.374905 \nL 166.875044 186.380013 \nL 170.154383 166.768967 \nL 173.433722 147.86042 \nL 176.71306 131.87427 \nL 179.992399 120.569717 \nL 183.271738 114.965098 \nL 186.551077 115.18626 \nL 189.830416 120.467279 \nL 193.109755 129.300791 \nL 196.389093 139.709727 \nL 199.668432 149.592202 \nL 202.947771 157.079971 \nL 206.22711 160.850046 \nL 209.506449 160.338383 \nL 212.785788 155.82235 \nL 216.065127 148.361383 \nL 219.344465 139.609008 \nL 222.623804 131.530047 \nL 225.903143 126.071086 \nL 229.182482 124.837969 \nL 232.461821 128.830791 \nL 235.74116 138.275479 \nL 239.020498 152.574103 \nL 242.299837 170.376547 \nL 245.579176 189.757649 \nL 248.858515 208.46922 \nL 252.137854 224.227653 \nL 255.417193 234.996009 \nL 258.696532 239.224029 \nL 261.97587 236.019141 \nL 265.255209 225.233912 \nL 268.534548 207.468127 \nL 271.813887 183.994641 \nL 275.093226 156.625737 \nL 278.372565 127.540335 \nL 281.651903 99.092219 \nL 284.931242 73.616537 \nL 288.210581 53.247523 \nL 291.48992 39.756233 \nL 294.769259 34.414125 \nL 298.048598 37.887177 \nL 301.327936 50.165725 \nL 304.607275 70.53653 \nL 307.886614 97.604593 \nL 311.165953 129.371641 \nL 314.445292 163.375085 \nL 317.724631 196.885318 \nL 321.00397 227.150864 \nL 324.283308 251.67152 \nL 327.562647 268.470914 \nL 330.841986 276.334125 \nL 334.121325 274.974848 \nL 337.400664 265.101346 \nL 340.680003 248.361185 \nL 343.959341 227.160562 \nL 347.23868 204.372638 \nL 350.518019 182.967843 \nL 353.797358 165.614239 \nL 357.076697 154.304768 \nL 360.356036 150.068359 \nL 363.635374 152.812771 \nL 366.914713 161.329349 \nL 370.194052 173.466123 \nL 373.473391 186.449368 \nL 376.75273 197.309298 \nL 380.032069 203.347077 \nL 383.311408 202.571343 \nL 386.590746 194.034823 \nL 389.870085 178.015431 \n\" clip-path=\"url(#pdf97a4ac21)\" style=\"fill: none; stroke: #1f77b4; stroke-width: 2; stroke-linecap: square\"/>\n   </g>\n   <g id=\"line2d_17\">\n    <path d=\"M 65.21554 166.684186 \nL 68.494879 159.649179 \nL 71.774217 150.240579 \nL 75.053556 139.508173 \nL 78.332895 128.812545 \nL 81.612234 119.626994 \nL 84.891573 113.313747 \nL 88.170912 110.908886 \nL 91.450251 112.950011 \nL 94.729589 119.37472 \nL 98.008928 129.507399 \nL 101.288267 142.13833 \nL 104.567606 155.684654 \nL 107.846945 168.409925 \nL 111.126284 178.669583 \nL 114.405622 185.145566 \nL 117.684961 187.034791 \nL 120.9643 184.163438 \nL 124.243639 177.010428 \nL 127.522978 166.637532 \nL 130.802317 154.537753 \nL 134.081655 142.425862 \nL 137.360994 132.003154 \nL 140.640333 124.731561 \nL 143.919672 121.649722 \nL 147.199011 123.256075 \nL 150.47835 129.472844 \nL 153.757689 139.691914 \nL 157.037027 152.89103 \nL 160.316366 167.798686 \nL 163.595705 183.079905 \nL 166.875044 197.513691 \nL 170.154383 210.136266 \nL 173.433722 220.331515 \nL 176.71306 227.859857 \nL 179.992399 232.82734 \nL 183.271738 235.606289 \nL 186.551077 236.725745 \nL 189.830416 236.753302 \nL 193.109755 236.189339 \nL 196.389093 235.390542 \nL 199.668432 234.532855 \nL 202.947771 233.616066 \nL 206.22711 232.504505 \nL 209.506449 230.992245 \nL 212.785788 228.87766 \nL 216.065127 226.031669 \nL 219.344465 222.446421 \nL 222.623804 218.255782 \nL 225.903143 213.724909 \nL 229.182482 209.212143 \nL 232.461821 205.111449 \nL 235.74116 201.786701 \nL 239.020498 199.509957 \nL 242.299837 198.41447 \nL 245.579176 198.469911 \nL 248.858515 199.483006 \nL 252.137854 201.122311 \nL 255.417193 202.962002 \nL 258.696532 204.537023 \nL 261.97587 205.401007 \nL 265.255209 205.178985 \nL 268.534548 203.608843 \nL 271.813887 200.568007 \nL 275.093226 196.084525 \nL 278.372565 190.333867 \nL 281.651903 183.624078 \nL 284.931242 176.372299 \nL 288.210581 169.075192 \nL 291.48992 162.274945 \nL 294.769259 156.521608 \nL 298.048598 152.332092 \nL 301.327936 150.146414 \nL 304.607275 150.282807 \nL 307.886614 152.894929 \nL 311.165953 157.936101 \nL 314.445292 165.13677 \nL 317.724631 174.001711 \nL 321.00397 183.832294 \nL 324.283308 193.776563 \nL 327.562647 202.905864 \nL 330.841986 210.312116 \nL 334.121325 215.2152 \nL 337.400664 217.066353 \nL 340.680003 215.631849 \nL 343.959341 211.04207 \nL 347.23868 203.794687 \nL 350.518019 194.706698 \nL 353.797358 184.817719 \nL 357.076697 175.255 \nL 360.356036 167.077807 \nL 363.635374 161.123653 \nL 366.914713 157.880336 \nL 370.194052 157.405412 \nL 373.473391 159.308487 \nL 376.75273 162.80263 \nL 380.032069 166.820333 \nL 383.311408 170.178791 \nL 386.590746 171.770452 \nL 389.870085 170.749498 \n\" clip-path=\"url(#pdf97a4ac21)\" style=\"fill: none; stroke: #ff7f0e; stroke-width: 2; stroke-linecap: square\"/>\n   </g>\n   <g id=\"patch_3\">\n    <path d=\"M 48.982813 288.430125 \nL 48.982813 22.318125 \n\" style=\"fill: none; stroke: #000000; stroke-width: 0.8; stroke-linejoin: miter; stroke-linecap: square\"/>\n   </g>\n   <g id=\"patch_4\">\n    <path d=\"M 406.102813 288.430125 \nL 406.102813 22.318125 \n\" style=\"fill: none; stroke: #000000; stroke-width: 0.8; stroke-linejoin: miter; stroke-linecap: square\"/>\n   </g>\n   <g id=\"patch_5\">\n    <path d=\"M 48.982813 288.430125 \nL 406.102813 288.430125 \n\" style=\"fill: none; stroke: #000000; stroke-width: 0.8; stroke-linejoin: miter; stroke-linecap: square\"/>\n   </g>\n   <g id=\"patch_6\">\n    <path d=\"M 48.982813 22.318125 \nL 406.102813 22.318125 \n\" style=\"fill: none; stroke: #000000; stroke-width: 0.8; stroke-linejoin: miter; stroke-linecap: square\"/>\n   </g>\n   <g id=\"text_18\">\n    <!-- g.f -->\n    <g transform=\"translate(219.714688 16.318125) scale(0.12 -0.12)\">\n     <defs>\n      <path id=\"DejaVuSans-2e\" d=\"M 684 794 \nL 1344 794 \nL 1344 0 \nL 684 0 \nL 684 794 \nz\n\" transform=\"scale(0.015625)\"/>\n     </defs>\n     <use xlink:href=\"#DejaVuSans-67\"/>\n     <use xlink:href=\"#DejaVuSans-2e\" x=\"63.476562\"/>\n     <use xlink:href=\"#DejaVuSans-66\" x=\"95.263672\"/>\n    </g>\n   </g>\n   <g id=\"legend_1\">\n    <g id=\"patch_7\">\n     <path d=\"M 55.982813 283.430125 \nL 194.279688 283.430125 \nQ 196.279688 283.430125 196.279688 281.430125 \nL 196.279688 253.073875 \nQ 196.279688 251.073875 194.279688 251.073875 \nL 55.982813 251.073875 \nQ 53.982813 251.073875 53.982813 253.073875 \nL 53.982813 281.430125 \nQ 53.982813 283.430125 55.982813 283.430125 \nz\n\" style=\"fill: #ffffff; opacity: 0.8; stroke: #cccccc; stroke-linejoin: miter\"/>\n    </g>\n    <g id=\"line2d_18\">\n     <path d=\"M 57.982813 259.172312 \nL 67.982813 259.172312 \nL 77.982813 259.172312 \n\" style=\"fill: none; stroke: #1f77b4; stroke-width: 2; stroke-linecap: square\"/>\n    </g>\n    <g id=\"text_19\">\n     <!-- rotations -->\n     <g transform=\"translate(85.982813 262.672312) scale(0.1 -0.1)\">\n      <defs>\n       <path id=\"DejaVuSans-72\" d=\"M 2631 2963 \nQ 2534 3019 2420 3045 \nQ 2306 3072 2169 3072 \nQ 1681 3072 1420 2755 \nQ 1159 2438 1159 1844 \nL 1159 0 \nL 581 0 \nL 581 3500 \nL 1159 3500 \nL 1159 2956 \nQ 1341 3275 1631 3429 \nQ 1922 3584 2338 3584 \nQ 2397 3584 2469 3576 \nQ 2541 3569 2628 3553 \nL 2631 2963 \nz\n\" transform=\"scale(0.015625)\"/>\n       <path id=\"DejaVuSans-6f\" d=\"M 1959 3097 \nQ 1497 3097 1228 2736 \nQ 959 2375 959 1747 \nQ 959 1119 1226 758 \nQ 1494 397 1959 397 \nQ 2419 397 2687 759 \nQ 2956 1122 2956 1747 \nQ 2956 2369 2687 2733 \nQ 2419 3097 1959 3097 \nz\nM 1959 3584 \nQ 2709 3584 3137 3096 \nQ 3566 2609 3566 1747 \nQ 3566 888 3137 398 \nQ 2709 -91 1959 -91 \nQ 1206 -91 779 398 \nQ 353 888 353 1747 \nQ 353 2609 779 3096 \nQ 1206 3584 1959 3584 \nz\n\" transform=\"scale(0.015625)\"/>\n       <path id=\"DejaVuSans-6e\" d=\"M 3513 2113 \nL 3513 0 \nL 2938 0 \nL 2938 2094 \nQ 2938 2591 2744 2837 \nQ 2550 3084 2163 3084 \nQ 1697 3084 1428 2787 \nQ 1159 2491 1159 1978 \nL 1159 0 \nL 581 0 \nL 581 3500 \nL 1159 3500 \nL 1159 2956 \nQ 1366 3272 1645 3428 \nQ 1925 3584 2291 3584 \nQ 2894 3584 3203 3211 \nQ 3513 2838 3513 2113 \nz\n\" transform=\"scale(0.015625)\"/>\n       <path id=\"DejaVuSans-73\" d=\"M 2834 3397 \nL 2834 2853 \nQ 2591 2978 2328 3040 \nQ 2066 3103 1784 3103 \nQ 1356 3103 1142 2972 \nQ 928 2841 928 2578 \nQ 928 2378 1081 2264 \nQ 1234 2150 1697 2047 \nL 1894 2003 \nQ 2506 1872 2764 1633 \nQ 3022 1394 3022 966 \nQ 3022 478 2636 193 \nQ 2250 -91 1575 -91 \nQ 1294 -91 989 -36 \nQ 684 19 347 128 \nL 347 722 \nQ 666 556 975 473 \nQ 1284 391 1588 391 \nQ 1994 391 2212 530 \nQ 2431 669 2431 922 \nQ 2431 1156 2273 1281 \nQ 2116 1406 1581 1522 \nL 1381 1569 \nQ 847 1681 609 1914 \nQ 372 2147 372 2553 \nQ 372 3047 722 3315 \nQ 1072 3584 1716 3584 \nQ 2034 3584 2315 3537 \nQ 2597 3491 2834 3397 \nz\n\" transform=\"scale(0.015625)\"/>\n      </defs>\n      <use xlink:href=\"#DejaVuSans-72\"/>\n      <use xlink:href=\"#DejaVuSans-6f\" x=\"38.863281\"/>\n      <use xlink:href=\"#DejaVuSans-74\" x=\"100.044922\"/>\n      <use xlink:href=\"#DejaVuSans-61\" x=\"139.253906\"/>\n      <use xlink:href=\"#DejaVuSans-74\" x=\"200.533203\"/>\n      <use xlink:href=\"#DejaVuSans-69\" x=\"239.742188\"/>\n      <use xlink:href=\"#DejaVuSans-6f\" x=\"267.525391\"/>\n      <use xlink:href=\"#DejaVuSans-6e\" x=\"328.707031\"/>\n      <use xlink:href=\"#DejaVuSans-73\" x=\"392.085938\"/>\n     </g>\n    </g>\n    <g id=\"line2d_19\">\n     <path d=\"M 57.982813 273.850437 \nL 67.982813 273.850437 \nL 77.982813 273.850437 \n\" style=\"fill: none; stroke: #ff7f0e; stroke-width: 2; stroke-linecap: square\"/>\n    </g>\n    <g id=\"text_20\">\n     <!-- reflection + rotations -->\n     <g transform=\"translate(85.982813 277.350437) scale(0.1 -0.1)\">\n      <defs>\n       <path id=\"DejaVuSans-6c\" d=\"M 603 4863 \nL 1178 4863 \nL 1178 0 \nL 603 0 \nL 603 4863 \nz\n\" transform=\"scale(0.015625)\"/>\n       <path id=\"DejaVuSans-63\" d=\"M 3122 3366 \nL 3122 2828 \nQ 2878 2963 2633 3030 \nQ 2388 3097 2138 3097 \nQ 1578 3097 1268 2742 \nQ 959 2388 959 1747 \nQ 959 1106 1268 751 \nQ 1578 397 2138 397 \nQ 2388 397 2633 464 \nQ 2878 531 3122 666 \nL 3122 134 \nQ 2881 22 2623 -34 \nQ 2366 -91 2075 -91 \nQ 1284 -91 818 406 \nQ 353 903 353 1747 \nQ 353 2603 823 3093 \nQ 1294 3584 2113 3584 \nQ 2378 3584 2631 3529 \nQ 2884 3475 3122 3366 \nz\n\" transform=\"scale(0.015625)\"/>\n       <path id=\"DejaVuSans-2b\" d=\"M 2944 4013 \nL 2944 2272 \nL 4684 2272 \nL 4684 1741 \nL 2944 1741 \nL 2944 0 \nL 2419 0 \nL 2419 1741 \nL 678 1741 \nL 678 2272 \nL 2419 2272 \nL 2419 4013 \nL 2944 4013 \nz\n\" transform=\"scale(0.015625)\"/>\n      </defs>\n      <use xlink:href=\"#DejaVuSans-72\"/>\n      <use xlink:href=\"#DejaVuSans-65\" x=\"38.863281\"/>\n      <use xlink:href=\"#DejaVuSans-66\" x=\"100.386719\"/>\n      <use xlink:href=\"#DejaVuSans-6c\" x=\"135.591797\"/>\n      <use xlink:href=\"#DejaVuSans-65\" x=\"163.375\"/>\n      <use xlink:href=\"#DejaVuSans-63\" x=\"224.898438\"/>\n      <use xlink:href=\"#DejaVuSans-74\" x=\"279.878906\"/>\n      <use xlink:href=\"#DejaVuSans-69\" x=\"319.087891\"/>\n      <use xlink:href=\"#DejaVuSans-6f\" x=\"346.871094\"/>\n      <use xlink:href=\"#DejaVuSans-6e\" x=\"408.052734\"/>\n      <use xlink:href=\"#DejaVuSans-20\" x=\"471.431641\"/>\n      <use xlink:href=\"#DejaVuSans-2b\" x=\"503.21875\"/>\n      <use xlink:href=\"#DejaVuSans-20\" x=\"587.007812\"/>\n      <use xlink:href=\"#DejaVuSans-72\" x=\"618.794922\"/>\n      <use xlink:href=\"#DejaVuSans-6f\" x=\"657.658203\"/>\n      <use xlink:href=\"#DejaVuSans-74\" x=\"718.839844\"/>\n      <use xlink:href=\"#DejaVuSans-61\" x=\"758.048828\"/>\n      <use xlink:href=\"#DejaVuSans-74\" x=\"819.328125\"/>\n      <use xlink:href=\"#DejaVuSans-69\" x=\"858.537109\"/>\n      <use xlink:href=\"#DejaVuSans-6f\" x=\"886.320312\"/>\n      <use xlink:href=\"#DejaVuSans-6e\" x=\"947.501953\"/>\n      <use xlink:href=\"#DejaVuSans-73\" x=\"1010.880859\"/>\n     </g>\n    </g>\n   </g>\n  </g>\n </g>\n <defs>\n  <clipPath id=\"pdf97a4ac21\">\n   <rect x=\"48.982813\" y=\"22.318125\" width=\"357.12\" height=\"266.112\"/>\n  </clipPath>\n </defs>\n</svg>\n",
            "application/pdf": "[encoded data removed]"
          },
          "metadata": {}
        }
      ],
      "source": [
        "irreps = [G.irrep(0, 0)] + [G.irrep(1, j) for j in range(8)]\n",
        "\n",
        "# first, we generate a random function, as earlier\n",
        "ft = {\n",
        "    rho.id: np.random.randn(rho.size, rho.size)\n",
        "    for rho in irreps\n",
        "}\n",
        "\n",
        "# second, we sample a random group element `g`\n",
        "g = G.sample()\n",
        "print(f'Transforming the function with g={g}')\n",
        "\n",
        "# finally, we transform the Fourier coefficients as in the equations above:\n",
        "gft = {\n",
        "    rho.id: rho(g) @ ft[rho.id]\n",
        "    for rho in irreps\n",
        "}\n",
        "\n",
        "# Let's now visualize the two functions:\n",
        "\n",
        "f_rot = [\n",
        "    inverse_fourier_transform_O2(g, ft) for g in grid_rot\n",
        "]\n",
        "f_refl = [\n",
        "    inverse_fourier_transform_O2(g, ft) for g in grid_refl\n",
        "]\n",
        "\n",
        "gf_rot = [\n",
        "    inverse_fourier_transform_O2(g, gft) for g in grid_rot\n",
        "]\n",
        "gf_refl = [\n",
        "    inverse_fourier_transform_O2(g, gft) for g in grid_refl\n",
        "]\n",
        "\n",
        "\n",
        "plt.plot(thetas, f_rot, label='rotations')\n",
        "plt.plot(thetas, f_refl, label='reflection + rotations')\n",
        "plt.xlabel('theta [0, 2pi)')\n",
        "plt.ylabel('f(g)')\n",
        "plt.title('f')\n",
        "plt.legend()\n",
        "plt.show()\n",
        "\n",
        "plt.plot(thetas, gf_rot, label='rotations')\n",
        "plt.plot(thetas, gf_refl, label='reflection + rotations')\n",
        "plt.xlabel('theta [0, 2pi)')\n",
        "plt.ylabel('f(g)')\n",
        "plt.title('g.f')\n",
        "plt.legend()\n",
        "plt.show()"
      ]
    },
    {
      "cell_type": "markdown",
      "metadata": {
        "id": "EEtyoU54cQLs"
      },
      "source": [
        "#### From the Fourier Transform to the Regular Representation\n",
        "\n",
        "For simplicity, we can stack all the Fourier coefficients (the output of the Fourier transform, that is, the input of the inverse Fourier transform) into a unique vector.\n",
        "We define the vector $\\mathbf{f}$ as the stack of the columns of each Fourier coefficients matrix $f(\\rho_j)$.\n",
        "\n",
        "Let's first introduce some notation.\n",
        "We denote the stack of two vectors $\\mathbf{v_1}, \\mathbf{v_2}$ as $\\mathbf{v_1} \\oplus \\mathbf{v_2}$.\n",
        "The use of $\\oplus$ is not random: if $\\rho_1$ is a representation acting on $\\mathbf{v_1}$ and $\\rho_2$ is a representation acting on $\\mathbf{v_2}$, then the *direct sum* $\\rho_1 \\oplus \\rho_2$ acts on the concatenated vector $\\mathbf{v_1} \\oplus \\mathbf{v_2}$.\n",
        "\n",
        "Second, we denote by $\\text{vec}(A)$ the vector which is the stack of the columns of a matrix $A$.\n",
        "In `numpy`, this is written as `A.T.reshape(-1)`, where the transpose is necessary since `numpy` stacks rows by default.\n",
        "\n",
        "Then, we write:\n",
        "$$ \\mathbf{f} = \\bigoplus_{\\rho_j} \\text{vec}(\\hat{f}(\\rho_j)) \\ .$$\n",
        "\n",
        "Moreover, by using $\\widehat{g.f}(\\rho_j) = \\rho_j(g) \\hat{f}(\\rho_j)$, we see that the vector containing the coefficients of the function $[g.f]$ will be:\n",
        "$$\n",
        "\\bigoplus_{\\rho_j} \\text{vec}(\\rho_j(g) \\hat{f}(\\rho_j)) =\n",
        "\\bigoplus_{\\rho_j} \\left(\\bigoplus^{d_j} \\rho_j(g)\\right) \\text{vec}(\\hat{f}(\\rho_j))\n",
        "$$\n",
        "\n",
        "In other words, the group $G$ is acting on the vector $\\mathbf{f}$ with the following representation:\n",
        "$$\n",
        "\\rho(g) = \\bigoplus_{\\rho_j} \\bigoplus^{d_j} \\rho_j(g)\n",
        "$$\n",
        "\n",
        "i.e. $\\rho(g) \\mathbf{f}$ is the vector containing the Fourier coefficients of the function $[g.f]$."
      ]
    },
    {
      "cell_type": "markdown",
      "metadata": {
        "id": "soETTVlMcQLs"
      },
      "source": [
        "Note that, essentially, the representation $\\rho$ acts on a vector space containing functions over $G$.\n",
        "This should remind you of the **regular representation** we defined for *finite groups* earlier.\n",
        "Indeed, it turns out that, if $G$ is finite, the representation $\\rho$ we have just constructed is **isomorphic** (*equivalent*) to the *regular representation* defined earlier.\n",
        "The change of basis $Q$ is a matrix which performs the Fourier transform, while $Q^{-1}$ performs the inverse Fourier transform.\n",
        "More formally:\n",
        "$$ \\rho_\\text{reg}(g) = Q^{-1} \\left(\\bigoplus_{\\rho_j} \\bigoplus^{d_j} \\rho_j(g) \\right) Q $$\n",
        "\n",
        "where each irrep $\\rho_j$ is repeated $d_j$ times, i.e. a number of times equal to its size."
      ]
    },
    {
      "cell_type": "markdown",
      "metadata": {
        "id": "pDqHvssGptvW"
      },
      "source": [
        "**Intuition**: recall that a function $f : G \\to \\mathbb{R}$ is just a vector living in a vector space. Such vector can be expressed with respect to any basis for this vector space. The first time we introduced the *regular representation* for finite groups, we chose a basis where each axis is associated with a group element; the action of $G$ is realized in this basis by a permutation of all the axes. Here, instead, we defined a basis for the same vector space where $G$ acts indipendently on different subsets of the axes, i.e. the action of $G$ is a block-diagonal matrix (the direct sum of irreps). This is often a more convenient choice of basis as we will see later."
      ]
    },
    {
      "cell_type": "markdown",
      "metadata": {
        "id": "rvgKeBEZcQLs"
      },
      "source": [
        "Let verify this equivalence for the Dihdral group $D_8$:"
      ]
    },
    {
      "cell_type": "code",
      "execution_count": null,
      "metadata": {
        "id": "sdlvVFUJcQLs",
        "colab": {
          "base_uri": "https://localhost:8080/"
        },
        "outputId": "b076639a-33f5-4e7d-bdad-16fd9e796bf2"
      },
      "outputs": [
        {
          "output_type": "stream",
          "name": "stdout",
          "text": [
            "The representations have the same size:\n",
            "16 16\n",
            "And contain the same irreps:\n",
            "[(0, 0), (1, 0), (1, 1), (1, 1), (1, 2), (1, 2), (1, 3), (1, 3), (1, 4), (0, 4)]\n",
            "[(0, 0), (1, 0), (1, 1), (1, 1), (1, 2), (1, 2), (1, 3), (1, 3), (1, 4), (0, 4)]\n",
            "\n",
            "Are the two representations equivalent? True\n"
          ]
        }
      ],
      "source": [
        "\n",
        "G = dihedral_group(8)\n",
        "\n",
        "rho_irreps = []\n",
        "for rho_j in G.irreps():\n",
        "    d_j = rho_j.size\n",
        "    # repeat each irrep a number of times equal to its size\n",
        "    rho_irreps += [rho_j]*d_j\n",
        "\n",
        "rho = directsum(rho_irreps)\n",
        "\n",
        "print('The representations have the same size:')\n",
        "print(rho.size, G.regular_representation.size)\n",
        "\n",
        "print('And contain the same irreps:')\n",
        "print(rho.irreps)\n",
        "print(G.regular_representation.irreps)\n",
        "\n",
        "# Fourier transform matrix:\n",
        "Q = G.regular_representation.change_of_basis\n",
        "# inverse Fourier transform matrix:\n",
        "Qinv = G.regular_representation.change_of_basis_inv\n",
        "\n",
        "# let's check that the two representations are indeed equivalent\n",
        "g = G.sample()\n",
        "\n",
        "rho_g = rho(g)\n",
        "reg_g = G.regular_representation(g)\n",
        "print()\n",
        "print('Are the two representations equivalent?', np.allclose(Q @ rho_g @ Qinv, reg_g))"
      ]
    },
    {
      "cell_type": "markdown",
      "metadata": {
        "id": "gWWja59scQLs"
      },
      "source": [
        "In cases where $G$ is not finite, storing the regular representation $\\rho_\\text{reg}$ or the Fourier transform matrix $Q$ explicitly is not feasible due to their infinite dimensionality. However, as previously discussed, we can restrict our consideration to a subset of functions spanned by a finite number of irreps. Sampling the function on any group element using the Inverse Fourier Transform when required allows us to avoid computing the complete Inverse Fourier Transform $Q^{-1}$ and storing all values.\n",
        "\n",
        "This concept forms the basis for developing GCNNs equivariant to infinite groups, which we'll explore further later on."
      ]
    },
    {
      "cell_type": "markdown",
      "metadata": {
        "id": "fuA63jcqcQLt"
      },
      "source": [
        "We can easily generate this representation as (`bl_regular_representation` stands for \"band-limited\", since only a limited subset of irreps, i.e. frequencies, is used):"
      ]
    },
    {
      "cell_type": "code",
      "execution_count": null,
      "metadata": {
        "id": "jK5l0p-ocQLt",
        "colab": {
          "base_uri": "https://localhost:8080/"
        },
        "outputId": "19639e2a-b2ef-49d1-df7c-a24e5bb3a4e4"
      },
      "outputs": [
        {
          "output_type": "execute_result",
          "data": {
            "text/plain": [
              "[(0, 0),\n",
              " (1, 0),\n",
              " (1, 1),\n",
              " (1, 1),\n",
              " (1, 2),\n",
              " (1, 2),\n",
              " (1, 3),\n",
              " (1, 3),\n",
              " (1, 4),\n",
              " (1, 4),\n",
              " (1, 5),\n",
              " (1, 5),\n",
              " (1, 6),\n",
              " (1, 6),\n",
              " (1, 7),\n",
              " (1, 7)]"
            ]
          },
          "metadata": {},
          "execution_count": 56
        }
      ],
      "source": [
        "G = o2_group()\n",
        "\n",
        "rho = G.bl_regular_representation(7)\n",
        "\n",
        "rho.irreps"
      ]
    },
    {
      "cell_type": "markdown",
      "metadata": {
        "id": "BfsEg4U8cQLt"
      },
      "source": [
        "## 2. Steerable CNNs\n"
      ]
    },
    {
      "cell_type": "markdown",
      "metadata": {
        "id": "MrCqjd6fcQLt"
      },
      "source": [
        "We consider a GCNN equivariant to a *semi-direct* product group $\\mathbb{R}^n \\rtimes G$, with compact group $G \\leq O(n)$.\n",
        "This setting covers equivariance to **isometries** (distance preserving transformations) of the Euclidean space $\\mathbb{R}^n$; in particular, it includes equivariance to *translations* in $\\mathbb{R}^n$ and to a origin-preserving symmetry $G$ (e.g. rotations or reflections in $n$-dimensions).\n",
        "We call $G$ a **point group**.\n",
        "\n",
        "If $G=O(n)$, the group of all rotations and reflections in $\\mathbb{R}^n$, then $E(n) = \\mathbb{R}^n \\rtimes O(n)$ is called the **Euclidean group**, and includes all isometries of $\\mathbb{R}^n$."
      ]
    },
    {
      "cell_type": "markdown",
      "metadata": {
        "id": "t8W8MoctMjn_"
      },
      "source": [
        "### 2.1 Feature Fields\n",
        "In a GCNN, a feature map is a signal $f: \\mathbb{R}^n \\times G \\to \\mathbb{R}$.\n",
        "The action of an element $(x, g) \\in \\mathbb{R}^n \\rtimes G$ is:\n",
        "\n",
        "$$ [(x, g).f](y,h):= f(g^{-1}(y-x), g^{-1}h) $$\n",
        "\n",
        "where $x, y \\in \\mathbb{R}^n$ and $g, h \\in G$."
      ]
    },
    {
      "cell_type": "markdown",
      "metadata": {
        "id": "pTJxbzY4cQLu"
      },
      "source": [
        "In GCNNs, feature maps $f$ are reprsented as multi-dimensional arrays with a dedicated axis for each of the $n$ spatial dimensions and one for the group $G$.\n",
        "\n",
        "In a steerable CNN, we replace the $G$ axis with a \"Fourier\" axis, containing $c$ Fourier coefficients used to parameterize a function over $G$, as previously explained.\n",
        "Let's denote $\\rho: G \\to \\mathbb{R}^{c \\times c}$ as the representation of $G$ acting on these $c$ coefficients. This approach is equivalent to a standard GCNN when $G$ is finite (and we have $c = |G|$), but it extends to use with infinite $G$, such as $SO(2)$.\n",
        "\n",
        "Now, a feature map $f$ can be seen as a vector field on the space $\\mathbb{R}^n$, expressed as:\n",
        "$$ f: \\mathbb{R}^n \\to \\mathbb{R}^c $$\n",
        "\n",
        "This assigns a $c$-dimensional feature vector $f(x)\\in\\mathbb{R}^c$ to each spatial position $x\\in\\mathbb{R}^n$. Such a vector field is termed a **feature vector field**.\n",
        "\n",
        "The action of $\\mathbb{R}^n \\rtimes G$ on one such feature vector field is defined as:\n",
        "\n",
        "$$ [(x, g).f](y):= \\rho(g) f(g^{-1}(y-x)) $$\n",
        "\n",
        "where $x, y \\in \\mathbb{R}^n$ and $g \\in G$."
      ]
    },
    {
      "cell_type": "markdown",
      "metadata": {
        "id": "EX2IVGuTcQLu"
      },
      "source": [
        "### General Steerable CNNs\n",
        "The framework of Steerable CNNs is inherently more general, accommodating any representation $\\rho$ of $G$.\n",
        "Opting for a different $\\rho$ typically demands some structural adjustments in the architecture, such as adapting the non-linearity to ensure equivariance.\n",
        "\n",
        "Nonetheless, for the sake of simplicity, we'll adhere to the Fourier example in this notebook.\n"
      ]
    },
    {
      "cell_type": "markdown",
      "metadata": {
        "id": "hn9ztlcjcQLu"
      },
      "source": [
        "For the remainder of this notebook, let's assume $n=2$ for simplicity.\n",
        "\n",
        "This implies, for instance, working with planar images and isometries of the plane (2D rotations or mirroring). The actions of $g \\in G=SO(2)$ on two examples of feature vector fields over $\\mathbb{R}^2$ are illustrated below. On the left, $\\rho$ represents the trivial representation of $SO(2)$ while, on the right, $\\rho$ represents $SO(2)$ as $2\\times 2$ rotation matrices."
      ]
    },
    {
      "cell_type": "markdown",
      "metadata": {
        "id": "npYYVFKNcQLu"
      },
      "source": [
        "![feature field examples](https://github.com/QUVA-Lab/e2cnn/raw/master/visualizations/feature_fields.png)"
      ]
    },
    {
      "cell_type": "markdown",
      "metadata": {
        "id": "bBCJq30ycQLu"
      },
      "source": [
        "### 2.2 Defining a Steerable CNN"
      ]
    },
    {
      "cell_type": "markdown",
      "metadata": {
        "id": "oHD8hI5fcQLv"
      },
      "source": [
        "We can now proceed with building a Steerable CNN.\n",
        "First we import some other useful packages."
      ]
    },
    {
      "cell_type": "code",
      "execution_count": null,
      "metadata": {
        "id": "E9TilpbScQLv"
      },
      "outputs": [],
      "source": [
        "from escnn import group\n",
        "from escnn import gspaces\n",
        "from escnn import nn"
      ]
    },
    {
      "cell_type": "markdown",
      "metadata": {
        "id": "xPhRRlFDM0wm"
      },
      "source": [
        "First, we must select the group $G$ of point symmetries (reflections and rotations) under consideration. All these choices correspond to subgroups $G\\leq O(2)$ of the orthogonal group.\n",
        "\n",
        "For simplicity, let's start with the *finite* group $G=C_4$, representing the $4$ rotations by angles $\\theta \\in \\big\\{0, \\frac{\\pi}{2}, \\pi, \\frac{3\\pi}{2}\\big\\}$. We will later expand our examples to an infinite group like $SO(2)$ or $O(2)$.\n",
        "\n",
        "Recalling that a semi-direct product $\\mathbb{R}^2 \\rtimes G$ is defined by both $G$ and the action of $G$ on $\\mathbb{R}^2$, we determine both the **point group** $G$ and its **action on the space** $\\mathbb{R}^2$ by instantiating a subclass of gspace.GSpace. For the rotational action of $G=C_4$ on $\\mathbb{R}^2$, this is achieved by:"
      ]
    },
    {
      "cell_type": "code",
      "execution_count": null,
      "metadata": {
        "id": "GtrK5XjccQLv",
        "colab": {
          "base_uri": "https://localhost:8080/"
        },
        "outputId": "f6630a62-ae83-4040-f227-92b3ea5b702a"
      },
      "outputs": [
        {
          "output_type": "execute_result",
          "data": {
            "text/plain": [
              "C4_on_R2[(None, 4)]"
            ]
          },
          "metadata": {},
          "execution_count": 58
        }
      ],
      "source": [
        "r2_act = gspaces.rot2dOnR2(N=4)\n",
        "r2_act"
      ]
    },
    {
      "cell_type": "code",
      "execution_count": null,
      "metadata": {
        "id": "QS4UPsa3RfBB",
        "colab": {
          "base_uri": "https://localhost:8080/"
        },
        "outputId": "c31ea17d-91bb-4753-e2ae-75ccc8f84eb4"
      },
      "outputs": [
        {
          "output_type": "execute_result",
          "data": {
            "text/plain": [
              "C4"
            ]
          },
          "metadata": {},
          "execution_count": 59
        }
      ],
      "source": [
        "# we can access the group G as\n",
        "G = r2_act.fibergroup\n",
        "G"
      ]
    },
    {
      "cell_type": "markdown",
      "metadata": {
        "id": "rpQ3HO_tcQLv"
      },
      "source": [
        "After defining the symmetry transformation on the base space $\\mathbb{R}^2$, the next step is to define the representation $\\rho: G \\to \\mathbb{R}^{c \\times c}$ that describes how a **feature vector field** $f : \\mathbb{R}^2 \\to \\mathbb{R}^c$ transforms under the action of $G$. This transformation law for feature fields is implemented by `nn.FieldType`.\n",
        "\n",
        "We create an instance of nn.FieldType to model a GCNN feature by providing it with the gspaces.GSpace instance and the regular representation of $G=C_4$. A feature field associated with the regular representation $\\rho_\\text{reg}$ is referred to as a **regular feature field**."
      ]
    },
    {
      "cell_type": "code",
      "execution_count": null,
      "metadata": {
        "id": "1HcUHvbHRS1z",
        "colab": {
          "base_uri": "https://localhost:8080/"
        },
        "outputId": "3e01fa95-ace7-4dc8-8eeb-46cb4bed4706"
      },
      "outputs": [
        {
          "output_type": "execute_result",
          "data": {
            "text/plain": [
              "[C4_on_R2[(None, 4)]: {regular (x1)}(4)]"
            ]
          },
          "metadata": {},
          "execution_count": 60
        }
      ],
      "source": [
        "feat_type = nn.FieldType(r2_act, [G.regular_representation])\n",
        "feat_type"
      ]
    },
    {
      "cell_type": "markdown",
      "metadata": {
        "id": "N7iQyWXgZxHx"
      },
      "source": [
        "Recall that the regular representation of a finite group $G$ built by `G.regular_representation` is a permutation matrix of shape $|G| \\times |G|$:"
      ]
    },
    {
      "cell_type": "code",
      "execution_count": null,
      "metadata": {
        "id": "yLHOXaPmZ9zw",
        "colab": {
          "base_uri": "https://localhost:8080/"
        },
        "outputId": "ed5d0435-71b6-4c86-8eb4-7673184b3d03"
      },
      "outputs": [
        {
          "output_type": "execute_result",
          "data": {
            "text/plain": [
              "array([[-0., -0.,  1.,  0.],\n",
              "       [ 0., -0., -0.,  1.],\n",
              "       [ 1.,  0., -0., -0.],\n",
              "       [ 0.,  1.,  0., -0.]])"
            ]
          },
          "metadata": {},
          "execution_count": 61
        }
      ],
      "source": [
        "G.regular_representation(G.sample())"
      ]
    },
    {
      "cell_type": "markdown",
      "metadata": {
        "id": "_RWv1FOrQXqO"
      },
      "source": [
        "#### Deep Feature spaces\n",
        "The deep feature spaces of a GCNN typically consist of multiple channels, and similarly, the feature spaces of a steerable CNN can include multiple independent feature fields. This is accomplished through a **direct sum** by stacking multiple copies of $\\rho$.\n",
        "\n",
        "For instance, we can use three copies of the regular representation $\\rho_\\text{reg}: G \\to \\mathbb{R}^{|G|}$. The complete feature space is, in this case, represented as a *stacked* field $f: \\mathbb{R}^2 \\to \\mathbb{R}^{3|G|}$, which transforms according to the **direct sum** of three regular representations:\n",
        "\n",
        "$$\n",
        "\\rho(r_\\theta)\n",
        "    \\ =\\ \\rho_\\text{reg}(r_\\theta) \\oplus \\rho_\\text{reg}(r_\\theta) \\oplus \\rho_\\text{reg}(r_\\theta)\n",
        "    \\ =\\ \\begin{bmatrix}\n",
        "            \\rho_\\text{reg}(\\theta) & 0 & 0 \\\\\n",
        "            0 & \\rho_\\text{reg}(\\theta) & 0 \\\\\n",
        "            0 & 0 & \\rho_\\text{reg}(\\theta) \\\\\n",
        "          \\end{bmatrix}\n",
        "          \\quad\\in\\ \\mathbb{R}^{3|G| \\times 3|G|}\n",
        "$$\n",
        "\n",
        "We instantiate a `nn.FieldType` composed of $3$ regular representations by passing the full field representation as a list of three regular representations:\n"
      ]
    },
    {
      "cell_type": "code",
      "execution_count": null,
      "metadata": {
        "id": "dc0pd9W7TVrR",
        "colab": {
          "base_uri": "https://localhost:8080/"
        },
        "outputId": "929559f4-2075-47a1-e37d-e67462b9a56b"
      },
      "outputs": [
        {
          "output_type": "execute_result",
          "data": {
            "text/plain": [
              "[C4_on_R2[(None, 4)]: {regular (x3)}(12)]"
            ]
          },
          "metadata": {},
          "execution_count": 62
        }
      ],
      "source": [
        "# Technically, one can also construct the direct-sum representation G.regular_representation + G.regular_representation + G.regular_representation as done\n",
        "# before. Passing a list containing 3 copies of G.regular_representation allows for more efficient implementation of certain operations internally.\n",
        "feat_type = nn.FieldType(r2_act, [G.regular_representation]*3)\n",
        "feat_type"
      ]
    },
    {
      "cell_type": "markdown",
      "metadata": {
        "id": "fvxqTdJURs6C"
      },
      "source": [
        "#### Input Features\n",
        "In a steerable CNN, each hidden layer has its own transformation law, which the user must specify (equivalent to choosing the number of channels in each layer of a conventional CNN). The *input* and *output* of a steerable CNN are also feature fields, and their type (i.e., transformation law) is typically determined by the inference task.\n",
        "\n",
        "A common example is that of gray-scale input images. Rotating a gray-scale image involves moving each pixel to a new position without altering their intensity values. The invariance of scalar pixel values under rotations is modeled by the **trivial representation** $\\rho_0: G\\to\\mathbb{R},\\ g\\mapsto 1$ of $G$ and identifies them as **scalar fields**. Formally, a scalar field is a function $f: \\mathbb{R}^2 \\to \\mathbb{R}$ mapping to a feature vector with $c=1$ channel. A rotation $r_\\theta \\in C_4$ transforms this scalar field as:\n",
        "\n",
        "$$ \\big[r_{\\theta}\\,. f\\big](x)\n",
        "   \\ :=\\ \\rho_0(r_\\theta)\\,f\\big(r_\\theta^{-1}x\\big)\n",
        "   \\ =\\ 1\\cdot f\\big(r_\\theta^{-1}x\\big)\n",
        "   \\ =\\ f\\big(r_\\theta^{-1}x\\big) \\ .\n",
        "$$\n",
        "\n",
        "\n",
        "We instantiate the `nn.FieldType` modeling a gray-scale image by passing it the trivial representation of $G$:"
      ]
    },
    {
      "cell_type": "code",
      "execution_count": null,
      "metadata": {
        "id": "NMTEZGYicQLw",
        "colab": {
          "base_uri": "https://localhost:8080/"
        },
        "outputId": "3811d13a-bd1e-46a8-f6f9-ecddbbc29f99"
      },
      "outputs": [
        {
          "output_type": "execute_result",
          "data": {
            "text/plain": [
              "[C4_on_R2[(None, 4)]: {irrep_0 (x1)}(1)]"
            ]
          },
          "metadata": {},
          "execution_count": 63
        }
      ],
      "source": [
        "feat_type_in = nn.FieldType(r2_act, [G.trivial_representation])\n",
        "feat_type_in"
      ]
    },
    {
      "cell_type": "markdown",
      "metadata": {
        "id": "0l2ascq8cQLw"
      },
      "source": [
        "#### Equivariant Layers\n",
        "\n",
        "When constructing a model that is **equivariant** to a group $G$, we demand that the output generated by the model transforms consistently when the input undergoes a transformation by an element $g \\in G$. For a function $F$ (such as a neural network), the **equivariance constraint** entails:\n",
        "\n",
        "$$ \\mathcal{T}^\\text{out}_g \\big[F(x)\\big]\\ =\\ F\\big(\\mathcal{T}^\\text{in}_g[x]\\big) \\quad \\forall g\\in G$$\n",
        "\n",
        "where $\\mathcal{T}^\\text{in}_g$ represents the transformation of the input by the group element $g$, and $\\mathcal{T}^\\text{out}_g$ is the transformation of the output by the same element. The *field type* `feat_type_in` we defined above precisely describes $\\mathcal{T}^\\text{in}$. The transformation law $\\mathcal{T}^\\text{out}$ for the output of the first layer is similarly chosen by defining an instance `feat_type_out` of `nn.FieldType`.\n",
        "\n",
        "For instance, let's utilize $3$ *regular feature fields* in the output:"
      ]
    },
    {
      "cell_type": "code",
      "execution_count": null,
      "metadata": {
        "id": "CKR3ape0cQLw"
      },
      "outputs": [],
      "source": [
        "feat_type_out = nn.FieldType(r2_act, [G.regular_representation]*3)"
      ]
    },
    {
      "cell_type": "markdown",
      "metadata": {
        "id": "YhhZ6uPBa3A0"
      },
      "source": [
        "As a shortcut, we can also use:"
      ]
    },
    {
      "cell_type": "code",
      "execution_count": null,
      "metadata": {
        "id": "1UzV5jQma6WR"
      },
      "outputs": [],
      "source": [
        "feat_type_in = nn.FieldType(r2_act, [r2_act.trivial_repr])\n",
        "feat_type_out = nn.FieldType(r2_act, [r2_act.regular_repr]*3)"
      ]
    },
    {
      "cell_type": "markdown",
      "metadata": {
        "id": "5qxhwT14cQMx"
      },
      "source": [
        "Once we have defined how the input and output feature spaces should transform, we can construct neural network functions as **equivariant modules**. These are implemented as subclasses of an abstract base class `nn.EquivariantModule`, which itself inherits from `torch.nn.Module`.\n",
        "\n",
        "**Equivariant Convolution Layer**: We begin by creating a convolutional layer that maps between fields of types `feat_type_in` and `feat_type_out`.\n",
        "\n",
        "Let $\\rho_\\text{in}: G \\to \\mathbb{R}^{c_\\text{in} \\times c_\\text{in}}$ and $\\rho_\\text{out}: G \\to \\mathbb{R}^{c_\\text{out} \\times c_\\text{out}}$ be the representations of $G$ associated with `feat_type_in` and `feat_type_out`, respectively. Then, an equivariant convolution layer is a standard convolution layer with a filter $k: \\mathbb{R}^2 \\to \\mathbb{R}^{c_\\text{out} \\times c_\\text{in}}$ (note the number of input and output channels) that satisfies a specific **steerability constraint**:\n",
        "$$\n",
        "\\forall g \\in G, x \\in \\mathbb{R}^2 \\quad k(g.x) = \\rho_\\text{out}(g) k(x) \\rho_\\text{in}(g)^{-1}\n",
        "$$\n",
        "\n",
        "In particular, the use of convolution guarantees translation equivariance, while the fact that the filters satisfy this steerability constraint guarantees $G$-equivariance.\n"
      ]
    },
    {
      "cell_type": "markdown",
      "metadata": {
        "id": "fm5WY-HdD-pr"
      },
      "source": [
        "The steerability constraint restricts the space of possible learnable filters to a smaller space of equivariant filters.\n",
        "Solving this constraint goes beyond the scope of this assignment; fortunately, the `nn.R2Conv` module takes care of properly parameterizing the filter $k$ such that it satisfies the constraint."
      ]
    },
    {
      "cell_type": "code",
      "execution_count": null,
      "metadata": {
        "id": "fHMs8D-fcQMx"
      },
      "outputs": [],
      "source": [
        "conv = nn.R2Conv(feat_type_in, feat_type_out, kernel_size=3)"
      ]
    },
    {
      "cell_type": "markdown",
      "metadata": {
        "id": "kvWkbVAJcQMx"
      },
      "source": [
        "Each equivariant module has an input and output type.\n",
        "As a function (`.forward()`), it *requires* its inputs to transform according to its input type and is guaranteed to return feature fields associated with its output type.\n",
        "To prevent the user from accidentally feeding an incorrectly transforming input field into an equivariant module, we perform a dynamic type checking.\n",
        "In order to do so, we define **geometric tensors** as data containers.\n",
        "They are wrapping a *PyTorch* `torch.Tensor` to augment them with an instance of `FieldType`.\n",
        "\n",
        "Let's build a few random 32x32 gray-scale images and wrap them into an `nn.GeometricTensor`:"
      ]
    },
    {
      "cell_type": "code",
      "execution_count": null,
      "metadata": {
        "id": "2FH6tglrcQMy"
      },
      "outputs": [],
      "source": [
        "x = torch.randn(4, 1, 32, 32)\n",
        "# FieldType is a callable object; its call method can be used to wrap PyTorch tensors into GeometricTensors\n",
        "x = feat_type_in(x)\n",
        "\n",
        "assert isinstance(x.tensor, torch.Tensor)\n",
        "assert isinstance(x, nn.GeometricTensor)"
      ]
    },
    {
      "cell_type": "markdown",
      "metadata": {
        "id": "MkgNfFM1cQMy"
      },
      "source": [
        "As usually done in *PyTorch*, an image or feature map is stored in a 4-dimensional array of shape BxCxHxW, where B is the batch-size, C is the number of channels and W and H are the spatial dimensions."
      ]
    },
    {
      "cell_type": "markdown",
      "metadata": {
        "id": "_inH8X-zcQMy"
      },
      "source": [
        "We can feed a geometric tensor to an equivariant module as we feed normal tensors in *PyTorch*'s modules:"
      ]
    },
    {
      "cell_type": "code",
      "execution_count": null,
      "metadata": {
        "id": "3FidAyDccQMy"
      },
      "outputs": [],
      "source": [
        "y = conv(x)"
      ]
    },
    {
      "cell_type": "markdown",
      "metadata": {
        "id": "iPzlskTvcQMy"
      },
      "source": [
        "We can verify that the output is indeed associated with the output type of the convolutional layer:"
      ]
    },
    {
      "cell_type": "code",
      "execution_count": null,
      "metadata": {
        "id": "0C-TI2XucQMy",
        "scrolled": true
      },
      "outputs": [],
      "source": [
        "assert y.type == feat_type_out"
      ]
    },
    {
      "cell_type": "markdown",
      "metadata": {
        "id": "MQfGtWyKcQMy"
      },
      "source": [
        "Lets check whether the output transforms as described by the output type when the input transforms according to the input type.\n",
        "The $G$-transformation of a geometric tensor is hereby conveniently done by calling `nn.GeometricTensor.transform()`."
      ]
    },
    {
      "cell_type": "code",
      "execution_count": null,
      "metadata": {
        "id": "2blpKyR4cQMz"
      },
      "outputs": [],
      "source": [
        "# for each group element\n",
        "for g in G.elements:\n",
        "    # transform the input with the current group element according to the input type\n",
        "    x_transformed = x.transform(g)\n",
        "\n",
        "    # feed the transformed input in the convolutional layer\n",
        "    y_from_x_transformed = conv(x_transformed)\n",
        "\n",
        "    # the result should be equivalent to rotating the output produced in the\n",
        "    # previous block according to the output type\n",
        "    y_transformed_from_x = y.transform(g)\n",
        "    assert torch.allclose(y_from_x_transformed.tensor, y_transformed_from_x.tensor, atol=1e-5), g"
      ]
    },
    {
      "cell_type": "markdown",
      "metadata": {
        "id": "JlVmEn4ocQMz"
      },
      "source": [
        "Any network operation is required to be equivariant. `escnn.nn` provides a wide range of equivariant network modules that guarantee this behavior.\n",
        "\n",
        "**Non-Linearities**:\n",
        "As an example, let's apply an *equivariant nonlinearity* to the output feature field of the convolution. Since the regular representations of a finite group $G$ consist of permutation matrices, any pointwise nonlinearity like *ReLUs* is equivariant. Note that this is *not* the case for many other choices of representations / field types!\n",
        "\n",
        "We instantiate a `escnn.nn.ReLU`, which, as an `nn.EquivariantModule`, requires information about its input type for type checking. Here, we pass `feat_type_out`, the output of the equivariant convolution layer, as the input type. It is not necessary to pass an output type to the nonlinearity since it is determined by its input type."
      ]
    },
    {
      "cell_type": "code",
      "execution_count": null,
      "metadata": {
        "id": "Ja5uesnlcQMz"
      },
      "outputs": [],
      "source": [
        "relu = nn.ReLU(feat_type_out)\n",
        "\n",
        "z = relu(y)"
      ]
    },
    {
      "cell_type": "markdown",
      "metadata": {
        "id": "BX-dHFVvcQMz"
      },
      "source": [
        "We can verify the equivariance again:"
      ]
    },
    {
      "cell_type": "code",
      "execution_count": null,
      "metadata": {
        "id": "JjdjyzF-cQMz"
      },
      "outputs": [],
      "source": [
        "# for each group element\n",
        "for g in G.elements:\n",
        "    y_transformed = y.transform(g)\n",
        "    z_from_y_transformed = relu(y_transformed)\n",
        "\n",
        "    z_transformed_from_y = z.transform(g)\n",
        "\n",
        "    assert torch.allclose(z_from_y_transformed.tensor, z_transformed_from_y.tensor, atol=1e-5), g"
      ]
    },
    {
      "cell_type": "markdown",
      "metadata": {
        "id": "NAnTVtIucQMz"
      },
      "source": [
        "**Deeper Models**: In *deep learning*, we typically stack multiple layers to construct a deep model. As long as each layer is equivariant and consecutive layers are compatible, the equivariance property is preserved by induction.\n",
        "\n",
        "The compatibility of two consecutive layers necessitates the output type of the first layer to be equal to the input type of the second layer.\n",
        "\n",
        "If we attempt to feed an input with the wrong type to a module, an error will be raised:"
      ]
    },
    {
      "cell_type": "code",
      "execution_count": null,
      "metadata": {
        "id": "z3EGMW1HcQM0",
        "colab": {
          "base_uri": "https://localhost:8080/"
        },
        "outputId": "eef15a7f-a2ef-4b02-807c-313ec24dfb61"
      },
      "outputs": [
        {
          "output_type": "stream",
          "name": "stdout",
          "text": [
            "Error! the type of the input does not match the input type of this module\n"
          ]
        }
      ],
      "source": [
        "layer1 = nn.R2Conv(feat_type_in, feat_type_out, kernel_size=3)\n",
        "layer2 = nn.ReLU(feat_type_in) # the input type of the ReLU should be the output type of the convolution\n",
        "\n",
        "x = feat_type_in(torch.randn(3, 1, 7, 7))\n",
        "\n",
        "try:\n",
        "    y = layer2(layer1(x))\n",
        "except AssertionError as e:\n",
        "    print(e)"
      ]
    },
    {
      "cell_type": "markdown",
      "metadata": {
        "id": "Zt3KkNUTcQM0"
      },
      "source": [
        "Simple deeper architectures can be built using a **SequentialModule**:"
      ]
    },
    {
      "cell_type": "code",
      "execution_count": null,
      "metadata": {
        "id": "XDjfrUpYcQM0"
      },
      "outputs": [],
      "source": [
        "feat_type_in = nn.FieldType(r2_act, [r2_act.trivial_repr])\n",
        "feat_type_hid = nn.FieldType(r2_act, 8*[r2_act.regular_repr])\n",
        "feat_type_out = nn.FieldType(r2_act, 2*[r2_act.regular_repr])\n",
        "\n",
        "model = nn.SequentialModule(\n",
        "    nn.R2Conv(feat_type_in, feat_type_hid, kernel_size=3),\n",
        "    nn.InnerBatchNorm(feat_type_hid),\n",
        "    nn.ReLU(feat_type_hid, inplace=True),\n",
        "    nn.R2Conv(feat_type_hid, feat_type_hid, kernel_size=3),\n",
        "    nn.InnerBatchNorm(feat_type_hid),\n",
        "    nn.ReLU(feat_type_hid, inplace=True),\n",
        "    nn.R2Conv(feat_type_hid, feat_type_out, kernel_size=3),\n",
        ").eval()\n"
      ]
    },
    {
      "cell_type": "markdown",
      "metadata": {
        "id": "QRs_N_TqcQM0"
      },
      "source": [
        "As every layer is equivariant and consecutive layers are compatible, the whole model is equivariant."
      ]
    },
    {
      "cell_type": "code",
      "execution_count": null,
      "metadata": {
        "id": "qOM5wHTccQM0"
      },
      "outputs": [],
      "source": [
        "x = torch.randn(1, 1, 17, 17)\n",
        "x = feat_type_in(x)\n",
        "\n",
        "y = model(x)\n",
        "\n",
        "# for each group element\n",
        "for g in G.elements:\n",
        "    x_transformed = x.transform(g)\n",
        "    y_from_x_transformed = model(x_transformed)\n",
        "\n",
        "    y_transformed_from_x = y.transform(g)\n",
        "\n",
        "    assert torch.allclose(y_from_x_transformed.tensor, y_transformed_from_x.tensor, atol=1e-5), g"
      ]
    },
    {
      "cell_type": "markdown",
      "metadata": {
        "id": "sdVdUVntcQM1"
      },
      "source": [
        "**Invariant Pooling Layer**: Usually, at the end of the model we want to produce a single feature vector to use for classification.\n",
        "To do so, it is common to pool over the spatial dimensions, e.g. via average pooling.\n",
        "\n",
        "This produces (approximatively) translation-invariant feature vectors."
      ]
    },
    {
      "cell_type": "code",
      "execution_count": null,
      "metadata": {
        "id": "8DDnTO8DcQM1",
        "colab": {
          "base_uri": "https://localhost:8080/"
        },
        "outputId": "94f6ff9e-383d-45ae-c3d6-fa0328646ea6"
      },
      "outputs": [
        {
          "output_type": "stream",
          "name": "stdout",
          "text": [
            "torch.Size([1, 8, 1, 1])\n"
          ]
        }
      ],
      "source": [
        "# average pooling with window size 11\n",
        "avgpool = nn.PointwiseAvgPool(feat_type_out, 11)\n",
        "\n",
        "y = avgpool(model(x))\n",
        "\n",
        "print(y.shape)"
      ]
    },
    {
      "cell_type": "markdown",
      "metadata": {
        "id": "oIbR_0GtcQM1"
      },
      "source": [
        "In our case, the feature vectors $f(x)\\in\\mathbb{R}^c$ associated to each point $x\\in\\mathbb{R}^2$ have a well defined transformation law.\n",
        "The output of the model now transforms according to `feat_type_out` (here two $C_4$ regular fields, i.e. 8 channels).\n",
        "For our choice of regular representations (which are permutation representations) the channels in the feature vectors associated to each point permute when the input is rotated."
      ]
    },
    {
      "cell_type": "code",
      "execution_count": null,
      "metadata": {
        "id": "LNtReKgUcQM1",
        "colab": {
          "base_uri": "https://localhost:8080/"
        },
        "outputId": "57f9c3b1-fd27-485f-fb04-a71f73955cb1"
      },
      "outputs": [
        {
          "output_type": "stream",
          "name": "stdout",
          "text": [
            "rotation by 0[2pi/4]: [0.233 0.192 0.218 0.146 0.151 0.146 0.227 0.163]\n",
            "rotation by 1[2pi/4]: [0.146 0.233 0.192 0.218 0.163 0.151 0.146 0.227]\n",
            "rotation by 2[2pi/4]: [0.218 0.146 0.233 0.192 0.227 0.163 0.151 0.146]\n",
            "rotation by 3[2pi/4]: [0.192 0.218 0.146 0.233 0.146 0.227 0.163 0.151]\n"
          ]
        }
      ],
      "source": [
        "for g in G.elements:\n",
        "    print(f'rotation by {g}:', y.transform(g).tensor[0, ...].detach().numpy().squeeze())"
      ]
    },
    {
      "cell_type": "markdown",
      "metadata": {
        "id": "b9k0MPvucQM1"
      },
      "source": [
        "Many learning tasks require to build models which are **invariant** under rotations.\n",
        "We can compute invariant features from the output of the model using an **invariant map**.\n",
        "For instance, we can take the maximum value within each regular field.\n",
        "We do so using `nn.GroupPooling`:"
      ]
    },
    {
      "cell_type": "code",
      "execution_count": null,
      "metadata": {
        "id": "DUAvcM3UcQM2",
        "colab": {
          "base_uri": "https://localhost:8080/"
        },
        "outputId": "2cc6e810-bc04-48f1-e8c0-61352d1a0768"
      },
      "outputs": [
        {
          "output_type": "stream",
          "name": "stdout",
          "text": [
            "rotation by 0[2pi/4]: [0.233 0.227]\n",
            "rotation by 1[2pi/4]: [0.233 0.227]\n",
            "rotation by 2[2pi/4]: [0.233 0.227]\n",
            "rotation by 3[2pi/4]: [0.233 0.227]\n"
          ]
        }
      ],
      "source": [
        "invariant_map = nn.GroupPooling(feat_type_out)\n",
        "\n",
        "y = invariant_map(avgpool(model(x)))\n",
        "\n",
        "for g in G.elements:\n",
        "    print(f'rotation by {g}:', y.transform(g).tensor[0, ...].detach().numpy().squeeze())"
      ]
    },
    {
      "cell_type": "code",
      "execution_count": null,
      "metadata": {
        "id": "yVY711w-cQM2"
      },
      "outputs": [],
      "source": [
        "# for each group element\n",
        "for g in G.elements:\n",
        "    # rotated the input image\n",
        "    x_transformed = x.transform(g)\n",
        "    y_from_x_transformed = invariant_map(avgpool(model(x_transformed)))\n",
        "\n",
        "    y_transformed_from_x = y # no .transform(g) needed since y should be invariant!\n",
        "\n",
        "    # check that the output did not change\n",
        "    # note that here we are not rotating the original output y as before\n",
        "    assert torch.allclose(y_from_x_transformed.tensor, y_transformed_from_x.tensor, atol=1e-6), g"
      ]
    },
    {
      "cell_type": "markdown",
      "metadata": {
        "id": "JSJNcJUKBpuK"
      },
      "source": [
        "### 2.3 Steerable CNN with infinite group $G$\n",
        "\n",
        "We can now repeat the same constructions with $G$ being an infinite group, e.g. the group of all planar rotations $G=SO(2)$."
      ]
    },
    {
      "cell_type": "code",
      "execution_count": null,
      "metadata": {
        "id": "LHJGeENZGgPV",
        "colab": {
          "base_uri": "https://localhost:8080/"
        },
        "outputId": "0e76d942-087e-4ca9-bbd9-d2909b8c9fe5"
      },
      "outputs": [
        {
          "output_type": "execute_result",
          "data": {
            "text/plain": [
              "SO(2)_on_R2[(None, -1)]"
            ]
          },
          "metadata": {},
          "execution_count": 80
        }
      ],
      "source": [
        "# use N=-1 to indicate all rotations\n",
        "r2_act = gspaces.rot2dOnR2(N=-1)\n",
        "r2_act"
      ]
    },
    {
      "cell_type": "code",
      "execution_count": null,
      "metadata": {
        "id": "p-46yXnCGowV",
        "colab": {
          "base_uri": "https://localhost:8080/"
        },
        "outputId": "f038c6ea-35a8-4503-f9e3-4b1313eca9dc"
      },
      "outputs": [
        {
          "output_type": "execute_result",
          "data": {
            "text/plain": [
              "SO(2)"
            ]
          },
          "metadata": {},
          "execution_count": 81
        }
      ],
      "source": [
        "G = r2_act.fibergroup\n",
        "G"
      ]
    },
    {
      "cell_type": "code",
      "execution_count": null,
      "metadata": {
        "id": "BXGQWso9lKH1"
      },
      "outputs": [],
      "source": [
        "# For simplicity we take a single-channel gray-scale image in input and we output a single-channel gray-scale image, i.e. we use scalar fields in input and output\n",
        "feat_type_in = nn.FieldType(r2_act, [G.trivial_representation])\n",
        "feat_type_out = nn.FieldType(r2_act, [G.trivial_representation])"
      ]
    },
    {
      "cell_type": "markdown",
      "metadata": {
        "id": "RzGYVFqllf0O"
      },
      "source": [
        "For intermediate feature types, we want to again use the *regular representation*. Because $G$ has an infinite number of elements, we can employ the Fourier transform idea described earlier. For instance, we will use the first three irreps of $G=SO(2)$, which contain cosines and sines of frequencies $0$, $1$, and $2$. Earlier, we constructed this representation as:\n",
        "\n",
        "```python\n",
        "rho = G.bl_regular_representation(2)\n",
        "```\n",
        "\n",
        "To apply a non-linearity, such as ELU, we can use the *Inverse Fourier Transform* to sample the function, apply the non-linearity, and finally, compute the *Fourier Transform* to recover the coefficients. Since $G$ has an infinite number of elements, the Fourier Transform requires an integral over $G$, which can be **approximated** by a sum over a finite number of samples. The more samples one takes, the better the approximation will be, although this also increases the computational cost.\n",
        "\n",
        "Fortunately, the class `nn.FourierELU` takes care of most of these details. We can simply specify which `irreps` to consider (`G.bl_irreps(2)` returns the list of irreps up to frequency `2`), the number of `channels` (i.e., copies of the regular representation), and the number `N` of elements of $G$ to sample the function:"
      ]
    },
    {
      "cell_type": "code",
      "execution_count": null,
      "metadata": {
        "id": "5xje7cC5leVu"
      },
      "outputs": [],
      "source": [
        "nonlinearity = nn.FourierELU(r2_act, 16, irreps=G.bl_irreps(2), N=12)\n",
        "# we do not need to pre-define the feature type: FourierELU will create it internally and we can just access it as\n",
        "feat_type_hid = nonlinearity.in_type\n",
        "\n",
        "# note also the its input and output types are the same\n",
        "assert nonlinearity.in_type == nonlinearity.out_type"
      ]
    },
    {
      "cell_type": "markdown",
      "metadata": {
        "id": "vuZrDNbPrag7"
      },
      "source": [
        "\n",
        "#### <font color='red'>**YOUR CODE HERE:** </font>\n",
        "Let's build a simple $G=SO(2)$ equivariant model:"
      ]
    },
    {
      "cell_type": "code",
      "execution_count": null,
      "metadata": {
        "id": "ky4-B4u5GvfA"
      },
      "outputs": [],
      "source": [
        "\n",
        "equivariant_so2_model = nn.SequentialModule(\n",
        "    nn.R2Conv(feat_type_in, feat_type_hid, kernel_size=7),\n",
        "    nn.IIDBatchNorm2d(feat_type_hid),\n",
        "    nonlinearity,\n",
        "    nn.R2Conv(feat_type_hid, feat_type_hid, kernel_size=7),\n",
        "    nn.IIDBatchNorm2d(feat_type_hid),\n",
        "    nonlinearity,\n",
        "    nn.R2Conv(feat_type_hid, feat_type_out, kernel_size=7),\n",
        ").eval()"
      ]
    },
    {
      "cell_type": "markdown",
      "metadata": {
        "id": "9oEgHC6ero20"
      },
      "source": [
        "and check its equivariance to a few elements of $SO(2)$:"
      ]
    },
    {
      "cell_type": "code",
      "execution_count": null,
      "metadata": {
        "id": "XiJYMBghrx2A",
        "colab": {
          "base_uri": "https://localhost:8080/"
        },
        "outputId": "1e80d7f3-cb15-43cf-fa94-5597d2b17685"
      },
      "outputs": [
        {
          "output_type": "stream",
          "name": "stdout",
          "text": [
            "Error! The model is not equivariant!\n"
          ]
        }
      ],
      "source": [
        "x = torch.randn(1, 1, 23, 23)\n",
        "x = feat_type_in(x)\n",
        "\n",
        "y = equivariant_so2_model(x)\n",
        "\n",
        "# check equivariance to N=16 rotations\n",
        "N = 16\n",
        "\n",
        "try:\n",
        "    for i in range(N):\n",
        "        g = G.element(i*2*np.pi/N)\n",
        "        x_transformed = x.transform(g)\n",
        "        y_from_x_transformed = equivariant_so2_model(x_transformed)\n",
        "\n",
        "        y_transformed_from_x = y.transform(g)\n",
        "\n",
        "        assert torch.allclose(y_from_x_transformed.tensor, y_transformed_from_x.tensor, atol=1e-3), g\n",
        "except:\n",
        "    print('Error! The model is not equivariant!')"
      ]
    },
    {
      "cell_type": "markdown",
      "metadata": {
        "id": "oE6qLnMtsetK"
      },
      "source": [
        "While the model can not be perfectly equivariant, we can compare it with a *conventional CNN* baseline.\n",
        "Let's build a CNN similar to our equivariant model but which is not constrained to be equivariant:"
      ]
    },
    {
      "cell_type": "code",
      "execution_count": null,
      "metadata": {
        "id": "OZ6ZiQQyrfue"
      },
      "outputs": [],
      "source": [
        "\n",
        "conventional_model = torch.nn.Sequential(\n",
        "    torch.nn.Conv2d(feat_type_in.size, feat_type_hid.size, kernel_size=7),\n",
        "    torch.nn.BatchNorm2d(feat_type_hid.size),\n",
        "    torch.nn.ELU(),\n",
        "    torch.nn.Conv2d(feat_type_hid.size, feat_type_hid.size, kernel_size=7),\n",
        "    torch.nn.BatchNorm2d(feat_type_hid.size),\n",
        "    torch.nn.ELU(),\n",
        "    torch.nn.Conv2d(feat_type_hid.size, feat_type_out.size, kernel_size=7),\n",
        ").eval()\n"
      ]
    },
    {
      "cell_type": "markdown",
      "metadata": {
        "id": "-IFq5k-isxyC"
      },
      "source": [
        "To compare the two models, we compute their *equivariance error* for a few elements of $G$.\n",
        "We define the equivariance error of a model $F$ with respect to a group element $g \\in G$ and an input $x$ as:\n",
        "$$\n",
        "  \\epsilon_g(F) = \\frac{||F(g.X) - g.F(X)||_2}{||F(x)||_2}\n",
        "$$\n",
        "\n",
        "Note that this is a form of *relative* error.\n",
        "Let's now compute the equivariance error of the two models:"
      ]
    },
    {
      "cell_type": "code",
      "execution_count": null,
      "metadata": {
        "id": "BuOcNrfOIX2V",
        "colab": {
          "base_uri": "https://localhost:8080/",
          "height": 572
        },
        "outputId": "9cc66358-7392-4e39-fda9-1e33adf0c309"
      },
      "outputs": [
        {
          "output_type": "display_data",
          "data": {
            "text/plain": [
              "<Figure size 1000x600 with 1 Axes>"
            ],
            "image/svg+xml": "<?xml version=\"1.0\" encoding=\"utf-8\" standalone=\"no\"?>\n<!DOCTYPE svg PUBLIC \"-//W3C//DTD SVG 1.1//EN\"\n  \"http://www.w3.org/Graphics/SVG/1.1/DTD/svg11.dtd\">\n<svg xmlns:xlink=\"http://www.w3.org/1999/xlink\" width=\"626.610937pt\" height=\"413.110312pt\" viewBox=\"0 0 626.610937 413.110312\" xmlns=\"http://www.w3.org/2000/svg\" version=\"1.1\">\n <metadata>\n  <rdf:RDF xmlns:dc=\"http://purl.org/dc/elements/1.1/\" xmlns:cc=\"http://creativecommons.org/ns#\" xmlns:rdf=\"http://www.w3.org/1999/02/22-rdf-syntax-ns#\">\n   <cc:Work>\n    <dc:type rdf:resource=\"http://purl.org/dc/dcmitype/StillImage\"/>\n    <dc:date>2023-11-27T19:30:40.641589</dc:date>\n    <dc:format>image/svg+xml</dc:format>\n    <dc:creator>\n     <cc:Agent>\n      <dc:title>Matplotlib v3.7.1, https://matplotlib.org/</dc:title>\n     </cc:Agent>\n    </dc:creator>\n   </cc:Work>\n  </rdf:RDF>\n </metadata>\n <defs>\n  <style type=\"text/css\">*{stroke-linejoin: round; stroke-linecap: butt}</style>\n </defs>\n <g id=\"figure_1\">\n  <g id=\"patch_1\">\n   <path d=\"M 0 413.110312 \nL 626.610937 413.110312 \nL 626.610937 0 \nL 0 0 \nz\n\" style=\"fill: #ffffff\"/>\n  </g>\n  <g id=\"axes_1\">\n   <g id=\"patch_2\">\n    <path d=\"M 61.410938 361.036875 \nL 619.410938 361.036875 \nL 619.410938 28.396875 \nL 61.410938 28.396875 \nz\n\" style=\"fill: #ffffff\"/>\n   </g>\n   <g id=\"matplotlib.axis_1\">\n    <g id=\"xtick_1\">\n     <g id=\"line2d_1\">\n      <defs>\n       <path id=\"med47eb33c5\" d=\"M 0 0 \nL 0 3.5 \n\" style=\"stroke: #000000; stroke-width: 0.8\"/>\n      </defs>\n      <g>\n       <use xlink:href=\"#med47eb33c5\" x=\"86.774574\" y=\"361.036875\" style=\"stroke: #000000; stroke-width: 0.8\"/>\n      </g>\n     </g>\n     <g id=\"text_1\">\n      <!-- 0 -->\n      <g transform=\"translate(82.002699 379.434531) scale(0.15 -0.15)\">\n       <defs>\n        <path id=\"DejaVuSans-30\" d=\"M 2034 4250 \nQ 1547 4250 1301 3770 \nQ 1056 3291 1056 2328 \nQ 1056 1369 1301 889 \nQ 1547 409 2034 409 \nQ 2525 409 2770 889 \nQ 3016 1369 3016 2328 \nQ 3016 3291 2770 3770 \nQ 2525 4250 2034 4250 \nz\nM 2034 4750 \nQ 2819 4750 3233 4129 \nQ 3647 3509 3647 2328 \nQ 3647 1150 3233 529 \nQ 2819 -91 2034 -91 \nQ 1250 -91 836 529 \nQ 422 1150 422 2328 \nQ 422 3509 836 4129 \nQ 1250 4750 2034 4750 \nz\n\" transform=\"scale(0.015625)\"/>\n       </defs>\n       <use xlink:href=\"#DejaVuSans-30\"/>\n      </g>\n     </g>\n    </g>\n    <g id=\"xtick_2\">\n     <g id=\"line2d_2\">\n      <g>\n       <use xlink:href=\"#med47eb33c5\" x=\"167.509536\" y=\"361.036875\" style=\"stroke: #000000; stroke-width: 0.8\"/>\n      </g>\n     </g>\n     <g id=\"text_2\">\n      <!-- 1 -->\n      <g transform=\"translate(162.737661 379.434531) scale(0.15 -0.15)\">\n       <defs>\n        <path id=\"DejaVuSans-31\" d=\"M 794 531 \nL 1825 531 \nL 1825 4091 \nL 703 3866 \nL 703 4441 \nL 1819 4666 \nL 2450 4666 \nL 2450 531 \nL 3481 531 \nL 3481 0 \nL 794 0 \nL 794 531 \nz\n\" transform=\"scale(0.015625)\"/>\n       </defs>\n       <use xlink:href=\"#DejaVuSans-31\"/>\n      </g>\n     </g>\n    </g>\n    <g id=\"xtick_3\">\n     <g id=\"line2d_3\">\n      <g>\n       <use xlink:href=\"#med47eb33c5\" x=\"248.244498\" y=\"361.036875\" style=\"stroke: #000000; stroke-width: 0.8\"/>\n      </g>\n     </g>\n     <g id=\"text_3\">\n      <!-- 2 -->\n      <g transform=\"translate(243.472623 379.434531) scale(0.15 -0.15)\">\n       <defs>\n        <path id=\"DejaVuSans-32\" d=\"M 1228 531 \nL 3431 531 \nL 3431 0 \nL 469 0 \nL 469 531 \nQ 828 903 1448 1529 \nQ 2069 2156 2228 2338 \nQ 2531 2678 2651 2914 \nQ 2772 3150 2772 3378 \nQ 2772 3750 2511 3984 \nQ 2250 4219 1831 4219 \nQ 1534 4219 1204 4116 \nQ 875 4013 500 3803 \nL 500 4441 \nQ 881 4594 1212 4672 \nQ 1544 4750 1819 4750 \nQ 2544 4750 2975 4387 \nQ 3406 4025 3406 3419 \nQ 3406 3131 3298 2873 \nQ 3191 2616 2906 2266 \nQ 2828 2175 2409 1742 \nQ 1991 1309 1228 531 \nz\n\" transform=\"scale(0.015625)\"/>\n       </defs>\n       <use xlink:href=\"#DejaVuSans-32\"/>\n      </g>\n     </g>\n    </g>\n    <g id=\"xtick_4\">\n     <g id=\"line2d_4\">\n      <g>\n       <use xlink:href=\"#med47eb33c5\" x=\"328.97946\" y=\"361.036875\" style=\"stroke: #000000; stroke-width: 0.8\"/>\n      </g>\n     </g>\n     <g id=\"text_4\">\n      <!-- 3 -->\n      <g transform=\"translate(324.207585 379.434531) scale(0.15 -0.15)\">\n       <defs>\n        <path id=\"DejaVuSans-33\" d=\"M 2597 2516 \nQ 3050 2419 3304 2112 \nQ 3559 1806 3559 1356 \nQ 3559 666 3084 287 \nQ 2609 -91 1734 -91 \nQ 1441 -91 1130 -33 \nQ 819 25 488 141 \nL 488 750 \nQ 750 597 1062 519 \nQ 1375 441 1716 441 \nQ 2309 441 2620 675 \nQ 2931 909 2931 1356 \nQ 2931 1769 2642 2001 \nQ 2353 2234 1838 2234 \nL 1294 2234 \nL 1294 2753 \nL 1863 2753 \nQ 2328 2753 2575 2939 \nQ 2822 3125 2822 3475 \nQ 2822 3834 2567 4026 \nQ 2313 4219 1838 4219 \nQ 1578 4219 1281 4162 \nQ 984 4106 628 3988 \nL 628 4550 \nQ 988 4650 1302 4700 \nQ 1616 4750 1894 4750 \nQ 2613 4750 3031 4423 \nQ 3450 4097 3450 3541 \nQ 3450 3153 3228 2886 \nQ 3006 2619 2597 2516 \nz\n\" transform=\"scale(0.015625)\"/>\n       </defs>\n       <use xlink:href=\"#DejaVuSans-33\"/>\n      </g>\n     </g>\n    </g>\n    <g id=\"xtick_5\">\n     <g id=\"line2d_5\">\n      <g>\n       <use xlink:href=\"#med47eb33c5\" x=\"409.714422\" y=\"361.036875\" style=\"stroke: #000000; stroke-width: 0.8\"/>\n      </g>\n     </g>\n     <g id=\"text_5\">\n      <!-- 4 -->\n      <g transform=\"translate(404.942547 379.434531) scale(0.15 -0.15)\">\n       <defs>\n        <path id=\"DejaVuSans-34\" d=\"M 2419 4116 \nL 825 1625 \nL 2419 1625 \nL 2419 4116 \nz\nM 2253 4666 \nL 3047 4666 \nL 3047 1625 \nL 3713 1625 \nL 3713 1100 \nL 3047 1100 \nL 3047 0 \nL 2419 0 \nL 2419 1100 \nL 313 1100 \nL 313 1709 \nL 2253 4666 \nz\n\" transform=\"scale(0.015625)\"/>\n       </defs>\n       <use xlink:href=\"#DejaVuSans-34\"/>\n      </g>\n     </g>\n    </g>\n    <g id=\"xtick_6\">\n     <g id=\"line2d_6\">\n      <g>\n       <use xlink:href=\"#med47eb33c5\" x=\"490.449384\" y=\"361.036875\" style=\"stroke: #000000; stroke-width: 0.8\"/>\n      </g>\n     </g>\n     <g id=\"text_6\">\n      <!-- 5 -->\n      <g transform=\"translate(485.677509 379.434531) scale(0.15 -0.15)\">\n       <defs>\n        <path id=\"DejaVuSans-35\" d=\"M 691 4666 \nL 3169 4666 \nL 3169 4134 \nL 1269 4134 \nL 1269 2991 \nQ 1406 3038 1543 3061 \nQ 1681 3084 1819 3084 \nQ 2600 3084 3056 2656 \nQ 3513 2228 3513 1497 \nQ 3513 744 3044 326 \nQ 2575 -91 1722 -91 \nQ 1428 -91 1123 -41 \nQ 819 9 494 109 \nL 494 744 \nQ 775 591 1075 516 \nQ 1375 441 1709 441 \nQ 2250 441 2565 725 \nQ 2881 1009 2881 1497 \nQ 2881 1984 2565 2268 \nQ 2250 2553 1709 2553 \nQ 1456 2553 1204 2497 \nQ 953 2441 691 2322 \nL 691 4666 \nz\n\" transform=\"scale(0.015625)\"/>\n       </defs>\n       <use xlink:href=\"#DejaVuSans-35\"/>\n      </g>\n     </g>\n    </g>\n    <g id=\"xtick_7\">\n     <g id=\"line2d_7\">\n      <g>\n       <use xlink:href=\"#med47eb33c5\" x=\"571.184346\" y=\"361.036875\" style=\"stroke: #000000; stroke-width: 0.8\"/>\n      </g>\n     </g>\n     <g id=\"text_7\">\n      <!-- 6 -->\n      <g transform=\"translate(566.412471 379.434531) scale(0.15 -0.15)\">\n       <defs>\n        <path id=\"DejaVuSans-36\" d=\"M 2113 2584 \nQ 1688 2584 1439 2293 \nQ 1191 2003 1191 1497 \nQ 1191 994 1439 701 \nQ 1688 409 2113 409 \nQ 2538 409 2786 701 \nQ 3034 994 3034 1497 \nQ 3034 2003 2786 2293 \nQ 2538 2584 2113 2584 \nz\nM 3366 4563 \nL 3366 3988 \nQ 3128 4100 2886 4159 \nQ 2644 4219 2406 4219 \nQ 1781 4219 1451 3797 \nQ 1122 3375 1075 2522 \nQ 1259 2794 1537 2939 \nQ 1816 3084 2150 3084 \nQ 2853 3084 3261 2657 \nQ 3669 2231 3669 1497 \nQ 3669 778 3244 343 \nQ 2819 -91 2113 -91 \nQ 1303 -91 875 529 \nQ 447 1150 447 2328 \nQ 447 3434 972 4092 \nQ 1497 4750 2381 4750 \nQ 2619 4750 2861 4703 \nQ 3103 4656 3366 4563 \nz\n\" transform=\"scale(0.015625)\"/>\n       </defs>\n       <use xlink:href=\"#DejaVuSans-36\"/>\n      </g>\n     </g>\n    </g>\n    <g id=\"text_8\">\n     <!-- $g = r_\\theta$ -->\n     <g transform=\"translate(313.110937 401.710312) scale(0.2 -0.2)\">\n      <defs>\n       <path id=\"DejaVuSans-Oblique-67\" d=\"M 3816 3500 \nL 3219 434 \nQ 3047 -456 2561 -893 \nQ 2075 -1331 1253 -1331 \nQ 950 -1331 690 -1286 \nQ 431 -1241 206 -1147 \nL 313 -588 \nQ 525 -725 762 -790 \nQ 1000 -856 1269 -856 \nQ 1816 -856 2167 -557 \nQ 2519 -259 2631 300 \nL 2681 563 \nQ 2441 288 2122 144 \nQ 1803 0 1434 0 \nQ 903 0 598 351 \nQ 294 703 294 1319 \nQ 294 1803 478 2267 \nQ 663 2731 997 3091 \nQ 1219 3328 1514 3456 \nQ 1809 3584 2131 3584 \nQ 2484 3584 2746 3420 \nQ 3009 3256 3138 2956 \nL 3238 3500 \nL 3816 3500 \nz\nM 2950 2216 \nQ 2950 2641 2750 2872 \nQ 2550 3103 2181 3103 \nQ 1953 3103 1747 3012 \nQ 1541 2922 1394 2759 \nQ 1156 2491 1023 2127 \nQ 891 1763 891 1375 \nQ 891 944 1092 712 \nQ 1294 481 1672 481 \nQ 2219 481 2584 976 \nQ 2950 1472 2950 2216 \nz\n\" transform=\"scale(0.015625)\"/>\n       <path id=\"DejaVuSans-3d\" d=\"M 678 2906 \nL 4684 2906 \nL 4684 2381 \nL 678 2381 \nL 678 2906 \nz\nM 678 1631 \nL 4684 1631 \nL 4684 1100 \nL 678 1100 \nL 678 1631 \nz\n\" transform=\"scale(0.015625)\"/>\n       <path id=\"DejaVuSans-Oblique-72\" d=\"M 2853 2969 \nQ 2766 3016 2653 3041 \nQ 2541 3066 2413 3066 \nQ 1953 3066 1609 2717 \nQ 1266 2369 1153 1784 \nL 800 0 \nL 225 0 \nL 909 3500 \nL 1484 3500 \nL 1375 2956 \nQ 1603 3259 1920 3421 \nQ 2238 3584 2597 3584 \nQ 2691 3584 2781 3573 \nQ 2872 3563 2963 3538 \nL 2853 2969 \nz\n\" transform=\"scale(0.015625)\"/>\n       <path id=\"DejaVuSans-Oblique-3b8\" d=\"M 2913 2219 \nL 925 2219 \nQ 791 1284 928 888 \nQ 1100 400 1566 400 \nQ 2034 400 2391 891 \nQ 2703 1322 2913 2219 \nz\nM 3009 2750 \nQ 3094 3638 2984 3950 \nQ 2813 4444 2353 4444 \nQ 1875 4444 1525 3956 \nQ 1250 3563 1034 2750 \nL 3009 2750 \nz\nM 2444 4913 \nQ 3194 4913 3494 4250 \nQ 3794 3591 3566 2422 \nQ 3341 1256 2781 594 \nQ 2225 -72 1475 -72 \nQ 722 -72 425 594 \nQ 128 1256 353 2422 \nQ 581 3591 1134 4250 \nQ 1691 4913 2444 4913 \nz\n\" transform=\"scale(0.015625)\"/>\n      </defs>\n      <use xlink:href=\"#DejaVuSans-Oblique-67\"/>\n      <use xlink:href=\"#DejaVuSans-3d\" transform=\"translate(82.958984 0)\"/>\n      <use xlink:href=\"#DejaVuSans-Oblique-72\" transform=\"translate(186.230469 0)\"/>\n      <use xlink:href=\"#DejaVuSans-Oblique-3b8\" transform=\"translate(227.34375 -16.40625) scale(0.7)\"/>\n     </g>\n    </g>\n   </g>\n   <g id=\"matplotlib.axis_2\">\n    <g id=\"ytick_1\">\n     <g id=\"line2d_8\">\n      <defs>\n       <path id=\"m48ea60334e\" d=\"M 0 0 \nL -3.5 0 \n\" style=\"stroke: #000000; stroke-width: 0.8\"/>\n      </defs>\n      <g>\n       <use xlink:href=\"#m48ea60334e\" x=\"61.410938\" y=\"345.916875\" style=\"stroke: #000000; stroke-width: 0.8\"/>\n      </g>\n     </g>\n     <g id=\"text_9\">\n      <!-- 0.0 -->\n      <g transform=\"translate(30.55625 351.615703) scale(0.15 -0.15)\">\n       <defs>\n        <path id=\"DejaVuSans-2e\" d=\"M 684 794 \nL 1344 794 \nL 1344 0 \nL 684 0 \nL 684 794 \nz\n\" transform=\"scale(0.015625)\"/>\n       </defs>\n       <use xlink:href=\"#DejaVuSans-30\"/>\n       <use xlink:href=\"#DejaVuSans-2e\" x=\"63.623047\"/>\n       <use xlink:href=\"#DejaVuSans-30\" x=\"95.410156\"/>\n      </g>\n     </g>\n    </g>\n    <g id=\"ytick_2\">\n     <g id=\"line2d_9\">\n      <g>\n       <use xlink:href=\"#m48ea60334e\" x=\"61.410938\" y=\"292.82083\" style=\"stroke: #000000; stroke-width: 0.8\"/>\n      </g>\n     </g>\n     <g id=\"text_10\">\n      <!-- 0.2 -->\n      <g transform=\"translate(30.55625 298.519658) scale(0.15 -0.15)\">\n       <use xlink:href=\"#DejaVuSans-30\"/>\n       <use xlink:href=\"#DejaVuSans-2e\" x=\"63.623047\"/>\n       <use xlink:href=\"#DejaVuSans-32\" x=\"95.410156\"/>\n      </g>\n     </g>\n    </g>\n    <g id=\"ytick_3\">\n     <g id=\"line2d_10\">\n      <g>\n       <use xlink:href=\"#m48ea60334e\" x=\"61.410938\" y=\"239.724785\" style=\"stroke: #000000; stroke-width: 0.8\"/>\n      </g>\n     </g>\n     <g id=\"text_11\">\n      <!-- 0.4 -->\n      <g transform=\"translate(30.55625 245.423613) scale(0.15 -0.15)\">\n       <use xlink:href=\"#DejaVuSans-30\"/>\n       <use xlink:href=\"#DejaVuSans-2e\" x=\"63.623047\"/>\n       <use xlink:href=\"#DejaVuSans-34\" x=\"95.410156\"/>\n      </g>\n     </g>\n    </g>\n    <g id=\"ytick_4\">\n     <g id=\"line2d_11\">\n      <g>\n       <use xlink:href=\"#m48ea60334e\" x=\"61.410938\" y=\"186.628741\" style=\"stroke: #000000; stroke-width: 0.8\"/>\n      </g>\n     </g>\n     <g id=\"text_12\">\n      <!-- 0.6 -->\n      <g transform=\"translate(30.55625 192.327569) scale(0.15 -0.15)\">\n       <use xlink:href=\"#DejaVuSans-30\"/>\n       <use xlink:href=\"#DejaVuSans-2e\" x=\"63.623047\"/>\n       <use xlink:href=\"#DejaVuSans-36\" x=\"95.410156\"/>\n      </g>\n     </g>\n    </g>\n    <g id=\"ytick_5\">\n     <g id=\"line2d_12\">\n      <g>\n       <use xlink:href=\"#m48ea60334e\" x=\"61.410938\" y=\"133.532696\" style=\"stroke: #000000; stroke-width: 0.8\"/>\n      </g>\n     </g>\n     <g id=\"text_13\">\n      <!-- 0.8 -->\n      <g transform=\"translate(30.55625 139.231524) scale(0.15 -0.15)\">\n       <defs>\n        <path id=\"DejaVuSans-38\" d=\"M 2034 2216 \nQ 1584 2216 1326 1975 \nQ 1069 1734 1069 1313 \nQ 1069 891 1326 650 \nQ 1584 409 2034 409 \nQ 2484 409 2743 651 \nQ 3003 894 3003 1313 \nQ 3003 1734 2745 1975 \nQ 2488 2216 2034 2216 \nz\nM 1403 2484 \nQ 997 2584 770 2862 \nQ 544 3141 544 3541 \nQ 544 4100 942 4425 \nQ 1341 4750 2034 4750 \nQ 2731 4750 3128 4425 \nQ 3525 4100 3525 3541 \nQ 3525 3141 3298 2862 \nQ 3072 2584 2669 2484 \nQ 3125 2378 3379 2068 \nQ 3634 1759 3634 1313 \nQ 3634 634 3220 271 \nQ 2806 -91 2034 -91 \nQ 1263 -91 848 271 \nQ 434 634 434 1313 \nQ 434 1759 690 2068 \nQ 947 2378 1403 2484 \nz\nM 1172 3481 \nQ 1172 3119 1398 2916 \nQ 1625 2713 2034 2713 \nQ 2441 2713 2670 2916 \nQ 2900 3119 2900 3481 \nQ 2900 3844 2670 4047 \nQ 2441 4250 2034 4250 \nQ 1625 4250 1398 4047 \nQ 1172 3844 1172 3481 \nz\n\" transform=\"scale(0.015625)\"/>\n       </defs>\n       <use xlink:href=\"#DejaVuSans-30\"/>\n       <use xlink:href=\"#DejaVuSans-2e\" x=\"63.623047\"/>\n       <use xlink:href=\"#DejaVuSans-38\" x=\"95.410156\"/>\n      </g>\n     </g>\n    </g>\n    <g id=\"ytick_6\">\n     <g id=\"line2d_13\">\n      <g>\n       <use xlink:href=\"#m48ea60334e\" x=\"61.410938\" y=\"80.436651\" style=\"stroke: #000000; stroke-width: 0.8\"/>\n      </g>\n     </g>\n     <g id=\"text_14\">\n      <!-- 1.0 -->\n      <g transform=\"translate(30.55625 86.135479) scale(0.15 -0.15)\">\n       <use xlink:href=\"#DejaVuSans-31\"/>\n       <use xlink:href=\"#DejaVuSans-2e\" x=\"63.623047\"/>\n       <use xlink:href=\"#DejaVuSans-30\" x=\"95.410156\"/>\n      </g>\n     </g>\n    </g>\n    <g id=\"text_15\">\n     <!-- Equivariance Error -->\n     <g transform=\"translate(22.396875 287.10125) rotate(-90) scale(0.2 -0.2)\">\n      <defs>\n       <path id=\"DejaVuSans-45\" d=\"M 628 4666 \nL 3578 4666 \nL 3578 4134 \nL 1259 4134 \nL 1259 2753 \nL 3481 2753 \nL 3481 2222 \nL 1259 2222 \nL 1259 531 \nL 3634 531 \nL 3634 0 \nL 628 0 \nL 628 4666 \nz\n\" transform=\"scale(0.015625)\"/>\n       <path id=\"DejaVuSans-71\" d=\"M 947 1747 \nQ 947 1113 1208 752 \nQ 1469 391 1925 391 \nQ 2381 391 2643 752 \nQ 2906 1113 2906 1747 \nQ 2906 2381 2643 2742 \nQ 2381 3103 1925 3103 \nQ 1469 3103 1208 2742 \nQ 947 2381 947 1747 \nz\nM 2906 525 \nQ 2725 213 2448 61 \nQ 2172 -91 1784 -91 \nQ 1150 -91 751 415 \nQ 353 922 353 1747 \nQ 353 2572 751 3078 \nQ 1150 3584 1784 3584 \nQ 2172 3584 2448 3432 \nQ 2725 3281 2906 2969 \nL 2906 3500 \nL 3481 3500 \nL 3481 -1331 \nL 2906 -1331 \nL 2906 525 \nz\n\" transform=\"scale(0.015625)\"/>\n       <path id=\"DejaVuSans-75\" d=\"M 544 1381 \nL 544 3500 \nL 1119 3500 \nL 1119 1403 \nQ 1119 906 1312 657 \nQ 1506 409 1894 409 \nQ 2359 409 2629 706 \nQ 2900 1003 2900 1516 \nL 2900 3500 \nL 3475 3500 \nL 3475 0 \nL 2900 0 \nL 2900 538 \nQ 2691 219 2414 64 \nQ 2138 -91 1772 -91 \nQ 1169 -91 856 284 \nQ 544 659 544 1381 \nz\nM 1991 3584 \nL 1991 3584 \nz\n\" transform=\"scale(0.015625)\"/>\n       <path id=\"DejaVuSans-69\" d=\"M 603 3500 \nL 1178 3500 \nL 1178 0 \nL 603 0 \nL 603 3500 \nz\nM 603 4863 \nL 1178 4863 \nL 1178 4134 \nL 603 4134 \nL 603 4863 \nz\n\" transform=\"scale(0.015625)\"/>\n       <path id=\"DejaVuSans-76\" d=\"M 191 3500 \nL 800 3500 \nL 1894 563 \nL 2988 3500 \nL 3597 3500 \nL 2284 0 \nL 1503 0 \nL 191 3500 \nz\n\" transform=\"scale(0.015625)\"/>\n       <path id=\"DejaVuSans-61\" d=\"M 2194 1759 \nQ 1497 1759 1228 1600 \nQ 959 1441 959 1056 \nQ 959 750 1161 570 \nQ 1363 391 1709 391 \nQ 2188 391 2477 730 \nQ 2766 1069 2766 1631 \nL 2766 1759 \nL 2194 1759 \nz\nM 3341 1997 \nL 3341 0 \nL 2766 0 \nL 2766 531 \nQ 2569 213 2275 61 \nQ 1981 -91 1556 -91 \nQ 1019 -91 701 211 \nQ 384 513 384 1019 \nQ 384 1609 779 1909 \nQ 1175 2209 1959 2209 \nL 2766 2209 \nL 2766 2266 \nQ 2766 2663 2505 2880 \nQ 2244 3097 1772 3097 \nQ 1472 3097 1187 3025 \nQ 903 2953 641 2809 \nL 641 3341 \nQ 956 3463 1253 3523 \nQ 1550 3584 1831 3584 \nQ 2591 3584 2966 3190 \nQ 3341 2797 3341 1997 \nz\n\" transform=\"scale(0.015625)\"/>\n       <path id=\"DejaVuSans-72\" d=\"M 2631 2963 \nQ 2534 3019 2420 3045 \nQ 2306 3072 2169 3072 \nQ 1681 3072 1420 2755 \nQ 1159 2438 1159 1844 \nL 1159 0 \nL 581 0 \nL 581 3500 \nL 1159 3500 \nL 1159 2956 \nQ 1341 3275 1631 3429 \nQ 1922 3584 2338 3584 \nQ 2397 3584 2469 3576 \nQ 2541 3569 2628 3553 \nL 2631 2963 \nz\n\" transform=\"scale(0.015625)\"/>\n       <path id=\"DejaVuSans-6e\" d=\"M 3513 2113 \nL 3513 0 \nL 2938 0 \nL 2938 2094 \nQ 2938 2591 2744 2837 \nQ 2550 3084 2163 3084 \nQ 1697 3084 1428 2787 \nQ 1159 2491 1159 1978 \nL 1159 0 \nL 581 0 \nL 581 3500 \nL 1159 3500 \nL 1159 2956 \nQ 1366 3272 1645 3428 \nQ 1925 3584 2291 3584 \nQ 2894 3584 3203 3211 \nQ 3513 2838 3513 2113 \nz\n\" transform=\"scale(0.015625)\"/>\n       <path id=\"DejaVuSans-63\" d=\"M 3122 3366 \nL 3122 2828 \nQ 2878 2963 2633 3030 \nQ 2388 3097 2138 3097 \nQ 1578 3097 1268 2742 \nQ 959 2388 959 1747 \nQ 959 1106 1268 751 \nQ 1578 397 2138 397 \nQ 2388 397 2633 464 \nQ 2878 531 3122 666 \nL 3122 134 \nQ 2881 22 2623 -34 \nQ 2366 -91 2075 -91 \nQ 1284 -91 818 406 \nQ 353 903 353 1747 \nQ 353 2603 823 3093 \nQ 1294 3584 2113 3584 \nQ 2378 3584 2631 3529 \nQ 2884 3475 3122 3366 \nz\n\" transform=\"scale(0.015625)\"/>\n       <path id=\"DejaVuSans-65\" d=\"M 3597 1894 \nL 3597 1613 \nL 953 1613 \nQ 991 1019 1311 708 \nQ 1631 397 2203 397 \nQ 2534 397 2845 478 \nQ 3156 559 3463 722 \nL 3463 178 \nQ 3153 47 2828 -22 \nQ 2503 -91 2169 -91 \nQ 1331 -91 842 396 \nQ 353 884 353 1716 \nQ 353 2575 817 3079 \nQ 1281 3584 2069 3584 \nQ 2775 3584 3186 3129 \nQ 3597 2675 3597 1894 \nz\nM 3022 2063 \nQ 3016 2534 2758 2815 \nQ 2500 3097 2075 3097 \nQ 1594 3097 1305 2825 \nQ 1016 2553 972 2059 \nL 3022 2063 \nz\n\" transform=\"scale(0.015625)\"/>\n       <path id=\"DejaVuSans-20\" transform=\"scale(0.015625)\"/>\n       <path id=\"DejaVuSans-6f\" d=\"M 1959 3097 \nQ 1497 3097 1228 2736 \nQ 959 2375 959 1747 \nQ 959 1119 1226 758 \nQ 1494 397 1959 397 \nQ 2419 397 2687 759 \nQ 2956 1122 2956 1747 \nQ 2956 2369 2687 2733 \nQ 2419 3097 1959 3097 \nz\nM 1959 3584 \nQ 2709 3584 3137 3096 \nQ 3566 2609 3566 1747 \nQ 3566 888 3137 398 \nQ 2709 -91 1959 -91 \nQ 1206 -91 779 398 \nQ 353 888 353 1747 \nQ 353 2609 779 3096 \nQ 1206 3584 1959 3584 \nz\n\" transform=\"scale(0.015625)\"/>\n      </defs>\n      <use xlink:href=\"#DejaVuSans-45\"/>\n      <use xlink:href=\"#DejaVuSans-71\" x=\"63.183594\"/>\n      <use xlink:href=\"#DejaVuSans-75\" x=\"126.660156\"/>\n      <use xlink:href=\"#DejaVuSans-69\" x=\"190.039062\"/>\n      <use xlink:href=\"#DejaVuSans-76\" x=\"217.822266\"/>\n      <use xlink:href=\"#DejaVuSans-61\" x=\"277.001953\"/>\n      <use xlink:href=\"#DejaVuSans-72\" x=\"338.28125\"/>\n      <use xlink:href=\"#DejaVuSans-69\" x=\"379.394531\"/>\n      <use xlink:href=\"#DejaVuSans-61\" x=\"407.177734\"/>\n      <use xlink:href=\"#DejaVuSans-6e\" x=\"468.457031\"/>\n      <use xlink:href=\"#DejaVuSans-63\" x=\"531.835938\"/>\n      <use xlink:href=\"#DejaVuSans-65\" x=\"586.816406\"/>\n      <use xlink:href=\"#DejaVuSans-20\" x=\"648.339844\"/>\n      <use xlink:href=\"#DejaVuSans-45\" x=\"680.126953\"/>\n      <use xlink:href=\"#DejaVuSans-72\" x=\"743.310547\"/>\n      <use xlink:href=\"#DejaVuSans-72\" x=\"782.673828\"/>\n      <use xlink:href=\"#DejaVuSans-6f\" x=\"821.537109\"/>\n      <use xlink:href=\"#DejaVuSans-72\" x=\"882.71875\"/>\n     </g>\n    </g>\n   </g>\n   <g id=\"line2d_14\">\n    <path d=\"M 86.774574 345.916875 \nL 91.847301 335.734267 \nL 96.920028 333.620876 \nL 101.992756 332.007326 \nL 107.065483 330.960705 \nL 112.13821 330.191522 \nL 117.210938 326.988639 \nL 122.283665 326.385982 \nL 127.356392 324.480749 \nL 132.429119 322.165791 \nL 137.501847 323.394482 \nL 142.574574 324.24269 \nL 147.647301 323.860211 \nL 152.720028 321.75738 \nL 157.792756 321.578841 \nL 162.865483 323.891835 \nL 167.93821 323.1185 \nL 173.010938 325.953046 \nL 178.083665 325.07262 \nL 183.156392 326.071418 \nL 188.229119 326.786938 \nL 193.301847 331.483034 \nL 198.374574 332.107502 \nL 203.447301 331.53737 \nL 208.520028 335.114163 \nL 213.592756 345.916727 \nL 218.665483 335.734267 \nL 223.73821 333.620879 \nL 228.810937 332.007326 \nL 233.883665 330.960712 \nL 238.956392 330.191513 \nL 244.029119 326.988629 \nL 249.101847 326.385977 \nL 254.174574 324.480734 \nL 259.247301 322.1658 \nL 264.320028 323.394473 \nL 269.392756 324.242682 \nL 274.465483 323.860215 \nL 279.53821 321.757367 \nL 284.610937 321.578845 \nL 289.683665 323.891846 \nL 294.756392 323.118509 \nL 299.829119 325.953059 \nL 304.901847 325.072618 \nL 309.974574 326.071407 \nL 315.047301 326.786937 \nL 320.120028 331.483023 \nL 325.192756 332.107504 \nL 330.265483 331.537373 \nL 335.33821 335.114151 \nL 340.410937 345.916722 \nL 345.483665 335.734266 \nL 350.556392 333.620876 \nL 355.629119 332.007324 \nL 360.701847 330.960709 \nL 365.774574 330.191492 \nL 370.847301 326.988637 \nL 375.920028 326.385991 \nL 380.992756 324.480742 \nL 386.065483 322.165784 \nL 391.13821 323.394473 \nL 396.210938 324.242668 \nL 401.283665 323.860214 \nL 406.356392 321.75738 \nL 411.429119 321.578853 \nL 416.501847 323.891849 \nL 421.574574 323.11849 \nL 426.647301 325.953035 \nL 431.720028 325.072613 \nL 436.792756 326.071421 \nL 441.865483 326.786937 \nL 446.93821 331.483025 \nL 452.010938 332.107519 \nL 457.083665 331.537404 \nL 462.156392 335.114159 \nL 467.229119 345.916736 \nL 472.301847 335.734264 \nL 477.374574 333.620874 \nL 482.447301 332.007326 \nL 487.520028 330.960702 \nL 492.592756 330.191506 \nL 497.665483 326.988642 \nL 502.73821 326.385972 \nL 507.810938 324.480747 \nL 512.883665 322.165797 \nL 517.956392 323.394476 \nL 523.029119 324.242671 \nL 528.101847 323.860204 \nL 533.174574 321.757381 \nL 538.247301 321.578861 \nL 543.320028 323.891849 \nL 548.392756 323.118501 \nL 553.465483 325.953032 \nL 558.53821 325.07261 \nL 563.610938 326.071418 \nL 568.683665 326.786933 \nL 573.756392 331.483046 \nL 578.829119 332.107499 \nL 583.901847 331.537378 \nL 588.974574 335.11418 \nL 594.047301 345.916875 \n\" clip-path=\"url(#pdcd1765558)\" style=\"fill: none; stroke: #1f77b4; stroke-width: 2; stroke-linecap: square\"/>\n   </g>\n   <g id=\"line2d_15\">\n    <path d=\"M 86.774574 345.916875 \nL 91.847301 257.371438 \nL 96.920028 196.693848 \nL 101.992756 164.089734 \nL 107.065483 140.772545 \nL 112.13821 113.503044 \nL 117.210938 105.372056 \nL 122.283665 107.668501 \nL 127.356392 112.583635 \nL 132.429119 96.30491 \nL 137.501847 91.380751 \nL 142.574574 96.65411 \nL 147.647301 87.936791 \nL 152.720028 83.697509 \nL 157.792756 72.588586 \nL 162.865483 66.784108 \nL 167.93821 54.38484 \nL 173.010938 53.723208 \nL 178.083665 62.458273 \nL 183.156392 68.755734 \nL 188.229119 60.285427 \nL 193.301847 54.234934 \nL 198.374574 52.312116 \nL 203.447301 68.51053 \nL 208.520028 67.891305 \nL 213.592756 43.516875 \nL 218.665483 78.311129 \nL 223.73821 95.056507 \nL 228.810937 80.363322 \nL 233.883665 70.876616 \nL 238.956392 68.344455 \nL 244.029119 65.223319 \nL 249.101847 52.260594 \nL 254.174574 62.361839 \nL 259.247301 70.934542 \nL 264.320028 86.500878 \nL 269.392756 89.887493 \nL 274.465483 79.307277 \nL 279.53821 75.37284 \nL 284.610937 83.767845 \nL 289.683665 90.06635 \nL 294.756392 96.84336 \nL 299.829119 100.771858 \nL 304.901847 107.949777 \nL 309.974574 111.048435 \nL 315.047301 109.296517 \nL 320.120028 115.628473 \nL 325.192756 105.194335 \nL 330.265483 112.50961 \nL 335.33821 108.677593 \nL 340.410937 68.582491 \nL 345.483665 96.623698 \nL 350.556392 108.354235 \nL 355.629119 103.680268 \nL 360.701847 106.947227 \nL 365.774574 104.091964 \nL 370.847301 108.025125 \nL 375.920028 100.149199 \nL 380.992756 95.1023 \nL 386.065483 92.683183 \nL 391.13821 96.092996 \nL 396.210938 92.464031 \nL 401.283665 86.503592 \nL 406.356392 81.228911 \nL 411.429119 69.658208 \nL 416.501847 64.397654 \nL 421.574574 68.434209 \nL 426.647301 66.96779 \nL 431.720028 66.166065 \nL 436.792756 76.859395 \nL 441.865483 66.667352 \nL 446.93821 67.173232 \nL 452.010938 75.9028 \nL 457.083665 84.406743 \nL 462.156392 79.729226 \nL 467.229119 61.681997 \nL 472.301847 88.370989 \nL 477.374574 89.815555 \nL 482.447301 74.35484 \nL 487.520028 67.209398 \nL 492.592756 87.321648 \nL 497.665483 85.127112 \nL 502.73821 77.968215 \nL 507.810938 84.138504 \nL 512.883665 73.498924 \nL 517.956392 68.69746 \nL 523.029119 60.643977 \nL 528.101847 54.069648 \nL 533.174574 69.709916 \nL 538.247301 64.315626 \nL 543.320028 79.72396 \nL 548.392756 78.636296 \nL 553.465483 92.489062 \nL 558.53821 78.521118 \nL 563.610938 96.307091 \nL 568.683665 114.850062 \nL 573.756392 132.936984 \nL 578.829119 149.420153 \nL 583.901847 198.858517 \nL 588.974574 259.033341 \nL 594.047301 345.916875 \n\" clip-path=\"url(#pdcd1765558)\" style=\"fill: none; stroke: #ff7f0e; stroke-width: 2; stroke-linecap: square\"/>\n   </g>\n   <g id=\"patch_3\">\n    <path d=\"M 61.410938 361.036875 \nL 61.410938 28.396875 \n\" style=\"fill: none; stroke: #000000; stroke-width: 0.8; stroke-linejoin: miter; stroke-linecap: square\"/>\n   </g>\n   <g id=\"patch_4\">\n    <path d=\"M 619.410938 361.036875 \nL 619.410938 28.396875 \n\" style=\"fill: none; stroke: #000000; stroke-width: 0.8; stroke-linejoin: miter; stroke-linecap: square\"/>\n   </g>\n   <g id=\"patch_5\">\n    <path d=\"M 61.410938 361.036875 \nL 619.410938 361.036875 \n\" style=\"fill: none; stroke: #000000; stroke-width: 0.8; stroke-linejoin: miter; stroke-linecap: square\"/>\n   </g>\n   <g id=\"patch_6\">\n    <path d=\"M 61.410938 28.396875 \nL 619.410938 28.396875 \n\" style=\"fill: none; stroke: #000000; stroke-width: 0.8; stroke-linejoin: miter; stroke-linecap: square\"/>\n   </g>\n   <g id=\"text_16\">\n    <!-- Equivariant vs Conventional CNNs -->\n    <g transform=\"translate(169.579687 22.396875) scale(0.2 -0.2)\">\n     <defs>\n      <path id=\"DejaVuSans-74\" d=\"M 1172 4494 \nL 1172 3500 \nL 2356 3500 \nL 2356 3053 \nL 1172 3053 \nL 1172 1153 \nQ 1172 725 1289 603 \nQ 1406 481 1766 481 \nL 2356 481 \nL 2356 0 \nL 1766 0 \nQ 1100 0 847 248 \nQ 594 497 594 1153 \nL 594 3053 \nL 172 3053 \nL 172 3500 \nL 594 3500 \nL 594 4494 \nL 1172 4494 \nz\n\" transform=\"scale(0.015625)\"/>\n      <path id=\"DejaVuSans-73\" d=\"M 2834 3397 \nL 2834 2853 \nQ 2591 2978 2328 3040 \nQ 2066 3103 1784 3103 \nQ 1356 3103 1142 2972 \nQ 928 2841 928 2578 \nQ 928 2378 1081 2264 \nQ 1234 2150 1697 2047 \nL 1894 2003 \nQ 2506 1872 2764 1633 \nQ 3022 1394 3022 966 \nQ 3022 478 2636 193 \nQ 2250 -91 1575 -91 \nQ 1294 -91 989 -36 \nQ 684 19 347 128 \nL 347 722 \nQ 666 556 975 473 \nQ 1284 391 1588 391 \nQ 1994 391 2212 530 \nQ 2431 669 2431 922 \nQ 2431 1156 2273 1281 \nQ 2116 1406 1581 1522 \nL 1381 1569 \nQ 847 1681 609 1914 \nQ 372 2147 372 2553 \nQ 372 3047 722 3315 \nQ 1072 3584 1716 3584 \nQ 2034 3584 2315 3537 \nQ 2597 3491 2834 3397 \nz\n\" transform=\"scale(0.015625)\"/>\n      <path id=\"DejaVuSans-43\" d=\"M 4122 4306 \nL 4122 3641 \nQ 3803 3938 3442 4084 \nQ 3081 4231 2675 4231 \nQ 1875 4231 1450 3742 \nQ 1025 3253 1025 2328 \nQ 1025 1406 1450 917 \nQ 1875 428 2675 428 \nQ 3081 428 3442 575 \nQ 3803 722 4122 1019 \nL 4122 359 \nQ 3791 134 3420 21 \nQ 3050 -91 2638 -91 \nQ 1578 -91 968 557 \nQ 359 1206 359 2328 \nQ 359 3453 968 4101 \nQ 1578 4750 2638 4750 \nQ 3056 4750 3426 4639 \nQ 3797 4528 4122 4306 \nz\n\" transform=\"scale(0.015625)\"/>\n      <path id=\"DejaVuSans-6c\" d=\"M 603 4863 \nL 1178 4863 \nL 1178 0 \nL 603 0 \nL 603 4863 \nz\n\" transform=\"scale(0.015625)\"/>\n      <path id=\"DejaVuSans-4e\" d=\"M 628 4666 \nL 1478 4666 \nL 3547 763 \nL 3547 4666 \nL 4159 4666 \nL 4159 0 \nL 3309 0 \nL 1241 3903 \nL 1241 0 \nL 628 0 \nL 628 4666 \nz\n\" transform=\"scale(0.015625)\"/>\n     </defs>\n     <use xlink:href=\"#DejaVuSans-45\"/>\n     <use xlink:href=\"#DejaVuSans-71\" x=\"63.183594\"/>\n     <use xlink:href=\"#DejaVuSans-75\" x=\"126.660156\"/>\n     <use xlink:href=\"#DejaVuSans-69\" x=\"190.039062\"/>\n     <use xlink:href=\"#DejaVuSans-76\" x=\"217.822266\"/>\n     <use xlink:href=\"#DejaVuSans-61\" x=\"277.001953\"/>\n     <use xlink:href=\"#DejaVuSans-72\" x=\"338.28125\"/>\n     <use xlink:href=\"#DejaVuSans-69\" x=\"379.394531\"/>\n     <use xlink:href=\"#DejaVuSans-61\" x=\"407.177734\"/>\n     <use xlink:href=\"#DejaVuSans-6e\" x=\"468.457031\"/>\n     <use xlink:href=\"#DejaVuSans-74\" x=\"531.835938\"/>\n     <use xlink:href=\"#DejaVuSans-20\" x=\"571.044922\"/>\n     <use xlink:href=\"#DejaVuSans-76\" x=\"602.832031\"/>\n     <use xlink:href=\"#DejaVuSans-73\" x=\"662.011719\"/>\n     <use xlink:href=\"#DejaVuSans-20\" x=\"714.111328\"/>\n     <use xlink:href=\"#DejaVuSans-43\" x=\"745.898438\"/>\n     <use xlink:href=\"#DejaVuSans-6f\" x=\"815.722656\"/>\n     <use xlink:href=\"#DejaVuSans-6e\" x=\"876.904297\"/>\n     <use xlink:href=\"#DejaVuSans-76\" x=\"940.283203\"/>\n     <use xlink:href=\"#DejaVuSans-65\" x=\"999.462891\"/>\n     <use xlink:href=\"#DejaVuSans-6e\" x=\"1060.986328\"/>\n     <use xlink:href=\"#DejaVuSans-74\" x=\"1124.365234\"/>\n     <use xlink:href=\"#DejaVuSans-69\" x=\"1163.574219\"/>\n     <use xlink:href=\"#DejaVuSans-6f\" x=\"1191.357422\"/>\n     <use xlink:href=\"#DejaVuSans-6e\" x=\"1252.539062\"/>\n     <use xlink:href=\"#DejaVuSans-61\" x=\"1315.917969\"/>\n     <use xlink:href=\"#DejaVuSans-6c\" x=\"1377.197266\"/>\n     <use xlink:href=\"#DejaVuSans-20\" x=\"1404.980469\"/>\n     <use xlink:href=\"#DejaVuSans-43\" x=\"1436.767578\"/>\n     <use xlink:href=\"#DejaVuSans-4e\" x=\"1506.591797\"/>\n     <use xlink:href=\"#DejaVuSans-4e\" x=\"1581.396484\"/>\n     <use xlink:href=\"#DejaVuSans-73\" x=\"1656.201172\"/>\n    </g>\n   </g>\n   <g id=\"legend_1\">\n    <g id=\"patch_7\">\n     <path d=\"M 203.2 227.073125 \nL 477.621875 227.073125 \nQ 481.621875 227.073125 481.621875 223.073125 \nL 481.621875 166.360625 \nQ 481.621875 162.360625 477.621875 162.360625 \nL 203.2 162.360625 \nQ 199.2 162.360625 199.2 166.360625 \nL 199.2 223.073125 \nQ 199.2 227.073125 203.2 227.073125 \nz\n\" style=\"fill: #ffffff; opacity: 0.8; stroke: #cccccc; stroke-linejoin: miter\"/>\n    </g>\n    <g id=\"line2d_16\">\n     <path d=\"M 207.2 178.5575 \nL 227.2 178.5575 \nL 247.2 178.5575 \n\" style=\"fill: none; stroke: #1f77b4; stroke-width: 2; stroke-linecap: square\"/>\n    </g>\n    <g id=\"text_17\">\n     <!-- SO(2)-Steerable CNN -->\n     <g transform=\"translate(263.2 185.5575) scale(0.2 -0.2)\">\n      <defs>\n       <path id=\"DejaVuSans-53\" d=\"M 3425 4513 \nL 3425 3897 \nQ 3066 4069 2747 4153 \nQ 2428 4238 2131 4238 \nQ 1616 4238 1336 4038 \nQ 1056 3838 1056 3469 \nQ 1056 3159 1242 3001 \nQ 1428 2844 1947 2747 \nL 2328 2669 \nQ 3034 2534 3370 2195 \nQ 3706 1856 3706 1288 \nQ 3706 609 3251 259 \nQ 2797 -91 1919 -91 \nQ 1588 -91 1214 -16 \nQ 841 59 441 206 \nL 441 856 \nQ 825 641 1194 531 \nQ 1563 422 1919 422 \nQ 2459 422 2753 634 \nQ 3047 847 3047 1241 \nQ 3047 1584 2836 1778 \nQ 2625 1972 2144 2069 \nL 1759 2144 \nQ 1053 2284 737 2584 \nQ 422 2884 422 3419 \nQ 422 4038 858 4394 \nQ 1294 4750 2059 4750 \nQ 2388 4750 2728 4690 \nQ 3069 4631 3425 4513 \nz\n\" transform=\"scale(0.015625)\"/>\n       <path id=\"DejaVuSans-4f\" d=\"M 2522 4238 \nQ 1834 4238 1429 3725 \nQ 1025 3213 1025 2328 \nQ 1025 1447 1429 934 \nQ 1834 422 2522 422 \nQ 3209 422 3611 934 \nQ 4013 1447 4013 2328 \nQ 4013 3213 3611 3725 \nQ 3209 4238 2522 4238 \nz\nM 2522 4750 \nQ 3503 4750 4090 4092 \nQ 4678 3434 4678 2328 \nQ 4678 1225 4090 567 \nQ 3503 -91 2522 -91 \nQ 1538 -91 948 565 \nQ 359 1222 359 2328 \nQ 359 3434 948 4092 \nQ 1538 4750 2522 4750 \nz\n\" transform=\"scale(0.015625)\"/>\n       <path id=\"DejaVuSans-28\" d=\"M 1984 4856 \nQ 1566 4138 1362 3434 \nQ 1159 2731 1159 2009 \nQ 1159 1288 1364 580 \nQ 1569 -128 1984 -844 \nL 1484 -844 \nQ 1016 -109 783 600 \nQ 550 1309 550 2009 \nQ 550 2706 781 3412 \nQ 1013 4119 1484 4856 \nL 1984 4856 \nz\n\" transform=\"scale(0.015625)\"/>\n       <path id=\"DejaVuSans-29\" d=\"M 513 4856 \nL 1013 4856 \nQ 1481 4119 1714 3412 \nQ 1947 2706 1947 2009 \nQ 1947 1309 1714 600 \nQ 1481 -109 1013 -844 \nL 513 -844 \nQ 928 -128 1133 580 \nQ 1338 1288 1338 2009 \nQ 1338 2731 1133 3434 \nQ 928 4138 513 4856 \nz\n\" transform=\"scale(0.015625)\"/>\n       <path id=\"DejaVuSans-2d\" d=\"M 313 2009 \nL 1997 2009 \nL 1997 1497 \nL 313 1497 \nL 313 2009 \nz\n\" transform=\"scale(0.015625)\"/>\n       <path id=\"DejaVuSans-62\" d=\"M 3116 1747 \nQ 3116 2381 2855 2742 \nQ 2594 3103 2138 3103 \nQ 1681 3103 1420 2742 \nQ 1159 2381 1159 1747 \nQ 1159 1113 1420 752 \nQ 1681 391 2138 391 \nQ 2594 391 2855 752 \nQ 3116 1113 3116 1747 \nz\nM 1159 2969 \nQ 1341 3281 1617 3432 \nQ 1894 3584 2278 3584 \nQ 2916 3584 3314 3078 \nQ 3713 2572 3713 1747 \nQ 3713 922 3314 415 \nQ 2916 -91 2278 -91 \nQ 1894 -91 1617 61 \nQ 1341 213 1159 525 \nL 1159 0 \nL 581 0 \nL 581 4863 \nL 1159 4863 \nL 1159 2969 \nz\n\" transform=\"scale(0.015625)\"/>\n      </defs>\n      <use xlink:href=\"#DejaVuSans-53\"/>\n      <use xlink:href=\"#DejaVuSans-4f\" x=\"63.476562\"/>\n      <use xlink:href=\"#DejaVuSans-28\" x=\"142.1875\"/>\n      <use xlink:href=\"#DejaVuSans-32\" x=\"181.201172\"/>\n      <use xlink:href=\"#DejaVuSans-29\" x=\"244.824219\"/>\n      <use xlink:href=\"#DejaVuSans-2d\" x=\"283.837891\"/>\n      <use xlink:href=\"#DejaVuSans-53\" x=\"319.921875\"/>\n      <use xlink:href=\"#DejaVuSans-74\" x=\"383.398438\"/>\n      <use xlink:href=\"#DejaVuSans-65\" x=\"422.607422\"/>\n      <use xlink:href=\"#DejaVuSans-65\" x=\"484.130859\"/>\n      <use xlink:href=\"#DejaVuSans-72\" x=\"545.654297\"/>\n      <use xlink:href=\"#DejaVuSans-61\" x=\"586.767578\"/>\n      <use xlink:href=\"#DejaVuSans-62\" x=\"648.046875\"/>\n      <use xlink:href=\"#DejaVuSans-6c\" x=\"711.523438\"/>\n      <use xlink:href=\"#DejaVuSans-65\" x=\"739.306641\"/>\n      <use xlink:href=\"#DejaVuSans-20\" x=\"800.830078\"/>\n      <use xlink:href=\"#DejaVuSans-43\" x=\"832.617188\"/>\n      <use xlink:href=\"#DejaVuSans-4e\" x=\"902.441406\"/>\n      <use xlink:href=\"#DejaVuSans-4e\" x=\"977.246094\"/>\n     </g>\n    </g>\n    <g id=\"line2d_17\">\n     <path d=\"M 207.2 207.91375 \nL 227.2 207.91375 \nL 247.2 207.91375 \n\" style=\"fill: none; stroke: #ff7f0e; stroke-width: 2; stroke-linecap: square\"/>\n    </g>\n    <g id=\"text_18\">\n     <!-- Conventional CNN -->\n     <g transform=\"translate(263.2 214.91375) scale(0.2 -0.2)\">\n      <use xlink:href=\"#DejaVuSans-43\"/>\n      <use xlink:href=\"#DejaVuSans-6f\" x=\"69.824219\"/>\n      <use xlink:href=\"#DejaVuSans-6e\" x=\"131.005859\"/>\n      <use xlink:href=\"#DejaVuSans-76\" x=\"194.384766\"/>\n      <use xlink:href=\"#DejaVuSans-65\" x=\"253.564453\"/>\n      <use xlink:href=\"#DejaVuSans-6e\" x=\"315.087891\"/>\n      <use xlink:href=\"#DejaVuSans-74\" x=\"378.466797\"/>\n      <use xlink:href=\"#DejaVuSans-69\" x=\"417.675781\"/>\n      <use xlink:href=\"#DejaVuSans-6f\" x=\"445.458984\"/>\n      <use xlink:href=\"#DejaVuSans-6e\" x=\"506.640625\"/>\n      <use xlink:href=\"#DejaVuSans-61\" x=\"570.019531\"/>\n      <use xlink:href=\"#DejaVuSans-6c\" x=\"631.298828\"/>\n      <use xlink:href=\"#DejaVuSans-20\" x=\"659.082031\"/>\n      <use xlink:href=\"#DejaVuSans-43\" x=\"690.869141\"/>\n      <use xlink:href=\"#DejaVuSans-4e\" x=\"760.693359\"/>\n      <use xlink:href=\"#DejaVuSans-4e\" x=\"835.498047\"/>\n     </g>\n    </g>\n   </g>\n  </g>\n </g>\n <defs>\n  <clipPath id=\"pdcd1765558\">\n   <rect x=\"61.410938\" y=\"28.396875\" width=\"558\" height=\"332.64\"/>\n  </clipPath>\n </defs>\n</svg>\n",
            "application/pdf": "[encoded data removed]"
          },
          "metadata": {}
        }
      ],
      "source": [
        "# let's generate a random image of shape W x W\n",
        "W = 37\n",
        "x = torch.randn(1, 1, W, W)\n",
        "\n",
        "# Because a rotation by an angle smaller than 90 degrees moves pixels outsize the image, we mask out all pixels outside the central disk\n",
        "# We need to do this both for the input and the output\n",
        "\n",
        "def build_mask(W):\n",
        "    center_mask = np.zeros((2, W, W))\n",
        "    center_mask[1, :, :] = np.arange(0, W) - W // 2\n",
        "    center_mask[0, :, :] = np.arange(0, W) - W // 2\n",
        "    center_mask[0, :, :] = center_mask[0, :, :].T\n",
        "    center_mask = center_mask[0, :, :] ** 2 + center_mask[1, :, :] ** 2 < .9*(W // 2) ** 2\n",
        "    center_mask = torch.tensor(center_mask.reshape(1, 1, W, W), dtype=torch.float)\n",
        "    return center_mask\n",
        "\n",
        "\n",
        "# create the mask for the input\n",
        "input_center_mask = build_mask(W)\n",
        "\n",
        "# mask the input image\n",
        "x = x * input_center_mask\n",
        "x = feat_type_in(x)\n",
        "\n",
        "# compute the output of both models\n",
        "y_equivariant = equivariant_so2_model(x)\n",
        "y_conventional = feat_type_out(conventional_model(x.tensor))\n",
        "\n",
        "# create the mask for the output images\n",
        "output_center_mask = build_mask(y_equivariant.shape[-1])\n",
        "\n",
        "# We evaluate the equivariance error on N=100 rotations\n",
        "N = 100\n",
        "\n",
        "error_equivariant = []\n",
        "error_conventional = []\n",
        "\n",
        "# for each of the N rotations\n",
        "for i in range(N+1):\n",
        "    g = G.element(i / N * 2*np.pi)\n",
        "\n",
        "    # rotate the input\n",
        "    x_transformed = x.transform(g)\n",
        "    x_transformed.tensor *= input_center_mask\n",
        "\n",
        "    # F(g.X)  feed the transformed images in both models\n",
        "    y_from_x_transformed_equivariant = equivariant_so2_model(x_transformed).tensor\n",
        "    y_from_x_transformed_conventional = conventional_model(x_transformed.tensor)\n",
        "\n",
        "    # g.F(x)  transform the output of both models\n",
        "    y_transformed_from_x_equivariant = y_equivariant.transform(g)\n",
        "    y_transformed_from_x_conventional = y_conventional.transform(g)\n",
        "\n",
        "    # mask all the outputs\n",
        "    y_from_x_transformed_equivariant = y_from_x_transformed_equivariant * output_center_mask\n",
        "    y_from_x_transformed_conventional = y_from_x_transformed_conventional * output_center_mask\n",
        "    y_transformed_from_x_equivariant = y_transformed_from_x_equivariant.tensor * output_center_mask\n",
        "    y_transformed_from_x_conventional = y_transformed_from_x_conventional.tensor * output_center_mask\n",
        "\n",
        "    # compute the relative error of both models\n",
        "    rel_error_equivariant = torch.norm(y_from_x_transformed_equivariant - y_transformed_from_x_equivariant).item() / torch.norm(y_equivariant.tensor).item()\n",
        "    rel_error_conventional = torch.norm(y_from_x_transformed_conventional - y_transformed_from_x_conventional).item() / torch.norm(y_conventional.tensor).item()\n",
        "\n",
        "    error_equivariant.append(rel_error_equivariant)\n",
        "    error_conventional.append(rel_error_conventional)\n",
        "\n",
        "# plot the error of both models as a function of the rotation angle theta\n",
        "fig, ax = plt.subplots(figsize=(10, 6))\n",
        "\n",
        "xs = [i*2*np.pi / N for i in range(N+1)]\n",
        "plt.plot(xs, error_equivariant, label='SO(2)-Steerable CNN')\n",
        "plt.plot(xs, error_conventional, label='Conventional CNN')\n",
        "plt.title('Equivariant vs Conventional CNNs', fontsize=20)\n",
        "plt.xlabel(r'$g = r_\\theta$', fontsize=20)\n",
        "plt.ylabel('Equivariance Error', fontsize=20)\n",
        "ax.tick_params(axis='both', which='major', labelsize=15)\n",
        "plt.legend(fontsize=20)\n",
        "plt.show()"
      ]
    },
    {
      "cell_type": "markdown",
      "metadata": {
        "id": "7K0Lti6wBLR5"
      },
      "source": [
        "## 3. Build and Train Steerable CNNs\n",
        "\n",
        "Finally, we will proceed with implementing a **Steerable CNN** and train it on rotated MNIST."
      ]
    },
    {
      "cell_type": "markdown",
      "metadata": {
        "id": "LbXKvGZM7sUI"
      },
      "source": [
        "### Dataset"
      ]
    },
    {
      "cell_type": "markdown",
      "metadata": {
        "id": "_BJSa9iJ4LF5"
      },
      "source": [
        "We will evaluate the model on the *rotated* MNIST dataset.\n",
        "First, we download the (non-rotated) MNIST 12k data:"
      ]
    },
    {
      "cell_type": "code",
      "execution_count": null,
      "metadata": {
        "id": "ZLHXlWCLBZ_X",
        "colab": {
          "base_uri": "https://localhost:8080/"
        },
        "outputId": "ab359a2d-fd03-4371-8fd8-5294c18f3c6e"
      },
      "outputs": [
        {
          "output_type": "stream",
          "name": "stdout",
          "text": [
            "--2023-11-27 19:30:43--  http://www.iro.umontreal.ca/~lisa/icml2007data/mnist.zip\n",
            "Resolving www.iro.umontreal.ca (www.iro.umontreal.ca)... 132.204.26.36\n",
            "Connecting to www.iro.umontreal.ca (www.iro.umontreal.ca)|132.204.26.36|:80... connected.\n",
            "HTTP request sent, awaiting response... 200 OK\n",
            "Length: 23653151 (23M) [application/zip]\n",
            "Saving to: ‘mnist.zip’\n",
            "\n",
            "mnist.zip           100%[===================>]  22.56M  22.6MB/s    in 1.0s    \n",
            "\n",
            "2023-11-27 19:30:44 (22.6 MB/s) - ‘mnist.zip’ saved [23653151/23653151]\n",
            "\n",
            "Archive:  mnist.zip\n",
            "  inflating: mnist/mnist_train.amat  \n",
            "  inflating: mnist/mnist_test.amat   \n"
          ]
        }
      ],
      "source": [
        "# download the dataset\n",
        "!wget -nc http://www.iro.umontreal.ca/~lisa/icml2007data/mnist.zip\n",
        "# uncompress the zip file\n",
        "!unzip -n mnist.zip -d mnist"
      ]
    },
    {
      "cell_type": "markdown",
      "metadata": {
        "id": "Xk4AEOO44Tcf"
      },
      "source": [
        "Then, we build the dataset and some utility functions:"
      ]
    },
    {
      "cell_type": "code",
      "execution_count": null,
      "metadata": {
        "id": "rFflGaisdyaN"
      },
      "outputs": [],
      "source": [
        "from torch.utils.data import Dataset\n",
        "from torchvision.transforms import RandomRotation\n",
        "from torchvision.transforms import Pad\n",
        "from torchvision.transforms import Resize\n",
        "from torchvision.transforms import ToTensor\n",
        "from torchvision.transforms import Compose\n",
        "from tqdm.auto import tqdm\n",
        "\n",
        "from PIL import Image\n",
        "\n",
        "device = 'cuda' if torch.cuda.is_available() else 'cpu'"
      ]
    },
    {
      "cell_type": "code",
      "execution_count": null,
      "metadata": {
        "id": "cgiSCD3r5n-L"
      },
      "outputs": [],
      "source": [
        "class MnistDataset(Dataset):\n",
        "\n",
        "    def __init__(self, mode, rotated: bool = True):\n",
        "        assert mode in ['train', 'test']\n",
        "\n",
        "        if mode == \"train\":\n",
        "            file = \"mnist/mnist_train.amat\"\n",
        "        else:\n",
        "            file = \"mnist/mnist_test.amat\"\n",
        "\n",
        "        data = np.loadtxt(file)\n",
        "\n",
        "        images = data[:, :-1].reshape(-1, 28, 28).astype(np.float32)\n",
        "\n",
        "        # images are padded to have shape 29x29.\n",
        "        # this allows to use odd-size filters with stride 2 when downsampling a feature map in the model\n",
        "        pad = Pad((0, 0, 1, 1), fill=0)\n",
        "\n",
        "        # to reduce interpolation artifacts (e.g. when testing the model on rotated images),\n",
        "        # we upsample an image by a factor of 3, rotate it and finally downsample it again\n",
        "        resize1 = Resize(87) # to upsample\n",
        "        resize2 = Resize(29) # to downsample\n",
        "\n",
        "        totensor = ToTensor()\n",
        "\n",
        "        if rotated:\n",
        "            self.images = torch.empty((images.shape[0], 1, 29, 29))\n",
        "            for i in tqdm(range(images.shape[0]), leave=False):\n",
        "                img = images[i]\n",
        "                img = Image.fromarray(img, mode='F')\n",
        "                r = (np.random.rand() * 360.)\n",
        "                self.images[i] = totensor(resize2(resize1(pad(img)).rotate(r, Image.BILINEAR))).reshape(1, 29, 29)\n",
        "        else:\n",
        "            self.images = torch.zeros((images.shape[0], 1, 29, 29))\n",
        "            self.images[:, :, :28, :28] = torch.tensor(images).reshape(-1, 1, 28, 28)\n",
        "\n",
        "        self.labels = data[:, -1].astype(np.int64)\n",
        "        self.num_samples = len(self.labels)\n",
        "\n",
        "    def __getitem__(self, index):\n",
        "        image, label = self.images[index], self.labels[index]\n",
        "\n",
        "        return image, label\n",
        "\n",
        "    def __len__(self):\n",
        "        return len(self.labels)\n"
      ]
    },
    {
      "cell_type": "code",
      "execution_count": null,
      "metadata": {
        "id": "WlLm-AZ97jVg",
        "colab": {
          "base_uri": "https://localhost:8080/",
          "height": 17,
          "referenced_widgets": [
            "de3fd7a71c7646f7a8fdd615a1d1da66",
            "36df21bad1664f2bb13f6e2ca27e0f04",
            "4f2f47d58bb84f5a818f176303f9729c",
            "4ffa3e9bb1284f4c8f25dce5d7d08896",
            "79581a69316f4299b2560835f98d7b9a",
            "d41f48b3950547deb79e0b52bf0422e2",
            "481288da53124d398e1335a2e3c1c828",
            "7e59b6564d51417aac5cbf9efad509dd",
            "2567742f976943c29b27c815a01947ed",
            "d5d93bd4ccac40cd9099c59161a6f3c4",
            "a5a94548410a4df0913234b2111fd362",
            "93304031ee9a4b5093c8146fe27c6ba2",
            "52d4c66e88e04c97ac1f9e64390db9fd",
            "8bc963a83a074335be101a0a6d27f6d4",
            "371920864886468abf8b266908c26152",
            "15c7319cd6b049298830b7981f0be586",
            "6249d82e6fd549c082528ca4210477f5",
            "eac15061582b4bda998ae6fcc45a2b45",
            "e32f70d8d06b4d52b0242623583c5673",
            "65278a00f37c493f8411442899bf788f",
            "de905871a43e43319b642bfbc72aeb39",
            "0005f0c2abe047aa82654cfd9f10a28c"
          ]
        },
        "outputId": "31454a05-c9bc-4316-80af-9203b564136f"
      },
      "outputs": [
        {
          "output_type": "display_data",
          "data": {
            "text/plain": [
              "  0%|          | 0/12000 [00:00<?, ?it/s]"
            ],
            "application/vnd.jupyter.widget-view+json": {
              "version_major": 2,
              "version_minor": 0,
              "model_id": "de3fd7a71c7646f7a8fdd615a1d1da66"
            }
          },
          "metadata": {}
        },
        {
          "output_type": "display_data",
          "data": {
            "text/plain": [
              "  0%|          | 0/50000 [00:00<?, ?it/s]"
            ],
            "application/vnd.jupyter.widget-view+json": {
              "version_major": 2,
              "version_minor": 0,
              "model_id": "93304031ee9a4b5093c8146fe27c6ba2"
            }
          },
          "metadata": {}
        }
      ],
      "source": [
        "# Set the random seed for reproducibility\n",
        "np.random.seed(42)\n",
        "\n",
        "# build the rotated training and test datasets\n",
        "mnist_train = MnistDataset(mode='train', rotated=True)\n",
        "train_loader = torch.utils.data.DataLoader(mnist_train, batch_size=64)\n",
        "\n",
        "\n",
        "mnist_test = MnistDataset(mode='test', rotated=True)\n",
        "test_loader = torch.utils.data.DataLoader(mnist_test, batch_size=64)\n",
        "\n",
        "# for testing purpose, we also build a version of the test set with *non*-rotated digits\n",
        "raw_mnist_test = MnistDataset(mode='test', rotated=False)"
      ]
    },
    {
      "cell_type": "markdown",
      "metadata": {
        "id": "YNhKgypl7m0b"
      },
      "source": [
        "### $SO(2)$ equivariant architecture"
      ]
    },
    {
      "cell_type": "markdown",
      "metadata": {
        "id": "YvM5alQ55n-L"
      },
      "source": [
        "Let's now create a CNN with equivariance to $SO(2)$.\n",
        "\n",
        "Given that the inputs are grayscale images, the model's input type remains a *scalar field*. Throughout the intermediate layers, we'll employ *regular fields*, aligning the model with *group-equivariant convolutional neural networks* (GCNNs).\n",
        "\n",
        "The final classification step is carried out through a fully connected layer."
      ]
    },
    {
      "cell_type": "code",
      "execution_count": null,
      "metadata": {
        "id": "HuVS40JWzihp"
      },
      "outputs": [],
      "source": [
        "class SO2SteerableCNN(torch.nn.Module):\n",
        "\n",
        "    def __init__(self, n_classes=10):\n",
        "\n",
        "        super(SO2SteerableCNN, self).__init__()\n",
        "\n",
        "        # the model is equivariant under all planar rotations\n",
        "        self.r2_act = gspaces.rot2dOnR2(N=-1)\n",
        "\n",
        "        # the group SO(2)\n",
        "        self.G: SO2 = self.r2_act.fibergroup\n",
        "\n",
        "        # the input image is a scalar field, corresponding to the trivial representation\n",
        "        in_type = nn.FieldType(self.r2_act, [self.r2_act.trivial_repr])\n",
        "\n",
        "        # we store the input type for wrapping the images into a geometric tensor during the forward pass\n",
        "        self.input_type = in_type\n",
        "\n",
        "        # We need to mask the input image since the corners are moved outside the grid under rotations\n",
        "        self.mask = nn.MaskModule(in_type, 29, margin=1)\n",
        "\n",
        "        # convolution 1\n",
        "        # first we build the non-linear layer, which also constructs the right feature type\n",
        "        # we choose 8 feature fields, each transforming under the regular representation of SO(2) up to frequency 3\n",
        "        # When taking the ELU non-linearity, we sample the feature fields on N=16 points\n",
        "        activation1 = nn.FourierELU(self.r2_act, 8, irreps=G.bl_irreps(3), N=16, inplace=True)\n",
        "        out_type = activation1.in_type\n",
        "        self.block1 = nn.SequentialModule(\n",
        "            nn.R2Conv(in_type, out_type, kernel_size=7, padding=1, bias=False),\n",
        "            nn.IIDBatchNorm2d(out_type),\n",
        "            activation1,\n",
        "        )\n",
        "\n",
        "        # convolution 2\n",
        "        # the old output type is the input type to the next layer\n",
        "        in_type = self.block1.out_type\n",
        "        # the output type of the second convolution layer are 16 regular feature fields\n",
        "        activation2 = nn.FourierELU(self.r2_act, 16, irreps=G.bl_irreps(3), N=16, inplace=True)\n",
        "        out_type = activation2.in_type\n",
        "        self.block2 = nn.SequentialModule(\n",
        "            nn.R2Conv(in_type, out_type, kernel_size=5, padding=2, bias=False),\n",
        "            nn.IIDBatchNorm2d(out_type),\n",
        "            activation2\n",
        "        )\n",
        "        # to reduce the downsampling artifacts, we use a Gaussian smoothing filter\n",
        "        self.pool1 = nn.SequentialModule(\n",
        "            nn.PointwiseAvgPoolAntialiased(out_type, sigma=0.66, stride=2)\n",
        "        )\n",
        "\n",
        "        # convolution 3\n",
        "        # the old output type is the input type to the next layer\n",
        "        in_type = self.block2.out_type\n",
        "        # the output type of the third convolution layer are 32 regular feature fields\n",
        "        activation3 = nn.FourierELU(self.r2_act, 32, irreps=G.bl_irreps(3), N=16, inplace=True)\n",
        "        out_type = activation3.in_type\n",
        "        self.block3 = nn.SequentialModule(\n",
        "            nn.R2Conv(in_type, out_type, kernel_size=5, padding=2, bias=False),\n",
        "            nn.IIDBatchNorm2d(out_type),\n",
        "            activation3\n",
        "        )\n",
        "\n",
        "        # convolution 4\n",
        "        # the old output type is the input type to the next layer\n",
        "        in_type = self.block3.out_type\n",
        "        # the output type of the fourth convolution layer are 64 regular feature fields\n",
        "        activation4 = nn.FourierELU(self.r2_act, 32, irreps=G.bl_irreps(3), N=16, inplace=True)\n",
        "        out_type = activation4.in_type\n",
        "        self.block4 = nn.SequentialModule(\n",
        "            nn.R2Conv(in_type, out_type, kernel_size=5, padding=2, bias=False),\n",
        "            nn.IIDBatchNorm2d(out_type),\n",
        "            activation4\n",
        "        )\n",
        "        self.pool2 = nn.SequentialModule(\n",
        "            nn.PointwiseAvgPoolAntialiased(out_type, sigma=0.66, stride=2)\n",
        "        )\n",
        "\n",
        "        # convolution 5\n",
        "        # the old output type is the input type to the next layer\n",
        "        in_type = self.block4.out_type\n",
        "        # the output type of the fifth convolution layer are 96 regular feature fields\n",
        "        activation5 = nn.FourierELU(self.r2_act, 64, irreps=G.bl_irreps(3), N=16, inplace=True)\n",
        "        out_type = activation5.in_type\n",
        "        self.block5 = nn.SequentialModule(\n",
        "            nn.R2Conv(in_type, out_type, kernel_size=5, padding=2, bias=False),\n",
        "            nn.IIDBatchNorm2d(out_type),\n",
        "            activation5\n",
        "        )\n",
        "\n",
        "        # convolution 6\n",
        "        # the old output type is the input type to the next layer\n",
        "        in_type = self.block5.out_type\n",
        "        # the output type of the sixth convolution layer are 64 regular feature fields\n",
        "        activation6 = nn.FourierELU(self.r2_act, 64, irreps=G.bl_irreps(3), N=16, inplace=True)\n",
        "        out_type = activation6.in_type\n",
        "        self.block6 = nn.SequentialModule(\n",
        "            nn.R2Conv(in_type, out_type, kernel_size=5, padding=1, bias=False),\n",
        "            nn.IIDBatchNorm2d(out_type),\n",
        "            activation6\n",
        "        )\n",
        "        self.pool3 = nn.PointwiseAvgPoolAntialiased(out_type, sigma=0.66, stride=1, padding=0)\n",
        "\n",
        "        # number of output invariant channels\n",
        "        c = 64\n",
        "\n",
        "        # last 1x1 convolution layer, which maps the regular fields to c=64 invariant scalar fields\n",
        "        # this is essential to provide *invariant* features in the final classification layer\n",
        "        output_invariant_type = nn.FieldType(self.r2_act, c*[self.r2_act.trivial_repr])\n",
        "        self.invariant_map = nn.R2Conv(out_type, output_invariant_type, kernel_size=1, bias=False)\n",
        "\n",
        "        # Fully Connected classifier\n",
        "        self.fully_net = torch.nn.Sequential(\n",
        "            torch.nn.BatchNorm1d(c),\n",
        "            torch.nn.ELU(inplace=True),\n",
        "            torch.nn.Linear(c, n_classes),\n",
        "        )\n",
        "\n",
        "    def forward(self, input: torch.Tensor):\n",
        "        # wrap the input tensor in a GeometricTensor\n",
        "        # (associate it with the input type)\n",
        "        x = self.input_type(input)\n",
        "\n",
        "        # mask out the corners of the input image\n",
        "        x = self.mask(x)\n",
        "\n",
        "        # apply each equivariant block\n",
        "\n",
        "        # Each layer has an input and an output type\n",
        "        # A layer takes a GeometricTensor in input.\n",
        "        # This tensor needs to be associated with the same representation of the layer's input type\n",
        "        #\n",
        "        # Each layer outputs a new GeometricTensor, associated with the layer's output type.\n",
        "        # As a result, consecutive layers need to have matching input/output types\n",
        "        x = self.block1(x)\n",
        "        x = self.block2(x)\n",
        "        x = self.pool1(x)\n",
        "\n",
        "        x = self.block3(x)\n",
        "        x = self.block4(x)\n",
        "        x = self.pool2(x)\n",
        "\n",
        "        x = self.block5(x)\n",
        "        x = self.block6(x)\n",
        "\n",
        "        # pool over the spatial dimensions\n",
        "        x = self.pool3(x)\n",
        "\n",
        "        # extract invariant features\n",
        "        x = self.invariant_map(x)\n",
        "\n",
        "        # unwrap the output GeometricTensor\n",
        "        # (take the Pytorch tensor and discard the associated representation)\n",
        "        x = x.tensor\n",
        "\n",
        "        # classify with the final fully connected layer\n",
        "        x = self.fully_net(x.reshape(x.shape[0], -1))\n",
        "\n",
        "        return x"
      ]
    },
    {
      "cell_type": "markdown",
      "metadata": {
        "id": "dnv21BvS70rR"
      },
      "source": [
        "#### Equivariance Test before training"
      ]
    },
    {
      "cell_type": "markdown",
      "metadata": {
        "id": "isQ_WYax43Ih"
      },
      "source": [
        "Let's instantiate the model:"
      ]
    },
    {
      "cell_type": "code",
      "execution_count": null,
      "metadata": {
        "id": "NjDhOs_048O6"
      },
      "outputs": [],
      "source": [
        "model = SO2SteerableCNN().to(device)"
      ]
    },
    {
      "cell_type": "markdown",
      "metadata": {
        "id": "WqmtMCdh5HVq"
      },
      "source": [
        "The model is currently initialized with random weights, so we don't anticipate it to yield accurate class probabilities.\n",
        "\n",
        "Nevertheless, the model should generate identical outputs for rotated versions of the same image. This holds true for rotations by multiples of $\\frac{\\pi}{2}$ but is only approximate for other angles.\n",
        "\n",
        "Let's assess it on a random test image: we'll input $N=20$ rotated versions of the first image in the test set and display the model's output logits for each of them."
      ]
    },
    {
      "cell_type": "code",
      "execution_count": null,
      "metadata": {
        "id": "0sO8ACqbd_GW"
      },
      "outputs": [],
      "source": [
        "def test_model_single_image(model: torch.nn.Module, x: torch.Tensor, N: int = 8):\n",
        "    np.set_printoptions(linewidth=10000)\n",
        "\n",
        "    x = Image.fromarray(x.cpu().numpy()[0], mode='F')\n",
        "\n",
        "\n",
        "    # to reduce interpolation artifacts (e.g. when testing the model on rotated images),\n",
        "    # we upsample an image by a factor of 3, rotate it and finally downsample it again\n",
        "    resize1 = Resize(87) # to upsample\n",
        "    resize2 = Resize(29) # to downsample\n",
        "\n",
        "    totensor = ToTensor()\n",
        "\n",
        "    x = resize1(x)\n",
        "\n",
        "    # evaluate the `model` on N rotated versions of the input image `x`\n",
        "    model.eval()\n",
        "\n",
        "    print()\n",
        "    print('##########################################################################################')\n",
        "    header = 'angle  |  ' + '  '.join([\"{:5d}\".format(d) for d in range(10)])\n",
        "    print(header)\n",
        "    with torch.no_grad():\n",
        "        for r in range(N):\n",
        "            x_transformed = totensor(resize2(x.rotate(r*360./N, Image.BILINEAR))).reshape(1, 1, 29, 29)\n",
        "            x_transformed = x_transformed.to(device)\n",
        "\n",
        "            y = model(x_transformed)\n",
        "            y = y.to('cpu').numpy().squeeze()\n",
        "\n",
        "            angle = r * 360. / N\n",
        "            print(\"{:6.1f} : {}\".format(angle, y))\n",
        "    print('##########################################################################################')\n",
        "    print()\n"
      ]
    },
    {
      "cell_type": "code",
      "execution_count": null,
      "metadata": {
        "id": "MMemwcjceUWO",
        "colab": {
          "base_uri": "https://localhost:8080/"
        },
        "outputId": "8f10c19a-55f7-4a97-eacd-1f9729c7afda"
      },
      "outputs": [
        {
          "output_type": "stream",
          "name": "stdout",
          "text": [
            "\n",
            "##########################################################################################\n",
            "angle  |      0      1      2      3      4      5      6      7      8      9\n",
            "   0.0 : [-0.131 -1.986 -0.536  0.418 -0.237  0.741 -0.447 -0.679 -0.939  0.082]\n",
            "  18.0 : [-0.138 -1.977 -0.542  0.437 -0.25   0.729 -0.446 -0.669 -0.925  0.067]\n",
            "  36.0 : [-0.156 -1.984 -0.542  0.428 -0.251  0.706 -0.438 -0.678 -0.916  0.087]\n",
            "  54.0 : [-0.143 -1.995 -0.537  0.414 -0.253  0.709 -0.438 -0.68  -0.93   0.11 ]\n",
            "  72.0 : [-0.135 -1.99  -0.526  0.421 -0.246  0.727 -0.438 -0.679 -0.938  0.108]\n",
            "  90.0 : [-0.131 -1.986 -0.536  0.418 -0.237  0.741 -0.447 -0.679 -0.939  0.082]\n",
            " 108.0 : [-0.138 -1.977 -0.542  0.437 -0.25   0.729 -0.446 -0.669 -0.925  0.067]\n",
            " 126.0 : [-0.156 -1.984 -0.542  0.428 -0.251  0.706 -0.438 -0.678 -0.916  0.087]\n",
            " 144.0 : [-0.143 -1.995 -0.537  0.414 -0.253  0.709 -0.438 -0.68  -0.93   0.11 ]\n",
            " 162.0 : [-0.135 -1.99  -0.526  0.421 -0.246  0.727 -0.438 -0.679 -0.938  0.108]\n",
            " 180.0 : [-0.131 -1.986 -0.536  0.418 -0.237  0.741 -0.447 -0.679 -0.939  0.082]\n",
            " 198.0 : [-0.138 -1.977 -0.542  0.437 -0.25   0.729 -0.446 -0.669 -0.925  0.067]\n",
            " 216.0 : [-0.156 -1.984 -0.542  0.428 -0.251  0.706 -0.438 -0.678 -0.916  0.087]\n",
            " 234.0 : [-0.143 -1.995 -0.537  0.414 -0.253  0.709 -0.438 -0.68  -0.93   0.11 ]\n",
            " 252.0 : [-0.135 -1.99  -0.526  0.421 -0.246  0.727 -0.438 -0.679 -0.938  0.108]\n",
            " 270.0 : [-0.131 -1.986 -0.536  0.418 -0.237  0.741 -0.447 -0.679 -0.939  0.082]\n",
            " 288.0 : [-0.138 -1.977 -0.542  0.437 -0.25   0.729 -0.446 -0.669 -0.925  0.067]\n",
            " 306.0 : [-0.156 -1.984 -0.542  0.428 -0.251  0.706 -0.438 -0.678 -0.916  0.087]\n",
            " 324.0 : [-0.143 -1.995 -0.537  0.414 -0.253  0.709 -0.438 -0.68  -0.93   0.11 ]\n",
            " 342.0 : [-0.135 -1.99  -0.526  0.421 -0.246  0.727 -0.438 -0.679 -0.938  0.108]\n",
            "##########################################################################################\n",
            "\n"
          ]
        }
      ],
      "source": [
        "# retrieve the first image from the test set\n",
        "x, y = next(iter(raw_mnist_test))\n",
        "\n",
        "# evaluate the model\n",
        "test_model_single_image(model, x, N=20)"
      ]
    },
    {
      "cell_type": "markdown",
      "metadata": {
        "id": "s30uH1m-7S63"
      },
      "source": [
        "The output of the model is already almost invariant but we observe small fluctuations in the outputs.\n",
        "This is the effect of the discretization artifacts (e.g. the pixel grid can not be perfectly rotated by any angle without interpolation) and can not be completely removed."
      ]
    },
    {
      "cell_type": "markdown",
      "metadata": {
        "id": "wLoknbhP77Ps"
      },
      "source": [
        "#### Training the model\n",
        "Let's train the model now.\n",
        "The procedure is the same used to train a normal *PyTorch* architecture:"
      ]
    },
    {
      "cell_type": "code",
      "execution_count": null,
      "metadata": {
        "id": "Dahlyjtr8RgX"
      },
      "outputs": [],
      "source": [
        "# build the training and test function\n",
        "\n",
        "def test(model: torch.nn.Module):\n",
        "    # test over the full rotated test set\n",
        "    total = 0\n",
        "    correct = 0\n",
        "\n",
        "    with torch.no_grad():\n",
        "        model.eval()\n",
        "        for i, (x, t) in enumerate(test_loader):\n",
        "            x = x.to(device)\n",
        "            t = t.to(device)\n",
        "\n",
        "            y = model(x)\n",
        "\n",
        "            _, prediction = torch.max(y.data, 1)\n",
        "            total += t.shape[0]\n",
        "            correct += (prediction == t).sum().item()\n",
        "    return correct/total*100.\n",
        "\n",
        "\n",
        "def train(model: torch.nn.Module, lr=1e-4, wd=1e-4, checkpoint_path: str = None):\n",
        "    if checkpoint_path is not None:\n",
        "        checkpoint_path = os.path.join(CHECKPOINT_PATH, checkpoint_path)\n",
        "\n",
        "    if checkpoint_path is not None and os.path.isfile(checkpoint_path):\n",
        "        model.load_state_dict(torch.load(checkpoint_path))\n",
        "        model.eval()\n",
        "        return\n",
        "\n",
        "    loss_function = torch.nn.CrossEntropyLoss()\n",
        "    optimizer = torch.optim.Adam(model.parameters(), lr=lr, weight_decay=wd)\n",
        "\n",
        "    for epoch in tqdm(range(21)):\n",
        "        model.train()\n",
        "        for i, (x, t) in enumerate(train_loader):\n",
        "            optimizer.zero_grad()\n",
        "\n",
        "            x = x.to(device)\n",
        "            t = t.to(device)\n",
        "\n",
        "            y = model(x)\n",
        "\n",
        "            loss = loss_function(y, t)\n",
        "\n",
        "            loss.backward()\n",
        "\n",
        "            optimizer.step()\n",
        "            del x, y, t, loss\n",
        "\n",
        "        if epoch % 10 == 0:\n",
        "            accuracy = test(model)\n",
        "            print(f\"epoch {epoch} | test accuracy: {accuracy}\")\n",
        "\n",
        "    if checkpoint_path is not None:\n",
        "        torch.save(model.state_dict(), checkpoint_path)"
      ]
    },
    {
      "cell_type": "markdown",
      "metadata": {
        "id": "1kLJO_KQ8opD"
      },
      "source": [
        "Finally, train the $SO(2)$ equivariant model:"
      ]
    },
    {
      "cell_type": "code",
      "execution_count": null,
      "metadata": {
        "id": "03IyIZpO8kmx",
        "colab": {
          "base_uri": "https://localhost:8080/"
        },
        "outputId": "bbd628b4-5f1f-46a8-a3e2-d971e7406782"
      },
      "outputs": [
        {
          "output_type": "stream",
          "name": "stdout",
          "text": [
            "Test accuracy: 94.982\n"
          ]
        }
      ],
      "source": [
        "# set the seed manually for reproducibility\n",
        "torch.manual_seed(42)\n",
        "model = SO2SteerableCNN().to(device)\n",
        "\n",
        "train(model, checkpoint_path=\"steerable_so2-pretrained.ckpt\")\n",
        "\n",
        "accuracy = test(model)\n",
        "print(f\"Test accuracy: {accuracy}\")"
      ]
    },
    {
      "cell_type": "code",
      "execution_count": null,
      "metadata": {
        "id": "tXeaZPTqECzY"
      },
      "outputs": [],
      "source": [
        "def test_model_rotations(model: torch.nn.Module, N: int = 24, M: int = 2000, checkpoint_path: str = None):\n",
        "    # evaluate the `model` on N rotated versions of the first M images in the test set\n",
        "\n",
        "    if checkpoint_path is not None:\n",
        "        checkpoint_path = os.path.join(CHECKPOINT_PATH, checkpoint_path)\n",
        "\n",
        "    if checkpoint_path is not None and os.path.isfile(checkpoint_path):\n",
        "        accuracies = np.load(checkpoint_path)\n",
        "        return accuracies.tolist()\n",
        "\n",
        "    model.eval()\n",
        "\n",
        "    # to reduce interpolation artifacts (e.g. when testing the model on rotated images),\n",
        "    # we upsample an image by a factor of 3, rotate it and finally downsample it again\n",
        "    resize1 = Resize(87) # to upsample\n",
        "    resize2 = Resize(29) # to downsample\n",
        "\n",
        "    totensor = ToTensor()\n",
        "\n",
        "    accuracies = []\n",
        "    with torch.no_grad():\n",
        "        model.eval()\n",
        "\n",
        "        for r in tqdm(range(N)):\n",
        "            total = 0\n",
        "            correct = 0\n",
        "\n",
        "            for i in range(M):\n",
        "                x, t = raw_mnist_test[i]\n",
        "\n",
        "                x = Image.fromarray(x.numpy()[0], mode='F')\n",
        "\n",
        "                x = totensor(resize2(resize1(x).rotate(r*360./N, Image.BILINEAR))).reshape(1, 1, 29, 29).to(device)\n",
        "\n",
        "                x = x.to(device)\n",
        "\n",
        "                y = model(x)\n",
        "\n",
        "                _, prediction = torch.max(y.data, 1)\n",
        "                total += 1\n",
        "                correct += (prediction == t).sum().item()\n",
        "\n",
        "            accuracies.append(correct/total*100.)\n",
        "\n",
        "    if checkpoint_path is not None:\n",
        "        np.save(checkpoint_path, np.array(accuracies))\n",
        "\n",
        "    return accuracies"
      ]
    },
    {
      "cell_type": "code",
      "execution_count": null,
      "metadata": {
        "id": "yH4_h-4P5n-O"
      },
      "outputs": [],
      "source": [
        "accs_so2 = test_model_rotations(model, 16, 10000, checkpoint_path=\"steerable_so2-accuracies.npy\")"
      ]
    },
    {
      "cell_type": "code",
      "execution_count": null,
      "metadata": {
        "id": "6Jk5PrbK5n-P",
        "colab": {
          "base_uri": "https://localhost:8080/",
          "height": 572
        },
        "outputId": "c852783d-997e-440b-8d49-767447482dc8"
      },
      "outputs": [
        {
          "output_type": "display_data",
          "data": {
            "text/plain": [
              "<Figure size 1000x600 with 1 Axes>"
            ],
            "image/svg+xml": "<?xml version=\"1.0\" encoding=\"utf-8\" standalone=\"no\"?>\n<!DOCTYPE svg PUBLIC \"-//W3C//DTD SVG 1.1//EN\"\n  \"http://www.w3.org/Graphics/SVG/1.1/DTD/svg11.dtd\">\n<svg xmlns:xlink=\"http://www.w3.org/1999/xlink\" width=\"645.698437pt\" height=\"413.110312pt\" viewBox=\"0 0 645.698437 413.110312\" xmlns=\"http://www.w3.org/2000/svg\" version=\"1.1\">\n <metadata>\n  <rdf:RDF xmlns:dc=\"http://purl.org/dc/elements/1.1/\" xmlns:cc=\"http://creativecommons.org/ns#\" xmlns:rdf=\"http://www.w3.org/1999/02/22-rdf-syntax-ns#\">\n   <cc:Work>\n    <dc:type rdf:resource=\"http://purl.org/dc/dcmitype/StillImage\"/>\n    <dc:date>2023-11-27T20:08:58.211944</dc:date>\n    <dc:format>image/svg+xml</dc:format>\n    <dc:creator>\n     <cc:Agent>\n      <dc:title>Matplotlib v3.7.1, https://matplotlib.org/</dc:title>\n     </cc:Agent>\n    </dc:creator>\n   </cc:Work>\n  </rdf:RDF>\n </metadata>\n <defs>\n  <style type=\"text/css\">*{stroke-linejoin: round; stroke-linecap: butt}</style>\n </defs>\n <g id=\"figure_1\">\n  <g id=\"patch_1\">\n   <path d=\"M 0 413.110312 \nL 645.698437 413.110312 \nL 645.698437 0 \nL 0 0 \nz\n\" style=\"fill: #ffffff\"/>\n  </g>\n  <g id=\"axes_1\">\n   <g id=\"patch_2\">\n    <path d=\"M 80.498438 361.036875 \nL 638.498438 361.036875 \nL 638.498438 28.396875 \nL 80.498438 28.396875 \nz\n\" style=\"fill: #ffffff\"/>\n   </g>\n   <g id=\"matplotlib.axis_1\">\n    <g id=\"xtick_1\">\n     <g id=\"line2d_1\">\n      <defs>\n       <path id=\"m0da593a7d4\" d=\"M 0 0 \nL 0 3.5 \n\" style=\"stroke: #000000; stroke-width: 0.8\"/>\n      </defs>\n      <g>\n       <use xlink:href=\"#m0da593a7d4\" x=\"105.862074\" y=\"361.036875\" style=\"stroke: #000000; stroke-width: 0.8\"/>\n      </g>\n     </g>\n     <g id=\"text_1\">\n      <!-- 0 -->\n      <g transform=\"translate(101.090199 379.434531) scale(0.15 -0.15)\">\n       <defs>\n        <path id=\"DejaVuSans-30\" d=\"M 2034 4250 \nQ 1547 4250 1301 3770 \nQ 1056 3291 1056 2328 \nQ 1056 1369 1301 889 \nQ 1547 409 2034 409 \nQ 2525 409 2770 889 \nQ 3016 1369 3016 2328 \nQ 3016 3291 2770 3770 \nQ 2525 4250 2034 4250 \nz\nM 2034 4750 \nQ 2819 4750 3233 4129 \nQ 3647 3509 3647 2328 \nQ 3647 1150 3233 529 \nQ 2819 -91 2034 -91 \nQ 1250 -91 836 529 \nQ 422 1150 422 2328 \nQ 422 3509 836 4129 \nQ 1250 4750 2034 4750 \nz\n\" transform=\"scale(0.015625)\"/>\n       </defs>\n       <use xlink:href=\"#DejaVuSans-30\"/>\n      </g>\n     </g>\n    </g>\n    <g id=\"xtick_2\">\n     <g id=\"line2d_2\">\n      <g>\n       <use xlink:href=\"#m0da593a7d4\" x=\"186.597036\" y=\"361.036875\" style=\"stroke: #000000; stroke-width: 0.8\"/>\n      </g>\n     </g>\n     <g id=\"text_2\">\n      <!-- 1 -->\n      <g transform=\"translate(181.825161 379.434531) scale(0.15 -0.15)\">\n       <defs>\n        <path id=\"DejaVuSans-31\" d=\"M 794 531 \nL 1825 531 \nL 1825 4091 \nL 703 3866 \nL 703 4441 \nL 1819 4666 \nL 2450 4666 \nL 2450 531 \nL 3481 531 \nL 3481 0 \nL 794 0 \nL 794 531 \nz\n\" transform=\"scale(0.015625)\"/>\n       </defs>\n       <use xlink:href=\"#DejaVuSans-31\"/>\n      </g>\n     </g>\n    </g>\n    <g id=\"xtick_3\">\n     <g id=\"line2d_3\">\n      <g>\n       <use xlink:href=\"#m0da593a7d4\" x=\"267.331998\" y=\"361.036875\" style=\"stroke: #000000; stroke-width: 0.8\"/>\n      </g>\n     </g>\n     <g id=\"text_3\">\n      <!-- 2 -->\n      <g transform=\"translate(262.560123 379.434531) scale(0.15 -0.15)\">\n       <defs>\n        <path id=\"DejaVuSans-32\" d=\"M 1228 531 \nL 3431 531 \nL 3431 0 \nL 469 0 \nL 469 531 \nQ 828 903 1448 1529 \nQ 2069 2156 2228 2338 \nQ 2531 2678 2651 2914 \nQ 2772 3150 2772 3378 \nQ 2772 3750 2511 3984 \nQ 2250 4219 1831 4219 \nQ 1534 4219 1204 4116 \nQ 875 4013 500 3803 \nL 500 4441 \nQ 881 4594 1212 4672 \nQ 1544 4750 1819 4750 \nQ 2544 4750 2975 4387 \nQ 3406 4025 3406 3419 \nQ 3406 3131 3298 2873 \nQ 3191 2616 2906 2266 \nQ 2828 2175 2409 1742 \nQ 1991 1309 1228 531 \nz\n\" transform=\"scale(0.015625)\"/>\n       </defs>\n       <use xlink:href=\"#DejaVuSans-32\"/>\n      </g>\n     </g>\n    </g>\n    <g id=\"xtick_4\">\n     <g id=\"line2d_4\">\n      <g>\n       <use xlink:href=\"#m0da593a7d4\" x=\"348.06696\" y=\"361.036875\" style=\"stroke: #000000; stroke-width: 0.8\"/>\n      </g>\n     </g>\n     <g id=\"text_4\">\n      <!-- 3 -->\n      <g transform=\"translate(343.295085 379.434531) scale(0.15 -0.15)\">\n       <defs>\n        <path id=\"DejaVuSans-33\" d=\"M 2597 2516 \nQ 3050 2419 3304 2112 \nQ 3559 1806 3559 1356 \nQ 3559 666 3084 287 \nQ 2609 -91 1734 -91 \nQ 1441 -91 1130 -33 \nQ 819 25 488 141 \nL 488 750 \nQ 750 597 1062 519 \nQ 1375 441 1716 441 \nQ 2309 441 2620 675 \nQ 2931 909 2931 1356 \nQ 2931 1769 2642 2001 \nQ 2353 2234 1838 2234 \nL 1294 2234 \nL 1294 2753 \nL 1863 2753 \nQ 2328 2753 2575 2939 \nQ 2822 3125 2822 3475 \nQ 2822 3834 2567 4026 \nQ 2313 4219 1838 4219 \nQ 1578 4219 1281 4162 \nQ 984 4106 628 3988 \nL 628 4550 \nQ 988 4650 1302 4700 \nQ 1616 4750 1894 4750 \nQ 2613 4750 3031 4423 \nQ 3450 4097 3450 3541 \nQ 3450 3153 3228 2886 \nQ 3006 2619 2597 2516 \nz\n\" transform=\"scale(0.015625)\"/>\n       </defs>\n       <use xlink:href=\"#DejaVuSans-33\"/>\n      </g>\n     </g>\n    </g>\n    <g id=\"xtick_5\">\n     <g id=\"line2d_5\">\n      <g>\n       <use xlink:href=\"#m0da593a7d4\" x=\"428.801922\" y=\"361.036875\" style=\"stroke: #000000; stroke-width: 0.8\"/>\n      </g>\n     </g>\n     <g id=\"text_5\">\n      <!-- 4 -->\n      <g transform=\"translate(424.030047 379.434531) scale(0.15 -0.15)\">\n       <defs>\n        <path id=\"DejaVuSans-34\" d=\"M 2419 4116 \nL 825 1625 \nL 2419 1625 \nL 2419 4116 \nz\nM 2253 4666 \nL 3047 4666 \nL 3047 1625 \nL 3713 1625 \nL 3713 1100 \nL 3047 1100 \nL 3047 0 \nL 2419 0 \nL 2419 1100 \nL 313 1100 \nL 313 1709 \nL 2253 4666 \nz\n\" transform=\"scale(0.015625)\"/>\n       </defs>\n       <use xlink:href=\"#DejaVuSans-34\"/>\n      </g>\n     </g>\n    </g>\n    <g id=\"xtick_6\">\n     <g id=\"line2d_6\">\n      <g>\n       <use xlink:href=\"#m0da593a7d4\" x=\"509.536884\" y=\"361.036875\" style=\"stroke: #000000; stroke-width: 0.8\"/>\n      </g>\n     </g>\n     <g id=\"text_6\">\n      <!-- 5 -->\n      <g transform=\"translate(504.765009 379.434531) scale(0.15 -0.15)\">\n       <defs>\n        <path id=\"DejaVuSans-35\" d=\"M 691 4666 \nL 3169 4666 \nL 3169 4134 \nL 1269 4134 \nL 1269 2991 \nQ 1406 3038 1543 3061 \nQ 1681 3084 1819 3084 \nQ 2600 3084 3056 2656 \nQ 3513 2228 3513 1497 \nQ 3513 744 3044 326 \nQ 2575 -91 1722 -91 \nQ 1428 -91 1123 -41 \nQ 819 9 494 109 \nL 494 744 \nQ 775 591 1075 516 \nQ 1375 441 1709 441 \nQ 2250 441 2565 725 \nQ 2881 1009 2881 1497 \nQ 2881 1984 2565 2268 \nQ 2250 2553 1709 2553 \nQ 1456 2553 1204 2497 \nQ 953 2441 691 2322 \nL 691 4666 \nz\n\" transform=\"scale(0.015625)\"/>\n       </defs>\n       <use xlink:href=\"#DejaVuSans-35\"/>\n      </g>\n     </g>\n    </g>\n    <g id=\"xtick_7\">\n     <g id=\"line2d_7\">\n      <g>\n       <use xlink:href=\"#m0da593a7d4\" x=\"590.271846\" y=\"361.036875\" style=\"stroke: #000000; stroke-width: 0.8\"/>\n      </g>\n     </g>\n     <g id=\"text_7\">\n      <!-- 6 -->\n      <g transform=\"translate(585.499971 379.434531) scale(0.15 -0.15)\">\n       <defs>\n        <path id=\"DejaVuSans-36\" d=\"M 2113 2584 \nQ 1688 2584 1439 2293 \nQ 1191 2003 1191 1497 \nQ 1191 994 1439 701 \nQ 1688 409 2113 409 \nQ 2538 409 2786 701 \nQ 3034 994 3034 1497 \nQ 3034 2003 2786 2293 \nQ 2538 2584 2113 2584 \nz\nM 3366 4563 \nL 3366 3988 \nQ 3128 4100 2886 4159 \nQ 2644 4219 2406 4219 \nQ 1781 4219 1451 3797 \nQ 1122 3375 1075 2522 \nQ 1259 2794 1537 2939 \nQ 1816 3084 2150 3084 \nQ 2853 3084 3261 2657 \nQ 3669 2231 3669 1497 \nQ 3669 778 3244 343 \nQ 2819 -91 2113 -91 \nQ 1303 -91 875 529 \nQ 447 1150 447 2328 \nQ 447 3434 972 4092 \nQ 1497 4750 2381 4750 \nQ 2619 4750 2861 4703 \nQ 3103 4656 3366 4563 \nz\n\" transform=\"scale(0.015625)\"/>\n       </defs>\n       <use xlink:href=\"#DejaVuSans-36\"/>\n      </g>\n     </g>\n    </g>\n    <g id=\"text_8\">\n     <!-- Test rotation $\\theta \\in [0, 2\\pi)$ -->\n     <g transform=\"translate(241.898438 401.750937) scale(0.2 -0.2)\">\n      <defs>\n       <path id=\"DejaVuSans-54\" d=\"M -19 4666 \nL 3928 4666 \nL 3928 4134 \nL 2272 4134 \nL 2272 0 \nL 1638 0 \nL 1638 4134 \nL -19 4134 \nL -19 4666 \nz\n\" transform=\"scale(0.015625)\"/>\n       <path id=\"DejaVuSans-65\" d=\"M 3597 1894 \nL 3597 1613 \nL 953 1613 \nQ 991 1019 1311 708 \nQ 1631 397 2203 397 \nQ 2534 397 2845 478 \nQ 3156 559 3463 722 \nL 3463 178 \nQ 3153 47 2828 -22 \nQ 2503 -91 2169 -91 \nQ 1331 -91 842 396 \nQ 353 884 353 1716 \nQ 353 2575 817 3079 \nQ 1281 3584 2069 3584 \nQ 2775 3584 3186 3129 \nQ 3597 2675 3597 1894 \nz\nM 3022 2063 \nQ 3016 2534 2758 2815 \nQ 2500 3097 2075 3097 \nQ 1594 3097 1305 2825 \nQ 1016 2553 972 2059 \nL 3022 2063 \nz\n\" transform=\"scale(0.015625)\"/>\n       <path id=\"DejaVuSans-73\" d=\"M 2834 3397 \nL 2834 2853 \nQ 2591 2978 2328 3040 \nQ 2066 3103 1784 3103 \nQ 1356 3103 1142 2972 \nQ 928 2841 928 2578 \nQ 928 2378 1081 2264 \nQ 1234 2150 1697 2047 \nL 1894 2003 \nQ 2506 1872 2764 1633 \nQ 3022 1394 3022 966 \nQ 3022 478 2636 193 \nQ 2250 -91 1575 -91 \nQ 1294 -91 989 -36 \nQ 684 19 347 128 \nL 347 722 \nQ 666 556 975 473 \nQ 1284 391 1588 391 \nQ 1994 391 2212 530 \nQ 2431 669 2431 922 \nQ 2431 1156 2273 1281 \nQ 2116 1406 1581 1522 \nL 1381 1569 \nQ 847 1681 609 1914 \nQ 372 2147 372 2553 \nQ 372 3047 722 3315 \nQ 1072 3584 1716 3584 \nQ 2034 3584 2315 3537 \nQ 2597 3491 2834 3397 \nz\n\" transform=\"scale(0.015625)\"/>\n       <path id=\"DejaVuSans-74\" d=\"M 1172 4494 \nL 1172 3500 \nL 2356 3500 \nL 2356 3053 \nL 1172 3053 \nL 1172 1153 \nQ 1172 725 1289 603 \nQ 1406 481 1766 481 \nL 2356 481 \nL 2356 0 \nL 1766 0 \nQ 1100 0 847 248 \nQ 594 497 594 1153 \nL 594 3053 \nL 172 3053 \nL 172 3500 \nL 594 3500 \nL 594 4494 \nL 1172 4494 \nz\n\" transform=\"scale(0.015625)\"/>\n       <path id=\"DejaVuSans-20\" transform=\"scale(0.015625)\"/>\n       <path id=\"DejaVuSans-72\" d=\"M 2631 2963 \nQ 2534 3019 2420 3045 \nQ 2306 3072 2169 3072 \nQ 1681 3072 1420 2755 \nQ 1159 2438 1159 1844 \nL 1159 0 \nL 581 0 \nL 581 3500 \nL 1159 3500 \nL 1159 2956 \nQ 1341 3275 1631 3429 \nQ 1922 3584 2338 3584 \nQ 2397 3584 2469 3576 \nQ 2541 3569 2628 3553 \nL 2631 2963 \nz\n\" transform=\"scale(0.015625)\"/>\n       <path id=\"DejaVuSans-6f\" d=\"M 1959 3097 \nQ 1497 3097 1228 2736 \nQ 959 2375 959 1747 \nQ 959 1119 1226 758 \nQ 1494 397 1959 397 \nQ 2419 397 2687 759 \nQ 2956 1122 2956 1747 \nQ 2956 2369 2687 2733 \nQ 2419 3097 1959 3097 \nz\nM 1959 3584 \nQ 2709 3584 3137 3096 \nQ 3566 2609 3566 1747 \nQ 3566 888 3137 398 \nQ 2709 -91 1959 -91 \nQ 1206 -91 779 398 \nQ 353 888 353 1747 \nQ 353 2609 779 3096 \nQ 1206 3584 1959 3584 \nz\n\" transform=\"scale(0.015625)\"/>\n       <path id=\"DejaVuSans-61\" d=\"M 2194 1759 \nQ 1497 1759 1228 1600 \nQ 959 1441 959 1056 \nQ 959 750 1161 570 \nQ 1363 391 1709 391 \nQ 2188 391 2477 730 \nQ 2766 1069 2766 1631 \nL 2766 1759 \nL 2194 1759 \nz\nM 3341 1997 \nL 3341 0 \nL 2766 0 \nL 2766 531 \nQ 2569 213 2275 61 \nQ 1981 -91 1556 -91 \nQ 1019 -91 701 211 \nQ 384 513 384 1019 \nQ 384 1609 779 1909 \nQ 1175 2209 1959 2209 \nL 2766 2209 \nL 2766 2266 \nQ 2766 2663 2505 2880 \nQ 2244 3097 1772 3097 \nQ 1472 3097 1187 3025 \nQ 903 2953 641 2809 \nL 641 3341 \nQ 956 3463 1253 3523 \nQ 1550 3584 1831 3584 \nQ 2591 3584 2966 3190 \nQ 3341 2797 3341 1997 \nz\n\" transform=\"scale(0.015625)\"/>\n       <path id=\"DejaVuSans-69\" d=\"M 603 3500 \nL 1178 3500 \nL 1178 0 \nL 603 0 \nL 603 3500 \nz\nM 603 4863 \nL 1178 4863 \nL 1178 4134 \nL 603 4134 \nL 603 4863 \nz\n\" transform=\"scale(0.015625)\"/>\n       <path id=\"DejaVuSans-6e\" d=\"M 3513 2113 \nL 3513 0 \nL 2938 0 \nL 2938 2094 \nQ 2938 2591 2744 2837 \nQ 2550 3084 2163 3084 \nQ 1697 3084 1428 2787 \nQ 1159 2491 1159 1978 \nL 1159 0 \nL 581 0 \nL 581 3500 \nL 1159 3500 \nL 1159 2956 \nQ 1366 3272 1645 3428 \nQ 1925 3584 2291 3584 \nQ 2894 3584 3203 3211 \nQ 3513 2838 3513 2113 \nz\n\" transform=\"scale(0.015625)\"/>\n       <path id=\"DejaVuSans-Oblique-3b8\" d=\"M 2913 2219 \nL 925 2219 \nQ 791 1284 928 888 \nQ 1100 400 1566 400 \nQ 2034 400 2391 891 \nQ 2703 1322 2913 2219 \nz\nM 3009 2750 \nQ 3094 3638 2984 3950 \nQ 2813 4444 2353 4444 \nQ 1875 4444 1525 3956 \nQ 1250 3563 1034 2750 \nL 3009 2750 \nz\nM 2444 4913 \nQ 3194 4913 3494 4250 \nQ 3794 3591 3566 2422 \nQ 3341 1256 2781 594 \nQ 2225 -72 1475 -72 \nQ 722 -72 425 594 \nQ 128 1256 353 2422 \nQ 581 3591 1134 4250 \nQ 1691 4913 2444 4913 \nz\n\" transform=\"scale(0.015625)\"/>\n       <path id=\"DejaVuSans-2208\" d=\"M 1072 1959 \nQ 1094 1728 1291 1353 \nQ 1522 919 1959 675 \nQ 2388 438 2850 434 \nL 5028 434 \nL 5028 -63 \nL 2850 -63 \nQ 2250 -63 1695 246 \nQ 1141 556 844 1106 \nQ 547 1656 547 2241 \nQ 547 2819 844 3369 \nQ 1141 3919 1695 4231 \nQ 2250 4544 2850 4544 \nL 5028 4544 \nL 5028 4047 \nL 2850 4047 \nQ 2388 4044 1959 3803 \nQ 1525 3556 1291 3125 \nQ 1091 2750 1063 2459 \nL 5028 2459 \nL 5028 1959 \nL 1072 1959 \nz\n\" transform=\"scale(0.015625)\"/>\n       <path id=\"DejaVuSans-5b\" d=\"M 550 4863 \nL 1875 4863 \nL 1875 4416 \nL 1125 4416 \nL 1125 -397 \nL 1875 -397 \nL 1875 -844 \nL 550 -844 \nL 550 4863 \nz\n\" transform=\"scale(0.015625)\"/>\n       <path id=\"DejaVuSans-2c\" d=\"M 750 794 \nL 1409 794 \nL 1409 256 \nL 897 -744 \nL 494 -744 \nL 750 256 \nL 750 794 \nz\n\" transform=\"scale(0.015625)\"/>\n       <path id=\"DejaVuSans-Oblique-3c0\" d=\"M 584 3500 \nL 3938 3500 \nL 3825 2925 \nL 3384 2925 \nL 2966 775 \nQ 2922 550 2981 450 \nQ 3038 353 3209 353 \nQ 3256 353 3325 363 \nQ 3397 369 3419 372 \nL 3338 -44 \nQ 3222 -84 3103 -103 \nQ 2981 -122 2866 -122 \nQ 2491 -122 2388 81 \nQ 2284 288 2391 838 \nL 2797 2925 \nL 1506 2925 \nL 938 0 \nL 350 0 \nL 919 2925 \nL 472 2925 \nL 584 3500 \nz\n\" transform=\"scale(0.015625)\"/>\n       <path id=\"DejaVuSans-29\" d=\"M 513 4856 \nL 1013 4856 \nQ 1481 4119 1714 3412 \nQ 1947 2706 1947 2009 \nQ 1947 1309 1714 600 \nQ 1481 -109 1013 -844 \nL 513 -844 \nQ 928 -128 1133 580 \nQ 1338 1288 1338 2009 \nQ 1338 2731 1133 3434 \nQ 928 4138 513 4856 \nz\n\" transform=\"scale(0.015625)\"/>\n      </defs>\n      <use xlink:href=\"#DejaVuSans-54\" transform=\"translate(0 0.234375)\"/>\n      <use xlink:href=\"#DejaVuSans-65\" transform=\"translate(61.083984 0.234375)\"/>\n      <use xlink:href=\"#DejaVuSans-73\" transform=\"translate(122.607422 0.234375)\"/>\n      <use xlink:href=\"#DejaVuSans-74\" transform=\"translate(174.707031 0.234375)\"/>\n      <use xlink:href=\"#DejaVuSans-20\" transform=\"translate(213.916016 0.234375)\"/>\n      <use xlink:href=\"#DejaVuSans-72\" transform=\"translate(245.703125 0.234375)\"/>\n      <use xlink:href=\"#DejaVuSans-6f\" transform=\"translate(286.816406 0.234375)\"/>\n      <use xlink:href=\"#DejaVuSans-74\" transform=\"translate(347.998047 0.234375)\"/>\n      <use xlink:href=\"#DejaVuSans-61\" transform=\"translate(387.207031 0.234375)\"/>\n      <use xlink:href=\"#DejaVuSans-74\" transform=\"translate(448.486328 0.234375)\"/>\n      <use xlink:href=\"#DejaVuSans-69\" transform=\"translate(487.695312 0.234375)\"/>\n      <use xlink:href=\"#DejaVuSans-6f\" transform=\"translate(515.478516 0.234375)\"/>\n      <use xlink:href=\"#DejaVuSans-6e\" transform=\"translate(576.660156 0.234375)\"/>\n      <use xlink:href=\"#DejaVuSans-20\" transform=\"translate(640.039062 0.234375)\"/>\n      <use xlink:href=\"#DejaVuSans-Oblique-3b8\" transform=\"translate(671.826172 0.234375)\"/>\n      <use xlink:href=\"#DejaVuSans-2208\" transform=\"translate(752.490234 0.234375)\"/>\n      <use xlink:href=\"#DejaVuSans-5b\" transform=\"translate(859.082031 0.234375)\"/>\n      <use xlink:href=\"#DejaVuSans-30\" transform=\"translate(898.095703 0.234375)\"/>\n      <use xlink:href=\"#DejaVuSans-2c\" transform=\"translate(961.71875 0.234375)\"/>\n      <use xlink:href=\"#DejaVuSans-32\" transform=\"translate(1012.988281 0.234375)\"/>\n      <use xlink:href=\"#DejaVuSans-Oblique-3c0\" transform=\"translate(1076.611328 0.234375)\"/>\n      <use xlink:href=\"#DejaVuSans-29\" transform=\"translate(1136.816406 0.234375)\"/>\n     </g>\n    </g>\n   </g>\n   <g id=\"matplotlib.axis_2\">\n    <g id=\"ytick_1\">\n     <g id=\"line2d_8\">\n      <defs>\n       <path id=\"m3c4f2c9f20\" d=\"M 0 0 \nL -3.5 0 \n\" style=\"stroke: #000000; stroke-width: 0.8\"/>\n      </defs>\n      <g>\n       <use xlink:href=\"#m3c4f2c9f20\" x=\"80.498438\" y=\"345.916875\" style=\"stroke: #000000; stroke-width: 0.8\"/>\n      </g>\n     </g>\n     <g id=\"text_9\">\n      <!-- 95.20 -->\n      <g transform=\"translate(30.55625 351.615703) scale(0.15 -0.15)\">\n       <defs>\n        <path id=\"DejaVuSans-39\" d=\"M 703 97 \nL 703 672 \nQ 941 559 1184 500 \nQ 1428 441 1663 441 \nQ 2288 441 2617 861 \nQ 2947 1281 2994 2138 \nQ 2813 1869 2534 1725 \nQ 2256 1581 1919 1581 \nQ 1219 1581 811 2004 \nQ 403 2428 403 3163 \nQ 403 3881 828 4315 \nQ 1253 4750 1959 4750 \nQ 2769 4750 3195 4129 \nQ 3622 3509 3622 2328 \nQ 3622 1225 3098 567 \nQ 2575 -91 1691 -91 \nQ 1453 -91 1209 -44 \nQ 966 3 703 97 \nz\nM 1959 2075 \nQ 2384 2075 2632 2365 \nQ 2881 2656 2881 3163 \nQ 2881 3666 2632 3958 \nQ 2384 4250 1959 4250 \nQ 1534 4250 1286 3958 \nQ 1038 3666 1038 3163 \nQ 1038 2656 1286 2365 \nQ 1534 2075 1959 2075 \nz\n\" transform=\"scale(0.015625)\"/>\n        <path id=\"DejaVuSans-2e\" d=\"M 684 794 \nL 1344 794 \nL 1344 0 \nL 684 0 \nL 684 794 \nz\n\" transform=\"scale(0.015625)\"/>\n       </defs>\n       <use xlink:href=\"#DejaVuSans-39\"/>\n       <use xlink:href=\"#DejaVuSans-35\" x=\"63.623047\"/>\n       <use xlink:href=\"#DejaVuSans-2e\" x=\"127.246094\"/>\n       <use xlink:href=\"#DejaVuSans-32\" x=\"159.033203\"/>\n       <use xlink:href=\"#DejaVuSans-30\" x=\"222.65625\"/>\n      </g>\n     </g>\n    </g>\n    <g id=\"ytick_2\">\n     <g id=\"line2d_9\">\n      <g>\n       <use xlink:href=\"#m3c4f2c9f20\" x=\"80.498438\" y=\"295.516875\" style=\"stroke: #000000; stroke-width: 0.8\"/>\n      </g>\n     </g>\n     <g id=\"text_10\">\n      <!-- 95.25 -->\n      <g transform=\"translate(30.55625 301.215703) scale(0.15 -0.15)\">\n       <use xlink:href=\"#DejaVuSans-39\"/>\n       <use xlink:href=\"#DejaVuSans-35\" x=\"63.623047\"/>\n       <use xlink:href=\"#DejaVuSans-2e\" x=\"127.246094\"/>\n       <use xlink:href=\"#DejaVuSans-32\" x=\"159.033203\"/>\n       <use xlink:href=\"#DejaVuSans-35\" x=\"222.65625\"/>\n      </g>\n     </g>\n    </g>\n    <g id=\"ytick_3\">\n     <g id=\"line2d_10\">\n      <g>\n       <use xlink:href=\"#m3c4f2c9f20\" x=\"80.498438\" y=\"245.116875\" style=\"stroke: #000000; stroke-width: 0.8\"/>\n      </g>\n     </g>\n     <g id=\"text_11\">\n      <!-- 95.30 -->\n      <g transform=\"translate(30.55625 250.815703) scale(0.15 -0.15)\">\n       <use xlink:href=\"#DejaVuSans-39\"/>\n       <use xlink:href=\"#DejaVuSans-35\" x=\"63.623047\"/>\n       <use xlink:href=\"#DejaVuSans-2e\" x=\"127.246094\"/>\n       <use xlink:href=\"#DejaVuSans-33\" x=\"159.033203\"/>\n       <use xlink:href=\"#DejaVuSans-30\" x=\"222.65625\"/>\n      </g>\n     </g>\n    </g>\n    <g id=\"ytick_4\">\n     <g id=\"line2d_11\">\n      <g>\n       <use xlink:href=\"#m3c4f2c9f20\" x=\"80.498438\" y=\"194.716875\" style=\"stroke: #000000; stroke-width: 0.8\"/>\n      </g>\n     </g>\n     <g id=\"text_12\">\n      <!-- 95.35 -->\n      <g transform=\"translate(30.55625 200.415703) scale(0.15 -0.15)\">\n       <use xlink:href=\"#DejaVuSans-39\"/>\n       <use xlink:href=\"#DejaVuSans-35\" x=\"63.623047\"/>\n       <use xlink:href=\"#DejaVuSans-2e\" x=\"127.246094\"/>\n       <use xlink:href=\"#DejaVuSans-33\" x=\"159.033203\"/>\n       <use xlink:href=\"#DejaVuSans-35\" x=\"222.65625\"/>\n      </g>\n     </g>\n    </g>\n    <g id=\"ytick_5\">\n     <g id=\"line2d_12\">\n      <g>\n       <use xlink:href=\"#m3c4f2c9f20\" x=\"80.498438\" y=\"144.316875\" style=\"stroke: #000000; stroke-width: 0.8\"/>\n      </g>\n     </g>\n     <g id=\"text_13\">\n      <!-- 95.40 -->\n      <g transform=\"translate(30.55625 150.015703) scale(0.15 -0.15)\">\n       <use xlink:href=\"#DejaVuSans-39\"/>\n       <use xlink:href=\"#DejaVuSans-35\" x=\"63.623047\"/>\n       <use xlink:href=\"#DejaVuSans-2e\" x=\"127.246094\"/>\n       <use xlink:href=\"#DejaVuSans-34\" x=\"159.033203\"/>\n       <use xlink:href=\"#DejaVuSans-30\" x=\"222.65625\"/>\n      </g>\n     </g>\n    </g>\n    <g id=\"ytick_6\">\n     <g id=\"line2d_13\">\n      <g>\n       <use xlink:href=\"#m3c4f2c9f20\" x=\"80.498438\" y=\"93.916875\" style=\"stroke: #000000; stroke-width: 0.8\"/>\n      </g>\n     </g>\n     <g id=\"text_14\">\n      <!-- 95.45 -->\n      <g transform=\"translate(30.55625 99.615703) scale(0.15 -0.15)\">\n       <use xlink:href=\"#DejaVuSans-39\"/>\n       <use xlink:href=\"#DejaVuSans-35\" x=\"63.623047\"/>\n       <use xlink:href=\"#DejaVuSans-2e\" x=\"127.246094\"/>\n       <use xlink:href=\"#DejaVuSans-34\" x=\"159.033203\"/>\n       <use xlink:href=\"#DejaVuSans-35\" x=\"222.65625\"/>\n      </g>\n     </g>\n    </g>\n    <g id=\"ytick_7\">\n     <g id=\"line2d_14\">\n      <g>\n       <use xlink:href=\"#m3c4f2c9f20\" x=\"80.498438\" y=\"43.516875\" style=\"stroke: #000000; stroke-width: 0.8\"/>\n      </g>\n     </g>\n     <g id=\"text_15\">\n      <!-- 95.50 -->\n      <g transform=\"translate(30.55625 49.215703) scale(0.15 -0.15)\">\n       <use xlink:href=\"#DejaVuSans-39\"/>\n       <use xlink:href=\"#DejaVuSans-35\" x=\"63.623047\"/>\n       <use xlink:href=\"#DejaVuSans-2e\" x=\"127.246094\"/>\n       <use xlink:href=\"#DejaVuSans-35\" x=\"159.033203\"/>\n       <use xlink:href=\"#DejaVuSans-30\" x=\"222.65625\"/>\n      </g>\n     </g>\n    </g>\n    <g id=\"text_16\">\n     <!-- Accuracy -->\n     <g transform=\"translate(22.396875 240.373125) rotate(-90) scale(0.2 -0.2)\">\n      <defs>\n       <path id=\"DejaVuSans-41\" d=\"M 2188 4044 \nL 1331 1722 \nL 3047 1722 \nL 2188 4044 \nz\nM 1831 4666 \nL 2547 4666 \nL 4325 0 \nL 3669 0 \nL 3244 1197 \nL 1141 1197 \nL 716 0 \nL 50 0 \nL 1831 4666 \nz\n\" transform=\"scale(0.015625)\"/>\n       <path id=\"DejaVuSans-63\" d=\"M 3122 3366 \nL 3122 2828 \nQ 2878 2963 2633 3030 \nQ 2388 3097 2138 3097 \nQ 1578 3097 1268 2742 \nQ 959 2388 959 1747 \nQ 959 1106 1268 751 \nQ 1578 397 2138 397 \nQ 2388 397 2633 464 \nQ 2878 531 3122 666 \nL 3122 134 \nQ 2881 22 2623 -34 \nQ 2366 -91 2075 -91 \nQ 1284 -91 818 406 \nQ 353 903 353 1747 \nQ 353 2603 823 3093 \nQ 1294 3584 2113 3584 \nQ 2378 3584 2631 3529 \nQ 2884 3475 3122 3366 \nz\n\" transform=\"scale(0.015625)\"/>\n       <path id=\"DejaVuSans-75\" d=\"M 544 1381 \nL 544 3500 \nL 1119 3500 \nL 1119 1403 \nQ 1119 906 1312 657 \nQ 1506 409 1894 409 \nQ 2359 409 2629 706 \nQ 2900 1003 2900 1516 \nL 2900 3500 \nL 3475 3500 \nL 3475 0 \nL 2900 0 \nL 2900 538 \nQ 2691 219 2414 64 \nQ 2138 -91 1772 -91 \nQ 1169 -91 856 284 \nQ 544 659 544 1381 \nz\nM 1991 3584 \nL 1991 3584 \nz\n\" transform=\"scale(0.015625)\"/>\n       <path id=\"DejaVuSans-79\" d=\"M 2059 -325 \nQ 1816 -950 1584 -1140 \nQ 1353 -1331 966 -1331 \nL 506 -1331 \nL 506 -850 \nL 844 -850 \nQ 1081 -850 1212 -737 \nQ 1344 -625 1503 -206 \nL 1606 56 \nL 191 3500 \nL 800 3500 \nL 1894 763 \nL 2988 3500 \nL 3597 3500 \nL 2059 -325 \nz\n\" transform=\"scale(0.015625)\"/>\n      </defs>\n      <use xlink:href=\"#DejaVuSans-41\"/>\n      <use xlink:href=\"#DejaVuSans-63\" x=\"66.658203\"/>\n      <use xlink:href=\"#DejaVuSans-63\" x=\"121.638672\"/>\n      <use xlink:href=\"#DejaVuSans-75\" x=\"176.619141\"/>\n      <use xlink:href=\"#DejaVuSans-72\" x=\"239.998047\"/>\n      <use xlink:href=\"#DejaVuSans-61\" x=\"281.111328\"/>\n      <use xlink:href=\"#DejaVuSans-63\" x=\"342.390625\"/>\n      <use xlink:href=\"#DejaVuSans-79\" x=\"397.371094\"/>\n     </g>\n    </g>\n   </g>\n   <g id=\"line2d_15\">\n    <path d=\"M 105.862074 93.916875 \nL 137.566619 335.836875 \nL 169.271165 335.836875 \nL 200.97571 43.516875 \nL 232.680256 93.916875 \nL 264.384801 335.836875 \nL 296.089347 335.836875 \nL 327.793892 43.516875 \nL 359.498438 93.916875 \nL 391.202983 345.916875 \nL 422.907528 335.836875 \nL 454.612074 43.516875 \nL 486.316619 93.916875 \nL 518.021165 335.836875 \nL 549.72571 335.836875 \nL 581.430256 43.516875 \nL 613.134801 93.916875 \n\" clip-path=\"url(#p233eeedeed)\" style=\"fill: none; stroke: #1f77b4; stroke-width: 2; stroke-linecap: square\"/>\n   </g>\n   <g id=\"patch_3\">\n    <path d=\"M 80.498438 361.036875 \nL 80.498438 28.396875 \n\" style=\"fill: none; stroke: #000000; stroke-width: 0.8; stroke-linejoin: miter; stroke-linecap: square\"/>\n   </g>\n   <g id=\"patch_4\">\n    <path d=\"M 638.498438 361.036875 \nL 638.498438 28.396875 \n\" style=\"fill: none; stroke: #000000; stroke-width: 0.8; stroke-linejoin: miter; stroke-linecap: square\"/>\n   </g>\n   <g id=\"patch_5\">\n    <path d=\"M 80.498438 361.036875 \nL 638.498438 361.036875 \n\" style=\"fill: none; stroke: #000000; stroke-width: 0.8; stroke-linejoin: miter; stroke-linecap: square\"/>\n   </g>\n   <g id=\"patch_6\">\n    <path d=\"M 80.498438 28.396875 \nL 638.498438 28.396875 \n\" style=\"fill: none; stroke: #000000; stroke-width: 0.8; stroke-linejoin: miter; stroke-linecap: square\"/>\n   </g>\n   <g id=\"text_17\">\n    <!-- SO(2)-Steerable CNN -->\n    <g transform=\"translate(254.2875 22.396875) scale(0.2 -0.2)\">\n     <defs>\n      <path id=\"DejaVuSans-53\" d=\"M 3425 4513 \nL 3425 3897 \nQ 3066 4069 2747 4153 \nQ 2428 4238 2131 4238 \nQ 1616 4238 1336 4038 \nQ 1056 3838 1056 3469 \nQ 1056 3159 1242 3001 \nQ 1428 2844 1947 2747 \nL 2328 2669 \nQ 3034 2534 3370 2195 \nQ 3706 1856 3706 1288 \nQ 3706 609 3251 259 \nQ 2797 -91 1919 -91 \nQ 1588 -91 1214 -16 \nQ 841 59 441 206 \nL 441 856 \nQ 825 641 1194 531 \nQ 1563 422 1919 422 \nQ 2459 422 2753 634 \nQ 3047 847 3047 1241 \nQ 3047 1584 2836 1778 \nQ 2625 1972 2144 2069 \nL 1759 2144 \nQ 1053 2284 737 2584 \nQ 422 2884 422 3419 \nQ 422 4038 858 4394 \nQ 1294 4750 2059 4750 \nQ 2388 4750 2728 4690 \nQ 3069 4631 3425 4513 \nz\n\" transform=\"scale(0.015625)\"/>\n      <path id=\"DejaVuSans-4f\" d=\"M 2522 4238 \nQ 1834 4238 1429 3725 \nQ 1025 3213 1025 2328 \nQ 1025 1447 1429 934 \nQ 1834 422 2522 422 \nQ 3209 422 3611 934 \nQ 4013 1447 4013 2328 \nQ 4013 3213 3611 3725 \nQ 3209 4238 2522 4238 \nz\nM 2522 4750 \nQ 3503 4750 4090 4092 \nQ 4678 3434 4678 2328 \nQ 4678 1225 4090 567 \nQ 3503 -91 2522 -91 \nQ 1538 -91 948 565 \nQ 359 1222 359 2328 \nQ 359 3434 948 4092 \nQ 1538 4750 2522 4750 \nz\n\" transform=\"scale(0.015625)\"/>\n      <path id=\"DejaVuSans-28\" d=\"M 1984 4856 \nQ 1566 4138 1362 3434 \nQ 1159 2731 1159 2009 \nQ 1159 1288 1364 580 \nQ 1569 -128 1984 -844 \nL 1484 -844 \nQ 1016 -109 783 600 \nQ 550 1309 550 2009 \nQ 550 2706 781 3412 \nQ 1013 4119 1484 4856 \nL 1984 4856 \nz\n\" transform=\"scale(0.015625)\"/>\n      <path id=\"DejaVuSans-2d\" d=\"M 313 2009 \nL 1997 2009 \nL 1997 1497 \nL 313 1497 \nL 313 2009 \nz\n\" transform=\"scale(0.015625)\"/>\n      <path id=\"DejaVuSans-62\" d=\"M 3116 1747 \nQ 3116 2381 2855 2742 \nQ 2594 3103 2138 3103 \nQ 1681 3103 1420 2742 \nQ 1159 2381 1159 1747 \nQ 1159 1113 1420 752 \nQ 1681 391 2138 391 \nQ 2594 391 2855 752 \nQ 3116 1113 3116 1747 \nz\nM 1159 2969 \nQ 1341 3281 1617 3432 \nQ 1894 3584 2278 3584 \nQ 2916 3584 3314 3078 \nQ 3713 2572 3713 1747 \nQ 3713 922 3314 415 \nQ 2916 -91 2278 -91 \nQ 1894 -91 1617 61 \nQ 1341 213 1159 525 \nL 1159 0 \nL 581 0 \nL 581 4863 \nL 1159 4863 \nL 1159 2969 \nz\n\" transform=\"scale(0.015625)\"/>\n      <path id=\"DejaVuSans-6c\" d=\"M 603 4863 \nL 1178 4863 \nL 1178 0 \nL 603 0 \nL 603 4863 \nz\n\" transform=\"scale(0.015625)\"/>\n      <path id=\"DejaVuSans-43\" d=\"M 4122 4306 \nL 4122 3641 \nQ 3803 3938 3442 4084 \nQ 3081 4231 2675 4231 \nQ 1875 4231 1450 3742 \nQ 1025 3253 1025 2328 \nQ 1025 1406 1450 917 \nQ 1875 428 2675 428 \nQ 3081 428 3442 575 \nQ 3803 722 4122 1019 \nL 4122 359 \nQ 3791 134 3420 21 \nQ 3050 -91 2638 -91 \nQ 1578 -91 968 557 \nQ 359 1206 359 2328 \nQ 359 3453 968 4101 \nQ 1578 4750 2638 4750 \nQ 3056 4750 3426 4639 \nQ 3797 4528 4122 4306 \nz\n\" transform=\"scale(0.015625)\"/>\n      <path id=\"DejaVuSans-4e\" d=\"M 628 4666 \nL 1478 4666 \nL 3547 763 \nL 3547 4666 \nL 4159 4666 \nL 4159 0 \nL 3309 0 \nL 1241 3903 \nL 1241 0 \nL 628 0 \nL 628 4666 \nz\n\" transform=\"scale(0.015625)\"/>\n     </defs>\n     <use xlink:href=\"#DejaVuSans-53\"/>\n     <use xlink:href=\"#DejaVuSans-4f\" x=\"63.476562\"/>\n     <use xlink:href=\"#DejaVuSans-28\" x=\"142.1875\"/>\n     <use xlink:href=\"#DejaVuSans-32\" x=\"181.201172\"/>\n     <use xlink:href=\"#DejaVuSans-29\" x=\"244.824219\"/>\n     <use xlink:href=\"#DejaVuSans-2d\" x=\"283.837891\"/>\n     <use xlink:href=\"#DejaVuSans-53\" x=\"319.921875\"/>\n     <use xlink:href=\"#DejaVuSans-74\" x=\"383.398438\"/>\n     <use xlink:href=\"#DejaVuSans-65\" x=\"422.607422\"/>\n     <use xlink:href=\"#DejaVuSans-65\" x=\"484.130859\"/>\n     <use xlink:href=\"#DejaVuSans-72\" x=\"545.654297\"/>\n     <use xlink:href=\"#DejaVuSans-61\" x=\"586.767578\"/>\n     <use xlink:href=\"#DejaVuSans-62\" x=\"648.046875\"/>\n     <use xlink:href=\"#DejaVuSans-6c\" x=\"711.523438\"/>\n     <use xlink:href=\"#DejaVuSans-65\" x=\"739.306641\"/>\n     <use xlink:href=\"#DejaVuSans-20\" x=\"800.830078\"/>\n     <use xlink:href=\"#DejaVuSans-43\" x=\"832.617188\"/>\n     <use xlink:href=\"#DejaVuSans-4e\" x=\"902.441406\"/>\n     <use xlink:href=\"#DejaVuSans-4e\" x=\"977.246094\"/>\n    </g>\n   </g>\n  </g>\n </g>\n <defs>\n  <clipPath id=\"p233eeedeed\">\n   <rect x=\"80.498438\" y=\"28.396875\" width=\"558\" height=\"332.64\"/>\n  </clipPath>\n </defs>\n</svg>\n",
            "application/pdf": "[encoded data removed]"
          },
          "metadata": {}
        }
      ],
      "source": [
        "# plot the accuracy of as a function of the rotation angle theta applied to the test set\n",
        "fig, ax = plt.subplots(figsize=(10, 6))\n",
        "\n",
        "N = 16\n",
        "\n",
        "xs = [i*2*np.pi / N for i in range(N+1)]\n",
        "plt.plot(xs, accs_so2 + [accs_so2[0]])\n",
        "plt.title('SO(2)-Steerable CNN', fontsize=20)\n",
        "plt.xlabel(r'Test rotation $\\theta \\in [0, 2\\pi)$', fontsize=20)\n",
        "plt.ylabel('Accuracy', fontsize=20)\n",
        "ax.tick_params(axis='both', which='major', labelsize=15)\n",
        "plt.show()"
      ]
    },
    {
      "cell_type": "markdown",
      "metadata": {
        "id": "TgUlRL285n-P"
      },
      "source": [
        "Even after training, the model is not perfectly $SO(2)$ equivariant, but we observe the accuracy is rather stable to rotations."
      ]
    },
    {
      "cell_type": "markdown",
      "metadata": {
        "id": "3WWv780dC5_R"
      },
      "source": [
        "#### $C_4$ equivariant architecture\n",
        "\n",
        "For comparison, let's build a similar architecture equivariant only to $N=4$ rotations."
      ]
    },
    {
      "cell_type": "code",
      "execution_count": null,
      "metadata": {
        "id": "g17NYfmdDC57"
      },
      "outputs": [],
      "source": [
        "class CNSteerableCNN(torch.nn.Module):\n",
        "\n",
        "    def __init__(self, n_classes=10):\n",
        "\n",
        "        super(CNSteerableCNN, self).__init__()\n",
        "\n",
        "        # the model is equivariant to rotations by multiples of 2pi/N\n",
        "        self.r2_act = gspaces.rot2dOnR2(N=4)\n",
        "\n",
        "        # the input image is a scalar field, corresponding to the trivial representation\n",
        "        in_type = nn.FieldType(self.r2_act, [self.r2_act.trivial_repr])\n",
        "\n",
        "        # we store the input type for wrapping the images into a geometric tensor during the forward pass\n",
        "        self.input_type = in_type\n",
        "\n",
        "        # We need to mask the input image since the corners are moved outside the grid under rotations\n",
        "        self.mask = nn.MaskModule(in_type, 29, margin=1)\n",
        "\n",
        "        # convolution 1\n",
        "        # first we build the non-linear layer, which also constructs the right feature type\n",
        "        # we choose 8 feature fields, each transforming under the regular representation of C_4\n",
        "        activation1 = nn.ELU(nn.FieldType(self.r2_act, 8*[self.r2_act.regular_repr]), inplace=True)\n",
        "        out_type = activation1.in_type\n",
        "        self.block1 = nn.SequentialModule(\n",
        "            nn.R2Conv(in_type, out_type, kernel_size=7, padding=1, bias=False),\n",
        "            nn.IIDBatchNorm2d(out_type),\n",
        "            activation1,\n",
        "        )\n",
        "\n",
        "        # convolution 2\n",
        "        # the old output type is the input type to the next layer\n",
        "        in_type = self.block1.out_type\n",
        "        # the output type of the second convolution layer are 16 regular feature fields\n",
        "        activation2 = nn.ELU(nn.FieldType(self.r2_act, 16*[self.r2_act.regular_repr]), inplace=True)\n",
        "        out_type = activation2.in_type\n",
        "        self.block2 = nn.SequentialModule(\n",
        "            nn.R2Conv(in_type, out_type, kernel_size=5, padding=2, bias=False),\n",
        "            nn.IIDBatchNorm2d(out_type),\n",
        "            activation2\n",
        "        )\n",
        "        self.pool1 = nn.SequentialModule(\n",
        "            nn.PointwiseAvgPoolAntialiased(out_type, sigma=0.66, stride=2)\n",
        "        )\n",
        "\n",
        "        # convolution 3\n",
        "        # the old output type is the input type to the next layer\n",
        "        in_type = self.block2.out_type\n",
        "        # the output type of the third convolution layer are 32 regular feature fields\n",
        "        activation3 = nn.ELU(nn.FieldType(self.r2_act, 32*[self.r2_act.regular_repr]), inplace=True)\n",
        "        out_type = activation3.in_type\n",
        "        self.block3 = nn.SequentialModule(\n",
        "            nn.R2Conv(in_type, out_type, kernel_size=5, padding=2, bias=False),\n",
        "            nn.IIDBatchNorm2d(out_type),\n",
        "            activation3\n",
        "        )\n",
        "\n",
        "        # convolution 4\n",
        "        # the old output type is the input type to the next layer\n",
        "        in_type = self.block3.out_type\n",
        "        # the output type of the fourth convolution layer are 32 regular feature fields\n",
        "        activation4 = nn.ELU(nn.FieldType(self.r2_act, 32*[self.r2_act.regular_repr]), inplace=True)\n",
        "        out_type = activation4.in_type\n",
        "        self.block4 = nn.SequentialModule(\n",
        "            nn.R2Conv(in_type, out_type, kernel_size=5, padding=2, bias=False),\n",
        "            nn.IIDBatchNorm2d(out_type),\n",
        "            activation4\n",
        "        )\n",
        "        self.pool2 = nn.SequentialModule(\n",
        "            nn.PointwiseAvgPoolAntialiased(out_type, sigma=0.66, stride=2)\n",
        "        )\n",
        "\n",
        "        # convolution 5\n",
        "        # the old output type is the input type to the next layer\n",
        "        in_type = self.block4.out_type\n",
        "        # the output type of the fifth convolution layer are 64 regular feature fields\n",
        "        activation5 = nn.ELU(nn.FieldType(self.r2_act, 64*[self.r2_act.regular_repr]), inplace=True)\n",
        "        out_type = activation5.in_type\n",
        "        self.block5 = nn.SequentialModule(\n",
        "            nn.R2Conv(in_type, out_type, kernel_size=5, padding=2, bias=False),\n",
        "            nn.IIDBatchNorm2d(out_type),\n",
        "            activation5\n",
        "        )\n",
        "\n",
        "        # convolution 6\n",
        "        # the old output type is the input type to the next layer\n",
        "        in_type = self.block5.out_type\n",
        "        # the output type of the sixth convolution layer are 64 regular feature fields\n",
        "        activation6 = nn.ELU(nn.FieldType(self.r2_act, 64*[self.r2_act.regular_repr]), inplace=True)\n",
        "        out_type = activation6.in_type\n",
        "        self.block6 = nn.SequentialModule(\n",
        "            nn.R2Conv(in_type, out_type, kernel_size=5, padding=1, bias=False),\n",
        "            nn.IIDBatchNorm2d(out_type),\n",
        "            activation6\n",
        "        )\n",
        "        self.pool3 = nn.PointwiseAvgPoolAntialiased(out_type, sigma=0.66, stride=1, padding=0)\n",
        "\n",
        "        # number of output invariant channels\n",
        "        c = 64\n",
        "\n",
        "        output_invariant_type = nn.FieldType(self.r2_act, c*[self.r2_act.trivial_repr])\n",
        "        self.invariant_map = nn.R2Conv(out_type, output_invariant_type, kernel_size=1, bias=False)\n",
        "\n",
        "\n",
        "        # Fully Connected classifier\n",
        "        self.fully_net = torch.nn.Sequential(\n",
        "            torch.nn.BatchNorm1d(c),\n",
        "            torch.nn.ELU(inplace=True),\n",
        "            torch.nn.Linear(c, n_classes),\n",
        "        )\n",
        "\n",
        "    def forward(self, input: torch.Tensor):\n",
        "        # wrap the input tensor in a GeometricTensor\n",
        "        # (associate it with the input type)\n",
        "        x = self.input_type(input)\n",
        "\n",
        "        # mask out the corners of the input image\n",
        "        x = self.mask(x)\n",
        "\n",
        "        # apply each equivariant block\n",
        "\n",
        "        # Each layer has an input and an output type\n",
        "        # A layer takes a GeometricTensor in input.\n",
        "        # This tensor needs to be associated with the same representation of the layer's input type\n",
        "        #\n",
        "        # Each layer outputs a new GeometricTensor, associated with the layer's output type.\n",
        "        # As a result, consecutive layers need to have matching input/output types\n",
        "        x = self.block1(x)\n",
        "        x = self.block2(x)\n",
        "        x = self.pool1(x)\n",
        "\n",
        "        x = self.block3(x)\n",
        "        x = self.block4(x)\n",
        "        x = self.pool2(x)\n",
        "\n",
        "        x = self.block5(x)\n",
        "        x = self.block6(x)\n",
        "\n",
        "        # pool over the spatial dimensions\n",
        "        x = self.pool3(x)\n",
        "\n",
        "        # extract invariant features\n",
        "        x = self.invariant_map(x)\n",
        "\n",
        "        # unwrap the output GeometricTensor\n",
        "        # (take the Pytorch tensor and discard the associated representation)\n",
        "        x = x.tensor\n",
        "\n",
        "        # classify with the final fully connected layer\n",
        "        x = self.fully_net(x.reshape(x.shape[0], -1))\n",
        "\n",
        "        return x"
      ]
    },
    {
      "cell_type": "markdown",
      "metadata": {
        "id": "RhrbNeGm5n-Q"
      },
      "source": [
        "Instantiate and train the $C_4$ equivariant model:"
      ]
    },
    {
      "cell_type": "code",
      "execution_count": null,
      "metadata": {
        "id": "TeTOIVPI5n-Q",
        "scrolled": true,
        "colab": {
          "base_uri": "https://localhost:8080/"
        },
        "outputId": "b84732ae-1b81-438d-f52d-0874325f57a6"
      },
      "outputs": [
        {
          "output_type": "stream",
          "name": "stdout",
          "text": [
            "Test accuracy: 93.84400000000001\n"
          ]
        }
      ],
      "source": [
        "torch.manual_seed(42)\n",
        "model_c4 = CNSteerableCNN().to(device)\n",
        "train(model_c4, checkpoint_path=\"steerable_c4-pretrained.ckpt\")\n",
        "\n",
        "accuracy = test(model_c4)\n",
        "print(f\"Test accuracy: {accuracy}\")\n",
        "\n",
        "accs_c4 = test_model_rotations(model_c4, 16, 10000, checkpoint_path=\"steerable_c4-accuracies.npy\")"
      ]
    },
    {
      "cell_type": "markdown",
      "metadata": {
        "id": "pJ9hdCF25n-Q"
      },
      "source": [
        "Finally, let's compare the performance of both models on the rotated test sets:"
      ]
    },
    {
      "cell_type": "code",
      "execution_count": null,
      "metadata": {
        "id": "jFMkIdek5n-Q",
        "colab": {
          "base_uri": "https://localhost:8080/",
          "height": 572
        },
        "outputId": "47f099e3-339e-4842-811a-e7f67af146aa"
      },
      "outputs": [
        {
          "output_type": "display_data",
          "data": {
            "text/plain": [
              "<Figure size 1000x600 with 1 Axes>"
            ],
            "image/svg+xml": "<?xml version=\"1.0\" encoding=\"utf-8\" standalone=\"no\"?>\n<!DOCTYPE svg PUBLIC \"-//W3C//DTD SVG 1.1//EN\"\n  \"http://www.w3.org/Graphics/SVG/1.1/DTD/svg11.dtd\">\n<svg xmlns:xlink=\"http://www.w3.org/1999/xlink\" width=\"636.154687pt\" height=\"413.110312pt\" viewBox=\"0 0 636.154687 413.110312\" xmlns=\"http://www.w3.org/2000/svg\" version=\"1.1\">\n <metadata>\n  <rdf:RDF xmlns:dc=\"http://purl.org/dc/elements/1.1/\" xmlns:cc=\"http://creativecommons.org/ns#\" xmlns:rdf=\"http://www.w3.org/1999/02/22-rdf-syntax-ns#\">\n   <cc:Work>\n    <dc:type rdf:resource=\"http://purl.org/dc/dcmitype/StillImage\"/>\n    <dc:date>2023-11-27T20:09:28.839207</dc:date>\n    <dc:format>image/svg+xml</dc:format>\n    <dc:creator>\n     <cc:Agent>\n      <dc:title>Matplotlib v3.7.1, https://matplotlib.org/</dc:title>\n     </cc:Agent>\n    </dc:creator>\n   </cc:Work>\n  </rdf:RDF>\n </metadata>\n <defs>\n  <style type=\"text/css\">*{stroke-linejoin: round; stroke-linecap: butt}</style>\n </defs>\n <g id=\"figure_1\">\n  <g id=\"patch_1\">\n   <path d=\"M 0 413.110312 \nL 636.154687 413.110312 \nL 636.154687 0 \nL 0 0 \nz\n\" style=\"fill: #ffffff\"/>\n  </g>\n  <g id=\"axes_1\">\n   <g id=\"patch_2\">\n    <path d=\"M 70.954688 361.036875 \nL 628.954687 361.036875 \nL 628.954687 28.396875 \nL 70.954688 28.396875 \nz\n\" style=\"fill: #ffffff\"/>\n   </g>\n   <g id=\"matplotlib.axis_1\">\n    <g id=\"xtick_1\">\n     <g id=\"line2d_1\">\n      <defs>\n       <path id=\"mc257513d3d\" d=\"M 0 0 \nL 0 3.5 \n\" style=\"stroke: #000000; stroke-width: 0.8\"/>\n      </defs>\n      <g>\n       <use xlink:href=\"#mc257513d3d\" x=\"96.318324\" y=\"361.036875\" style=\"stroke: #000000; stroke-width: 0.8\"/>\n      </g>\n     </g>\n     <g id=\"text_1\">\n      <!-- 0 -->\n      <g transform=\"translate(91.546449 379.434531) scale(0.15 -0.15)\">\n       <defs>\n        <path id=\"DejaVuSans-30\" d=\"M 2034 4250 \nQ 1547 4250 1301 3770 \nQ 1056 3291 1056 2328 \nQ 1056 1369 1301 889 \nQ 1547 409 2034 409 \nQ 2525 409 2770 889 \nQ 3016 1369 3016 2328 \nQ 3016 3291 2770 3770 \nQ 2525 4250 2034 4250 \nz\nM 2034 4750 \nQ 2819 4750 3233 4129 \nQ 3647 3509 3647 2328 \nQ 3647 1150 3233 529 \nQ 2819 -91 2034 -91 \nQ 1250 -91 836 529 \nQ 422 1150 422 2328 \nQ 422 3509 836 4129 \nQ 1250 4750 2034 4750 \nz\n\" transform=\"scale(0.015625)\"/>\n       </defs>\n       <use xlink:href=\"#DejaVuSans-30\"/>\n      </g>\n     </g>\n    </g>\n    <g id=\"xtick_2\">\n     <g id=\"line2d_2\">\n      <g>\n       <use xlink:href=\"#mc257513d3d\" x=\"177.053286\" y=\"361.036875\" style=\"stroke: #000000; stroke-width: 0.8\"/>\n      </g>\n     </g>\n     <g id=\"text_2\">\n      <!-- 1 -->\n      <g transform=\"translate(172.281411 379.434531) scale(0.15 -0.15)\">\n       <defs>\n        <path id=\"DejaVuSans-31\" d=\"M 794 531 \nL 1825 531 \nL 1825 4091 \nL 703 3866 \nL 703 4441 \nL 1819 4666 \nL 2450 4666 \nL 2450 531 \nL 3481 531 \nL 3481 0 \nL 794 0 \nL 794 531 \nz\n\" transform=\"scale(0.015625)\"/>\n       </defs>\n       <use xlink:href=\"#DejaVuSans-31\"/>\n      </g>\n     </g>\n    </g>\n    <g id=\"xtick_3\">\n     <g id=\"line2d_3\">\n      <g>\n       <use xlink:href=\"#mc257513d3d\" x=\"257.788248\" y=\"361.036875\" style=\"stroke: #000000; stroke-width: 0.8\"/>\n      </g>\n     </g>\n     <g id=\"text_3\">\n      <!-- 2 -->\n      <g transform=\"translate(253.016373 379.434531) scale(0.15 -0.15)\">\n       <defs>\n        <path id=\"DejaVuSans-32\" d=\"M 1228 531 \nL 3431 531 \nL 3431 0 \nL 469 0 \nL 469 531 \nQ 828 903 1448 1529 \nQ 2069 2156 2228 2338 \nQ 2531 2678 2651 2914 \nQ 2772 3150 2772 3378 \nQ 2772 3750 2511 3984 \nQ 2250 4219 1831 4219 \nQ 1534 4219 1204 4116 \nQ 875 4013 500 3803 \nL 500 4441 \nQ 881 4594 1212 4672 \nQ 1544 4750 1819 4750 \nQ 2544 4750 2975 4387 \nQ 3406 4025 3406 3419 \nQ 3406 3131 3298 2873 \nQ 3191 2616 2906 2266 \nQ 2828 2175 2409 1742 \nQ 1991 1309 1228 531 \nz\n\" transform=\"scale(0.015625)\"/>\n       </defs>\n       <use xlink:href=\"#DejaVuSans-32\"/>\n      </g>\n     </g>\n    </g>\n    <g id=\"xtick_4\">\n     <g id=\"line2d_4\">\n      <g>\n       <use xlink:href=\"#mc257513d3d\" x=\"338.52321\" y=\"361.036875\" style=\"stroke: #000000; stroke-width: 0.8\"/>\n      </g>\n     </g>\n     <g id=\"text_4\">\n      <!-- 3 -->\n      <g transform=\"translate(333.751335 379.434531) scale(0.15 -0.15)\">\n       <defs>\n        <path id=\"DejaVuSans-33\" d=\"M 2597 2516 \nQ 3050 2419 3304 2112 \nQ 3559 1806 3559 1356 \nQ 3559 666 3084 287 \nQ 2609 -91 1734 -91 \nQ 1441 -91 1130 -33 \nQ 819 25 488 141 \nL 488 750 \nQ 750 597 1062 519 \nQ 1375 441 1716 441 \nQ 2309 441 2620 675 \nQ 2931 909 2931 1356 \nQ 2931 1769 2642 2001 \nQ 2353 2234 1838 2234 \nL 1294 2234 \nL 1294 2753 \nL 1863 2753 \nQ 2328 2753 2575 2939 \nQ 2822 3125 2822 3475 \nQ 2822 3834 2567 4026 \nQ 2313 4219 1838 4219 \nQ 1578 4219 1281 4162 \nQ 984 4106 628 3988 \nL 628 4550 \nQ 988 4650 1302 4700 \nQ 1616 4750 1894 4750 \nQ 2613 4750 3031 4423 \nQ 3450 4097 3450 3541 \nQ 3450 3153 3228 2886 \nQ 3006 2619 2597 2516 \nz\n\" transform=\"scale(0.015625)\"/>\n       </defs>\n       <use xlink:href=\"#DejaVuSans-33\"/>\n      </g>\n     </g>\n    </g>\n    <g id=\"xtick_5\">\n     <g id=\"line2d_5\">\n      <g>\n       <use xlink:href=\"#mc257513d3d\" x=\"419.258172\" y=\"361.036875\" style=\"stroke: #000000; stroke-width: 0.8\"/>\n      </g>\n     </g>\n     <g id=\"text_5\">\n      <!-- 4 -->\n      <g transform=\"translate(414.486297 379.434531) scale(0.15 -0.15)\">\n       <defs>\n        <path id=\"DejaVuSans-34\" d=\"M 2419 4116 \nL 825 1625 \nL 2419 1625 \nL 2419 4116 \nz\nM 2253 4666 \nL 3047 4666 \nL 3047 1625 \nL 3713 1625 \nL 3713 1100 \nL 3047 1100 \nL 3047 0 \nL 2419 0 \nL 2419 1100 \nL 313 1100 \nL 313 1709 \nL 2253 4666 \nz\n\" transform=\"scale(0.015625)\"/>\n       </defs>\n       <use xlink:href=\"#DejaVuSans-34\"/>\n      </g>\n     </g>\n    </g>\n    <g id=\"xtick_6\">\n     <g id=\"line2d_6\">\n      <g>\n       <use xlink:href=\"#mc257513d3d\" x=\"499.993134\" y=\"361.036875\" style=\"stroke: #000000; stroke-width: 0.8\"/>\n      </g>\n     </g>\n     <g id=\"text_6\">\n      <!-- 5 -->\n      <g transform=\"translate(495.221259 379.434531) scale(0.15 -0.15)\">\n       <defs>\n        <path id=\"DejaVuSans-35\" d=\"M 691 4666 \nL 3169 4666 \nL 3169 4134 \nL 1269 4134 \nL 1269 2991 \nQ 1406 3038 1543 3061 \nQ 1681 3084 1819 3084 \nQ 2600 3084 3056 2656 \nQ 3513 2228 3513 1497 \nQ 3513 744 3044 326 \nQ 2575 -91 1722 -91 \nQ 1428 -91 1123 -41 \nQ 819 9 494 109 \nL 494 744 \nQ 775 591 1075 516 \nQ 1375 441 1709 441 \nQ 2250 441 2565 725 \nQ 2881 1009 2881 1497 \nQ 2881 1984 2565 2268 \nQ 2250 2553 1709 2553 \nQ 1456 2553 1204 2497 \nQ 953 2441 691 2322 \nL 691 4666 \nz\n\" transform=\"scale(0.015625)\"/>\n       </defs>\n       <use xlink:href=\"#DejaVuSans-35\"/>\n      </g>\n     </g>\n    </g>\n    <g id=\"xtick_7\">\n     <g id=\"line2d_7\">\n      <g>\n       <use xlink:href=\"#mc257513d3d\" x=\"580.728096\" y=\"361.036875\" style=\"stroke: #000000; stroke-width: 0.8\"/>\n      </g>\n     </g>\n     <g id=\"text_7\">\n      <!-- 6 -->\n      <g transform=\"translate(575.956221 379.434531) scale(0.15 -0.15)\">\n       <defs>\n        <path id=\"DejaVuSans-36\" d=\"M 2113 2584 \nQ 1688 2584 1439 2293 \nQ 1191 2003 1191 1497 \nQ 1191 994 1439 701 \nQ 1688 409 2113 409 \nQ 2538 409 2786 701 \nQ 3034 994 3034 1497 \nQ 3034 2003 2786 2293 \nQ 2538 2584 2113 2584 \nz\nM 3366 4563 \nL 3366 3988 \nQ 3128 4100 2886 4159 \nQ 2644 4219 2406 4219 \nQ 1781 4219 1451 3797 \nQ 1122 3375 1075 2522 \nQ 1259 2794 1537 2939 \nQ 1816 3084 2150 3084 \nQ 2853 3084 3261 2657 \nQ 3669 2231 3669 1497 \nQ 3669 778 3244 343 \nQ 2819 -91 2113 -91 \nQ 1303 -91 875 529 \nQ 447 1150 447 2328 \nQ 447 3434 972 4092 \nQ 1497 4750 2381 4750 \nQ 2619 4750 2861 4703 \nQ 3103 4656 3366 4563 \nz\n\" transform=\"scale(0.015625)\"/>\n       </defs>\n       <use xlink:href=\"#DejaVuSans-36\"/>\n      </g>\n     </g>\n    </g>\n    <g id=\"text_8\">\n     <!-- Test rotation ($\\theta \\in [0, 2\\pi)$) -->\n     <g transform=\"translate(224.554687 401.750937) scale(0.2 -0.2)\">\n      <defs>\n       <path id=\"DejaVuSans-54\" d=\"M -19 4666 \nL 3928 4666 \nL 3928 4134 \nL 2272 4134 \nL 2272 0 \nL 1638 0 \nL 1638 4134 \nL -19 4134 \nL -19 4666 \nz\n\" transform=\"scale(0.015625)\"/>\n       <path id=\"DejaVuSans-65\" d=\"M 3597 1894 \nL 3597 1613 \nL 953 1613 \nQ 991 1019 1311 708 \nQ 1631 397 2203 397 \nQ 2534 397 2845 478 \nQ 3156 559 3463 722 \nL 3463 178 \nQ 3153 47 2828 -22 \nQ 2503 -91 2169 -91 \nQ 1331 -91 842 396 \nQ 353 884 353 1716 \nQ 353 2575 817 3079 \nQ 1281 3584 2069 3584 \nQ 2775 3584 3186 3129 \nQ 3597 2675 3597 1894 \nz\nM 3022 2063 \nQ 3016 2534 2758 2815 \nQ 2500 3097 2075 3097 \nQ 1594 3097 1305 2825 \nQ 1016 2553 972 2059 \nL 3022 2063 \nz\n\" transform=\"scale(0.015625)\"/>\n       <path id=\"DejaVuSans-73\" d=\"M 2834 3397 \nL 2834 2853 \nQ 2591 2978 2328 3040 \nQ 2066 3103 1784 3103 \nQ 1356 3103 1142 2972 \nQ 928 2841 928 2578 \nQ 928 2378 1081 2264 \nQ 1234 2150 1697 2047 \nL 1894 2003 \nQ 2506 1872 2764 1633 \nQ 3022 1394 3022 966 \nQ 3022 478 2636 193 \nQ 2250 -91 1575 -91 \nQ 1294 -91 989 -36 \nQ 684 19 347 128 \nL 347 722 \nQ 666 556 975 473 \nQ 1284 391 1588 391 \nQ 1994 391 2212 530 \nQ 2431 669 2431 922 \nQ 2431 1156 2273 1281 \nQ 2116 1406 1581 1522 \nL 1381 1569 \nQ 847 1681 609 1914 \nQ 372 2147 372 2553 \nQ 372 3047 722 3315 \nQ 1072 3584 1716 3584 \nQ 2034 3584 2315 3537 \nQ 2597 3491 2834 3397 \nz\n\" transform=\"scale(0.015625)\"/>\n       <path id=\"DejaVuSans-74\" d=\"M 1172 4494 \nL 1172 3500 \nL 2356 3500 \nL 2356 3053 \nL 1172 3053 \nL 1172 1153 \nQ 1172 725 1289 603 \nQ 1406 481 1766 481 \nL 2356 481 \nL 2356 0 \nL 1766 0 \nQ 1100 0 847 248 \nQ 594 497 594 1153 \nL 594 3053 \nL 172 3053 \nL 172 3500 \nL 594 3500 \nL 594 4494 \nL 1172 4494 \nz\n\" transform=\"scale(0.015625)\"/>\n       <path id=\"DejaVuSans-20\" transform=\"scale(0.015625)\"/>\n       <path id=\"DejaVuSans-72\" d=\"M 2631 2963 \nQ 2534 3019 2420 3045 \nQ 2306 3072 2169 3072 \nQ 1681 3072 1420 2755 \nQ 1159 2438 1159 1844 \nL 1159 0 \nL 581 0 \nL 581 3500 \nL 1159 3500 \nL 1159 2956 \nQ 1341 3275 1631 3429 \nQ 1922 3584 2338 3584 \nQ 2397 3584 2469 3576 \nQ 2541 3569 2628 3553 \nL 2631 2963 \nz\n\" transform=\"scale(0.015625)\"/>\n       <path id=\"DejaVuSans-6f\" d=\"M 1959 3097 \nQ 1497 3097 1228 2736 \nQ 959 2375 959 1747 \nQ 959 1119 1226 758 \nQ 1494 397 1959 397 \nQ 2419 397 2687 759 \nQ 2956 1122 2956 1747 \nQ 2956 2369 2687 2733 \nQ 2419 3097 1959 3097 \nz\nM 1959 3584 \nQ 2709 3584 3137 3096 \nQ 3566 2609 3566 1747 \nQ 3566 888 3137 398 \nQ 2709 -91 1959 -91 \nQ 1206 -91 779 398 \nQ 353 888 353 1747 \nQ 353 2609 779 3096 \nQ 1206 3584 1959 3584 \nz\n\" transform=\"scale(0.015625)\"/>\n       <path id=\"DejaVuSans-61\" d=\"M 2194 1759 \nQ 1497 1759 1228 1600 \nQ 959 1441 959 1056 \nQ 959 750 1161 570 \nQ 1363 391 1709 391 \nQ 2188 391 2477 730 \nQ 2766 1069 2766 1631 \nL 2766 1759 \nL 2194 1759 \nz\nM 3341 1997 \nL 3341 0 \nL 2766 0 \nL 2766 531 \nQ 2569 213 2275 61 \nQ 1981 -91 1556 -91 \nQ 1019 -91 701 211 \nQ 384 513 384 1019 \nQ 384 1609 779 1909 \nQ 1175 2209 1959 2209 \nL 2766 2209 \nL 2766 2266 \nQ 2766 2663 2505 2880 \nQ 2244 3097 1772 3097 \nQ 1472 3097 1187 3025 \nQ 903 2953 641 2809 \nL 641 3341 \nQ 956 3463 1253 3523 \nQ 1550 3584 1831 3584 \nQ 2591 3584 2966 3190 \nQ 3341 2797 3341 1997 \nz\n\" transform=\"scale(0.015625)\"/>\n       <path id=\"DejaVuSans-69\" d=\"M 603 3500 \nL 1178 3500 \nL 1178 0 \nL 603 0 \nL 603 3500 \nz\nM 603 4863 \nL 1178 4863 \nL 1178 4134 \nL 603 4134 \nL 603 4863 \nz\n\" transform=\"scale(0.015625)\"/>\n       <path id=\"DejaVuSans-6e\" d=\"M 3513 2113 \nL 3513 0 \nL 2938 0 \nL 2938 2094 \nQ 2938 2591 2744 2837 \nQ 2550 3084 2163 3084 \nQ 1697 3084 1428 2787 \nQ 1159 2491 1159 1978 \nL 1159 0 \nL 581 0 \nL 581 3500 \nL 1159 3500 \nL 1159 2956 \nQ 1366 3272 1645 3428 \nQ 1925 3584 2291 3584 \nQ 2894 3584 3203 3211 \nQ 3513 2838 3513 2113 \nz\n\" transform=\"scale(0.015625)\"/>\n       <path id=\"DejaVuSans-28\" d=\"M 1984 4856 \nQ 1566 4138 1362 3434 \nQ 1159 2731 1159 2009 \nQ 1159 1288 1364 580 \nQ 1569 -128 1984 -844 \nL 1484 -844 \nQ 1016 -109 783 600 \nQ 550 1309 550 2009 \nQ 550 2706 781 3412 \nQ 1013 4119 1484 4856 \nL 1984 4856 \nz\n\" transform=\"scale(0.015625)\"/>\n       <path id=\"DejaVuSans-Oblique-3b8\" d=\"M 2913 2219 \nL 925 2219 \nQ 791 1284 928 888 \nQ 1100 400 1566 400 \nQ 2034 400 2391 891 \nQ 2703 1322 2913 2219 \nz\nM 3009 2750 \nQ 3094 3638 2984 3950 \nQ 2813 4444 2353 4444 \nQ 1875 4444 1525 3956 \nQ 1250 3563 1034 2750 \nL 3009 2750 \nz\nM 2444 4913 \nQ 3194 4913 3494 4250 \nQ 3794 3591 3566 2422 \nQ 3341 1256 2781 594 \nQ 2225 -72 1475 -72 \nQ 722 -72 425 594 \nQ 128 1256 353 2422 \nQ 581 3591 1134 4250 \nQ 1691 4913 2444 4913 \nz\n\" transform=\"scale(0.015625)\"/>\n       <path id=\"DejaVuSans-2208\" d=\"M 1072 1959 \nQ 1094 1728 1291 1353 \nQ 1522 919 1959 675 \nQ 2388 438 2850 434 \nL 5028 434 \nL 5028 -63 \nL 2850 -63 \nQ 2250 -63 1695 246 \nQ 1141 556 844 1106 \nQ 547 1656 547 2241 \nQ 547 2819 844 3369 \nQ 1141 3919 1695 4231 \nQ 2250 4544 2850 4544 \nL 5028 4544 \nL 5028 4047 \nL 2850 4047 \nQ 2388 4044 1959 3803 \nQ 1525 3556 1291 3125 \nQ 1091 2750 1063 2459 \nL 5028 2459 \nL 5028 1959 \nL 1072 1959 \nz\n\" transform=\"scale(0.015625)\"/>\n       <path id=\"DejaVuSans-5b\" d=\"M 550 4863 \nL 1875 4863 \nL 1875 4416 \nL 1125 4416 \nL 1125 -397 \nL 1875 -397 \nL 1875 -844 \nL 550 -844 \nL 550 4863 \nz\n\" transform=\"scale(0.015625)\"/>\n       <path id=\"DejaVuSans-2c\" d=\"M 750 794 \nL 1409 794 \nL 1409 256 \nL 897 -744 \nL 494 -744 \nL 750 256 \nL 750 794 \nz\n\" transform=\"scale(0.015625)\"/>\n       <path id=\"DejaVuSans-Oblique-3c0\" d=\"M 584 3500 \nL 3938 3500 \nL 3825 2925 \nL 3384 2925 \nL 2966 775 \nQ 2922 550 2981 450 \nQ 3038 353 3209 353 \nQ 3256 353 3325 363 \nQ 3397 369 3419 372 \nL 3338 -44 \nQ 3222 -84 3103 -103 \nQ 2981 -122 2866 -122 \nQ 2491 -122 2388 81 \nQ 2284 288 2391 838 \nL 2797 2925 \nL 1506 2925 \nL 938 0 \nL 350 0 \nL 919 2925 \nL 472 2925 \nL 584 3500 \nz\n\" transform=\"scale(0.015625)\"/>\n       <path id=\"DejaVuSans-29\" d=\"M 513 4856 \nL 1013 4856 \nQ 1481 4119 1714 3412 \nQ 1947 2706 1947 2009 \nQ 1947 1309 1714 600 \nQ 1481 -109 1013 -844 \nL 513 -844 \nQ 928 -128 1133 580 \nQ 1338 1288 1338 2009 \nQ 1338 2731 1133 3434 \nQ 928 4138 513 4856 \nz\n\" transform=\"scale(0.015625)\"/>\n      </defs>\n      <use xlink:href=\"#DejaVuSans-54\" transform=\"translate(0 0.234375)\"/>\n      <use xlink:href=\"#DejaVuSans-65\" transform=\"translate(61.083984 0.234375)\"/>\n      <use xlink:href=\"#DejaVuSans-73\" transform=\"translate(122.607422 0.234375)\"/>\n      <use xlink:href=\"#DejaVuSans-74\" transform=\"translate(174.707031 0.234375)\"/>\n      <use xlink:href=\"#DejaVuSans-20\" transform=\"translate(213.916016 0.234375)\"/>\n      <use xlink:href=\"#DejaVuSans-72\" transform=\"translate(245.703125 0.234375)\"/>\n      <use xlink:href=\"#DejaVuSans-6f\" transform=\"translate(286.816406 0.234375)\"/>\n      <use xlink:href=\"#DejaVuSans-74\" transform=\"translate(347.998047 0.234375)\"/>\n      <use xlink:href=\"#DejaVuSans-61\" transform=\"translate(387.207031 0.234375)\"/>\n      <use xlink:href=\"#DejaVuSans-74\" transform=\"translate(448.486328 0.234375)\"/>\n      <use xlink:href=\"#DejaVuSans-69\" transform=\"translate(487.695312 0.234375)\"/>\n      <use xlink:href=\"#DejaVuSans-6f\" transform=\"translate(515.478516 0.234375)\"/>\n      <use xlink:href=\"#DejaVuSans-6e\" transform=\"translate(576.660156 0.234375)\"/>\n      <use xlink:href=\"#DejaVuSans-20\" transform=\"translate(640.039062 0.234375)\"/>\n      <use xlink:href=\"#DejaVuSans-28\" transform=\"translate(671.826172 0.234375)\"/>\n      <use xlink:href=\"#DejaVuSans-Oblique-3b8\" transform=\"translate(710.839844 0.234375)\"/>\n      <use xlink:href=\"#DejaVuSans-2208\" transform=\"translate(791.503906 0.234375)\"/>\n      <use xlink:href=\"#DejaVuSans-5b\" transform=\"translate(898.095703 0.234375)\"/>\n      <use xlink:href=\"#DejaVuSans-30\" transform=\"translate(937.109375 0.234375)\"/>\n      <use xlink:href=\"#DejaVuSans-2c\" transform=\"translate(1000.732422 0.234375)\"/>\n      <use xlink:href=\"#DejaVuSans-32\" transform=\"translate(1052.001953 0.234375)\"/>\n      <use xlink:href=\"#DejaVuSans-Oblique-3c0\" transform=\"translate(1115.625 0.234375)\"/>\n      <use xlink:href=\"#DejaVuSans-29\" transform=\"translate(1175.830078 0.234375)\"/>\n      <use xlink:href=\"#DejaVuSans-29\" transform=\"translate(1214.84375 0.234375)\"/>\n     </g>\n    </g>\n   </g>\n   <g id=\"matplotlib.axis_2\">\n    <g id=\"ytick_1\">\n     <g id=\"line2d_8\">\n      <defs>\n       <path id=\"mcdaa8a8103\" d=\"M 0 0 \nL -3.5 0 \n\" style=\"stroke: #000000; stroke-width: 0.8\"/>\n      </defs>\n      <g>\n       <use xlink:href=\"#mcdaa8a8103\" x=\"70.954688\" y=\"325.256005\" style=\"stroke: #000000; stroke-width: 0.8\"/>\n      </g>\n     </g>\n     <g id=\"text_9\">\n      <!-- 94.0 -->\n      <g transform=\"translate(30.55625 330.954834) scale(0.15 -0.15)\">\n       <defs>\n        <path id=\"DejaVuSans-39\" d=\"M 703 97 \nL 703 672 \nQ 941 559 1184 500 \nQ 1428 441 1663 441 \nQ 2288 441 2617 861 \nQ 2947 1281 2994 2138 \nQ 2813 1869 2534 1725 \nQ 2256 1581 1919 1581 \nQ 1219 1581 811 2004 \nQ 403 2428 403 3163 \nQ 403 3881 828 4315 \nQ 1253 4750 1959 4750 \nQ 2769 4750 3195 4129 \nQ 3622 3509 3622 2328 \nQ 3622 1225 3098 567 \nQ 2575 -91 1691 -91 \nQ 1453 -91 1209 -44 \nQ 966 3 703 97 \nz\nM 1959 2075 \nQ 2384 2075 2632 2365 \nQ 2881 2656 2881 3163 \nQ 2881 3666 2632 3958 \nQ 2384 4250 1959 4250 \nQ 1534 4250 1286 3958 \nQ 1038 3666 1038 3163 \nQ 1038 2656 1286 2365 \nQ 1534 2075 1959 2075 \nz\n\" transform=\"scale(0.015625)\"/>\n        <path id=\"DejaVuSans-2e\" d=\"M 684 794 \nL 1344 794 \nL 1344 0 \nL 684 0 \nL 684 794 \nz\n\" transform=\"scale(0.015625)\"/>\n       </defs>\n       <use xlink:href=\"#DejaVuSans-39\"/>\n       <use xlink:href=\"#DejaVuSans-34\" x=\"63.623047\"/>\n       <use xlink:href=\"#DejaVuSans-2e\" x=\"127.246094\"/>\n       <use xlink:href=\"#DejaVuSans-30\" x=\"159.033203\"/>\n      </g>\n     </g>\n    </g>\n    <g id=\"ytick_2\">\n     <g id=\"line2d_9\">\n      <g>\n       <use xlink:href=\"#mcdaa8a8103\" x=\"70.954688\" y=\"287.690788\" style=\"stroke: #000000; stroke-width: 0.8\"/>\n      </g>\n     </g>\n     <g id=\"text_10\">\n      <!-- 94.2 -->\n      <g transform=\"translate(30.55625 293.389616) scale(0.15 -0.15)\">\n       <use xlink:href=\"#DejaVuSans-39\"/>\n       <use xlink:href=\"#DejaVuSans-34\" x=\"63.623047\"/>\n       <use xlink:href=\"#DejaVuSans-2e\" x=\"127.246094\"/>\n       <use xlink:href=\"#DejaVuSans-32\" x=\"159.033203\"/>\n      </g>\n     </g>\n    </g>\n    <g id=\"ytick_3\">\n     <g id=\"line2d_10\">\n      <g>\n       <use xlink:href=\"#mcdaa8a8103\" x=\"70.954688\" y=\"250.125571\" style=\"stroke: #000000; stroke-width: 0.8\"/>\n      </g>\n     </g>\n     <g id=\"text_11\">\n      <!-- 94.4 -->\n      <g transform=\"translate(30.55625 255.824399) scale(0.15 -0.15)\">\n       <use xlink:href=\"#DejaVuSans-39\"/>\n       <use xlink:href=\"#DejaVuSans-34\" x=\"63.623047\"/>\n       <use xlink:href=\"#DejaVuSans-2e\" x=\"127.246094\"/>\n       <use xlink:href=\"#DejaVuSans-34\" x=\"159.033203\"/>\n      </g>\n     </g>\n    </g>\n    <g id=\"ytick_4\">\n     <g id=\"line2d_11\">\n      <g>\n       <use xlink:href=\"#mcdaa8a8103\" x=\"70.954688\" y=\"212.560353\" style=\"stroke: #000000; stroke-width: 0.8\"/>\n      </g>\n     </g>\n     <g id=\"text_12\">\n      <!-- 94.6 -->\n      <g transform=\"translate(30.55625 218.259181) scale(0.15 -0.15)\">\n       <use xlink:href=\"#DejaVuSans-39\"/>\n       <use xlink:href=\"#DejaVuSans-34\" x=\"63.623047\"/>\n       <use xlink:href=\"#DejaVuSans-2e\" x=\"127.246094\"/>\n       <use xlink:href=\"#DejaVuSans-36\" x=\"159.033203\"/>\n      </g>\n     </g>\n    </g>\n    <g id=\"ytick_5\">\n     <g id=\"line2d_12\">\n      <g>\n       <use xlink:href=\"#mcdaa8a8103\" x=\"70.954688\" y=\"174.995136\" style=\"stroke: #000000; stroke-width: 0.8\"/>\n      </g>\n     </g>\n     <g id=\"text_13\">\n      <!-- 94.8 -->\n      <g transform=\"translate(30.55625 180.693964) scale(0.15 -0.15)\">\n       <defs>\n        <path id=\"DejaVuSans-38\" d=\"M 2034 2216 \nQ 1584 2216 1326 1975 \nQ 1069 1734 1069 1313 \nQ 1069 891 1326 650 \nQ 1584 409 2034 409 \nQ 2484 409 2743 651 \nQ 3003 894 3003 1313 \nQ 3003 1734 2745 1975 \nQ 2488 2216 2034 2216 \nz\nM 1403 2484 \nQ 997 2584 770 2862 \nQ 544 3141 544 3541 \nQ 544 4100 942 4425 \nQ 1341 4750 2034 4750 \nQ 2731 4750 3128 4425 \nQ 3525 4100 3525 3541 \nQ 3525 3141 3298 2862 \nQ 3072 2584 2669 2484 \nQ 3125 2378 3379 2068 \nQ 3634 1759 3634 1313 \nQ 3634 634 3220 271 \nQ 2806 -91 2034 -91 \nQ 1263 -91 848 271 \nQ 434 634 434 1313 \nQ 434 1759 690 2068 \nQ 947 2378 1403 2484 \nz\nM 1172 3481 \nQ 1172 3119 1398 2916 \nQ 1625 2713 2034 2713 \nQ 2441 2713 2670 2916 \nQ 2900 3119 2900 3481 \nQ 2900 3844 2670 4047 \nQ 2441 4250 2034 4250 \nQ 1625 4250 1398 4047 \nQ 1172 3844 1172 3481 \nz\n\" transform=\"scale(0.015625)\"/>\n       </defs>\n       <use xlink:href=\"#DejaVuSans-39\"/>\n       <use xlink:href=\"#DejaVuSans-34\" x=\"63.623047\"/>\n       <use xlink:href=\"#DejaVuSans-2e\" x=\"127.246094\"/>\n       <use xlink:href=\"#DejaVuSans-38\" x=\"159.033203\"/>\n      </g>\n     </g>\n    </g>\n    <g id=\"ytick_6\">\n     <g id=\"line2d_13\">\n      <g>\n       <use xlink:href=\"#mcdaa8a8103\" x=\"70.954688\" y=\"137.429918\" style=\"stroke: #000000; stroke-width: 0.8\"/>\n      </g>\n     </g>\n     <g id=\"text_14\">\n      <!-- 95.0 -->\n      <g transform=\"translate(30.55625 143.128747) scale(0.15 -0.15)\">\n       <use xlink:href=\"#DejaVuSans-39\"/>\n       <use xlink:href=\"#DejaVuSans-35\" x=\"63.623047\"/>\n       <use xlink:href=\"#DejaVuSans-2e\" x=\"127.246094\"/>\n       <use xlink:href=\"#DejaVuSans-30\" x=\"159.033203\"/>\n      </g>\n     </g>\n    </g>\n    <g id=\"ytick_7\">\n     <g id=\"line2d_14\">\n      <g>\n       <use xlink:href=\"#mcdaa8a8103\" x=\"70.954688\" y=\"99.864701\" style=\"stroke: #000000; stroke-width: 0.8\"/>\n      </g>\n     </g>\n     <g id=\"text_15\">\n      <!-- 95.2 -->\n      <g transform=\"translate(30.55625 105.563529) scale(0.15 -0.15)\">\n       <use xlink:href=\"#DejaVuSans-39\"/>\n       <use xlink:href=\"#DejaVuSans-35\" x=\"63.623047\"/>\n       <use xlink:href=\"#DejaVuSans-2e\" x=\"127.246094\"/>\n       <use xlink:href=\"#DejaVuSans-32\" x=\"159.033203\"/>\n      </g>\n     </g>\n    </g>\n    <g id=\"ytick_8\">\n     <g id=\"line2d_15\">\n      <g>\n       <use xlink:href=\"#mcdaa8a8103\" x=\"70.954688\" y=\"62.299484\" style=\"stroke: #000000; stroke-width: 0.8\"/>\n      </g>\n     </g>\n     <g id=\"text_16\">\n      <!-- 95.4 -->\n      <g transform=\"translate(30.55625 67.998312) scale(0.15 -0.15)\">\n       <use xlink:href=\"#DejaVuSans-39\"/>\n       <use xlink:href=\"#DejaVuSans-35\" x=\"63.623047\"/>\n       <use xlink:href=\"#DejaVuSans-2e\" x=\"127.246094\"/>\n       <use xlink:href=\"#DejaVuSans-34\" x=\"159.033203\"/>\n      </g>\n     </g>\n    </g>\n    <g id=\"text_17\">\n     <!-- Accuracy -->\n     <g transform=\"translate(22.396875 240.373125) rotate(-90) scale(0.2 -0.2)\">\n      <defs>\n       <path id=\"DejaVuSans-41\" d=\"M 2188 4044 \nL 1331 1722 \nL 3047 1722 \nL 2188 4044 \nz\nM 1831 4666 \nL 2547 4666 \nL 4325 0 \nL 3669 0 \nL 3244 1197 \nL 1141 1197 \nL 716 0 \nL 50 0 \nL 1831 4666 \nz\n\" transform=\"scale(0.015625)\"/>\n       <path id=\"DejaVuSans-63\" d=\"M 3122 3366 \nL 3122 2828 \nQ 2878 2963 2633 3030 \nQ 2388 3097 2138 3097 \nQ 1578 3097 1268 2742 \nQ 959 2388 959 1747 \nQ 959 1106 1268 751 \nQ 1578 397 2138 397 \nQ 2388 397 2633 464 \nQ 2878 531 3122 666 \nL 3122 134 \nQ 2881 22 2623 -34 \nQ 2366 -91 2075 -91 \nQ 1284 -91 818 406 \nQ 353 903 353 1747 \nQ 353 2603 823 3093 \nQ 1294 3584 2113 3584 \nQ 2378 3584 2631 3529 \nQ 2884 3475 3122 3366 \nz\n\" transform=\"scale(0.015625)\"/>\n       <path id=\"DejaVuSans-75\" d=\"M 544 1381 \nL 544 3500 \nL 1119 3500 \nL 1119 1403 \nQ 1119 906 1312 657 \nQ 1506 409 1894 409 \nQ 2359 409 2629 706 \nQ 2900 1003 2900 1516 \nL 2900 3500 \nL 3475 3500 \nL 3475 0 \nL 2900 0 \nL 2900 538 \nQ 2691 219 2414 64 \nQ 2138 -91 1772 -91 \nQ 1169 -91 856 284 \nQ 544 659 544 1381 \nz\nM 1991 3584 \nL 1991 3584 \nz\n\" transform=\"scale(0.015625)\"/>\n       <path id=\"DejaVuSans-79\" d=\"M 2059 -325 \nQ 1816 -950 1584 -1140 \nQ 1353 -1331 966 -1331 \nL 506 -1331 \nL 506 -850 \nL 844 -850 \nQ 1081 -850 1212 -737 \nQ 1344 -625 1503 -206 \nL 1606 56 \nL 191 3500 \nL 800 3500 \nL 1894 763 \nL 2988 3500 \nL 3597 3500 \nL 2059 -325 \nz\n\" transform=\"scale(0.015625)\"/>\n      </defs>\n      <use xlink:href=\"#DejaVuSans-41\"/>\n      <use xlink:href=\"#DejaVuSans-63\" x=\"66.658203\"/>\n      <use xlink:href=\"#DejaVuSans-63\" x=\"121.638672\"/>\n      <use xlink:href=\"#DejaVuSans-75\" x=\"176.619141\"/>\n      <use xlink:href=\"#DejaVuSans-72\" x=\"239.998047\"/>\n      <use xlink:href=\"#DejaVuSans-61\" x=\"281.111328\"/>\n      <use xlink:href=\"#DejaVuSans-63\" x=\"342.390625\"/>\n      <use xlink:href=\"#DejaVuSans-79\" x=\"397.371094\"/>\n     </g>\n    </g>\n   </g>\n   <g id=\"line2d_16\">\n    <path d=\"M 96.318324 52.908179 \nL 128.022869 97.98644 \nL 159.727415 97.98644 \nL 191.43196 43.516875 \nL 223.136506 52.908179 \nL 254.841051 97.98644 \nL 286.545597 97.98644 \nL 318.250142 43.516875 \nL 349.954687 52.908179 \nL 381.659233 99.864701 \nL 413.363778 97.98644 \nL 445.068324 43.516875 \nL 476.772869 52.908179 \nL 508.477415 97.98644 \nL 540.18196 97.98644 \nL 571.886506 43.516875 \nL 603.591051 52.908179 \n\" clip-path=\"url(#pfff485b9fe)\" style=\"fill: none; stroke: #1f77b4; stroke-width: 2; stroke-linecap: square\"/>\n   </g>\n   <g id=\"line2d_17\">\n    <path d=\"M 96.318324 293.325571 \nL 128.022869 345.916875 \nL 159.727415 276.421223 \nL 191.43196 201.290788 \nL 223.136506 293.325571 \nL 254.841051 345.916875 \nL 286.545597 276.421223 \nL 318.250142 203.169049 \nL 349.954687 293.325571 \nL 381.659233 345.916875 \nL 413.363778 276.421223 \nL 445.068324 201.290788 \nL 476.772869 293.325571 \nL 508.477415 345.916875 \nL 540.18196 276.421223 \nL 571.886506 203.169049 \nL 603.591051 293.325571 \n\" clip-path=\"url(#pfff485b9fe)\" style=\"fill: none; stroke: #ff7f0e; stroke-width: 2; stroke-linecap: square\"/>\n   </g>\n   <g id=\"patch_3\">\n    <path d=\"M 70.954688 361.036875 \nL 70.954688 28.396875 \n\" style=\"fill: none; stroke: #000000; stroke-width: 0.8; stroke-linejoin: miter; stroke-linecap: square\"/>\n   </g>\n   <g id=\"patch_4\">\n    <path d=\"M 628.954687 361.036875 \nL 628.954687 28.396875 \n\" style=\"fill: none; stroke: #000000; stroke-width: 0.8; stroke-linejoin: miter; stroke-linecap: square\"/>\n   </g>\n   <g id=\"patch_5\">\n    <path d=\"M 70.954688 361.036875 \nL 628.954687 361.036875 \n\" style=\"fill: none; stroke: #000000; stroke-width: 0.8; stroke-linejoin: miter; stroke-linecap: square\"/>\n   </g>\n   <g id=\"patch_6\">\n    <path d=\"M 70.954688 28.396875 \nL 628.954687 28.396875 \n\" style=\"fill: none; stroke: #000000; stroke-width: 0.8; stroke-linejoin: miter; stroke-linecap: square\"/>\n   </g>\n   <g id=\"text_18\">\n    <!-- $C_4$ vs $SO(2)$ Steerable CNNs -->\n    <g transform=\"translate(210.754687 22.396875) scale(0.2 -0.2)\">\n     <defs>\n      <path id=\"DejaVuSans-Oblique-43\" d=\"M 4447 4306 \nL 4319 3641 \nQ 4019 3944 3683 4091 \nQ 3347 4238 2956 4238 \nQ 2422 4238 2017 3981 \nQ 1613 3725 1319 3200 \nQ 1131 2863 1032 2486 \nQ 934 2109 934 1728 \nQ 934 1091 1264 756 \nQ 1594 422 2222 422 \nQ 2656 422 3056 561 \nQ 3456 700 3834 978 \nL 3688 231 \nQ 3316 72 2936 -9 \nQ 2556 -91 2175 -91 \nQ 1278 -91 773 396 \nQ 269 884 269 1753 \nQ 269 2309 461 2846 \nQ 653 3384 1013 3828 \nQ 1394 4300 1883 4525 \nQ 2372 4750 3022 4750 \nQ 3422 4750 3780 4639 \nQ 4138 4528 4447 4306 \nz\n\" transform=\"scale(0.015625)\"/>\n      <path id=\"DejaVuSans-76\" d=\"M 191 3500 \nL 800 3500 \nL 1894 563 \nL 2988 3500 \nL 3597 3500 \nL 2284 0 \nL 1503 0 \nL 191 3500 \nz\n\" transform=\"scale(0.015625)\"/>\n      <path id=\"DejaVuSans-Oblique-53\" d=\"M 3859 4513 \nL 3738 3897 \nQ 3422 4066 3111 4152 \nQ 2800 4238 2509 4238 \nQ 1944 4238 1609 3991 \nQ 1275 3744 1275 3334 \nQ 1275 3109 1398 2989 \nQ 1522 2869 2034 2731 \nL 2413 2638 \nQ 3053 2472 3303 2217 \nQ 3553 1963 3553 1503 \nQ 3553 797 2998 353 \nQ 2444 -91 1538 -91 \nQ 1166 -91 791 -17 \nQ 416 56 38 206 \nL 166 856 \nQ 513 641 861 531 \nQ 1209 422 1556 422 \nQ 2147 422 2503 684 \nQ 2859 947 2859 1369 \nQ 2859 1650 2717 1795 \nQ 2575 1941 2106 2059 \nL 1728 2156 \nQ 1081 2325 845 2545 \nQ 609 2766 609 3163 \nQ 609 3859 1145 4304 \nQ 1681 4750 2541 4750 \nQ 2875 4750 3203 4690 \nQ 3531 4631 3859 4513 \nz\n\" transform=\"scale(0.015625)\"/>\n      <path id=\"DejaVuSans-Oblique-4f\" d=\"M 2919 4238 \nQ 2400 4238 2003 3986 \nQ 1606 3734 1313 3219 \nQ 1125 2891 1026 2522 \nQ 928 2153 928 1778 \nQ 928 1128 1239 775 \nQ 1550 422 2119 422 \nQ 2631 422 3032 676 \nQ 3434 931 3719 1434 \nQ 3909 1772 4009 2142 \nQ 4109 2513 4109 2881 \nQ 4109 3528 3796 3883 \nQ 3484 4238 2919 4238 \nz\nM 2100 -91 \nQ 1241 -91 748 418 \nQ 256 928 256 1813 \nQ 256 2319 448 2847 \nQ 641 3375 978 3788 \nQ 1375 4272 1862 4511 \nQ 2350 4750 2938 4750 \nQ 3794 4750 4287 4245 \nQ 4781 3741 4781 2869 \nQ 4781 2331 4593 1812 \nQ 4406 1294 4056 872 \nQ 3656 384 3173 146 \nQ 2691 -91 2100 -91 \nz\n\" transform=\"scale(0.015625)\"/>\n      <path id=\"DejaVuSans-53\" d=\"M 3425 4513 \nL 3425 3897 \nQ 3066 4069 2747 4153 \nQ 2428 4238 2131 4238 \nQ 1616 4238 1336 4038 \nQ 1056 3838 1056 3469 \nQ 1056 3159 1242 3001 \nQ 1428 2844 1947 2747 \nL 2328 2669 \nQ 3034 2534 3370 2195 \nQ 3706 1856 3706 1288 \nQ 3706 609 3251 259 \nQ 2797 -91 1919 -91 \nQ 1588 -91 1214 -16 \nQ 841 59 441 206 \nL 441 856 \nQ 825 641 1194 531 \nQ 1563 422 1919 422 \nQ 2459 422 2753 634 \nQ 3047 847 3047 1241 \nQ 3047 1584 2836 1778 \nQ 2625 1972 2144 2069 \nL 1759 2144 \nQ 1053 2284 737 2584 \nQ 422 2884 422 3419 \nQ 422 4038 858 4394 \nQ 1294 4750 2059 4750 \nQ 2388 4750 2728 4690 \nQ 3069 4631 3425 4513 \nz\n\" transform=\"scale(0.015625)\"/>\n      <path id=\"DejaVuSans-62\" d=\"M 3116 1747 \nQ 3116 2381 2855 2742 \nQ 2594 3103 2138 3103 \nQ 1681 3103 1420 2742 \nQ 1159 2381 1159 1747 \nQ 1159 1113 1420 752 \nQ 1681 391 2138 391 \nQ 2594 391 2855 752 \nQ 3116 1113 3116 1747 \nz\nM 1159 2969 \nQ 1341 3281 1617 3432 \nQ 1894 3584 2278 3584 \nQ 2916 3584 3314 3078 \nQ 3713 2572 3713 1747 \nQ 3713 922 3314 415 \nQ 2916 -91 2278 -91 \nQ 1894 -91 1617 61 \nQ 1341 213 1159 525 \nL 1159 0 \nL 581 0 \nL 581 4863 \nL 1159 4863 \nL 1159 2969 \nz\n\" transform=\"scale(0.015625)\"/>\n      <path id=\"DejaVuSans-6c\" d=\"M 603 4863 \nL 1178 4863 \nL 1178 0 \nL 603 0 \nL 603 4863 \nz\n\" transform=\"scale(0.015625)\"/>\n      <path id=\"DejaVuSans-43\" d=\"M 4122 4306 \nL 4122 3641 \nQ 3803 3938 3442 4084 \nQ 3081 4231 2675 4231 \nQ 1875 4231 1450 3742 \nQ 1025 3253 1025 2328 \nQ 1025 1406 1450 917 \nQ 1875 428 2675 428 \nQ 3081 428 3442 575 \nQ 3803 722 4122 1019 \nL 4122 359 \nQ 3791 134 3420 21 \nQ 3050 -91 2638 -91 \nQ 1578 -91 968 557 \nQ 359 1206 359 2328 \nQ 359 3453 968 4101 \nQ 1578 4750 2638 4750 \nQ 3056 4750 3426 4639 \nQ 3797 4528 4122 4306 \nz\n\" transform=\"scale(0.015625)\"/>\n      <path id=\"DejaVuSans-4e\" d=\"M 628 4666 \nL 1478 4666 \nL 3547 763 \nL 3547 4666 \nL 4159 4666 \nL 4159 0 \nL 3309 0 \nL 1241 3903 \nL 1241 0 \nL 628 0 \nL 628 4666 \nz\n\" transform=\"scale(0.015625)\"/>\n     </defs>\n     <use xlink:href=\"#DejaVuSans-Oblique-43\" transform=\"translate(0 0.015625)\"/>\n     <use xlink:href=\"#DejaVuSans-34\" transform=\"translate(69.824219 -16.390625) scale(0.7)\"/>\n     <use xlink:href=\"#DejaVuSans-20\" transform=\"translate(117.094727 0.015625)\"/>\n     <use xlink:href=\"#DejaVuSans-76\" transform=\"translate(148.881836 0.015625)\"/>\n     <use xlink:href=\"#DejaVuSans-73\" transform=\"translate(208.061523 0.015625)\"/>\n     <use xlink:href=\"#DejaVuSans-20\" transform=\"translate(260.161133 0.015625)\"/>\n     <use xlink:href=\"#DejaVuSans-Oblique-53\" transform=\"translate(291.948242 0.015625)\"/>\n     <use xlink:href=\"#DejaVuSans-Oblique-4f\" transform=\"translate(355.424805 0.015625)\"/>\n     <use xlink:href=\"#DejaVuSans-28\" transform=\"translate(434.135742 0.015625)\"/>\n     <use xlink:href=\"#DejaVuSans-32\" transform=\"translate(473.149414 0.015625)\"/>\n     <use xlink:href=\"#DejaVuSans-29\" transform=\"translate(536.772461 0.015625)\"/>\n     <use xlink:href=\"#DejaVuSans-20\" transform=\"translate(575.786133 0.015625)\"/>\n     <use xlink:href=\"#DejaVuSans-53\" transform=\"translate(607.573242 0.015625)\"/>\n     <use xlink:href=\"#DejaVuSans-74\" transform=\"translate(671.049805 0.015625)\"/>\n     <use xlink:href=\"#DejaVuSans-65\" transform=\"translate(710.258789 0.015625)\"/>\n     <use xlink:href=\"#DejaVuSans-65\" transform=\"translate(771.782227 0.015625)\"/>\n     <use xlink:href=\"#DejaVuSans-72\" transform=\"translate(833.305664 0.015625)\"/>\n     <use xlink:href=\"#DejaVuSans-61\" transform=\"translate(874.418945 0.015625)\"/>\n     <use xlink:href=\"#DejaVuSans-62\" transform=\"translate(935.698242 0.015625)\"/>\n     <use xlink:href=\"#DejaVuSans-6c\" transform=\"translate(999.174805 0.015625)\"/>\n     <use xlink:href=\"#DejaVuSans-65\" transform=\"translate(1026.958008 0.015625)\"/>\n     <use xlink:href=\"#DejaVuSans-20\" transform=\"translate(1088.481445 0.015625)\"/>\n     <use xlink:href=\"#DejaVuSans-43\" transform=\"translate(1120.268555 0.015625)\"/>\n     <use xlink:href=\"#DejaVuSans-4e\" transform=\"translate(1190.092773 0.015625)\"/>\n     <use xlink:href=\"#DejaVuSans-4e\" transform=\"translate(1264.897461 0.015625)\"/>\n     <use xlink:href=\"#DejaVuSans-73\" transform=\"translate(1339.702148 0.015625)\"/>\n    </g>\n   </g>\n   <g id=\"legend_1\">\n    <g id=\"patch_7\">\n     <path d=\"M 340.354687 227.073125 \nL 614.954687 227.073125 \nQ 618.954687 227.073125 618.954687 223.073125 \nL 618.954687 166.360625 \nQ 618.954687 162.360625 614.954687 162.360625 \nL 340.354687 162.360625 \nQ 336.354687 162.360625 336.354687 166.360625 \nL 336.354687 223.073125 \nQ 336.354687 227.073125 340.354687 227.073125 \nz\n\" style=\"fill: #ffffff; opacity: 0.8; stroke: #cccccc; stroke-linejoin: miter\"/>\n    </g>\n    <g id=\"line2d_18\">\n     <path d=\"M 344.354687 178.5575 \nL 364.354687 178.5575 \nL 384.354687 178.5575 \n\" style=\"fill: none; stroke: #1f77b4; stroke-width: 2; stroke-linecap: square\"/>\n    </g>\n    <g id=\"text_19\">\n     <!-- $SO(2)$-Steerable CNN -->\n     <g transform=\"translate(400.354687 185.5575) scale(0.2 -0.2)\">\n      <defs>\n       <path id=\"DejaVuSans-2d\" d=\"M 313 2009 \nL 1997 2009 \nL 1997 1497 \nL 313 1497 \nL 313 2009 \nz\n\" transform=\"scale(0.015625)\"/>\n      </defs>\n      <use xlink:href=\"#DejaVuSans-Oblique-53\" transform=\"translate(0 0.015625)\"/>\n      <use xlink:href=\"#DejaVuSans-Oblique-4f\" transform=\"translate(63.476562 0.015625)\"/>\n      <use xlink:href=\"#DejaVuSans-28\" transform=\"translate(142.1875 0.015625)\"/>\n      <use xlink:href=\"#DejaVuSans-32\" transform=\"translate(181.201172 0.015625)\"/>\n      <use xlink:href=\"#DejaVuSans-29\" transform=\"translate(244.824219 0.015625)\"/>\n      <use xlink:href=\"#DejaVuSans-2d\" transform=\"translate(283.837891 0.015625)\"/>\n      <use xlink:href=\"#DejaVuSans-53\" transform=\"translate(319.921875 0.015625)\"/>\n      <use xlink:href=\"#DejaVuSans-74\" transform=\"translate(383.398438 0.015625)\"/>\n      <use xlink:href=\"#DejaVuSans-65\" transform=\"translate(422.607422 0.015625)\"/>\n      <use xlink:href=\"#DejaVuSans-65\" transform=\"translate(484.130859 0.015625)\"/>\n      <use xlink:href=\"#DejaVuSans-72\" transform=\"translate(545.654297 0.015625)\"/>\n      <use xlink:href=\"#DejaVuSans-61\" transform=\"translate(586.767578 0.015625)\"/>\n      <use xlink:href=\"#DejaVuSans-62\" transform=\"translate(648.046875 0.015625)\"/>\n      <use xlink:href=\"#DejaVuSans-6c\" transform=\"translate(711.523438 0.015625)\"/>\n      <use xlink:href=\"#DejaVuSans-65\" transform=\"translate(739.306641 0.015625)\"/>\n      <use xlink:href=\"#DejaVuSans-20\" transform=\"translate(800.830078 0.015625)\"/>\n      <use xlink:href=\"#DejaVuSans-43\" transform=\"translate(832.617188 0.015625)\"/>\n      <use xlink:href=\"#DejaVuSans-4e\" transform=\"translate(902.441406 0.015625)\"/>\n      <use xlink:href=\"#DejaVuSans-4e\" transform=\"translate(977.246094 0.015625)\"/>\n     </g>\n    </g>\n    <g id=\"line2d_19\">\n     <path d=\"M 344.354687 207.91375 \nL 364.354687 207.91375 \nL 384.354687 207.91375 \n\" style=\"fill: none; stroke: #ff7f0e; stroke-width: 2; stroke-linecap: square\"/>\n    </g>\n    <g id=\"text_20\">\n     <!-- $C_4$-Steerable CNN -->\n     <g transform=\"translate(400.354687 214.91375) scale(0.2 -0.2)\">\n      <use xlink:href=\"#DejaVuSans-Oblique-43\" transform=\"translate(0 0.015625)\"/>\n      <use xlink:href=\"#DejaVuSans-34\" transform=\"translate(69.824219 -16.390625) scale(0.7)\"/>\n      <use xlink:href=\"#DejaVuSans-2d\" transform=\"translate(117.094727 0.015625)\"/>\n      <use xlink:href=\"#DejaVuSans-53\" transform=\"translate(153.178711 0.015625)\"/>\n      <use xlink:href=\"#DejaVuSans-74\" transform=\"translate(216.655273 0.015625)\"/>\n      <use xlink:href=\"#DejaVuSans-65\" transform=\"translate(255.864258 0.015625)\"/>\n      <use xlink:href=\"#DejaVuSans-65\" transform=\"translate(317.387695 0.015625)\"/>\n      <use xlink:href=\"#DejaVuSans-72\" transform=\"translate(378.911133 0.015625)\"/>\n      <use xlink:href=\"#DejaVuSans-61\" transform=\"translate(420.024414 0.015625)\"/>\n      <use xlink:href=\"#DejaVuSans-62\" transform=\"translate(481.303711 0.015625)\"/>\n      <use xlink:href=\"#DejaVuSans-6c\" transform=\"translate(544.780273 0.015625)\"/>\n      <use xlink:href=\"#DejaVuSans-65\" transform=\"translate(572.563477 0.015625)\"/>\n      <use xlink:href=\"#DejaVuSans-20\" transform=\"translate(634.086914 0.015625)\"/>\n      <use xlink:href=\"#DejaVuSans-43\" transform=\"translate(665.874023 0.015625)\"/>\n      <use xlink:href=\"#DejaVuSans-4e\" transform=\"translate(735.698242 0.015625)\"/>\n      <use xlink:href=\"#DejaVuSans-4e\" transform=\"translate(810.50293 0.015625)\"/>\n     </g>\n    </g>\n   </g>\n  </g>\n </g>\n <defs>\n  <clipPath id=\"pfff485b9fe\">\n   <rect x=\"70.954688\" y=\"28.396875\" width=\"558\" height=\"332.64\"/>\n  </clipPath>\n </defs>\n</svg>\n",
            "application/pdf": "[encoded data removed]"
          },
          "metadata": {}
        }
      ],
      "source": [
        "# plot the accuracy of as a function of the rotation angle theta applied to the test set\n",
        "fig, ax = plt.subplots(figsize=(10, 6))\n",
        "\n",
        "N=16\n",
        "\n",
        "xs = [i*2*np.pi / N for i in range(N+1)]\n",
        "plt.plot(xs, accs_so2 + [accs_so2[0]], label=r'$SO(2)$-Steerable CNN')\n",
        "plt.plot(xs, accs_c4 + [accs_c4[0]], label=r'$C_4$-Steerable CNN')\n",
        "plt.title(r'$C_4$ vs $SO(2)$ Steerable CNNs', fontsize=20)\n",
        "\n",
        "plt.xlabel(r'Test rotation ($\\theta \\in [0, 2\\pi)$)', fontsize=20)\n",
        "plt.ylabel('Accuracy', fontsize=20)\n",
        "ax.tick_params(axis='both', which='major', labelsize=15)\n",
        "plt.legend(fontsize=20)\n",
        "plt.show()"
      ]
    },
    {
      "cell_type": "markdown",
      "metadata": {
        "id": "ji2BI94m5n-S"
      },
      "source": [
        "## Congratulations!\n",
        "\n",
        "In this notebook, you initially delved into *group representation theory* and the *Fourier Transform* over compact groups. These mathematical tools are essential for formalizing Steerable CNNs.\n",
        "\n",
        "In the second part of the notebook, you explored *steerable feature fields* and *steerable CNNs*. Specifically, the Fourier transform introduced earlier enabled the construction of a steerable CNN that is equivalent to a Group-Convolutional Neural Network (GCNN) equivariant to translations and the continuous group $G=SO(2)$ of rotations.\n",
        "\n",
        "Throughout our exploration of steerable CNNs, we primarily utilized the *regular representation* of the group $G$. However, it's important to note that the framework of steerable CNNs accommodates various representations."
      ]
    },
    {
      "cell_type": "code",
      "execution_count": null,
      "metadata": {
        "id": "CooIUxM9PJVb"
      },
      "outputs": [],
      "source": []
    }
  ],
  "metadata": {
    "accelerator": "GPU",
    "colab": {
      "collapsed_sections": [
        "JNMR5pQGcQLf"
      ],
      "provenance": []
    },
    "kernelspec": {
      "display_name": "Python 3 (ipykernel)",
      "language": "python",
      "name": "python3"
    },
    "language_info": {
      "codemirror_mode": {
        "name": "ipython",
        "version": 3
      },
      "file_extension": ".py",
      "mimetype": "text/x-python",
      "name": "python",
      "nbconvert_exporter": "python",
      "pygments_lexer": "ipython3",
      "version": "3.10.12"
    },
    "widgets": {
      "application/vnd.jupyter.widget-state+json": {
        "de3fd7a71c7646f7a8fdd615a1d1da66": {
          "model_module": "@jupyter-widgets/controls",
          "model_name": "HBoxModel",
          "model_module_version": "1.5.0",
          "state": {
            "_dom_classes": [],
            "_model_module": "@jupyter-widgets/controls",
            "_model_module_version": "1.5.0",
            "_model_name": "HBoxModel",
            "_view_count": null,
            "_view_module": "@jupyter-widgets/controls",
            "_view_module_version": "1.5.0",
            "_view_name": "HBoxView",
            "box_style": "",
            "children": [
              "IPY_MODEL_36df21bad1664f2bb13f6e2ca27e0f04",
              "IPY_MODEL_4f2f47d58bb84f5a818f176303f9729c",
              "IPY_MODEL_4ffa3e9bb1284f4c8f25dce5d7d08896"
            ],
            "layout": "IPY_MODEL_79581a69316f4299b2560835f98d7b9a"
          }
        },
        "36df21bad1664f2bb13f6e2ca27e0f04": {
          "model_module": "@jupyter-widgets/controls",
          "model_name": "HTMLModel",
          "model_module_version": "1.5.0",
          "state": {
            "_dom_classes": [],
            "_model_module": "@jupyter-widgets/controls",
            "_model_module_version": "1.5.0",
            "_model_name": "HTMLModel",
            "_view_count": null,
            "_view_module": "@jupyter-widgets/controls",
            "_view_module_version": "1.5.0",
            "_view_name": "HTMLView",
            "description": "",
            "description_tooltip": null,
            "layout": "IPY_MODEL_d41f48b3950547deb79e0b52bf0422e2",
            "placeholder": "​",
            "style": "IPY_MODEL_481288da53124d398e1335a2e3c1c828",
            "value": "100%"
          }
        },
        "4f2f47d58bb84f5a818f176303f9729c": {
          "model_module": "@jupyter-widgets/controls",
          "model_name": "FloatProgressModel",
          "model_module_version": "1.5.0",
          "state": {
            "_dom_classes": [],
            "_model_module": "@jupyter-widgets/controls",
            "_model_module_version": "1.5.0",
            "_model_name": "FloatProgressModel",
            "_view_count": null,
            "_view_module": "@jupyter-widgets/controls",
            "_view_module_version": "1.5.0",
            "_view_name": "ProgressView",
            "bar_style": "",
            "description": "",
            "description_tooltip": null,
            "layout": "IPY_MODEL_7e59b6564d51417aac5cbf9efad509dd",
            "max": 12000,
            "min": 0,
            "orientation": "horizontal",
            "style": "IPY_MODEL_2567742f976943c29b27c815a01947ed",
            "value": 12000
          }
        },
        "4ffa3e9bb1284f4c8f25dce5d7d08896": {
          "model_module": "@jupyter-widgets/controls",
          "model_name": "HTMLModel",
          "model_module_version": "1.5.0",
          "state": {
            "_dom_classes": [],
            "_model_module": "@jupyter-widgets/controls",
            "_model_module_version": "1.5.0",
            "_model_name": "HTMLModel",
            "_view_count": null,
            "_view_module": "@jupyter-widgets/controls",
            "_view_module_version": "1.5.0",
            "_view_name": "HTMLView",
            "description": "",
            "description_tooltip": null,
            "layout": "IPY_MODEL_d5d93bd4ccac40cd9099c59161a6f3c4",
            "placeholder": "​",
            "style": "IPY_MODEL_a5a94548410a4df0913234b2111fd362",
            "value": " 11949/12000 [00:05&lt;00:00, 1588.24it/s]"
          }
        },
        "79581a69316f4299b2560835f98d7b9a": {
          "model_module": "@jupyter-widgets/base",
          "model_name": "LayoutModel",
          "model_module_version": "1.2.0",
          "state": {
            "_model_module": "@jupyter-widgets/base",
            "_model_module_version": "1.2.0",
            "_model_name": "LayoutModel",
            "_view_count": null,
            "_view_module": "@jupyter-widgets/base",
            "_view_module_version": "1.2.0",
            "_view_name": "LayoutView",
            "align_content": null,
            "align_items": null,
            "align_self": null,
            "border": null,
            "bottom": null,
            "display": null,
            "flex": null,
            "flex_flow": null,
            "grid_area": null,
            "grid_auto_columns": null,
            "grid_auto_flow": null,
            "grid_auto_rows": null,
            "grid_column": null,
            "grid_gap": null,
            "grid_row": null,
            "grid_template_areas": null,
            "grid_template_columns": null,
            "grid_template_rows": null,
            "height": null,
            "justify_content": null,
            "justify_items": null,
            "left": null,
            "margin": null,
            "max_height": null,
            "max_width": null,
            "min_height": null,
            "min_width": null,
            "object_fit": null,
            "object_position": null,
            "order": null,
            "overflow": null,
            "overflow_x": null,
            "overflow_y": null,
            "padding": null,
            "right": null,
            "top": null,
            "visibility": "hidden",
            "width": null
          }
        },
        "d41f48b3950547deb79e0b52bf0422e2": {
          "model_module": "@jupyter-widgets/base",
          "model_name": "LayoutModel",
          "model_module_version": "1.2.0",
          "state": {
            "_model_module": "@jupyter-widgets/base",
            "_model_module_version": "1.2.0",
            "_model_name": "LayoutModel",
            "_view_count": null,
            "_view_module": "@jupyter-widgets/base",
            "_view_module_version": "1.2.0",
            "_view_name": "LayoutView",
            "align_content": null,
            "align_items": null,
            "align_self": null,
            "border": null,
            "bottom": null,
            "display": null,
            "flex": null,
            "flex_flow": null,
            "grid_area": null,
            "grid_auto_columns": null,
            "grid_auto_flow": null,
            "grid_auto_rows": null,
            "grid_column": null,
            "grid_gap": null,
            "grid_row": null,
            "grid_template_areas": null,
            "grid_template_columns": null,
            "grid_template_rows": null,
            "height": null,
            "justify_content": null,
            "justify_items": null,
            "left": null,
            "margin": null,
            "max_height": null,
            "max_width": null,
            "min_height": null,
            "min_width": null,
            "object_fit": null,
            "object_position": null,
            "order": null,
            "overflow": null,
            "overflow_x": null,
            "overflow_y": null,
            "padding": null,
            "right": null,
            "top": null,
            "visibility": null,
            "width": null
          }
        },
        "481288da53124d398e1335a2e3c1c828": {
          "model_module": "@jupyter-widgets/controls",
          "model_name": "DescriptionStyleModel",
          "model_module_version": "1.5.0",
          "state": {
            "_model_module": "@jupyter-widgets/controls",
            "_model_module_version": "1.5.0",
            "_model_name": "DescriptionStyleModel",
            "_view_count": null,
            "_view_module": "@jupyter-widgets/base",
            "_view_module_version": "1.2.0",
            "_view_name": "StyleView",
            "description_width": ""
          }
        },
        "7e59b6564d51417aac5cbf9efad509dd": {
          "model_module": "@jupyter-widgets/base",
          "model_name": "LayoutModel",
          "model_module_version": "1.2.0",
          "state": {
            "_model_module": "@jupyter-widgets/base",
            "_model_module_version": "1.2.0",
            "_model_name": "LayoutModel",
            "_view_count": null,
            "_view_module": "@jupyter-widgets/base",
            "_view_module_version": "1.2.0",
            "_view_name": "LayoutView",
            "align_content": null,
            "align_items": null,
            "align_self": null,
            "border": null,
            "bottom": null,
            "display": null,
            "flex": null,
            "flex_flow": null,
            "grid_area": null,
            "grid_auto_columns": null,
            "grid_auto_flow": null,
            "grid_auto_rows": null,
            "grid_column": null,
            "grid_gap": null,
            "grid_row": null,
            "grid_template_areas": null,
            "grid_template_columns": null,
            "grid_template_rows": null,
            "height": null,
            "justify_content": null,
            "justify_items": null,
            "left": null,
            "margin": null,
            "max_height": null,
            "max_width": null,
            "min_height": null,
            "min_width": null,
            "object_fit": null,
            "object_position": null,
            "order": null,
            "overflow": null,
            "overflow_x": null,
            "overflow_y": null,
            "padding": null,
            "right": null,
            "top": null,
            "visibility": null,
            "width": null
          }
        },
        "2567742f976943c29b27c815a01947ed": {
          "model_module": "@jupyter-widgets/controls",
          "model_name": "ProgressStyleModel",
          "model_module_version": "1.5.0",
          "state": {
            "_model_module": "@jupyter-widgets/controls",
            "_model_module_version": "1.5.0",
            "_model_name": "ProgressStyleModel",
            "_view_count": null,
            "_view_module": "@jupyter-widgets/base",
            "_view_module_version": "1.2.0",
            "_view_name": "StyleView",
            "bar_color": null,
            "description_width": ""
          }
        },
        "d5d93bd4ccac40cd9099c59161a6f3c4": {
          "model_module": "@jupyter-widgets/base",
          "model_name": "LayoutModel",
          "model_module_version": "1.2.0",
          "state": {
            "_model_module": "@jupyter-widgets/base",
            "_model_module_version": "1.2.0",
            "_model_name": "LayoutModel",
            "_view_count": null,
            "_view_module": "@jupyter-widgets/base",
            "_view_module_version": "1.2.0",
            "_view_name": "LayoutView",
            "align_content": null,
            "align_items": null,
            "align_self": null,
            "border": null,
            "bottom": null,
            "display": null,
            "flex": null,
            "flex_flow": null,
            "grid_area": null,
            "grid_auto_columns": null,
            "grid_auto_flow": null,
            "grid_auto_rows": null,
            "grid_column": null,
            "grid_gap": null,
            "grid_row": null,
            "grid_template_areas": null,
            "grid_template_columns": null,
            "grid_template_rows": null,
            "height": null,
            "justify_content": null,
            "justify_items": null,
            "left": null,
            "margin": null,
            "max_height": null,
            "max_width": null,
            "min_height": null,
            "min_width": null,
            "object_fit": null,
            "object_position": null,
            "order": null,
            "overflow": null,
            "overflow_x": null,
            "overflow_y": null,
            "padding": null,
            "right": null,
            "top": null,
            "visibility": null,
            "width": null
          }
        },
        "a5a94548410a4df0913234b2111fd362": {
          "model_module": "@jupyter-widgets/controls",
          "model_name": "DescriptionStyleModel",
          "model_module_version": "1.5.0",
          "state": {
            "_model_module": "@jupyter-widgets/controls",
            "_model_module_version": "1.5.0",
            "_model_name": "DescriptionStyleModel",
            "_view_count": null,
            "_view_module": "@jupyter-widgets/base",
            "_view_module_version": "1.2.0",
            "_view_name": "StyleView",
            "description_width": ""
          }
        },
        "93304031ee9a4b5093c8146fe27c6ba2": {
          "model_module": "@jupyter-widgets/controls",
          "model_name": "HBoxModel",
          "model_module_version": "1.5.0",
          "state": {
            "_dom_classes": [],
            "_model_module": "@jupyter-widgets/controls",
            "_model_module_version": "1.5.0",
            "_model_name": "HBoxModel",
            "_view_count": null,
            "_view_module": "@jupyter-widgets/controls",
            "_view_module_version": "1.5.0",
            "_view_name": "HBoxView",
            "box_style": "",
            "children": [
              "IPY_MODEL_52d4c66e88e04c97ac1f9e64390db9fd",
              "IPY_MODEL_8bc963a83a074335be101a0a6d27f6d4",
              "IPY_MODEL_371920864886468abf8b266908c26152"
            ],
            "layout": "IPY_MODEL_15c7319cd6b049298830b7981f0be586"
          }
        },
        "52d4c66e88e04c97ac1f9e64390db9fd": {
          "model_module": "@jupyter-widgets/controls",
          "model_name": "HTMLModel",
          "model_module_version": "1.5.0",
          "state": {
            "_dom_classes": [],
            "_model_module": "@jupyter-widgets/controls",
            "_model_module_version": "1.5.0",
            "_model_name": "HTMLModel",
            "_view_count": null,
            "_view_module": "@jupyter-widgets/controls",
            "_view_module_version": "1.5.0",
            "_view_name": "HTMLView",
            "description": "",
            "description_tooltip": null,
            "layout": "IPY_MODEL_6249d82e6fd549c082528ca4210477f5",
            "placeholder": "​",
            "style": "IPY_MODEL_eac15061582b4bda998ae6fcc45a2b45",
            "value": "100%"
          }
        },
        "8bc963a83a074335be101a0a6d27f6d4": {
          "model_module": "@jupyter-widgets/controls",
          "model_name": "FloatProgressModel",
          "model_module_version": "1.5.0",
          "state": {
            "_dom_classes": [],
            "_model_module": "@jupyter-widgets/controls",
            "_model_module_version": "1.5.0",
            "_model_name": "FloatProgressModel",
            "_view_count": null,
            "_view_module": "@jupyter-widgets/controls",
            "_view_module_version": "1.5.0",
            "_view_name": "ProgressView",
            "bar_style": "",
            "description": "",
            "description_tooltip": null,
            "layout": "IPY_MODEL_e32f70d8d06b4d52b0242623583c5673",
            "max": 50000,
            "min": 0,
            "orientation": "horizontal",
            "style": "IPY_MODEL_65278a00f37c493f8411442899bf788f",
            "value": 50000
          }
        },
        "371920864886468abf8b266908c26152": {
          "model_module": "@jupyter-widgets/controls",
          "model_name": "HTMLModel",
          "model_module_version": "1.5.0",
          "state": {
            "_dom_classes": [],
            "_model_module": "@jupyter-widgets/controls",
            "_model_module_version": "1.5.0",
            "_model_name": "HTMLModel",
            "_view_count": null,
            "_view_module": "@jupyter-widgets/controls",
            "_view_module_version": "1.5.0",
            "_view_name": "HTMLView",
            "description": "",
            "description_tooltip": null,
            "layout": "IPY_MODEL_de905871a43e43319b642bfbc72aeb39",
            "placeholder": "​",
            "style": "IPY_MODEL_0005f0c2abe047aa82654cfd9f10a28c",
            "value": " 49915/50000 [00:26&lt;00:00, 1490.94it/s]"
          }
        },
        "15c7319cd6b049298830b7981f0be586": {
          "model_module": "@jupyter-widgets/base",
          "model_name": "LayoutModel",
          "model_module_version": "1.2.0",
          "state": {
            "_model_module": "@jupyter-widgets/base",
            "_model_module_version": "1.2.0",
            "_model_name": "LayoutModel",
            "_view_count": null,
            "_view_module": "@jupyter-widgets/base",
            "_view_module_version": "1.2.0",
            "_view_name": "LayoutView",
            "align_content": null,
            "align_items": null,
            "align_self": null,
            "border": null,
            "bottom": null,
            "display": null,
            "flex": null,
            "flex_flow": null,
            "grid_area": null,
            "grid_auto_columns": null,
            "grid_auto_flow": null,
            "grid_auto_rows": null,
            "grid_column": null,
            "grid_gap": null,
            "grid_row": null,
            "grid_template_areas": null,
            "grid_template_columns": null,
            "grid_template_rows": null,
            "height": null,
            "justify_content": null,
            "justify_items": null,
            "left": null,
            "margin": null,
            "max_height": null,
            "max_width": null,
            "min_height": null,
            "min_width": null,
            "object_fit": null,
            "object_position": null,
            "order": null,
            "overflow": null,
            "overflow_x": null,
            "overflow_y": null,
            "padding": null,
            "right": null,
            "top": null,
            "visibility": "hidden",
            "width": null
          }
        },
        "6249d82e6fd549c082528ca4210477f5": {
          "model_module": "@jupyter-widgets/base",
          "model_name": "LayoutModel",
          "model_module_version": "1.2.0",
          "state": {
            "_model_module": "@jupyter-widgets/base",
            "_model_module_version": "1.2.0",
            "_model_name": "LayoutModel",
            "_view_count": null,
            "_view_module": "@jupyter-widgets/base",
            "_view_module_version": "1.2.0",
            "_view_name": "LayoutView",
            "align_content": null,
            "align_items": null,
            "align_self": null,
            "border": null,
            "bottom": null,
            "display": null,
            "flex": null,
            "flex_flow": null,
            "grid_area": null,
            "grid_auto_columns": null,
            "grid_auto_flow": null,
            "grid_auto_rows": null,
            "grid_column": null,
            "grid_gap": null,
            "grid_row": null,
            "grid_template_areas": null,
            "grid_template_columns": null,
            "grid_template_rows": null,
            "height": null,
            "justify_content": null,
            "justify_items": null,
            "left": null,
            "margin": null,
            "max_height": null,
            "max_width": null,
            "min_height": null,
            "min_width": null,
            "object_fit": null,
            "object_position": null,
            "order": null,
            "overflow": null,
            "overflow_x": null,
            "overflow_y": null,
            "padding": null,
            "right": null,
            "top": null,
            "visibility": null,
            "width": null
          }
        },
        "eac15061582b4bda998ae6fcc45a2b45": {
          "model_module": "@jupyter-widgets/controls",
          "model_name": "DescriptionStyleModel",
          "model_module_version": "1.5.0",
          "state": {
            "_model_module": "@jupyter-widgets/controls",
            "_model_module_version": "1.5.0",
            "_model_name": "DescriptionStyleModel",
            "_view_count": null,
            "_view_module": "@jupyter-widgets/base",
            "_view_module_version": "1.2.0",
            "_view_name": "StyleView",
            "description_width": ""
          }
        },
        "e32f70d8d06b4d52b0242623583c5673": {
          "model_module": "@jupyter-widgets/base",
          "model_name": "LayoutModel",
          "model_module_version": "1.2.0",
          "state": {
            "_model_module": "@jupyter-widgets/base",
            "_model_module_version": "1.2.0",
            "_model_name": "LayoutModel",
            "_view_count": null,
            "_view_module": "@jupyter-widgets/base",
            "_view_module_version": "1.2.0",
            "_view_name": "LayoutView",
            "align_content": null,
            "align_items": null,
            "align_self": null,
            "border": null,
            "bottom": null,
            "display": null,
            "flex": null,
            "flex_flow": null,
            "grid_area": null,
            "grid_auto_columns": null,
            "grid_auto_flow": null,
            "grid_auto_rows": null,
            "grid_column": null,
            "grid_gap": null,
            "grid_row": null,
            "grid_template_areas": null,
            "grid_template_columns": null,
            "grid_template_rows": null,
            "height": null,
            "justify_content": null,
            "justify_items": null,
            "left": null,
            "margin": null,
            "max_height": null,
            "max_width": null,
            "min_height": null,
            "min_width": null,
            "object_fit": null,
            "object_position": null,
            "order": null,
            "overflow": null,
            "overflow_x": null,
            "overflow_y": null,
            "padding": null,
            "right": null,
            "top": null,
            "visibility": null,
            "width": null
          }
        },
        "65278a00f37c493f8411442899bf788f": {
          "model_module": "@jupyter-widgets/controls",
          "model_name": "ProgressStyleModel",
          "model_module_version": "1.5.0",
          "state": {
            "_model_module": "@jupyter-widgets/controls",
            "_model_module_version": "1.5.0",
            "_model_name": "ProgressStyleModel",
            "_view_count": null,
            "_view_module": "@jupyter-widgets/base",
            "_view_module_version": "1.2.0",
            "_view_name": "StyleView",
            "bar_color": null,
            "description_width": ""
          }
        },
        "de905871a43e43319b642bfbc72aeb39": {
          "model_module": "@jupyter-widgets/base",
          "model_name": "LayoutModel",
          "model_module_version": "1.2.0",
          "state": {
            "_model_module": "@jupyter-widgets/base",
            "_model_module_version": "1.2.0",
            "_model_name": "LayoutModel",
            "_view_count": null,
            "_view_module": "@jupyter-widgets/base",
            "_view_module_version": "1.2.0",
            "_view_name": "LayoutView",
            "align_content": null,
            "align_items": null,
            "align_self": null,
            "border": null,
            "bottom": null,
            "display": null,
            "flex": null,
            "flex_flow": null,
            "grid_area": null,
            "grid_auto_columns": null,
            "grid_auto_flow": null,
            "grid_auto_rows": null,
            "grid_column": null,
            "grid_gap": null,
            "grid_row": null,
            "grid_template_areas": null,
            "grid_template_columns": null,
            "grid_template_rows": null,
            "height": null,
            "justify_content": null,
            "justify_items": null,
            "left": null,
            "margin": null,
            "max_height": null,
            "max_width": null,
            "min_height": null,
            "min_width": null,
            "object_fit": null,
            "object_position": null,
            "order": null,
            "overflow": null,
            "overflow_x": null,
            "overflow_y": null,
            "padding": null,
            "right": null,
            "top": null,
            "visibility": null,
            "width": null
          }
        },
        "0005f0c2abe047aa82654cfd9f10a28c": {
          "model_module": "@jupyter-widgets/controls",
          "model_name": "DescriptionStyleModel",
          "model_module_version": "1.5.0",
          "state": {
            "_model_module": "@jupyter-widgets/controls",
            "_model_module_version": "1.5.0",
            "_model_name": "DescriptionStyleModel",
            "_view_count": null,
            "_view_module": "@jupyter-widgets/base",
            "_view_module_version": "1.2.0",
            "_view_name": "StyleView",
            "description_width": ""
          }
        }
      }
    }
  },
  "nbformat": 4,
  "nbformat_minor": 0
}